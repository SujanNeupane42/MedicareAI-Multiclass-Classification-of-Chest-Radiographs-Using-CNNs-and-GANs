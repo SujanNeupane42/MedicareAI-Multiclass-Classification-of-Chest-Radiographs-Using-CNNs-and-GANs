{
 "cells": [
  {
   "cell_type": "code",
   "execution_count": 2,
   "id": "a7bae5de-f791-43e6-b628-613697013cbf",
   "metadata": {},
   "outputs": [],
   "source": [
    "import torch\n",
    "from torch import nn\n",
    "# from torch.utils.data import DataLoader\n",
    "# from torchvision.datasets import MNIST\n",
    "# from torchvision.models import resnet18\n",
    "# from torchvision.transforms import Compose, Normalize, ToTensor\n",
    "\n",
    "# from ignite.engine import Engine, Events, create_supervised_trainer, create_supervised_evaluator\n",
    "# from ignite.metrics import Accuracy, Loss\n",
    "# from ignite.handlers import ModelCheckpoint\n",
    "# from ignite.contrib.handlers import TensorboardLogger, global_step_from_engine"
   ]
  },
  {
   "cell_type": "code",
   "execution_count": 3,
   "id": "fe627ad2-a3fc-42d5-8dd1-4f7c6f790bcd",
   "metadata": {},
   "outputs": [],
   "source": [
    "from ignite.metrics import FID"
   ]
  },
  {
   "cell_type": "code",
   "execution_count": 5,
   "id": "5c799fbc-d80d-4654-901f-7dcaf0336c00",
   "metadata": {},
   "outputs": [
    {
     "ename": "NameError",
     "evalue": "name 'InceptionV3' is not defined",
     "output_type": "error",
     "traceback": [
      "\u001b[1;31m---------------------------------------------------------------------------\u001b[0m",
      "\u001b[1;31mNameError\u001b[0m                                 Traceback (most recent call last)",
      "Cell \u001b[1;32mIn [5], line 22\u001b[0m\n\u001b[0;32m     20\u001b[0m \u001b[38;5;66;03m# pytorch_fid model\u001b[39;00m\n\u001b[0;32m     21\u001b[0m dims \u001b[38;5;241m=\u001b[39m \u001b[38;5;241m2048\u001b[39m\n\u001b[1;32m---> 22\u001b[0m block_idx \u001b[38;5;241m=\u001b[39m \u001b[43mInceptionV3\u001b[49m\u001b[38;5;241m.\u001b[39mBLOCK_INDEX_BY_DIM[dims]\n\u001b[0;32m     23\u001b[0m model \u001b[38;5;241m=\u001b[39m InceptionV3([block_idx])\u001b[38;5;241m.\u001b[39mto(device)\n\u001b[0;32m     25\u001b[0m \u001b[38;5;66;03m# wrapper model to pytorch_fid model\u001b[39;00m\n",
      "\u001b[1;31mNameError\u001b[0m: name 'InceptionV3' is not defined"
     ]
    }
   ],
   "source": [
    "import torch.nn as nn\n",
    "\n",
    "# wrapper class as feature_extractor\n",
    "class WrapperInceptionV3(nn.Module):\n",
    "\n",
    "    def __init__(self, fid_incv3):\n",
    "        super().__init__()\n",
    "        self.fid_incv3 = fid_incv3\n",
    "\n",
    "    @torch.no_grad()\n",
    "    def forward(self, x):\n",
    "        y = self.fid_incv3(x)\n",
    "        y = y[0]\n",
    "        y = y[:, :, 0, 0]\n",
    "        return y\n",
    "\n",
    "# use cpu rather than cuda to get comparable results\n",
    "device = \"cpu\"\n",
    "\n",
    "# pytorch_fid model\n",
    "dims = 2048\n",
    "block_idx = InceptionV3.BLOCK_INDEX_BY_DIM[dims]\n",
    "model = InceptionV3([block_idx]).to(device)\n",
    "\n",
    "# wrapper model to pytorch_fid model\n",
    "wrapper_model = WrapperInceptionV3(model)\n",
    "wrapper_model.eval();\n",
    "\n",
    "# comparable metric\n",
    "pytorch_fid_metric = FID(num_features=dims, feature_extractor=wrapper_model)"
   ]
  },
  {
   "cell_type": "code",
   "execution_count": 4,
   "id": "d82ef2fd-5a59-4901-bac3-9ae9d36d1b84",
   "metadata": {},
   "outputs": [
    {
     "ename": "NameError",
     "evalue": "name 'default_model' is not defined",
     "output_type": "error",
     "traceback": [
      "\u001b[1;31m---------------------------------------------------------------------------\u001b[0m",
      "\u001b[1;31mNameError\u001b[0m                                 Traceback (most recent call last)",
      "Cell \u001b[1;32mIn [4], line 1\u001b[0m\n\u001b[1;32m----> 1\u001b[0m metric \u001b[38;5;241m=\u001b[39m FID(num_features\u001b[38;5;241m=\u001b[39m\u001b[38;5;241m1\u001b[39m, feature_extractor\u001b[38;5;241m=\u001b[39m\u001b[43mdefault_model\u001b[49m)\n\u001b[0;32m      2\u001b[0m metric\u001b[38;5;241m.\u001b[39mattach(default_evaluator, \u001b[38;5;124m\"\u001b[39m\u001b[38;5;124mfid\u001b[39m\u001b[38;5;124m\"\u001b[39m)\n\u001b[0;32m      3\u001b[0m y_true \u001b[38;5;241m=\u001b[39m torch\u001b[38;5;241m.\u001b[39mones(\u001b[38;5;241m10\u001b[39m, \u001b[38;5;241m4\u001b[39m)\n",
      "\u001b[1;31mNameError\u001b[0m: name 'default_model' is not defined"
     ]
    }
   ],
   "source": [
    "# metric = FID(num_features=1, feature_extractor=default_model)\n",
    "# metric.attach(default_evaluator, \"fid\")\n",
    "# y_true = torch.ones(10, 4)\n",
    "# y_pred = torch.ones(10, 4)\n",
    "# state = default_evaluator.run([[y_pred, y_true]])\n",
    "# print(state.metrics[\"fid\"])"
   ]
  },
  {
   "cell_type": "code",
   "execution_count": null,
   "id": "b56bbf6b-8b13-49e1-96c6-c3edb785d60c",
   "metadata": {},
   "outputs": [],
   "source": []
  }
 ],
 "metadata": {
  "kernelspec": {
   "display_name": "Python 3",
   "language": "python",
   "name": "python3"
  },
  "language_info": {
   "codemirror_mode": {
    "name": "ipython",
    "version": 3
   },
   "file_extension": ".py",
   "mimetype": "text/x-python",
   "name": "python",
   "nbconvert_exporter": "python",
   "pygments_lexer": "ipython3",
   "version": "3.10.8"
  }
 },
 "nbformat": 4,
 "nbformat_minor": 5
}
