{
 "cells": [
  {
   "cell_type": "code",
   "execution_count": 11,
   "id": "edd2f470-56bd-4497-b66f-0a6f499090d3",
   "metadata": {},
   "outputs": [],
   "source": [
    "import torch\n",
    "import torch.nn as nn\n",
    "import numpy as np\n",
    "import matplotlib.pyplot as plt\n",
    "from tqdm import tqdm\n",
    "from torch.utils.data import Dataset\n",
    "from torchvision.utils import make_grid\n",
    "from torch.utils.data import DataLoader\n",
    "from torchvision.utils import save_image\n",
    "import torch.nn.functional as F\n"
   ]
  },
  {
   "cell_type": "code",
   "execution_count": null,
   "id": "21779dc9-1207-4e7f-8357-712814be7214",
   "metadata": {},
   "outputs": [],
   "source": []
  },
  {
   "cell_type": "markdown",
   "id": "7f3bca98-3bc8-4aba-bae4-632056148e95",
   "metadata": {},
   "source": [
    "# GoogleNet"
   ]
  },
  {
   "cell_type": "code",
   "execution_count": 12,
   "id": "04e67eea-7f69-461f-a03d-4e96b20528c1",
   "metadata": {},
   "outputs": [
    {
     "name": "stdout",
     "output_type": "stream",
     "text": [
      "Mon Feb 20 20:49:15 2023       \n",
      "+-----------------------------------------------------------------------------+\n",
      "| NVIDIA-SMI 528.02       Driver Version: 528.02       CUDA Version: 12.0     |\n",
      "|-------------------------------+----------------------+----------------------+\n",
      "| GPU  Name            TCC/WDDM | Bus-Id        Disp.A | Volatile Uncorr. ECC |\n",
      "| Fan  Temp  Perf  Pwr:Usage/Cap|         Memory-Usage | GPU-Util  Compute M. |\n",
      "|                               |                      |               MIG M. |\n",
      "|===============================+======================+======================|\n",
      "|   0  NVIDIA GeForce ... WDDM  | 00000000:01:00.0 Off |                  N/A |\n",
      "| N/A   41C    P8     1W /  50W |     76MiB /  4096MiB |      0%      Default |\n",
      "|                               |                      |                  N/A |\n",
      "+-------------------------------+----------------------+----------------------+\n",
      "                                                                               \n",
      "+-----------------------------------------------------------------------------+\n",
      "| Processes:                                                                  |\n",
      "|  GPU   GI   CI        PID   Type   Process name                  GPU Memory |\n",
      "|        ID   ID                                                   Usage      |\n",
      "|=============================================================================|\n",
      "|    0   N/A  N/A      1392      C   ...3\\envs\\PyTorch\\python.exe    N/A      |\n",
      "+-----------------------------------------------------------------------------+\n"
     ]
    }
   ],
   "source": [
    "!nvidia-smi"
   ]
  },
  {
   "cell_type": "code",
   "execution_count": 13,
   "id": "ecad4e4a-6828-420e-8fe0-8fe6c06794d2",
   "metadata": {},
   "outputs": [],
   "source": [
    "device = 'cpu'\n",
    "n_classes = 2\n",
    "latent_size = 100\n",
    "generator_input_dim = 102\n",
    "CHANNELS_IMG = 1\n",
    "stats = [0.5 for _ in range(CHANNELS_IMG)], [0.5 for _ in range(CHANNELS_IMG)]\n",
    "classes = ['COVID','Viral Pneumonia']"
   ]
  },
  {
   "cell_type": "code",
   "execution_count": 14,
   "id": "190530fe-d622-4f12-98f7-7696c46763e3",
   "metadata": {},
   "outputs": [],
   "source": [
    "covid_samples = 3616\n",
    "viralPneumonia_samples = 1345"
   ]
  },
  {
   "cell_type": "markdown",
   "id": "807ebafd-0b57-4beb-8c05-f4269c14cf52",
   "metadata": {},
   "source": [
    "# Generator architecture"
   ]
  },
  {
   "cell_type": "code",
   "execution_count": 15,
   "id": "f9e40021-331a-40c7-bc9e-bc04363846c5",
   "metadata": {},
   "outputs": [],
   "source": [
    "''' FOR 64 * 64 Image Generation '''\n",
    "generator = nn.Sequential(\n",
    "    # in: latent_size x 1 x 1\n",
    "    # generator_input_dim * 1 * 1 -> done\n",
    "    nn.ConvTranspose2d(102, 512, kernel_size=4, stride=1, padding=0, bias=False),\n",
    "    nn.BatchNorm2d(512),\n",
    "    nn.ReLU(True),\n",
    "\n",
    "    # out: 512 x 4 x 4 -> done\n",
    "\n",
    "    nn.ConvTranspose2d(512, 256, kernel_size=4, stride=2, padding=1, bias=False),\n",
    "    nn.BatchNorm2d(256),\n",
    "    nn.ReLU(True),\n",
    "    # out: 256 x 8 x 8\n",
    "\n",
    "    nn.ConvTranspose2d(256, 128, kernel_size=4, stride=2, padding=1, bias=False),\n",
    "    nn.BatchNorm2d(128),\n",
    "    nn.ReLU(True),\n",
    "    # out: 128 x 16 x 16\n",
    "\n",
    "    nn.ConvTranspose2d(128, 64, kernel_size=4, stride=2, padding=1, bias=False),\n",
    "    nn.BatchNorm2d(64),\n",
    "    nn.ReLU(True),\n",
    "    # out: 64 x 32 x 32\n",
    "\n",
    "    nn.ConvTranspose2d(64, 1, kernel_size=4, stride=2, padding=1, bias=False),\n",
    "    nn.Tanh()\n",
    "    # out: 1 x 64 x 64\n",
    ")\n",
    "\n",
    "# generator.load_state_dict(torch.load(r\"C:\\Users\\Lenovo\\Desktop\\FYP Coding\\WGAN-GP\\0-1500\\cWGANGP_generator_above_1500.pth\"))\n",
    "# generator.eval()"
   ]
  },
  {
   "cell_type": "markdown",
   "id": "b47a1298-d8ff-41dc-83ac-4927f70664c5",
   "metadata": {},
   "source": [
    "# Custom Helper Functions"
   ]
  },
  {
   "cell_type": "code",
   "execution_count": 16,
   "id": "7d3cc5e5-51bf-4dc8-baf8-7dceffc7f578",
   "metadata": {},
   "outputs": [],
   "source": [
    "def denorm(img_tensors):\n",
    "    return img_tensors * stats[1][0] + stats[0][0]\n",
    "\n",
    "\n",
    "def get_an_image(class_, noise):\n",
    "    label = torch.tensor([class_ for i in range(noise.shape[0])])\n",
    "    one_hot_labels = F.one_hot(label.to(device), n_classes)\n",
    "\n",
    "    # concatenating noise vector with one hot encoded vector containing label information\n",
    "    noise_and_labels = torch.cat([noise, one_hot_labels.float()],dim=1)\n",
    "    noise_and_labels = noise_and_labels.view(len(noise_and_labels), generator_input_dim, 1, 1)\n",
    "    fake_images = denorm(generator(noise_and_labels))\n",
    "\n",
    "    return fake_images.detach().to('cpu')"
   ]
  },
  {
   "cell_type": "markdown",
   "id": "1c2f6473-4837-45a9-95e7-f757871c76d0",
   "metadata": {
    "tags": []
   },
   "source": [
    "# Generating using DCGAN"
   ]
  },
  {
   "cell_type": "code",
   "execution_count": 17,
   "id": "b8263903-25a4-4a71-8cd3-31fc00c82f9f",
   "metadata": {},
   "outputs": [
    {
     "data": {
      "text/plain": [
       "Sequential(\n",
       "  (0): ConvTranspose2d(102, 512, kernel_size=(4, 4), stride=(1, 1), bias=False)\n",
       "  (1): BatchNorm2d(512, eps=1e-05, momentum=0.1, affine=True, track_running_stats=True)\n",
       "  (2): ReLU(inplace=True)\n",
       "  (3): ConvTranspose2d(512, 256, kernel_size=(4, 4), stride=(2, 2), padding=(1, 1), bias=False)\n",
       "  (4): BatchNorm2d(256, eps=1e-05, momentum=0.1, affine=True, track_running_stats=True)\n",
       "  (5): ReLU(inplace=True)\n",
       "  (6): ConvTranspose2d(256, 128, kernel_size=(4, 4), stride=(2, 2), padding=(1, 1), bias=False)\n",
       "  (7): BatchNorm2d(128, eps=1e-05, momentum=0.1, affine=True, track_running_stats=True)\n",
       "  (8): ReLU(inplace=True)\n",
       "  (9): ConvTranspose2d(128, 64, kernel_size=(4, 4), stride=(2, 2), padding=(1, 1), bias=False)\n",
       "  (10): BatchNorm2d(64, eps=1e-05, momentum=0.1, affine=True, track_running_stats=True)\n",
       "  (11): ReLU(inplace=True)\n",
       "  (12): ConvTranspose2d(64, 1, kernel_size=(4, 4), stride=(2, 2), padding=(1, 1), bias=False)\n",
       "  (13): Tanh()\n",
       ")"
      ]
     },
     "execution_count": 17,
     "metadata": {},
     "output_type": "execute_result"
    }
   ],
   "source": [
    "generator.load_state_dict(torch.load('cDCGAN_generator.pth'))\n",
    "generator = generator.to(device)\n",
    "generator.eval()"
   ]
  },
  {
   "cell_type": "code",
   "execution_count": 18,
   "id": "60d175cd-feb7-44b3-9493-e475550338c0",
   "metadata": {},
   "outputs": [
    {
     "name": "stdout",
     "output_type": "stream",
     "text": [
      "CPU times: total: 1min 3s\n",
      "Wall time: 15.5 s\n"
     ]
    }
   ],
   "source": [
    "%%time\n",
    "\n",
    "torch.manual_seed(42)\n",
    "noise_Covid = torch.randn(covid_samples, 100, device= device)\n",
    "covid_generated_by_DCGAN = get_an_image(0, noise_Covid)"
   ]
  },
  {
   "cell_type": "code",
   "execution_count": 19,
   "id": "7a120def-1dde-43d6-9687-d10ea4a0d41f",
   "metadata": {},
   "outputs": [
    {
     "name": "stdout",
     "output_type": "stream",
     "text": [
      "CPU times: total: 23.2 s\n",
      "Wall time: 5.29 s\n"
     ]
    }
   ],
   "source": [
    "%%time\n",
    "\n",
    "torch.manual_seed(84)\n",
    "noise_Pneumonia = torch.randn(viralPneumonia_samples, 100, device= device)\n",
    "Pneumonia_generated_by_DCGAN = get_an_image(1, noise_Pneumonia)"
   ]
  },
  {
   "cell_type": "code",
   "execution_count": 20,
   "id": "e01533c8-3aae-4d5c-9d60-9bfe1704fe37",
   "metadata": {},
   "outputs": [
    {
     "data": {
      "text/plain": [
       "Text(-22.5, -15, 'DCGAN')"
      ]
     },
     "execution_count": 20,
     "metadata": {},
     "output_type": "execute_result"
    },
    {
     "data": {
      "image/png": "[encoded data removed]",
      "text/plain": [
       "<Figure size 700x300 with 2 Axes>"
      ]
     },
     "metadata": {},
     "output_type": "display_data"
    }
   ],
   "source": [
    "gen_image_covid_dcgan = covid_generated_by_DCGAN[0][0]\n",
    "gen_image_ViralPneumonia_dcgan = Pneumonia_generated_by_DCGAN[2][0]\n",
    "\n",
    "fig, axes = plt.subplots(1, 2, figsize=(7, 3))\n",
    "\n",
    "ax = plt.subplot(1, 2, 1)\n",
    "plt.imshow(gen_image_covid_dcgan.reshape((64,64,1)), cmap = 'gray') # plt.imshow requires image dimensions to be H * W * C\n",
    "plt.title(\"COVID\")\n",
    "\n",
    "ax = plt.subplot(1, 2, 2)\n",
    "plt.imshow(gen_image_ViralPneumonia_dcgan.reshape((64,64,1)), cmap = 'gray') # plt.imshow requires image dimensions to be H * W * C\n",
    "plt.title(\"Viral Pneumonia\")\n",
    "\n",
    "ax.text(-22.5, -15, \"DCGAN\", fontsize = 15)"
   ]
  },
  {
   "cell_type": "code",
   "execution_count": 21,
   "id": "850f96c8-3677-476f-8723-a30450aefb55",
   "metadata": {},
   "outputs": [
    {
     "name": "stderr",
     "output_type": "stream",
     "text": [
      "3616it [00:06, 569.32it/s]\n"
     ]
    }
   ],
   "source": [
    "for i, img in tqdm(enumerate(covid_generated_by_DCGAN)):\n",
    "    save_image(img, 'COVID_DCGAN_'+str(i)+'.png')"
   ]
  },
  {
   "cell_type": "code",
   "execution_count": 22,
   "id": "3dad5a51-66b3-478f-aea8-4ff7a1e759a7",
   "metadata": {},
   "outputs": [
    {
     "name": "stderr",
     "output_type": "stream",
     "text": [
      "1345it [00:02, 570.29it/s]\n"
     ]
    }
   ],
   "source": [
    "for i, img in tqdm(enumerate(Pneumonia_generated_by_DCGAN)):\n",
    "    save_image(img, 'ViralPenumonia_DCGAN_'+str(i)+'.png')"
   ]
  },
  {
   "cell_type": "markdown",
   "id": "867936c9-d920-43bc-9e49-83ef52387b1c",
   "metadata": {},
   "source": [
    "# Generating using WGAN"
   ]
  },
  {
   "cell_type": "code",
   "execution_count": 23,
   "id": "eedbe2ce-02a3-42cf-95e3-2e9b5232b6f5",
   "metadata": {},
   "outputs": [],
   "source": [
    "# print(str(generator.state_dict())[:200])"
   ]
  },
  {
   "cell_type": "code",
   "execution_count": 24,
   "id": "286a4bc4-4913-4c9f-a75e-b920ffd2f617",
   "metadata": {},
   "outputs": [
    {
     "data": {
      "text/plain": [
       "Sequential(\n",
       "  (0): ConvTranspose2d(102, 512, kernel_size=(4, 4), stride=(1, 1), bias=False)\n",
       "  (1): BatchNorm2d(512, eps=1e-05, momentum=0.1, affine=True, track_running_stats=True)\n",
       "  (2): ReLU(inplace=True)\n",
       "  (3): ConvTranspose2d(512, 256, kernel_size=(4, 4), stride=(2, 2), padding=(1, 1), bias=False)\n",
       "  (4): BatchNorm2d(256, eps=1e-05, momentum=0.1, affine=True, track_running_stats=True)\n",
       "  (5): ReLU(inplace=True)\n",
       "  (6): ConvTranspose2d(256, 128, kernel_size=(4, 4), stride=(2, 2), padding=(1, 1), bias=False)\n",
       "  (7): BatchNorm2d(128, eps=1e-05, momentum=0.1, affine=True, track_running_stats=True)\n",
       "  (8): ReLU(inplace=True)\n",
       "  (9): ConvTranspose2d(128, 64, kernel_size=(4, 4), stride=(2, 2), padding=(1, 1), bias=False)\n",
       "  (10): BatchNorm2d(64, eps=1e-05, momentum=0.1, affine=True, track_running_stats=True)\n",
       "  (11): ReLU(inplace=True)\n",
       "  (12): ConvTranspose2d(64, 1, kernel_size=(4, 4), stride=(2, 2), padding=(1, 1), bias=False)\n",
       "  (13): Tanh()\n",
       ")"
      ]
     },
     "execution_count": 24,
     "metadata": {},
     "output_type": "execute_result"
    }
   ],
   "source": [
    "generator.load_state_dict(torch.load('cWGAN_generator.pth'))\n",
    "generator = generator.to(device)\n",
    "generator.eval()"
   ]
  },
  {
   "cell_type": "code",
   "execution_count": 26,
   "id": "ab944b51-814a-4de4-80f7-dbca9833b293",
   "metadata": {},
   "outputs": [
    {
     "name": "stdout",
     "output_type": "stream",
     "text": [
      "CPU times: total: 55.6 s\n",
      "Wall time: 15.6 s\n"
     ]
    }
   ],
   "source": [
    "%%time\n",
    "\n",
    "torch.manual_seed(42)\n",
    "noise_Covid = torch.randn(covid_samples, 100, device= device)\n",
    "covid_generated_by_WGAN = get_an_image(0, noise_Covid)"
   ]
  },
  {
   "cell_type": "code",
   "execution_count": 27,
   "id": "1fd060c0-d160-4c27-ac74-8726196a8a71",
   "metadata": {},
   "outputs": [
    {
     "name": "stdout",
     "output_type": "stream",
     "text": [
      "CPU times: total: 20.6 s\n",
      "Wall time: 5.9 s\n"
     ]
    }
   ],
   "source": [
    "%%time\n",
    "\n",
    "torch.manual_seed(84)\n",
    "noise_Pneumonia = torch.randn(viralPneumonia_samples, 100, device= device)\n",
    "Pneumonia_generated_by_WGAN = get_an_image(1, noise_Pneumonia)"
   ]
  },
  {
   "cell_type": "code",
   "execution_count": null,
   "id": "88728524-9d9a-4bd1-a833-709ee2b742ec",
   "metadata": {},
   "outputs": [],
   "source": []
  },
  {
   "cell_type": "code",
   "execution_count": 28,
   "id": "33f124be-3745-4a0c-887f-e5e0187516e3",
   "metadata": {},
   "outputs": [
    {
     "data": {
      "text/plain": [
       "Text(-22.5, -15, 'WGAN')"
      ]
     },
     "execution_count": 28,
     "metadata": {},
     "output_type": "execute_result"
    },
    {
     "data": {
      "image/png": "[encoded data removed]",
      "text/plain": [
       "<Figure size 700x300 with 2 Axes>"
      ]
     },
     "metadata": {},
     "output_type": "display_data"
    }
   ],
   "source": [
    "gen_image_covid_dcgan = covid_generated_by_WGAN[0][0]\n",
    "gen_image_ViralPneumonia_dcgan = Pneumonia_generated_by_WGAN[2][0]\n",
    "\n",
    "fig, axes = plt.subplots(1, 2, figsize=(7, 3))\n",
    "\n",
    "ax = plt.subplot(1, 2, 1)\n",
    "plt.imshow(gen_image_covid_dcgan.reshape((64,64,1)), cmap = 'gray') # plt.imshow requires image dimensions to be H * W * C\n",
    "plt.title(\"COVID\")\n",
    "\n",
    "ax = plt.subplot(1, 2, 2)\n",
    "plt.imshow(gen_image_ViralPneumonia_dcgan.reshape((64,64,1)), cmap = 'gray') # plt.imshow requires image dimensions to be H * W * C\n",
    "plt.title(\"Viral Pneumonia\")\n",
    "\n",
    "ax.text(-22.5, -15, \"WGAN\", fontsize = 15)"
   ]
  },
  {
   "cell_type": "code",
   "execution_count": 29,
   "id": "d5e86c91-8caf-4fcc-8b1a-cb30ea0f211a",
   "metadata": {},
   "outputs": [
    {
     "name": "stderr",
     "output_type": "stream",
     "text": [
      "3616it [00:06, 543.14it/s]\n"
     ]
    }
   ],
   "source": [
    "for i, img in tqdm(enumerate(covid_generated_by_WGAN)):\n",
    "    save_image(img, 'COVID_WGAN_'+str(i)+'.png')"
   ]
  },
  {
   "cell_type": "code",
   "execution_count": null,
   "id": "a04c7293-f187-4039-8ac2-f425e026f3b4",
   "metadata": {},
   "outputs": [],
   "source": []
  },
  {
   "cell_type": "code",
   "execution_count": 30,
   "id": "bf9b1fec-3bb4-4845-9a3d-037235d5e01c",
   "metadata": {},
   "outputs": [
    {
     "name": "stderr",
     "output_type": "stream",
     "text": [
      "1345it [00:02, 535.54it/s]\n"
     ]
    }
   ],
   "source": [
    "for i, img in tqdm(enumerate(Pneumonia_generated_by_WGAN)):\n",
    "    save_image(img, 'ViralPenumonia_WGAN_'+str(i)+'.png')"
   ]
  },
  {
   "cell_type": "markdown",
   "id": "cbf96865-ffd7-4a4c-8f45-a016968f1f6b",
   "metadata": {},
   "source": [
    "# WGAN-GP"
   ]
  },
  {
   "cell_type": "code",
   "execution_count": 35,
   "id": "a3a100cd-e4bc-462c-891e-8e3032e35741",
   "metadata": {},
   "outputs": [
    {
     "data": {
      "text/plain": [
       "Sequential(\n",
       "  (0): ConvTranspose2d(102, 512, kernel_size=(4, 4), stride=(1, 1), bias=False)\n",
       "  (1): BatchNorm2d(512, eps=1e-05, momentum=0.1, affine=True, track_running_stats=True)\n",
       "  (2): ReLU(inplace=True)\n",
       "  (3): ConvTranspose2d(512, 256, kernel_size=(4, 4), stride=(2, 2), padding=(1, 1), bias=False)\n",
       "  (4): BatchNorm2d(256, eps=1e-05, momentum=0.1, affine=True, track_running_stats=True)\n",
       "  (5): ReLU(inplace=True)\n",
       "  (6): ConvTranspose2d(256, 128, kernel_size=(4, 4), stride=(2, 2), padding=(1, 1), bias=False)\n",
       "  (7): BatchNorm2d(128, eps=1e-05, momentum=0.1, affine=True, track_running_stats=True)\n",
       "  (8): ReLU(inplace=True)\n",
       "  (9): ConvTranspose2d(128, 64, kernel_size=(4, 4), stride=(2, 2), padding=(1, 1), bias=False)\n",
       "  (10): BatchNorm2d(64, eps=1e-05, momentum=0.1, affine=True, track_running_stats=True)\n",
       "  (11): ReLU(inplace=True)\n",
       "  (12): ConvTranspose2d(64, 1, kernel_size=(4, 4), stride=(2, 2), padding=(1, 1), bias=False)\n",
       "  (13): Tanh()\n",
       ")"
      ]
     },
     "execution_count": 35,
     "metadata": {},
     "output_type": "execute_result"
    }
   ],
   "source": [
    "generator.load_state_dict(torch.load('cWGANGP_generator.pth'))\n",
    "generator = generator.to(device)\n",
    "generator.eval()"
   ]
  },
  {
   "cell_type": "code",
   "execution_count": 36,
   "id": "63eaf2df-a062-43be-afdc-3470a8462318",
   "metadata": {},
   "outputs": [
    {
     "name": "stdout",
     "output_type": "stream",
     "text": [
      "CPU times: total: 55.9 s\n",
      "Wall time: 14.6 s\n"
     ]
    }
   ],
   "source": [
    "%%time\n",
    "\n",
    "torch.manual_seed(42)\n",
    "noise_Covid = torch.randn(covid_samples, 100, device= device)\n",
    "covid_generated_by_WGANGP = get_an_image(0, noise_Covid)"
   ]
  },
  {
   "cell_type": "code",
   "execution_count": 37,
   "id": "e339a03f-51ef-436c-863a-bd8a3bbaccc8",
   "metadata": {},
   "outputs": [
    {
     "name": "stdout",
     "output_type": "stream",
     "text": [
      "CPU times: total: 21.3 s\n",
      "Wall time: 5.36 s\n"
     ]
    }
   ],
   "source": [
    "%%time\n",
    "\n",
    "torch.manual_seed(84)\n",
    "noise_Pneumonia = torch.randn(viralPneumonia_samples, 100, device= device)\n",
    "Pneumonia_generated_by_WGANGP = get_an_image(1, noise_Pneumonia)"
   ]
  },
  {
   "cell_type": "code",
   "execution_count": 38,
   "id": "ef74d66f-ab14-4046-966e-c29a6231783e",
   "metadata": {},
   "outputs": [
    {
     "data": {
      "text/plain": [
       "Text(-22.5, -15, 'WGANGP')"
      ]
     },
     "execution_count": 38,
     "metadata": {},
     "output_type": "execute_result"
    },
    {
     "data": {
      "image/png": "[encoded data removed]",
      "text/plain": [
       "<Figure size 700x300 with 2 Axes>"
      ]
     },
     "metadata": {},
     "output_type": "display_data"
    }
   ],
   "source": [
    "gen_image_covid_dcgan = covid_generated_by_WGANGP[0][0]\n",
    "gen_image_ViralPneumonia_dcgan = Pneumonia_generated_by_WGANGP[2][0]\n",
    "\n",
    "fig, axes = plt.subplots(1, 2, figsize=(7, 3))\n",
    "\n",
    "ax = plt.subplot(1, 2, 1)\n",
    "plt.imshow(gen_image_covid_dcgan.reshape((64,64,1)), cmap = 'gray') # plt.imshow requires image dimensions to be H * W * C\n",
    "plt.title(\"COVID\")\n",
    "\n",
    "ax = plt.subplot(1, 2, 2)\n",
    "plt.imshow(gen_image_ViralPneumonia_dcgan.reshape((64,64,1)), cmap = 'gray') # plt.imshow requires image dimensions to be H * W * C\n",
    "plt.title(\"Viral Pneumonia\")\n",
    "\n",
    "ax.text(-22.5, -15, \"WGANGP\", fontsize = 15)"
   ]
  },
  {
   "cell_type": "code",
   "execution_count": 39,
   "id": "d0935c0a-1adc-40a6-a7f9-eb16972a5948",
   "metadata": {},
   "outputs": [
    {
     "name": "stderr",
     "output_type": "stream",
     "text": [
      "3616it [00:06, 559.53it/s]\n"
     ]
    }
   ],
   "source": [
    "for i, img in tqdm(enumerate(covid_generated_by_WGANGP)):\n",
    "    save_image(img, 'COVID_WGANGP_'+str(i)+'.png')"
   ]
  },
  {
   "cell_type": "code",
   "execution_count": 40,
   "id": "c1dbf774-8caa-448c-a1f7-8bee743235a8",
   "metadata": {},
   "outputs": [
    {
     "name": "stderr",
     "output_type": "stream",
     "text": [
      "1345it [00:02, 548.62it/s]\n"
     ]
    }
   ],
   "source": [
    "for i, img in tqdm(enumerate(Pneumonia_generated_by_WGANGP)):\n",
    "    save_image(img, 'ViralPenumonia_WGANGP_'+str(i)+'.png')"
   ]
  },
  {
   "cell_type": "markdown",
   "id": "f6e8aec2-22d0-48e8-b4d2-1b8de06e1d8f",
   "metadata": {},
   "source": [
    "# Resizing Original Images"
   ]
  },
  {
   "cell_type": "code",
   "execution_count": 6,
   "id": "3635ebb4-0b3f-4adb-951f-937cdd8f7654",
   "metadata": {},
   "outputs": [],
   "source": [
    "from torchvision.datasets import ImageFolder\n",
    "import torchvision.transforms as tt\n",
    "from tqdm import tqdm\n",
    "import os"
   ]
  },
  {
   "cell_type": "markdown",
   "id": "23f3bdc7-d96f-4c07-870f-dfa48534848e",
   "metadata": {},
   "source": [
    "## Resizing Covid images"
   ]
  },
  {
   "cell_type": "code",
   "execution_count": 14,
   "id": "1af19583-8eca-4a56-8a1f-b8f78f949e91",
   "metadata": {},
   "outputs": [],
   "source": [
    "data_dir = r'C:\\Users\\Lenovo\\Desktop\\FYP Coding\\Frechet Inception Distance (FID)\\Real_Images\\Covid'\n",
    "Covid_original = ImageFolder(data_dir, transform=tt.Compose([\n",
    "                                        tt.Grayscale(num_output_channels=1),\n",
    "                                        tt.Resize(64),\n",
    "                                        tt.ToTensor()]))"
   ]
  },
  {
   "cell_type": "code",
   "execution_count": 15,
   "id": "0b545399-2860-40c0-8fd6-6dd559f6188b",
   "metadata": {},
   "outputs": [
    {
     "name": "stderr",
     "output_type": "stream",
     "text": [
      "3616it [00:35, 100.73it/s]\n"
     ]
    }
   ],
   "source": [
    "path = r'C:\\Users\\Lenovo\\Desktop\\FYP Coding\\Frechet Inception Distance (FID)\\Real_Images\\Covid_Resized'\n",
    "\n",
    "for i, img in tqdm(enumerate(Covid_original)):\n",
    "    img = img[0]\n",
    "    save_image(img, os.path.join(path, 'COVID_RESIZED_'+str(i)+'.png'))"
   ]
  },
  {
   "cell_type": "markdown",
   "id": "3e00f224-1316-4563-b78f-b2e4b2c3d798",
   "metadata": {},
   "source": [
    "# Resizing Viral Pneumonia images"
   ]
  },
  {
   "cell_type": "code",
   "execution_count": 17,
   "id": "f8da6295-cd23-4b98-a8f5-c0a65f355cf5",
   "metadata": {},
   "outputs": [],
   "source": [
    "data_dir = r'C:\\Users\\Lenovo\\Desktop\\FYP Coding\\Frechet Inception Distance (FID)\\Real_Images\\Viral_Pneumonia'\n",
    "ViralPneumonia_original = ImageFolder(data_dir, transform=tt.Compose([\n",
    "                                        tt.Grayscale(num_output_channels=1),\n",
    "                                        tt.Resize(64),\n",
    "                                        tt.ToTensor()]))"
   ]
  },
  {
   "cell_type": "code",
   "execution_count": 18,
   "id": "fcecdfd2-867e-4371-8b92-70925c8f39d6",
   "metadata": {},
   "outputs": [
    {
     "name": "stderr",
     "output_type": "stream",
     "text": [
      "1345it [00:14, 91.46it/s]\n"
     ]
    }
   ],
   "source": [
    "path = r'C:\\Users\\Lenovo\\Desktop\\FYP Coding\\Frechet Inception Distance (FID)\\Real_Images\\ViralPneumonia_Resized\\ViralPneumonia_Resized'\n",
    "\n",
    "for i, img in tqdm(enumerate(ViralPneumonia_original)):\n",
    "    img = img[0]\n",
    "    save_image(img, os.path.join(path, 'ViralPneumonia_RESIZED_'+str(i)+'.png'))"
   ]
  },
  {
   "cell_type": "code",
   "execution_count": null,
   "id": "a216f5eb-c156-4ae4-a672-24087689ac0c",
   "metadata": {},
   "outputs": [],
   "source": []
  }
 ],
 "metadata": {
  "kernelspec": {
   "display_name": "Python 3",
   "language": "python",
   "name": "python3"
  },
  "language_info": {
   "codemirror_mode": {
    "name": "ipython",
    "version": 3
   },
   "file_extension": ".py",
   "mimetype": "text/x-python",
   "name": "python",
   "nbconvert_exporter": "python",
   "pygments_lexer": "ipython3",
   "version": "3.10.8"
  }
 },
 "nbformat": 4,
 "nbformat_minor": 5
}
