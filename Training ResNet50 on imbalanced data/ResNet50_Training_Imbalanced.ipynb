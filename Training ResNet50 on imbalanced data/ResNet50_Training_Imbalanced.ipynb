{
 "cells": [
  {
   "cell_type": "code",
   "execution_count": null,
   "id": "2052d8f6-3a31-4e27-bfee-6e5aea765f69",
   "metadata": {
    "tags": []
   },
   "outputs": [],
   "source": [
    "# # !pip install gdown\n",
    "# !gdown 1ehw36AMi2R69Vff9r5rhd_dKm2mSuTKf\n",
    "# # https://drive.google.com/file/d/1ehw36AMi2R69Vff9r5rhd_dKm2mSuTKf/view?usp=share_link"
   ]
  },
  {
   "cell_type": "code",
   "execution_count": null,
   "id": "d08575ea-3398-4e6f-bcec-16be69951e91",
   "metadata": {
    "tags": []
   },
   "outputs": [],
   "source": [
    "# path = 'Covid-19 Dataset.zip' \n",
    "# directory_to_extract_to = ''\n",
    "\n",
    "# import zipfile\n",
    "# with zipfile.ZipFile(path, 'r') as zip_ref:\n",
    "#     zip_ref.extractall(directory_to_extract_to)\n",
    "    \n",
    "# # https://drive.google.com/file/d/1ODpiJAEMtfWjSzkrpiGonZrb-wdADfqL/view?usp=share_link"
   ]
  },
  {
   "cell_type": "markdown",
   "id": "f040869a",
   "metadata": {
    "tags": []
   },
   "source": [
    "# Training ResNet50 model on imbalanced data"
   ]
  },
  {
   "cell_type": "markdown",
   "id": "7dab0f55",
   "metadata": {},
   "source": [
    "<b> Lets check the specs of my GPU on which this model has been trained on."
   ]
  },
  {
   "cell_type": "code",
   "execution_count": 1,
   "id": "ed0d5de2",
   "metadata": {
    "execution": {
     "iopub.execute_input": "2022-12-01T07:19:11.085178Z",
     "iopub.status.busy": "2022-12-01T07:19:11.084992Z",
     "iopub.status.idle": "2022-12-01T07:19:11.955754Z",
     "shell.execute_reply": "2022-12-01T07:19:11.955139Z",
     "shell.execute_reply.started": "2022-12-01T07:19:11.085125Z"
    },
    "tags": []
   },
   "outputs": [
    {
     "name": "stdout",
     "output_type": "stream",
     "text": [
      "Sat Dec  3 18:27:00 2022       \n",
      "+-----------------------------------------------------------------------------+\n",
      "| NVIDIA-SMI 522.25       Driver Version: 522.25       CUDA Version: 11.8     |\n",
      "|-------------------------------+----------------------+----------------------+\n",
      "| GPU  Name            TCC/WDDM | Bus-Id        Disp.A | Volatile Uncorr. ECC |\n",
      "| Fan  Temp  Perf  Pwr:Usage/Cap|         Memory-Usage | GPU-Util  Compute M. |\n",
      "|                               |                      |               MIG M. |\n",
      "|===============================+======================+======================|\n",
      "|   0  NVIDIA GeForce ... WDDM  | 00000000:01:00.0 Off |                  N/A |\n",
      "| N/A   43C    P8     2W /  N/A |   1180MiB /  4096MiB |      0%      Default |\n",
      "|                               |                      |                  N/A |\n",
      "+-------------------------------+----------------------+----------------------+\n",
      "                                                                               \n",
      "+-----------------------------------------------------------------------------+\n",
      "| Processes:                                                                  |\n",
      "|  GPU   GI   CI        PID   Type   Process name                  GPU Memory |\n",
      "|        ID   ID                                                   Usage      |\n",
      "|=============================================================================|\n",
      "|    0   N/A  N/A      8060      C   ...novo\\anaconda3\\python.exe    N/A      |\n",
      "+-----------------------------------------------------------------------------+\n"
     ]
    }
   ],
   "source": [
    "!nvidia-smi"
   ]
  },
  {
   "cell_type": "markdown",
   "id": "f8bc36d3",
   "metadata": {},
   "source": [
    "# Importing the dependencies"
   ]
  },
  {
   "cell_type": "code",
   "execution_count": 2,
   "id": "c3b72554-34d9-46e2-99ac-cf00fb4e16bb",
   "metadata": {
    "execution": {
     "iopub.execute_input": "2022-12-01T07:19:21.294774Z",
     "iopub.status.busy": "2022-12-01T07:19:21.294479Z",
     "iopub.status.idle": "2022-12-01T07:19:21.298120Z",
     "shell.execute_reply": "2022-12-01T07:19:21.297392Z",
     "shell.execute_reply.started": "2022-12-01T07:19:21.294746Z"
    },
    "tags": []
   },
   "outputs": [],
   "source": [
    "# !pip install \"pillow<7\""
   ]
  },
  {
   "cell_type": "code",
   "execution_count": 1,
   "id": "d77ab47a",
   "metadata": {
    "execution": {
     "iopub.execute_input": "2022-12-01T07:19:21.582249Z",
     "iopub.status.busy": "2022-12-01T07:19:21.581983Z",
     "iopub.status.idle": "2022-12-01T07:19:22.999329Z",
     "shell.execute_reply": "2022-12-01T07:19:22.998773Z",
     "shell.execute_reply.started": "2022-12-01T07:19:21.582227Z"
    },
    "tags": []
   },
   "outputs": [],
   "source": [
    "import os\n",
    "import torch\n",
    "import torchvision\n",
    "import tarfile\n",
    "import torch.nn as nn\n",
    "import numpy as np\n",
    "import torch.nn.functional as F\n",
    "from torchvision.datasets import ImageFolder\n",
    "from torch.utils.data import DataLoader, Dataset\n",
    "import torchvision.transforms as tt\n",
    "from torch.utils.data import random_split\n",
    "from torchvision.utils import make_grid\n",
    "import matplotlib\n",
    "import matplotlib.pyplot as plt\n",
    "%matplotlib inline\n",
    "\n",
    "matplotlib.rcParams['figure.facecolor'] = '#ffffff'"
   ]
  },
  {
   "cell_type": "markdown",
   "id": "9fab1e44",
   "metadata": {},
   "source": [
    "# Loading training, validation and testing dataset"
   ]
  },
  {
   "cell_type": "code",
   "execution_count": 4,
   "id": "3a81d0fa",
   "metadata": {
    "execution": {
     "iopub.execute_input": "2022-12-01T07:20:19.891425Z",
     "iopub.status.busy": "2022-12-01T07:20:19.890949Z",
     "iopub.status.idle": "2022-12-01T07:20:19.894606Z",
     "shell.execute_reply": "2022-12-01T07:20:19.893908Z",
     "shell.execute_reply.started": "2022-12-01T07:20:19.891401Z"
    },
    "tags": []
   },
   "outputs": [],
   "source": [
    "train_data_dir = r\"C:\\Users\\Lenovo\\Desktop\\FYP Coding\\Covid-19 Dataset\\Covid-19 Dataset\\Train\"\n",
    "validation_data_dir = r\"C:\\Users\\Lenovo\\Desktop\\FYP Coding\\Covid-19 Dataset\\Covid-19 Dataset\\Validation\"\n",
    "test_data_dir = r\"C:\\Users\\Lenovo\\Desktop\\FYP Coding\\Covid-19 Dataset\\Covid-19 Dataset\\Test\""
   ]
  },
  {
   "cell_type": "code",
   "execution_count": 5,
   "id": "4e762239",
   "metadata": {
    "execution": {
     "iopub.execute_input": "2022-12-01T07:20:20.098133Z",
     "iopub.status.busy": "2022-12-01T07:20:20.097611Z",
     "iopub.status.idle": "2022-12-01T07:20:20.101722Z",
     "shell.execute_reply": "2022-12-01T07:20:20.101202Z",
     "shell.execute_reply.started": "2022-12-01T07:20:20.098104Z"
    },
    "tags": []
   },
   "outputs": [
    {
     "name": "stdout",
     "output_type": "stream",
     "text": [
      "The total number of classes present in the dataset are:  ['Covid', 'Normal', 'Viral Pneumonia']\n"
     ]
    }
   ],
   "source": [
    "n_classes = os.listdir(train_data_dir)\n",
    "print(\"The total number of classes present in the dataset are: \", n_classes)"
   ]
  },
  {
   "cell_type": "markdown",
   "id": "8742a3e4",
   "metadata": {},
   "source": [
    "## Looking at some individual samples from training data"
   ]
  },
  {
   "cell_type": "code",
   "execution_count": 6,
   "id": "14b020d2",
   "metadata": {
    "execution": {
     "iopub.execute_input": "2022-12-01T07:20:22.130585Z",
     "iopub.status.busy": "2022-12-01T07:20:22.130276Z",
     "iopub.status.idle": "2022-12-01T07:20:22.133611Z",
     "shell.execute_reply": "2022-12-01T07:20:22.133041Z",
     "shell.execute_reply.started": "2022-12-01T07:20:22.130561Z"
    },
    "tags": []
   },
   "outputs": [],
   "source": [
    "from PIL import Image"
   ]
  },
  {
   "cell_type": "code",
   "execution_count": 7,
   "id": "d9ccd641",
   "metadata": {
    "execution": {
     "iopub.execute_input": "2022-12-01T07:20:27.286782Z",
     "iopub.status.busy": "2022-12-01T07:20:27.286494Z",
     "iopub.status.idle": "2022-12-01T07:20:27.313301Z",
     "shell.execute_reply": "2022-12-01T07:20:27.312761Z",
     "shell.execute_reply.started": "2022-12-01T07:20:27.286756Z"
    },
    "tags": []
   },
   "outputs": [
    {
     "name": "stdout",
     "output_type": "stream",
     "text": [
      "Covid\n"
     ]
    },
    {
     "data": {
      "image/png": "[encoded data removed]",
      "text/plain": [
       "<PIL.PngImagePlugin.PngImageFile image mode=L size=299x299>"
      ]
     },
     "execution_count": 7,
     "metadata": {},
     "output_type": "execute_result"
    }
   ],
   "source": [
    "# loading the first sample from Covid class\n",
    "\n",
    "covid_sample1 = os.listdir(train_data_dir+'/Covid')[0]\n",
    "covid_sample1 = os.path.join(train_data_dir+\"/Covid\", covid_sample1)\n",
    "\n",
    "print(\"Covid\")\n",
    "Image.open(covid_sample1)"
   ]
  },
  {
   "cell_type": "code",
   "execution_count": 8,
   "id": "2ee00fda",
   "metadata": {
    "execution": {
     "iopub.execute_input": "2022-12-01T07:20:32.391187Z",
     "iopub.status.busy": "2022-12-01T07:20:32.390876Z",
     "iopub.status.idle": "2022-12-01T07:20:32.417845Z",
     "shell.execute_reply": "2022-12-01T07:20:32.417309Z",
     "shell.execute_reply.started": "2022-12-01T07:20:32.391162Z"
    }
   },
   "outputs": [
    {
     "name": "stdout",
     "output_type": "stream",
     "text": [
      "Normal\n"
     ]
    },
    {
     "data": {
      "image/png": "[encoded data removed]",
      "text/plain": [
       "<PIL.PngImagePlugin.PngImageFile image mode=L size=299x299>"
      ]
     },
     "execution_count": 8,
     "metadata": {},
     "output_type": "execute_result"
    }
   ],
   "source": [
    "# loading the first sample from Normal class\n",
    "\n",
    "normal_sample1 = os.listdir(train_data_dir+r'/Normal')[0]\n",
    "normal_sample1 = os.path.join(train_data_dir+r\"/Normal\", normal_sample1)\n",
    "\n",
    "print(\"Normal\")\n",
    "Image.open(normal_sample1)"
   ]
  },
  {
   "cell_type": "code",
   "execution_count": 9,
   "id": "b8d63a6d",
   "metadata": {
    "execution": {
     "iopub.execute_input": "2022-12-01T07:20:36.976770Z",
     "iopub.status.busy": "2022-12-01T07:20:36.976474Z",
     "iopub.status.idle": "2022-12-01T07:20:36.998542Z",
     "shell.execute_reply": "2022-12-01T07:20:36.998040Z",
     "shell.execute_reply.started": "2022-12-01T07:20:36.976746Z"
    }
   },
   "outputs": [
    {
     "name": "stdout",
     "output_type": "stream",
     "text": [
      "Viral Pneumonia\n"
     ]
    },
    {
     "data": {
      "image/png": "[encoded data removed]",
      "text/plain": [
       "<PIL.PngImagePlugin.PngImageFile image mode=L size=299x299>"
      ]
     },
     "execution_count": 9,
     "metadata": {},
     "output_type": "execute_result"
    }
   ],
   "source": [
    "# loading the first sample from Viral Pneumonia class\n",
    "\n",
    "pneumonia_sample1 = os.listdir(train_data_dir+r'/Viral Pneumonia')[0]\n",
    "pneumonia_sample1 = os.path.join(train_data_dir+r\"/Viral Pneumonia\", pneumonia_sample1)\n",
    "\n",
    "print(\"Viral Pneumonia\")\n",
    "Image.open(pneumonia_sample1)"
   ]
  },
  {
   "cell_type": "markdown",
   "id": "c9eecb0d",
   "metadata": {},
   "source": [
    "## Performing preprocessing on training, validation and testing images"
   ]
  },
  {
   "cell_type": "markdown",
   "id": "59f47c14",
   "metadata": {},
   "source": [
    "Since I will be training 3 GAN architectures, DCGAN, WGAN, and WGAN-GP, on 1*64*64 images, I will need to resize all my images to same dimension in order to compare the performance of the model accross all datasets. However, the model I have selected, <b> ResNet-50 </b> takes an input image of 3 * 224 * 244. The number of channels can be changed to 1 in the input layer indicating that the model takes in greyscale image. However, we have two options related to the input image dimensions:\n",
    "\n",
    "    1. Delete/Modify original model such that the initial layers take in 64 * 64 images.\n",
    "    2. Or, perform zero-padding on all training images and convert their dimensions from 1 * 64 * 64 to 1 * 224 * 224.\n",
    "    \n",
    "    \n",
    "I must also note that after generating 1 * 64 * 64 images from GANs, I would need to perform same padding on those images to match the dimensions. This way, we can fairly compare the performance of <b> ResNet-50 </b> accross \n",
    "\n",
    "\n",
    "    1. Imbalanced data\n",
    "    2. Data with traditional augmentation\n",
    "    3. Data with DCGAN augmentation\n",
    "    4. Data with WGAN augmentation\n",
    "    5. Data with WGAN-GP augmentation"
   ]
  },
  {
   "cell_type": "markdown",
   "id": "1a2d3c1d",
   "metadata": {},
   "source": [
    "### Calculating mean and standard deviation of the channels of our training dataset"
   ]
  },
  {
   "cell_type": "markdown",
   "id": "ac2c6f8b",
   "metadata": {},
   "source": [
    "We will normalize the image tensors by subtracting the mean and dividing by the standard deviation across each channel. As a result, the mean of the data across each channel is 0, and standard deviation is 1. Normalizing the data prevents the values from any one channel from disproportionately affecting the losses and gradients while training, simply by having a higher or wider range of values that others."
   ]
  },
  {
   "cell_type": "code",
   "execution_count": 10,
   "id": "49ee9b69",
   "metadata": {
    "execution": {
     "iopub.execute_input": "2022-12-01T07:20:40.759840Z",
     "iopub.status.busy": "2022-12-01T07:20:40.759553Z",
     "iopub.status.idle": "2022-12-01T07:20:40.764332Z",
     "shell.execute_reply": "2022-12-01T07:20:40.763688Z",
     "shell.execute_reply.started": "2022-12-01T07:20:40.759816Z"
    }
   },
   "outputs": [],
   "source": [
    "def get_mean_and_std(dataloader):\n",
    "    channels_sum, channels_squared_sum, num_batches = 0, 0, 0\n",
    "    for data, _ in dataloader:\n",
    "        \n",
    "        # Mean over batch, height and width, but not over the channels\n",
    "        channels_sum += torch.mean(data, dim=[0,2,3])\n",
    "        channels_squared_sum += torch.mean(data**2, dim=[0,2,3])\n",
    "        num_batches += 1\n",
    "    \n",
    "    mean = channels_sum / num_batches\n",
    "\n",
    "    # std = sqrt(E[X^2] - (E[X])^2)\n",
    "    std = (channels_squared_sum / num_batches - mean ** 2) ** 0.5\n",
    "\n",
    "    return mean, std"
   ]
  },
  {
   "cell_type": "code",
   "execution_count": 29,
   "id": "027b78a9",
   "metadata": {
    "execution": {
     "iopub.execute_input": "2022-12-01T07:20:47.889072Z",
     "iopub.status.busy": "2022-12-01T07:20:47.888685Z",
     "iopub.status.idle": "2022-12-01T07:20:47.892656Z",
     "shell.execute_reply": "2022-12-01T07:20:47.891996Z",
     "shell.execute_reply.started": "2022-12-01T07:20:47.889034Z"
    },
    "tags": []
   },
   "outputs": [],
   "source": [
    "# creating the train dataset and dataloader for calculating the mean and standard deviation of our samples\n",
    "image_size = 64\n",
    "batch_size = 64\n",
    "CHANNELS_IMG = 1"
   ]
  },
  {
   "cell_type": "code",
   "execution_count": 17,
   "id": "76564bfc",
   "metadata": {
    "execution": {
     "iopub.execute_input": "2022-12-01T07:20:52.421404Z",
     "iopub.status.busy": "2022-12-01T07:20:52.421108Z",
     "iopub.status.idle": "2022-12-01T07:20:52.466495Z",
     "shell.execute_reply": "2022-12-01T07:20:52.466029Z",
     "shell.execute_reply.started": "2022-12-01T07:20:52.421381Z"
    }
   },
   "outputs": [],
   "source": [
    "train_ds = ImageFolder(train_data_dir, transform=tt.Compose([\n",
    "                                        tt.Grayscale(num_output_channels=1),\n",
    "                                        tt.Resize(image_size),\n",
    "                                        tt.ToTensor()]))\n",
    "\n",
    "train_dl = DataLoader(train_ds, batch_size, shuffle=True, num_workers=4, pin_memory=True)"
   ]
  },
  {
   "cell_type": "code",
   "execution_count": 18,
   "id": "f8b57ae8",
   "metadata": {
    "execution": {
     "iopub.execute_input": "2022-12-01T07:20:53.048100Z",
     "iopub.status.busy": "2022-12-01T07:20:53.047810Z",
     "iopub.status.idle": "2022-12-01T07:21:09.831522Z",
     "shell.execute_reply": "2022-12-01T07:21:09.830816Z",
     "shell.execute_reply.started": "2022-12-01T07:20:53.048076Z"
    }
   },
   "outputs": [],
   "source": [
    "mean, std = get_mean_and_std(train_dl)"
   ]
  },
  {
   "cell_type": "code",
   "execution_count": 19,
   "id": "d2be23d3",
   "metadata": {
    "execution": {
     "iopub.execute_input": "2022-12-01T07:21:09.833492Z",
     "iopub.status.busy": "2022-12-01T07:21:09.833173Z",
     "iopub.status.idle": "2022-12-01T07:21:09.859640Z",
     "shell.execute_reply": "2022-12-01T07:21:09.859020Z",
     "shell.execute_reply.started": "2022-12-01T07:21:09.833453Z"
    }
   },
   "outputs": [
    {
     "name": "stdout",
     "output_type": "stream",
     "text": [
      "The calculated mean is:  tensor([0.5184])\n",
      "The calculated standard deviation is:  tensor([0.2531])\n"
     ]
    }
   ],
   "source": [
    "print(\"The calculated mean is: \", mean)\n",
    "print(\"The calculated standard deviation is: \", std)"
   ]
  },
  {
   "cell_type": "markdown",
   "id": "4bbcbac7",
   "metadata": {},
   "source": [
    "Mean = 0.5184, Std = 0.2531"
   ]
  },
  {
   "cell_type": "markdown",
   "id": "232bde81",
   "metadata": {},
   "source": [
    "### Creating datasets and dataloaders with normalization and zero-padding"
   ]
  },
  {
   "cell_type": "code",
   "execution_count": 12,
   "id": "b2f46851",
   "metadata": {
    "execution": {
     "iopub.execute_input": "2022-12-01T07:21:31.984394Z",
     "iopub.status.busy": "2022-12-01T07:21:31.984089Z",
     "iopub.status.idle": "2022-12-01T07:21:31.989671Z",
     "shell.execute_reply": "2022-12-01T07:21:31.989050Z",
     "shell.execute_reply.started": "2022-12-01T07:21:31.984369Z"
    },
    "tags": []
   },
   "outputs": [
    {
     "data": {
      "text/plain": [
       "([0.5184], [0.2531])"
      ]
     },
     "execution_count": 12,
     "metadata": {},
     "output_type": "execute_result"
    }
   ],
   "source": [
    "mean = 0.5184\n",
    "std = 0.2531\n",
    "\n",
    "stats = [mean for _ in range(CHANNELS_IMG)], [std for _ in range(CHANNELS_IMG)];stats"
   ]
  },
  {
   "cell_type": "code",
   "execution_count": 13,
   "id": "29a0e65f",
   "metadata": {
    "execution": {
     "iopub.execute_input": "2022-12-01T07:21:33.833263Z",
     "iopub.status.busy": "2022-12-01T07:21:33.832967Z",
     "iopub.status.idle": "2022-12-01T07:21:33.836248Z",
     "shell.execute_reply": "2022-12-01T07:21:33.835664Z",
     "shell.execute_reply.started": "2022-12-01T07:21:33.833238Z"
    },
    "tags": []
   },
   "outputs": [],
   "source": [
    "from PIL import Image\n",
    "import glob"
   ]
  },
  {
   "cell_type": "code",
   "execution_count": 14,
   "id": "70c2f3fb",
   "metadata": {
    "execution": {
     "iopub.execute_input": "2022-12-01T07:23:51.646840Z",
     "iopub.status.busy": "2022-12-01T07:23:51.646554Z",
     "iopub.status.idle": "2022-12-01T07:23:51.653141Z",
     "shell.execute_reply": "2022-12-01T07:23:51.652599Z",
     "shell.execute_reply.started": "2022-12-01T07:23:51.646814Z"
    },
    "tags": []
   },
   "outputs": [],
   "source": [
    "class CustomDatasetWithPadding(Dataset):\n",
    "    def __init__(self, data_dir, transforms):\n",
    "        self.data = []\n",
    "        self.transform = transforms\n",
    "        self.targets = []\n",
    "    \n",
    "        class_list = os.listdir(data_dir) # ['Covid', 'Normal', 'Viral Pneumonia']\n",
    "        for class_name in class_list:\n",
    "            class_path = os.path.join(data_dir, class_name)\n",
    "            for img_path in glob.glob(class_path + \"/*.png\"):\n",
    "                self.data.append([img_path, class_name])\n",
    "                \n",
    "        self.available_classes = os.listdir(data_dir)\n",
    "                        \n",
    "    def __len__(self):\n",
    "        return len(self.data)\n",
    "    \n",
    "    def __getitem__(self, idx):\n",
    "        img_path, class_name = self.data[idx]\n",
    "        img = self.transform(Image.open(img_path))\n",
    "        grey_image = np.zeros([1, 224, 224], dtype = np.float64)\n",
    "        grey_image[:,80:144, 80:144] = img\n",
    "        grey_image = torch.from_numpy(grey_image)\n",
    "        grey_image = grey_image.type(torch.FloatTensor)\n",
    "        # grey_image = grey_image.type(torch.cuda.FloatTensor)\n",
    "        \n",
    "        class_id = self.available_classes.index(class_name)\n",
    "        class_id = torch.tensor(class_id)\n",
    "        \n",
    "        \n",
    "        return grey_image, class_id"
   ]
  },
  {
   "cell_type": "code",
   "execution_count": 30,
   "id": "834249a7",
   "metadata": {
    "execution": {
     "iopub.execute_input": "2022-12-01T07:23:53.189890Z",
     "iopub.status.busy": "2022-12-01T07:23:53.189576Z",
     "iopub.status.idle": "2022-12-01T07:23:53.241414Z",
     "shell.execute_reply": "2022-12-01T07:23:53.240746Z",
     "shell.execute_reply.started": "2022-12-01T07:23:53.189861Z"
    },
    "tags": []
   },
   "outputs": [],
   "source": [
    "# following transformations will be performed on each image\n",
    "transformations_to_perform = transform=tt.Compose([\n",
    "                                tt.Grayscale(num_output_channels=1),\n",
    "                                tt.Resize(image_size),\n",
    "                                tt.ToTensor(),\n",
    "                                tt.Normalize(*stats)])\n",
    "\n",
    "\n",
    "# Training dataset\n",
    "train_ds = CustomDatasetWithPadding(train_data_dir, transformations_to_perform)\n",
    "train_dl = DataLoader(train_ds, batch_size, shuffle=True,  pin_memory=True)\n",
    "\n",
    "# Validation dataset\n",
    "val_ds = CustomDatasetWithPadding(validation_data_dir, transformations_to_perform)\n",
    "val_dl = DataLoader(val_ds, batch_size, shuffle=True, pin_memory=True)\n",
    "\n",
    "\n",
    "# Test dataset\n",
    "test_ds = CustomDatasetWithPadding(test_data_dir, transformations_to_perform)\n",
    "test_dl = DataLoader(test_ds, batch_size, shuffle=True, pin_memory=True)"
   ]
  },
  {
   "cell_type": "code",
   "execution_count": 31,
   "id": "942c3ccb",
   "metadata": {
    "execution": {
     "iopub.execute_input": "2022-12-01T07:23:58.864174Z",
     "iopub.status.busy": "2022-12-01T07:23:58.863873Z",
     "iopub.status.idle": "2022-12-01T07:23:58.868034Z",
     "shell.execute_reply": "2022-12-01T07:23:58.867340Z",
     "shell.execute_reply.started": "2022-12-01T07:23:58.864150Z"
    },
    "tags": []
   },
   "outputs": [],
   "source": [
    "# custom function for denormalizing normalized images \n",
    "\n",
    "def denorm(img_tensors):\n",
    "    img = img_tensors[:,80:144, 80:144] \n",
    "    img = img * stats[1][0] + stats[0][0]\n",
    "    img_tensors[:,80:144, 80:144]  = img\n",
    "    return img_tensors"
   ]
  },
  {
   "cell_type": "code",
   "execution_count": 32,
   "id": "148d2cbb",
   "metadata": {
    "execution": {
     "iopub.execute_input": "2022-12-01T07:23:59.040503Z",
     "iopub.status.busy": "2022-12-01T07:23:59.039991Z",
     "iopub.status.idle": "2022-12-01T07:23:59.150555Z",
     "shell.execute_reply": "2022-12-01T07:23:59.149892Z",
     "shell.execute_reply.started": "2022-12-01T07:23:59.040475Z"
    },
    "tags": []
   },
   "outputs": [
    {
     "name": "stdout",
     "output_type": "stream",
     "text": [
      "tensor([[[0., 0., 0.,  ..., 0., 0., 0.],\n",
      "         [0., 0., 0.,  ..., 0., 0., 0.],\n",
      "         [0., 0., 0.,  ..., 0., 0., 0.],\n",
      "         ...,\n",
      "         [0., 0., 0.,  ..., 0., 0., 0.],\n",
      "         [0., 0., 0.,  ..., 0., 0., 0.],\n",
      "         [0., 0., 0.,  ..., 0., 0., 0.]]])\n"
     ]
    },
    {
     "data": {
      "text/plain": [
       "<matplotlib.image.AxesImage at 0x21af3889e10>"
      ]
     },
     "execution_count": 32,
     "metadata": {},
     "output_type": "execute_result"
    },
    {
     "data": {
      "image/png": "[encoded data removed]",
      "text/plain": [
       "<Figure size 640x480 with 1 Axes>"
      ]
     },
     "metadata": {},
     "output_type": "display_data"
    }
   ],
   "source": [
    "# Padded image 1\n",
    "print(train_ds[0][0])\n",
    "plt.imshow(denorm(train_ds[0][0])[0], cmap ='gray')"
   ]
  },
  {
   "cell_type": "markdown",
   "id": "a6e0a550",
   "metadata": {},
   "source": [
    "# Using a GPU"
   ]
  },
  {
   "cell_type": "code",
   "execution_count": 4,
   "id": "691aa8cc",
   "metadata": {
    "execution": {
     "iopub.execute_input": "2022-12-01T07:24:01.060982Z",
     "iopub.status.busy": "2022-12-01T07:24:01.060533Z",
     "iopub.status.idle": "2022-12-01T07:24:01.066499Z",
     "shell.execute_reply": "2022-12-01T07:24:01.065839Z",
     "shell.execute_reply.started": "2022-12-01T07:24:01.060957Z"
    },
    "tags": []
   },
   "outputs": [],
   "source": [
    "def get_default_device():\n",
    "    \"\"\"Pick GPU if available, else CPU\"\"\"\n",
    "    if torch.cuda.is_available():\n",
    "        return torch.device('cuda')\n",
    "    else:\n",
    "        return torch.device('cpu')\n",
    "    \n",
    "def to_device(data, device):\n",
    "    \"\"\"Move tensor(s) to chosen device\"\"\"\n",
    "    if isinstance(data, (list,tuple)):\n",
    "        return [to_device(x, device) for x in data]\n",
    "    return data.to(device, non_blocking=True)\n",
    "\n",
    "class DeviceDataLoader():\n",
    "    \"\"\"Wrap a dataloader to move data to a device\"\"\"\n",
    "    def __init__(self, dl, device):\n",
    "        self.dl = dl\n",
    "        self.device = device\n",
    "        \n",
    "    def __iter__(self):\n",
    "        \"\"\"Yield a batch of data after moving it to device\"\"\"\n",
    "        for b in self.dl: \n",
    "            yield to_device(b, self.device)\n",
    "\n",
    "    def __len__(self):\n",
    "        \"\"\"Number of batches\"\"\"\n",
    "        return len(self.dl)"
   ]
  },
  {
   "cell_type": "code",
   "execution_count": 5,
   "id": "2686f6a8",
   "metadata": {
    "execution": {
     "iopub.execute_input": "2022-12-01T07:24:01.206519Z",
     "iopub.status.busy": "2022-12-01T07:24:01.206286Z",
     "iopub.status.idle": "2022-12-01T07:24:01.210867Z",
     "shell.execute_reply": "2022-12-01T07:24:01.210292Z",
     "shell.execute_reply.started": "2022-12-01T07:24:01.206499Z"
    },
    "tags": []
   },
   "outputs": [
    {
     "data": {
      "text/plain": [
       "device(type='cuda')"
      ]
     },
     "execution_count": 5,
     "metadata": {},
     "output_type": "execute_result"
    }
   ],
   "source": [
    "device = get_default_device()\n",
    "device"
   ]
  },
  {
   "cell_type": "code",
   "execution_count": 35,
   "id": "5cf50b8c",
   "metadata": {
    "execution": {
     "iopub.execute_input": "2022-12-01T07:24:01.364976Z",
     "iopub.status.busy": "2022-12-01T07:24:01.364736Z",
     "iopub.status.idle": "2022-12-01T07:24:01.368287Z",
     "shell.execute_reply": "2022-12-01T07:24:01.367722Z",
     "shell.execute_reply.started": "2022-12-01T07:24:01.364953Z"
    },
    "tags": []
   },
   "outputs": [],
   "source": [
    "# transporting training, validation and testing dataloaders to GPU\n",
    "\n",
    "train_dl = DeviceDataLoader(train_dl, device)\n",
    "val_dl = DeviceDataLoader(val_dl, device)\n",
    "test_dl = DeviceDataLoader(test_dl, device)"
   ]
  },
  {
   "cell_type": "markdown",
   "id": "9be377eb",
   "metadata": {},
   "source": [
    "# Importing ResNet-50 Model"
   ]
  },
  {
   "cell_type": "code",
   "execution_count": 6,
   "id": "99931eff",
   "metadata": {
    "execution": {
     "iopub.execute_input": "2022-12-01T07:24:02.048564Z",
     "iopub.status.busy": "2022-12-01T07:24:02.048279Z",
     "iopub.status.idle": "2022-12-01T07:24:02.051532Z",
     "shell.execute_reply": "2022-12-01T07:24:02.050910Z",
     "shell.execute_reply.started": "2022-12-01T07:24:02.048541Z"
    },
    "tags": []
   },
   "outputs": [],
   "source": [
    "# importing our custom ResNet-50 model\n",
    "\n",
    "from ResNet50 import ResNet, block"
   ]
  },
  {
   "cell_type": "code",
   "execution_count": 7,
   "id": "695bd018",
   "metadata": {
    "execution": {
     "iopub.execute_input": "2022-12-01T07:24:02.370899Z",
     "iopub.status.busy": "2022-12-01T07:24:02.370617Z",
     "iopub.status.idle": "2022-12-01T07:24:02.602781Z",
     "shell.execute_reply": "2022-12-01T07:24:02.602043Z",
     "shell.execute_reply.started": "2022-12-01T07:24:02.370876Z"
    },
    "tags": []
   },
   "outputs": [],
   "source": [
    "img_channel = 1\n",
    "num_classes = 3\n",
    "\n",
    "\n",
    "model = ResNet(block, [3, 4, 6, 3], img_channel, num_classes)\n",
    "model = to_device(model, device)"
   ]
  },
  {
   "cell_type": "code",
   "execution_count": 8,
   "id": "e7bfd618",
   "metadata": {},
   "outputs": [
    {
     "data": {
      "text/plain": [
       "<bound method Training.validation_step of ResNet(\n",
       "  (conv1): Conv2d(1, 64, kernel_size=(7, 7), stride=(2, 2), padding=(3, 3), bias=False)\n",
       "  (bn1): BatchNorm2d(64, eps=1e-05, momentum=0.1, affine=True, track_running_stats=True)\n",
       "  (relu): ReLU()\n",
       "  (maxpool): MaxPool2d(kernel_size=3, stride=2, padding=1, dilation=1, ceil_mode=False)\n",
       "  (layer1): Sequential(\n",
       "    (0): block(\n",
       "      (conv1): Conv2d(64, 64, kernel_size=(1, 1), stride=(1, 1), bias=False)\n",
       "      (bn1): BatchNorm2d(64, eps=1e-05, momentum=0.1, affine=True, track_running_stats=True)\n",
       "      (conv2): Conv2d(64, 64, kernel_size=(3, 3), stride=(1, 1), padding=(1, 1), bias=False)\n",
       "      (bn2): BatchNorm2d(64, eps=1e-05, momentum=0.1, affine=True, track_running_stats=True)\n",
       "      (conv3): Conv2d(64, 256, kernel_size=(1, 1), stride=(1, 1), bias=False)\n",
       "      (bn3): BatchNorm2d(256, eps=1e-05, momentum=0.1, affine=True, track_running_stats=True)\n",
       "      (relu): ReLU()\n",
       "      (identity_downsample): Sequential(\n",
       "        (0): Conv2d(64, 256, kernel_size=(1, 1), stride=(1, 1), bias=False)\n",
       "        (1): BatchNorm2d(256, eps=1e-05, momentum=0.1, affine=True, track_running_stats=True)\n",
       "      )\n",
       "    )\n",
       "    (1): block(\n",
       "      (conv1): Conv2d(256, 64, kernel_size=(1, 1), stride=(1, 1), bias=False)\n",
       "      (bn1): BatchNorm2d(64, eps=1e-05, momentum=0.1, affine=True, track_running_stats=True)\n",
       "      (conv2): Conv2d(64, 64, kernel_size=(3, 3), stride=(1, 1), padding=(1, 1), bias=False)\n",
       "      (bn2): BatchNorm2d(64, eps=1e-05, momentum=0.1, affine=True, track_running_stats=True)\n",
       "      (conv3): Conv2d(64, 256, kernel_size=(1, 1), stride=(1, 1), bias=False)\n",
       "      (bn3): BatchNorm2d(256, eps=1e-05, momentum=0.1, affine=True, track_running_stats=True)\n",
       "      (relu): ReLU()\n",
       "    )\n",
       "    (2): block(\n",
       "      (conv1): Conv2d(256, 64, kernel_size=(1, 1), stride=(1, 1), bias=False)\n",
       "      (bn1): BatchNorm2d(64, eps=1e-05, momentum=0.1, affine=True, track_running_stats=True)\n",
       "      (conv2): Conv2d(64, 64, kernel_size=(3, 3), stride=(1, 1), padding=(1, 1), bias=False)\n",
       "      (bn2): BatchNorm2d(64, eps=1e-05, momentum=0.1, affine=True, track_running_stats=True)\n",
       "      (conv3): Conv2d(64, 256, kernel_size=(1, 1), stride=(1, 1), bias=False)\n",
       "      (bn3): BatchNorm2d(256, eps=1e-05, momentum=0.1, affine=True, track_running_stats=True)\n",
       "      (relu): ReLU()\n",
       "    )\n",
       "  )\n",
       "  (layer2): Sequential(\n",
       "    (0): block(\n",
       "      (conv1): Conv2d(256, 128, kernel_size=(1, 1), stride=(1, 1), bias=False)\n",
       "      (bn1): BatchNorm2d(128, eps=1e-05, momentum=0.1, affine=True, track_running_stats=True)\n",
       "      (conv2): Conv2d(128, 128, kernel_size=(3, 3), stride=(2, 2), padding=(1, 1), bias=False)\n",
       "      (bn2): BatchNorm2d(128, eps=1e-05, momentum=0.1, affine=True, track_running_stats=True)\n",
       "      (conv3): Conv2d(128, 512, kernel_size=(1, 1), stride=(1, 1), bias=False)\n",
       "      (bn3): BatchNorm2d(512, eps=1e-05, momentum=0.1, affine=True, track_running_stats=True)\n",
       "      (relu): ReLU()\n",
       "      (identity_downsample): Sequential(\n",
       "        (0): Conv2d(256, 512, kernel_size=(1, 1), stride=(2, 2), bias=False)\n",
       "        (1): BatchNorm2d(512, eps=1e-05, momentum=0.1, affine=True, track_running_stats=True)\n",
       "      )\n",
       "    )\n",
       "    (1): block(\n",
       "      (conv1): Conv2d(512, 128, kernel_size=(1, 1), stride=(1, 1), bias=False)\n",
       "      (bn1): BatchNorm2d(128, eps=1e-05, momentum=0.1, affine=True, track_running_stats=True)\n",
       "      (conv2): Conv2d(128, 128, kernel_size=(3, 3), stride=(1, 1), padding=(1, 1), bias=False)\n",
       "      (bn2): BatchNorm2d(128, eps=1e-05, momentum=0.1, affine=True, track_running_stats=True)\n",
       "      (conv3): Conv2d(128, 512, kernel_size=(1, 1), stride=(1, 1), bias=False)\n",
       "      (bn3): BatchNorm2d(512, eps=1e-05, momentum=0.1, affine=True, track_running_stats=True)\n",
       "      (relu): ReLU()\n",
       "    )\n",
       "    (2): block(\n",
       "      (conv1): Conv2d(512, 128, kernel_size=(1, 1), stride=(1, 1), bias=False)\n",
       "      (bn1): BatchNorm2d(128, eps=1e-05, momentum=0.1, affine=True, track_running_stats=True)\n",
       "      (conv2): Conv2d(128, 128, kernel_size=(3, 3), stride=(1, 1), padding=(1, 1), bias=False)\n",
       "      (bn2): BatchNorm2d(128, eps=1e-05, momentum=0.1, affine=True, track_running_stats=True)\n",
       "      (conv3): Conv2d(128, 512, kernel_size=(1, 1), stride=(1, 1), bias=False)\n",
       "      (bn3): BatchNorm2d(512, eps=1e-05, momentum=0.1, affine=True, track_running_stats=True)\n",
       "      (relu): ReLU()\n",
       "    )\n",
       "    (3): block(\n",
       "      (conv1): Conv2d(512, 128, kernel_size=(1, 1), stride=(1, 1), bias=False)\n",
       "      (bn1): BatchNorm2d(128, eps=1e-05, momentum=0.1, affine=True, track_running_stats=True)\n",
       "      (conv2): Conv2d(128, 128, kernel_size=(3, 3), stride=(1, 1), padding=(1, 1), bias=False)\n",
       "      (bn2): BatchNorm2d(128, eps=1e-05, momentum=0.1, affine=True, track_running_stats=True)\n",
       "      (conv3): Conv2d(128, 512, kernel_size=(1, 1), stride=(1, 1), bias=False)\n",
       "      (bn3): BatchNorm2d(512, eps=1e-05, momentum=0.1, affine=True, track_running_stats=True)\n",
       "      (relu): ReLU()\n",
       "    )\n",
       "  )\n",
       "  (layer3): Sequential(\n",
       "    (0): block(\n",
       "      (conv1): Conv2d(512, 256, kernel_size=(1, 1), stride=(1, 1), bias=False)\n",
       "      (bn1): BatchNorm2d(256, eps=1e-05, momentum=0.1, affine=True, track_running_stats=True)\n",
       "      (conv2): Conv2d(256, 256, kernel_size=(3, 3), stride=(2, 2), padding=(1, 1), bias=False)\n",
       "      (bn2): BatchNorm2d(256, eps=1e-05, momentum=0.1, affine=True, track_running_stats=True)\n",
       "      (conv3): Conv2d(256, 1024, kernel_size=(1, 1), stride=(1, 1), bias=False)\n",
       "      (bn3): BatchNorm2d(1024, eps=1e-05, momentum=0.1, affine=True, track_running_stats=True)\n",
       "      (relu): ReLU()\n",
       "      (identity_downsample): Sequential(\n",
       "        (0): Conv2d(512, 1024, kernel_size=(1, 1), stride=(2, 2), bias=False)\n",
       "        (1): BatchNorm2d(1024, eps=1e-05, momentum=0.1, affine=True, track_running_stats=True)\n",
       "      )\n",
       "    )\n",
       "    (1): block(\n",
       "      (conv1): Conv2d(1024, 256, kernel_size=(1, 1), stride=(1, 1), bias=False)\n",
       "      (bn1): BatchNorm2d(256, eps=1e-05, momentum=0.1, affine=True, track_running_stats=True)\n",
       "      (conv2): Conv2d(256, 256, kernel_size=(3, 3), stride=(1, 1), padding=(1, 1), bias=False)\n",
       "      (bn2): BatchNorm2d(256, eps=1e-05, momentum=0.1, affine=True, track_running_stats=True)\n",
       "      (conv3): Conv2d(256, 1024, kernel_size=(1, 1), stride=(1, 1), bias=False)\n",
       "      (bn3): BatchNorm2d(1024, eps=1e-05, momentum=0.1, affine=True, track_running_stats=True)\n",
       "      (relu): ReLU()\n",
       "    )\n",
       "    (2): block(\n",
       "      (conv1): Conv2d(1024, 256, kernel_size=(1, 1), stride=(1, 1), bias=False)\n",
       "      (bn1): BatchNorm2d(256, eps=1e-05, momentum=0.1, affine=True, track_running_stats=True)\n",
       "      (conv2): Conv2d(256, 256, kernel_size=(3, 3), stride=(1, 1), padding=(1, 1), bias=False)\n",
       "      (bn2): BatchNorm2d(256, eps=1e-05, momentum=0.1, affine=True, track_running_stats=True)\n",
       "      (conv3): Conv2d(256, 1024, kernel_size=(1, 1), stride=(1, 1), bias=False)\n",
       "      (bn3): BatchNorm2d(1024, eps=1e-05, momentum=0.1, affine=True, track_running_stats=True)\n",
       "      (relu): ReLU()\n",
       "    )\n",
       "    (3): block(\n",
       "      (conv1): Conv2d(1024, 256, kernel_size=(1, 1), stride=(1, 1), bias=False)\n",
       "      (bn1): BatchNorm2d(256, eps=1e-05, momentum=0.1, affine=True, track_running_stats=True)\n",
       "      (conv2): Conv2d(256, 256, kernel_size=(3, 3), stride=(1, 1), padding=(1, 1), bias=False)\n",
       "      (bn2): BatchNorm2d(256, eps=1e-05, momentum=0.1, affine=True, track_running_stats=True)\n",
       "      (conv3): Conv2d(256, 1024, kernel_size=(1, 1), stride=(1, 1), bias=False)\n",
       "      (bn3): BatchNorm2d(1024, eps=1e-05, momentum=0.1, affine=True, track_running_stats=True)\n",
       "      (relu): ReLU()\n",
       "    )\n",
       "    (4): block(\n",
       "      (conv1): Conv2d(1024, 256, kernel_size=(1, 1), stride=(1, 1), bias=False)\n",
       "      (bn1): BatchNorm2d(256, eps=1e-05, momentum=0.1, affine=True, track_running_stats=True)\n",
       "      (conv2): Conv2d(256, 256, kernel_size=(3, 3), stride=(1, 1), padding=(1, 1), bias=False)\n",
       "      (bn2): BatchNorm2d(256, eps=1e-05, momentum=0.1, affine=True, track_running_stats=True)\n",
       "      (conv3): Conv2d(256, 1024, kernel_size=(1, 1), stride=(1, 1), bias=False)\n",
       "      (bn3): BatchNorm2d(1024, eps=1e-05, momentum=0.1, affine=True, track_running_stats=True)\n",
       "      (relu): ReLU()\n",
       "    )\n",
       "    (5): block(\n",
       "      (conv1): Conv2d(1024, 256, kernel_size=(1, 1), stride=(1, 1), bias=False)\n",
       "      (bn1): BatchNorm2d(256, eps=1e-05, momentum=0.1, affine=True, track_running_stats=True)\n",
       "      (conv2): Conv2d(256, 256, kernel_size=(3, 3), stride=(1, 1), padding=(1, 1), bias=False)\n",
       "      (bn2): BatchNorm2d(256, eps=1e-05, momentum=0.1, affine=True, track_running_stats=True)\n",
       "      (conv3): Conv2d(256, 1024, kernel_size=(1, 1), stride=(1, 1), bias=False)\n",
       "      (bn3): BatchNorm2d(1024, eps=1e-05, momentum=0.1, affine=True, track_running_stats=True)\n",
       "      (relu): ReLU()\n",
       "    )\n",
       "  )\n",
       "  (layer4): Sequential(\n",
       "    (0): block(\n",
       "      (conv1): Conv2d(1024, 512, kernel_size=(1, 1), stride=(1, 1), bias=False)\n",
       "      (bn1): BatchNorm2d(512, eps=1e-05, momentum=0.1, affine=True, track_running_stats=True)\n",
       "      (conv2): Conv2d(512, 512, kernel_size=(3, 3), stride=(2, 2), padding=(1, 1), bias=False)\n",
       "      (bn2): BatchNorm2d(512, eps=1e-05, momentum=0.1, affine=True, track_running_stats=True)\n",
       "      (conv3): Conv2d(512, 2048, kernel_size=(1, 1), stride=(1, 1), bias=False)\n",
       "      (bn3): BatchNorm2d(2048, eps=1e-05, momentum=0.1, affine=True, track_running_stats=True)\n",
       "      (relu): ReLU()\n",
       "      (identity_downsample): Sequential(\n",
       "        (0): Conv2d(1024, 2048, kernel_size=(1, 1), stride=(2, 2), bias=False)\n",
       "        (1): BatchNorm2d(2048, eps=1e-05, momentum=0.1, affine=True, track_running_stats=True)\n",
       "      )\n",
       "    )\n",
       "    (1): block(\n",
       "      (conv1): Conv2d(2048, 512, kernel_size=(1, 1), stride=(1, 1), bias=False)\n",
       "      (bn1): BatchNorm2d(512, eps=1e-05, momentum=0.1, affine=True, track_running_stats=True)\n",
       "      (conv2): Conv2d(512, 512, kernel_size=(3, 3), stride=(1, 1), padding=(1, 1), bias=False)\n",
       "      (bn2): BatchNorm2d(512, eps=1e-05, momentum=0.1, affine=True, track_running_stats=True)\n",
       "      (conv3): Conv2d(512, 2048, kernel_size=(1, 1), stride=(1, 1), bias=False)\n",
       "      (bn3): BatchNorm2d(2048, eps=1e-05, momentum=0.1, affine=True, track_running_stats=True)\n",
       "      (relu): ReLU()\n",
       "    )\n",
       "    (2): block(\n",
       "      (conv1): Conv2d(2048, 512, kernel_size=(1, 1), stride=(1, 1), bias=False)\n",
       "      (bn1): BatchNorm2d(512, eps=1e-05, momentum=0.1, affine=True, track_running_stats=True)\n",
       "      (conv2): Conv2d(512, 512, kernel_size=(3, 3), stride=(1, 1), padding=(1, 1), bias=False)\n",
       "      (bn2): BatchNorm2d(512, eps=1e-05, momentum=0.1, affine=True, track_running_stats=True)\n",
       "      (conv3): Conv2d(512, 2048, kernel_size=(1, 1), stride=(1, 1), bias=False)\n",
       "      (bn3): BatchNorm2d(2048, eps=1e-05, momentum=0.1, affine=True, track_running_stats=True)\n",
       "      (relu): ReLU()\n",
       "    )\n",
       "  )\n",
       "  (avgpool): AdaptiveAvgPool2d(output_size=(1, 1))\n",
       "  (fc): Linear(in_features=2048, out_features=3, bias=True)\n",
       ")>"
      ]
     },
     "execution_count": 8,
     "metadata": {},
     "output_type": "execute_result"
    }
   ],
   "source": [
    "model.validation_step"
   ]
  },
  {
   "cell_type": "markdown",
   "id": "2a8025af",
   "metadata": {},
   "source": [
    "# Training our model"
   ]
  },
  {
   "cell_type": "code",
   "execution_count": 38,
   "id": "204f193a-2225-44ac-bbdd-a3f2d0197476",
   "metadata": {
    "execution": {
     "iopub.execute_input": "2022-12-01T07:24:04.245666Z",
     "iopub.status.busy": "2022-12-01T07:24:04.245374Z",
     "iopub.status.idle": "2022-12-01T07:24:04.248845Z",
     "shell.execute_reply": "2022-12-01T07:24:04.248219Z",
     "shell.execute_reply.started": "2022-12-01T07:24:04.245643Z"
    },
    "tags": []
   },
   "outputs": [],
   "source": [
    "from tqdm import tqdm"
   ]
  },
  {
   "cell_type": "code",
   "execution_count": 39,
   "id": "a22660dd",
   "metadata": {
    "execution": {
     "iopub.execute_input": "2022-12-01T07:24:05.706180Z",
     "iopub.status.busy": "2022-12-01T07:24:05.705871Z",
     "iopub.status.idle": "2022-12-01T07:24:05.714093Z",
     "shell.execute_reply": "2022-12-01T07:24:05.713400Z",
     "shell.execute_reply.started": "2022-12-01T07:24:05.706155Z"
    },
    "tags": []
   },
   "outputs": [],
   "source": [
    "@torch.no_grad()\n",
    "def evaluate(model, val_loader):\n",
    "    model.eval()\n",
    "    outputs = [model.validation_step(batch) for batch in val_loader]\n",
    "    return model.validation_epoch_end(outputs)\n",
    "\n",
    "def get_lr(optimizer):\n",
    "    for param_group in optimizer.param_groups:\n",
    "        return param_group['lr']\n",
    "\n",
    "def fit_one_cycle(epochs, max_lr, model, train_loader, val_loader, \n",
    "                  weight_decay=0, grad_clip=None, opt_func=torch.optim.SGD):\n",
    "    torch.cuda.empty_cache()\n",
    "    history = []\n",
    "    \n",
    "    # Set up cutom optimizer with weight decay\n",
    "    optimizer = opt_func(model.parameters(), max_lr, weight_decay=weight_decay)\n",
    "    # Set up one-cycle learning rate scheduler\n",
    "    sched = torch.optim.lr_scheduler.OneCycleLR(optimizer, max_lr, epochs=epochs, \n",
    "                                                steps_per_epoch=len(train_loader))\n",
    "    \n",
    "    for epoch in range(epochs):\n",
    "        # Training Phase \n",
    "        model.train()\n",
    "        train_losses = []\n",
    "        lrs = []\n",
    "        for batch in tqdm(train_loader):\n",
    "            loss = model.training_step(batch)\n",
    "            train_losses.append(loss)\n",
    "            loss.backward()\n",
    "            \n",
    "            # Gradient clipping\n",
    "            if grad_clip: \n",
    "                nn.utils.clip_grad_value_(model.parameters(), grad_clip)\n",
    "            \n",
    "            optimizer.step()\n",
    "            optimizer.zero_grad()\n",
    "            \n",
    "            # Record & update learning rate\n",
    "            lrs.append(get_lr(optimizer))\n",
    "            sched.step()\n",
    "        \n",
    "        # Validation phase\n",
    "        result = evaluate(model, val_loader)\n",
    "        result['train_loss'] = torch.stack(train_losses).mean().item()\n",
    "        result['lrs'] = lrs\n",
    "        model.epoch_end(epoch, result)\n",
    "        history.append(result)\n",
    "    return history"
   ]
  },
  {
   "cell_type": "code",
   "execution_count": 25,
   "id": "ff0e6066",
   "metadata": {
    "execution": {
     "iopub.execute_input": "2022-12-01T07:24:06.317656Z",
     "iopub.status.busy": "2022-12-01T07:24:06.317371Z",
     "iopub.status.idle": "2022-12-01T07:24:12.208995Z",
     "shell.execute_reply": "2022-12-01T07:24:12.208394Z",
     "shell.execute_reply.started": "2022-12-01T07:24:06.317632Z"
    },
    "tags": []
   },
   "outputs": [
    {
     "name": "stdout",
     "output_type": "stream",
     "text": [
      "CPU times: total: 1min 34s\n",
      "Wall time: 17.9 s\n"
     ]
    },
    {
     "data": {
      "text/plain": [
       "[{'val_loss': 1.098628282546997, 'val_acc': 33.33333206176758}]"
      ]
     },
     "execution_count": 25,
     "metadata": {},
     "output_type": "execute_result"
    }
   ],
   "source": [
    "%%time\n",
    "\n",
    "history = [evaluate(model, val_dl)]\n",
    "history"
   ]
  },
  {
   "cell_type": "code",
   "execution_count": 40,
   "id": "b3c44f5a",
   "metadata": {
    "execution": {
     "iopub.execute_input": "2022-12-01T07:24:39.320091Z",
     "iopub.status.busy": "2022-12-01T07:24:39.319785Z",
     "iopub.status.idle": "2022-12-01T07:24:39.323461Z",
     "shell.execute_reply": "2022-12-01T07:24:39.322888Z",
     "shell.execute_reply.started": "2022-12-01T07:24:39.320067Z"
    },
    "tags": []
   },
   "outputs": [],
   "source": [
    "epochs = 20\n",
    "max_lr =  0.0001\n",
    "grad_clip = 0.1\n",
    "weight_decay = 1e-4\n",
    "opt_func = torch.optim.Adam"
   ]
  },
  {
   "cell_type": "code",
   "execution_count": 41,
   "id": "e6210ddb-b261-4f39-8679-049892fb5a3d",
   "metadata": {
    "execution": {
     "iopub.execute_input": "2022-12-01T07:24:39.755387Z",
     "iopub.status.busy": "2022-12-01T07:24:39.755102Z",
     "iopub.status.idle": "2022-12-01T07:24:39.758402Z",
     "shell.execute_reply": "2022-12-01T07:24:39.757849Z",
     "shell.execute_reply.started": "2022-12-01T07:24:39.755364Z"
    },
    "tags": []
   },
   "outputs": [],
   "source": [
    "history = []"
   ]
  },
  {
   "cell_type": "code",
   "execution_count": 58,
   "id": "24295c1e-27da-4b30-b9f2-db866991b4d6",
   "metadata": {
    "execution": {
     "iopub.execute_input": "2022-12-01T07:24:41.484240Z",
     "iopub.status.busy": "2022-12-01T07:24:41.483959Z",
     "iopub.status.idle": "2022-12-01T08:15:10.362256Z",
     "shell.execute_reply": "2022-12-01T08:15:10.361612Z",
     "shell.execute_reply.started": "2022-12-01T07:24:41.484213Z"
    },
    "tags": []
   },
   "outputs": [
    {
     "name": "stderr",
     "output_type": "stream",
     "text": [
      "100%|██████████| 128/128 [02:22<00:00,  1.11s/it]\n"
     ]
    },
    {
     "name": "stdout",
     "output_type": "stream",
     "text": [
      "Epoch [0], last_lr: 0.00001, train_loss: 0.7633, val_loss: 1.3163, val_acc: 42.6667\n"
     ]
    },
    {
     "name": "stderr",
     "output_type": "stream",
     "text": [
      "100%|██████████| 128/128 [02:24<00:00,  1.13s/it]\n"
     ]
    },
    {
     "name": "stdout",
     "output_type": "stream",
     "text": [
      "Epoch [1], last_lr: 0.00003, train_loss: 0.3784, val_loss: 0.9585, val_acc: 59.7500\n"
     ]
    },
    {
     "name": "stderr",
     "output_type": "stream",
     "text": [
      "100%|██████████| 128/128 [02:27<00:00,  1.15s/it]\n"
     ]
    },
    {
     "name": "stdout",
     "output_type": "stream",
     "text": [
      "Epoch [2], last_lr: 0.00005, train_loss: 0.2535, val_loss: 0.7258, val_acc: 71.3333\n"
     ]
    },
    {
     "name": "stderr",
     "output_type": "stream",
     "text": [
      "100%|██████████| 128/128 [02:28<00:00,  1.16s/it]\n"
     ]
    },
    {
     "name": "stdout",
     "output_type": "stream",
     "text": [
      "Epoch [3], last_lr: 0.00008, train_loss: 0.2020, val_loss: 0.4098, val_acc: 85.2500\n"
     ]
    },
    {
     "name": "stderr",
     "output_type": "stream",
     "text": [
      "100%|██████████| 128/128 [02:30<00:00,  1.17s/it]\n"
     ]
    },
    {
     "name": "stdout",
     "output_type": "stream",
     "text": [
      "Epoch [4], last_lr: 0.00009, train_loss: 0.1575, val_loss: 1.2161, val_acc: 61.9167\n"
     ]
    },
    {
     "name": "stderr",
     "output_type": "stream",
     "text": [
      "100%|██████████| 128/128 [02:28<00:00,  1.16s/it]\n"
     ]
    },
    {
     "name": "stdout",
     "output_type": "stream",
     "text": [
      "Epoch [5], last_lr: 0.00010, train_loss: 0.1397, val_loss: 0.4712, val_acc: 84.0000\n"
     ]
    },
    {
     "name": "stderr",
     "output_type": "stream",
     "text": [
      "100%|██████████| 128/128 [02:22<00:00,  1.11s/it]\n"
     ]
    },
    {
     "name": "stdout",
     "output_type": "stream",
     "text": [
      "Epoch [6], last_lr: 0.00010, train_loss: 0.1050, val_loss: 0.3908, val_acc: 86.9167\n"
     ]
    },
    {
     "name": "stderr",
     "output_type": "stream",
     "text": [
      "100%|██████████| 128/128 [02:22<00:00,  1.11s/it]\n"
     ]
    },
    {
     "name": "stdout",
     "output_type": "stream",
     "text": [
      "Epoch [7], last_lr: 0.00010, train_loss: 0.0709, val_loss: 0.4203, val_acc: 85.8333\n"
     ]
    },
    {
     "name": "stderr",
     "output_type": "stream",
     "text": [
      "100%|██████████| 128/128 [02:22<00:00,  1.12s/it]\n"
     ]
    },
    {
     "name": "stdout",
     "output_type": "stream",
     "text": [
      "Epoch [8], last_lr: 0.00009, train_loss: 0.0628, val_loss: 0.7551, val_acc: 80.3333\n"
     ]
    },
    {
     "name": "stderr",
     "output_type": "stream",
     "text": [
      "100%|██████████| 128/128 [02:26<00:00,  1.15s/it]\n"
     ]
    },
    {
     "name": "stdout",
     "output_type": "stream",
     "text": [
      "Epoch [9], last_lr: 0.00008, train_loss: 0.0484, val_loss: 0.5446, val_acc: 85.1667\n"
     ]
    },
    {
     "name": "stderr",
     "output_type": "stream",
     "text": [
      "100%|██████████| 128/128 [02:28<00:00,  1.16s/it]\n"
     ]
    },
    {
     "name": "stdout",
     "output_type": "stream",
     "text": [
      "Epoch [10], last_lr: 0.00007, train_loss: 0.0287, val_loss: 0.3961, val_acc: 90.0000\n"
     ]
    },
    {
     "name": "stderr",
     "output_type": "stream",
     "text": [
      "100%|██████████| 128/128 [02:29<00:00,  1.17s/it]\n"
     ]
    },
    {
     "name": "stdout",
     "output_type": "stream",
     "text": [
      "Epoch [11], last_lr: 0.00006, train_loss: 0.0170, val_loss: 0.5049, val_acc: 88.7500\n"
     ]
    },
    {
     "name": "stderr",
     "output_type": "stream",
     "text": [
      "100%|██████████| 128/128 [02:25<00:00,  1.14s/it]\n"
     ]
    },
    {
     "name": "stdout",
     "output_type": "stream",
     "text": [
      "Epoch [12], last_lr: 0.00005, train_loss: 0.0168, val_loss: 0.5196, val_acc: 88.3333\n"
     ]
    },
    {
     "name": "stderr",
     "output_type": "stream",
     "text": [
      "100%|██████████| 128/128 [02:22<00:00,  1.11s/it]\n"
     ]
    },
    {
     "name": "stdout",
     "output_type": "stream",
     "text": [
      "Epoch [13], last_lr: 0.00004, train_loss: 0.0074, val_loss: 0.3832, val_acc: 91.5000\n"
     ]
    },
    {
     "name": "stderr",
     "output_type": "stream",
     "text": [
      "100%|██████████| 128/128 [02:25<00:00,  1.14s/it]\n"
     ]
    },
    {
     "name": "stdout",
     "output_type": "stream",
     "text": [
      "Epoch [14], last_lr: 0.00003, train_loss: 0.0031, val_loss: 0.4830, val_acc: 89.9167\n"
     ]
    },
    {
     "name": "stderr",
     "output_type": "stream",
     "text": [
      "100%|██████████| 128/128 [02:28<00:00,  1.16s/it]\n"
     ]
    },
    {
     "name": "stdout",
     "output_type": "stream",
     "text": [
      "Epoch [15], last_lr: 0.00002, train_loss: 0.0012, val_loss: 0.4303, val_acc: 90.8333\n"
     ]
    },
    {
     "name": "stderr",
     "output_type": "stream",
     "text": [
      "100%|██████████| 128/128 [02:26<00:00,  1.15s/it]\n"
     ]
    },
    {
     "name": "stdout",
     "output_type": "stream",
     "text": [
      "Epoch [16], last_lr: 0.00001, train_loss: 0.0006, val_loss: 0.4082, val_acc: 91.0000\n"
     ]
    },
    {
     "name": "stderr",
     "output_type": "stream",
     "text": [
      "100%|██████████| 128/128 [02:22<00:00,  1.11s/it]\n"
     ]
    },
    {
     "name": "stdout",
     "output_type": "stream",
     "text": [
      "Epoch [17], last_lr: 0.00000, train_loss: 0.0005, val_loss: 0.4066, val_acc: 91.5833\n"
     ]
    },
    {
     "name": "stderr",
     "output_type": "stream",
     "text": [
      "100%|██████████| 128/128 [02:21<00:00,  1.11s/it]\n"
     ]
    },
    {
     "name": "stdout",
     "output_type": "stream",
     "text": [
      "Epoch [18], last_lr: 0.00000, train_loss: 0.0004, val_loss: 0.4190, val_acc: 91.0000\n"
     ]
    },
    {
     "name": "stderr",
     "output_type": "stream",
     "text": [
      "100%|██████████| 128/128 [02:21<00:00,  1.11s/it]\n"
     ]
    },
    {
     "name": "stdout",
     "output_type": "stream",
     "text": [
      "Epoch [19], last_lr: 0.00000, train_loss: 0.0004, val_loss: 0.4129, val_acc: 91.0833\n",
      "CPU times: user 31min 45s, sys: 18min 41s, total: 50min 27s\n",
      "Wall time: 50min 28s\n"
     ]
    }
   ],
   "source": [
    "%%time\n",
    "history += fit_one_cycle(epochs, max_lr, model, train_dl, val_dl, \n",
    "                             grad_clip=grad_clip, \n",
    "                             weight_decay=weight_decay, \n",
    "                             opt_func=opt_func)"
   ]
  },
  {
   "cell_type": "code",
   "execution_count": 60,
   "id": "6bbee7e4-2911-4d24-a260-70df52181ba5",
   "metadata": {
    "execution": {
     "iopub.execute_input": "2022-12-01T08:16:23.436329Z",
     "iopub.status.busy": "2022-12-01T08:16:23.435962Z",
     "iopub.status.idle": "2022-12-01T08:16:29.376277Z",
     "shell.execute_reply": "2022-12-01T08:16:29.375774Z",
     "shell.execute_reply.started": "2022-12-01T08:16:23.436293Z"
    },
    "tags": []
   },
   "outputs": [],
   "source": [
    "test_output = evaluate(model, test_dl)\n",
    "test_loss = test_output['val_loss']\n",
    "test_accuracy = test_output['val_acc']"
   ]
  },
  {
   "cell_type": "code",
   "execution_count": 61,
   "id": "d6e3f666-24ff-4707-aefb-7f0aa1a12ce2",
   "metadata": {
    "execution": {
     "iopub.execute_input": "2022-12-01T08:16:32.077448Z",
     "iopub.status.busy": "2022-12-01T08:16:32.077157Z",
     "iopub.status.idle": "2022-12-01T08:16:32.081748Z",
     "shell.execute_reply": "2022-12-01T08:16:32.081133Z",
     "shell.execute_reply.started": "2022-12-01T08:16:32.077426Z"
    }
   },
   "outputs": [
    {
     "data": {
      "text/plain": [
       "90.16666412353516"
      ]
     },
     "execution_count": 61,
     "metadata": {},
     "output_type": "execute_result"
    }
   ],
   "source": [
    "test_accuracy"
   ]
  },
  {
   "cell_type": "code",
   "execution_count": 62,
   "id": "000cdfb7-d289-4126-a72a-b02b961b38aa",
   "metadata": {
    "execution": {
     "iopub.execute_input": "2022-12-01T08:16:36.261191Z",
     "iopub.status.busy": "2022-12-01T08:16:36.260900Z",
     "iopub.status.idle": "2022-12-01T08:16:36.265085Z",
     "shell.execute_reply": "2022-12-01T08:16:36.264426Z",
     "shell.execute_reply.started": "2022-12-01T08:16:36.261169Z"
    }
   },
   "outputs": [
    {
     "name": "stdout",
     "output_type": "stream",
     "text": [
      "The final testing accuracy is:  90.16666412353516\n"
     ]
    }
   ],
   "source": [
    "print(\"The final testing accuracy is: \",  test_accuracy)"
   ]
  },
  {
   "cell_type": "code",
   "execution_count": 63,
   "id": "1bd53714-9120-4a42-88ea-623c936cc525",
   "metadata": {
    "execution": {
     "iopub.execute_input": "2022-12-01T08:16:51.565162Z",
     "iopub.status.busy": "2022-12-01T08:16:51.564871Z",
     "iopub.status.idle": "2022-12-01T08:16:51.568948Z",
     "shell.execute_reply": "2022-12-01T08:16:51.568366Z",
     "shell.execute_reply.started": "2022-12-01T08:16:51.565138Z"
    }
   },
   "outputs": [],
   "source": [
    "import pickle\n",
    "\n",
    "with open('history.pkl', 'wb') as f:\n",
    "       pickle.dump(history, f)"
   ]
  },
  {
   "cell_type": "code",
   "execution_count": 64,
   "id": "a58d18f5-af56-4c56-94d9-80f1dd53ea7d",
   "metadata": {
    "execution": {
     "iopub.execute_input": "2022-12-01T08:17:04.112567Z",
     "iopub.status.busy": "2022-12-01T08:17:04.112274Z",
     "iopub.status.idle": "2022-12-01T08:17:04.258867Z",
     "shell.execute_reply": "2022-12-01T08:17:04.258293Z",
     "shell.execute_reply.started": "2022-12-01T08:17:04.112543Z"
    }
   },
   "outputs": [],
   "source": [
    "torch.save(model.state_dict(), 'ResNet_50_Imbalanced.pth')"
   ]
  },
  {
   "cell_type": "code",
   "execution_count": null,
   "id": "07394a12-cb87-46f6-817d-072aac5b27e2",
   "metadata": {},
   "outputs": [],
   "source": []
  },
  {
   "cell_type": "code",
   "execution_count": null,
   "id": "63b8155f",
   "metadata": {},
   "outputs": [],
   "source": []
  }
 ],
 "metadata": {
  "kernelspec": {
   "display_name": "Python 3",
   "language": "python",
   "name": "python3"
  },
  "language_info": {
   "codemirror_mode": {
    "name": "ipython",
    "version": 3
   },
   "file_extension": ".py",
   "mimetype": "text/x-python",
   "name": "python",
   "nbconvert_exporter": "python",
   "pygments_lexer": "ipython3",
   "version": "3.8.8"
  }
 },
 "nbformat": 4,
 "nbformat_minor": 5
}
