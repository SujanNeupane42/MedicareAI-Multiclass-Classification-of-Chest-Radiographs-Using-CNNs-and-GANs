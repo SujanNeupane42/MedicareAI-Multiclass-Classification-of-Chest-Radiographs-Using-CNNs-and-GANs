{
 "cells": [
  {
   "cell_type": "markdown",
   "id": "a28ec005-cb6b-4cbb-adfc-efc6b9fc704b",
   "metadata": {},
   "source": [
    "# Importing Dependencies"
   ]
  },
  {
   "cell_type": "code",
   "execution_count": 281,
   "id": "1249dc42-a363-4b1b-bea4-3f0b706b5f4b",
   "metadata": {},
   "outputs": [
    {
     "name": "stdout",
     "output_type": "stream",
     "text": [
      "4.3.3\n"
     ]
    }
   ],
   "source": [
    "import pymongo\n",
    "from pprint import pprint\n",
    "from bson.objectid import ObjectId\n",
    "import string\n",
    "import operator\n",
    "import re\n",
    "print (pymongo.version)"
   ]
  },
  {
   "cell_type": "code",
   "execution_count": 282,
   "id": "567615b4-38e0-43f7-affa-26bdbc70a581",
   "metadata": {},
   "outputs": [],
   "source": [
    "import numpy as np\n",
    "import pandas as pd\n",
    "import matplotlib.pyplot as plt\n",
    "import seaborn as sns"
   ]
  },
  {
   "cell_type": "markdown",
   "id": "7af7247d-2744-4cd8-8e6f-51fdc7037201",
   "metadata": {},
   "source": [
    "# Establishing connection and retrieving data from MongoDB"
   ]
  },
  {
   "cell_type": "markdown",
   "id": "b6f17d2f-4e3d-4e8f-a944-cfc9acc47d44",
   "metadata": {},
   "source": [
    "## Connecting to the MongoDB"
   ]
  },
  {
   "cell_type": "code",
   "execution_count": 283,
   "id": "8a141312-da36-4707-89a6-8025b749be56",
   "metadata": {},
   "outputs": [
    {
     "name": "stdout",
     "output_type": "stream",
     "text": [
      "mongodb://localhost:27017/\n",
      "MongoClient(host=['localhost:27017'], document_class=dict, tz_aware=False, connect=True)\n"
     ]
    }
   ],
   "source": [
    "url = 'mongodb://localhost:27017/'\n",
    "print (url)\n",
    "myclient = pymongo.MongoClient(url)\n",
    "print(myclient)"
   ]
  },
  {
   "cell_type": "markdown",
   "id": "c2c34a15-a9d1-496a-a744-5c3f4c4c103e",
   "metadata": {},
   "source": [
    "## Connecting to database"
   ]
  },
  {
   "cell_type": "code",
   "execution_count": 284,
   "id": "5edc3f46-3d96-46ba-827c-61f1eb2a3225",
   "metadata": {},
   "outputs": [
    {
     "name": "stdout",
     "output_type": "stream",
     "text": [
      "Database(MongoClient(host=['localhost:27017'], document_class=dict, tz_aware=False, connect=True), 'BIGDATACOURSEWORK')\n"
     ]
    }
   ],
   "source": [
    "''' Database BIGDATACOURSEWORK will be connected next '''\n",
    "\n",
    "mydb = myclient['BIGDATACOURSEWORK']\n",
    "print (mydb)"
   ]
  },
  {
   "cell_type": "code",
   "execution_count": 285,
   "id": "c0554b98-3f60-4a9f-9a75-6dbc390f0604",
   "metadata": {},
   "outputs": [
    {
     "data": {
      "text/plain": [
       "Database(MongoClient(host=['localhost:27017'], document_class=dict, tz_aware=False, connect=True), 'BIGDATACOURSEWORK')"
      ]
     },
     "execution_count": 285,
     "metadata": {},
     "output_type": "execute_result"
    }
   ],
   "source": [
    "mydb"
   ]
  },
  {
   "cell_type": "markdown",
   "id": "266fb1b7-a89d-4a67-90aa-686a277258dc",
   "metadata": {},
   "source": [
    "## Retrieving all documents from the necessary collection"
   ]
  },
  {
   "cell_type": "code",
   "execution_count": 286,
   "id": "acb22c4c-7695-43f9-81f7-4befa3bb1648",
   "metadata": {},
   "outputs": [
    {
     "data": {
      "text/plain": [
       "['New York City Airbnb Listings File']"
      ]
     },
     "execution_count": 286,
     "metadata": {},
     "output_type": "execute_result"
    }
   ],
   "source": [
    "mydb.list_collection_names()"
   ]
  },
  {
   "cell_type": "markdown",
   "id": "d156e021-d3f0-406b-9a28-722a7bb73ade",
   "metadata": {},
   "source": [
    "<b> This collection contains more than 40,000 documents that contain information about NYC's Airbnb rentals"
   ]
  },
  {
   "cell_type": "markdown",
   "id": "24731711-0f68-4bae-bd4c-9b66fa0dd1e0",
   "metadata": {},
   "source": [
    "<b> database.collection.find() will return all available documents in that corresponding collection. "
   ]
  },
  {
   "cell_type": "code",
   "execution_count": 287,
   "id": "14e4a335-bd91-4a7d-8033-486a1bbdba44",
   "metadata": {},
   "outputs": [],
   "source": [
    "collection = mydb['New York City Airbnb Listings File'].find()"
   ]
  },
  {
   "cell_type": "code",
   "execution_count": 288,
   "id": "3819bcb9-8914-47ad-9c57-fc257a52291e",
   "metadata": {},
   "outputs": [
    {
     "data": {
      "text/plain": [
       "<pymongo.cursor.Cursor at 0x20863adada0>"
      ]
     },
     "execution_count": 288,
     "metadata": {},
     "output_type": "execute_result"
    }
   ],
   "source": [
    "collection"
   ]
  },
  {
   "cell_type": "markdown",
   "id": "edc5593e-8e7c-4779-82db-a41257586f9a",
   "metadata": {},
   "source": [
    "<b> I will convert the collection to a list and pass it to a pandas DataFrame object to load all of our documents in pandas dataframe"
   ]
  },
  {
   "cell_type": "code",
   "execution_count": 289,
   "id": "e9737955-628d-4f20-bd24-8c3df8161d04",
   "metadata": {},
   "outputs": [],
   "source": [
    "df = pd.DataFrame(list(collection))"
   ]
  },
  {
   "cell_type": "markdown",
   "id": "5eace424-fc59-4002-a20d-40214fbcfe5e",
   "metadata": {},
   "source": [
    "# Basic information about the data"
   ]
  },
  {
   "cell_type": "code",
   "execution_count": 290,
   "id": "5be24db4-4109-44be-b8ea-57ae1a8b79d9",
   "metadata": {},
   "outputs": [
    {
     "data": {
      "text/html": [
       "<div>\n",
       "<style scoped>\n",
       "    .dataframe tbody tr th:only-of-type {\n",
       "        vertical-align: middle;\n",
       "    }\n",
       "\n",
       "    .dataframe tbody tr th {\n",
       "        vertical-align: top;\n",
       "    }\n",
       "\n",
       "    .dataframe thead th {\n",
       "        text-align: right;\n",
       "    }\n",
       "</style>\n",
       "<table border=\"1\" class=\"dataframe\">\n",
       "  <thead>\n",
       "    <tr style=\"text-align: right;\">\n",
       "      <th></th>\n",
       "      <th>_id</th>\n",
       "      <th>id</th>\n",
       "      <th>listing_url</th>\n",
       "      <th>scrape_id</th>\n",
       "      <th>last_scraped</th>\n",
       "      <th>source</th>\n",
       "      <th>name</th>\n",
       "      <th>description</th>\n",
       "      <th>neighborhood_overview</th>\n",
       "      <th>picture_url</th>\n",
       "      <th>...</th>\n",
       "      <th>review_scores_location</th>\n",
       "      <th>review_scores_value</th>\n",
       "      <th>instant_bookable</th>\n",
       "      <th>calculated_host_listings_count</th>\n",
       "      <th>calculated_host_listings_count_entire_homes</th>\n",
       "      <th>calculated_host_listings_count_private_rooms</th>\n",
       "      <th>calculated_host_listings_count_shared_rooms</th>\n",
       "      <th>reviews_per_month</th>\n",
       "      <th>bedrooms</th>\n",
       "      <th>license</th>\n",
       "    </tr>\n",
       "  </thead>\n",
       "  <tbody>\n",
       "    <tr>\n",
       "      <th>0</th>\n",
       "      <td>6421707d8031041829152526</td>\n",
       "      <td>2595</td>\n",
       "      <td>https://www.airbnb.com/rooms/2595</td>\n",
       "      <td>20221204162430</td>\n",
       "      <td>2022-12-05</td>\n",
       "      <td>city scrape</td>\n",
       "      <td>Skylit Midtown Castle</td>\n",
       "      <td>Beautiful, spacious skylit studio in the heart...</td>\n",
       "      <td>Centrally located in the heart of Manhattan ju...</td>\n",
       "      <td>https://a0.muscache.com/pictures/f0813a11-40b2...</td>\n",
       "      <td>...</td>\n",
       "      <td>4.81</td>\n",
       "      <td>4.4</td>\n",
       "      <td>f</td>\n",
       "      <td>3</td>\n",
       "      <td>3</td>\n",
       "      <td>0</td>\n",
       "      <td>0</td>\n",
       "      <td>0.31</td>\n",
       "      <td>NaN</td>\n",
       "      <td>NaN</td>\n",
       "    </tr>\n",
       "    <tr>\n",
       "      <th>1</th>\n",
       "      <td>6421707d8031041829152527</td>\n",
       "      <td>5203</td>\n",
       "      <td>https://www.airbnb.com/rooms/5203</td>\n",
       "      <td>20221204162430</td>\n",
       "      <td>2022-12-05</td>\n",
       "      <td>previous scrape</td>\n",
       "      <td>Cozy Clean Guest Room - Family Apt</td>\n",
       "      <td>Our best guests are seeking a safe, clean, spa...</td>\n",
       "      <td>Our neighborhood is full of restaurants and ca...</td>\n",
       "      <td>https://a0.muscache.com/pictures/103776/b37157...</td>\n",
       "      <td>...</td>\n",
       "      <td>4.94</td>\n",
       "      <td>4.92</td>\n",
       "      <td>f</td>\n",
       "      <td>1</td>\n",
       "      <td>0</td>\n",
       "      <td>1</td>\n",
       "      <td>0</td>\n",
       "      <td>0.73</td>\n",
       "      <td>1</td>\n",
       "      <td>NaN</td>\n",
       "    </tr>\n",
       "    <tr>\n",
       "      <th>2</th>\n",
       "      <td>6421707d8031041829152528</td>\n",
       "      <td>5136</td>\n",
       "      <td>https://www.airbnb.com/rooms/5136</td>\n",
       "      <td>20221204162430</td>\n",
       "      <td>2022-12-04</td>\n",
       "      <td>city scrape</td>\n",
       "      <td>Spacious Brooklyn Duplex, Patio + Garden</td>\n",
       "      <td>We welcome you to stay in our lovely 2 br dupl...</td>\n",
       "      <td>NaN</td>\n",
       "      <td>https://a0.muscache.com/pictures/miso/Hosting-...</td>\n",
       "      <td>...</td>\n",
       "      <td>4.67</td>\n",
       "      <td>5.0</td>\n",
       "      <td>f</td>\n",
       "      <td>1</td>\n",
       "      <td>1</td>\n",
       "      <td>0</td>\n",
       "      <td>0</td>\n",
       "      <td>0.03</td>\n",
       "      <td>2</td>\n",
       "      <td>NaN</td>\n",
       "    </tr>\n",
       "    <tr>\n",
       "      <th>3</th>\n",
       "      <td>6421707d8031041829152529</td>\n",
       "      <td>5121</td>\n",
       "      <td>https://www.airbnb.com/rooms/5121</td>\n",
       "      <td>20221204162430</td>\n",
       "      <td>2022-12-05</td>\n",
       "      <td>city scrape</td>\n",
       "      <td>BlissArtsSpace!</td>\n",
       "      <td>One room available for rent in a 2 bedroom apt...</td>\n",
       "      <td>NaN</td>\n",
       "      <td>https://a0.muscache.com/pictures/2090980c-b68e...</td>\n",
       "      <td>...</td>\n",
       "      <td>4.47</td>\n",
       "      <td>4.52</td>\n",
       "      <td>f</td>\n",
       "      <td>2</td>\n",
       "      <td>0</td>\n",
       "      <td>2</td>\n",
       "      <td>0</td>\n",
       "      <td>0.30</td>\n",
       "      <td>1</td>\n",
       "      <td>NaN</td>\n",
       "    </tr>\n",
       "    <tr>\n",
       "      <th>4</th>\n",
       "      <td>6421707d803104182915252a</td>\n",
       "      <td>6848</td>\n",
       "      <td>https://www.airbnb.com/rooms/6848</td>\n",
       "      <td>20221204162430</td>\n",
       "      <td>2022-12-05</td>\n",
       "      <td>city scrape</td>\n",
       "      <td>Only 2 stops to Manhattan studio</td>\n",
       "      <td>Comfortable studio apartment with super comfor...</td>\n",
       "      <td>NaN</td>\n",
       "      <td>https://a0.muscache.com/pictures/e4f031a7-f146...</td>\n",
       "      <td>...</td>\n",
       "      <td>4.67</td>\n",
       "      <td>4.56</td>\n",
       "      <td>f</td>\n",
       "      <td>1</td>\n",
       "      <td>1</td>\n",
       "      <td>0</td>\n",
       "      <td>0</td>\n",
       "      <td>1.13</td>\n",
       "      <td>NaN</td>\n",
       "      <td>NaN</td>\n",
       "    </tr>\n",
       "  </tbody>\n",
       "</table>\n",
       "<p>5 rows × 74 columns</p>\n",
       "</div>"
      ],
      "text/plain": [
       "                        _id    id                        listing_url  \\\n",
       "0  6421707d8031041829152526  2595  https://www.airbnb.com/rooms/2595   \n",
       "1  6421707d8031041829152527  5203  https://www.airbnb.com/rooms/5203   \n",
       "2  6421707d8031041829152528  5136  https://www.airbnb.com/rooms/5136   \n",
       "3  6421707d8031041829152529  5121  https://www.airbnb.com/rooms/5121   \n",
       "4  6421707d803104182915252a  6848  https://www.airbnb.com/rooms/6848   \n",
       "\n",
       "        scrape_id last_scraped           source  \\\n",
       "0  20221204162430   2022-12-05      city scrape   \n",
       "1  20221204162430   2022-12-05  previous scrape   \n",
       "2  20221204162430   2022-12-04      city scrape   \n",
       "3  20221204162430   2022-12-05      city scrape   \n",
       "4  20221204162430   2022-12-05      city scrape   \n",
       "\n",
       "                                       name  \\\n",
       "0                     Skylit Midtown Castle   \n",
       "1        Cozy Clean Guest Room - Family Apt   \n",
       "2  Spacious Brooklyn Duplex, Patio + Garden   \n",
       "3                           BlissArtsSpace!   \n",
       "4          Only 2 stops to Manhattan studio   \n",
       "\n",
       "                                         description  \\\n",
       "0  Beautiful, spacious skylit studio in the heart...   \n",
       "1  Our best guests are seeking a safe, clean, spa...   \n",
       "2  We welcome you to stay in our lovely 2 br dupl...   \n",
       "3  One room available for rent in a 2 bedroom apt...   \n",
       "4  Comfortable studio apartment with super comfor...   \n",
       "\n",
       "                               neighborhood_overview  \\\n",
       "0  Centrally located in the heart of Manhattan ju...   \n",
       "1  Our neighborhood is full of restaurants and ca...   \n",
       "2                                                NaN   \n",
       "3                                                NaN   \n",
       "4                                                NaN   \n",
       "\n",
       "                                         picture_url  ...  \\\n",
       "0  https://a0.muscache.com/pictures/f0813a11-40b2...  ...   \n",
       "1  https://a0.muscache.com/pictures/103776/b37157...  ...   \n",
       "2  https://a0.muscache.com/pictures/miso/Hosting-...  ...   \n",
       "3  https://a0.muscache.com/pictures/2090980c-b68e...  ...   \n",
       "4  https://a0.muscache.com/pictures/e4f031a7-f146...  ...   \n",
       "\n",
       "  review_scores_location review_scores_value instant_bookable  \\\n",
       "0                   4.81                 4.4                f   \n",
       "1                   4.94                4.92                f   \n",
       "2                   4.67                 5.0                f   \n",
       "3                   4.47                4.52                f   \n",
       "4                   4.67                4.56                f   \n",
       "\n",
       "  calculated_host_listings_count calculated_host_listings_count_entire_homes  \\\n",
       "0                              3                                           3   \n",
       "1                              1                                           0   \n",
       "2                              1                                           1   \n",
       "3                              2                                           0   \n",
       "4                              1                                           1   \n",
       "\n",
       "  calculated_host_listings_count_private_rooms  \\\n",
       "0                                            0   \n",
       "1                                            1   \n",
       "2                                            0   \n",
       "3                                            2   \n",
       "4                                            0   \n",
       "\n",
       "  calculated_host_listings_count_shared_rooms reviews_per_month bedrooms  \\\n",
       "0                                           0              0.31      NaN   \n",
       "1                                           0              0.73        1   \n",
       "2                                           0              0.03        2   \n",
       "3                                           0              0.30        1   \n",
       "4                                           0              1.13      NaN   \n",
       "\n",
       "  license  \n",
       "0     NaN  \n",
       "1     NaN  \n",
       "2     NaN  \n",
       "3     NaN  \n",
       "4     NaN  \n",
       "\n",
       "[5 rows x 74 columns]"
      ]
     },
     "execution_count": 290,
     "metadata": {},
     "output_type": "execute_result"
    }
   ],
   "source": [
    "df.head()"
   ]
  },
  {
   "cell_type": "code",
   "execution_count": 291,
   "id": "0d7d553d-3916-4501-96b9-b4b2bd808f01",
   "metadata": {},
   "outputs": [
    {
     "data": {
      "text/plain": [
       "(41533, 74)"
      ]
     },
     "execution_count": 291,
     "metadata": {},
     "output_type": "execute_result"
    }
   ],
   "source": [
    "df.shape"
   ]
  },
  {
   "cell_type": "markdown",
   "id": "41935b44-68eb-407b-bda5-f0e62063a923",
   "metadata": {},
   "source": [
    "<b> There are 41533 rows and 74 columns in our data."
   ]
  },
  {
   "cell_type": "code",
   "execution_count": 292,
   "id": "66d7d917-5650-45e2-b87b-fc8fd05267c0",
   "metadata": {},
   "outputs": [
    {
     "name": "stdout",
     "output_type": "stream",
     "text": [
      "<class 'pandas.core.frame.DataFrame'>\n",
      "RangeIndex: 41533 entries, 0 to 41532\n",
      "Data columns (total 74 columns):\n",
      " #   Column                                        Non-Null Count  Dtype \n",
      "---  ------                                        --------------  ----- \n",
      " 0   _id                                           41533 non-null  object\n",
      " 1   id                                            41533 non-null  object\n",
      " 2   listing_url                                   41533 non-null  object\n",
      " 3   scrape_id                                     41533 non-null  object\n",
      " 4   last_scraped                                  41533 non-null  object\n",
      " 5   source                                        41533 non-null  object\n",
      " 6   name                                          41522 non-null  object\n",
      " 7   description                                   40748 non-null  object\n",
      " 8   neighborhood_overview                         24090 non-null  object\n",
      " 9   picture_url                                   41533 non-null  object\n",
      " 10  host_id                                       41533 non-null  object\n",
      " 11  host_url                                      41533 non-null  object\n",
      " 12  host_name                                     41528 non-null  object\n",
      " 13  host_since                                    41528 non-null  object\n",
      " 14  host_location                                 33788 non-null  object\n",
      " 15  host_about                                    23236 non-null  object\n",
      " 16  host_response_time                            41528 non-null  object\n",
      " 17  host_response_rate                            41528 non-null  object\n",
      " 18  host_acceptance_rate                          41528 non-null  object\n",
      " 19  host_is_superhost                             41504 non-null  object\n",
      " 20  host_thumbnail_url                            41528 non-null  object\n",
      " 21  host_picture_url                              41528 non-null  object\n",
      " 22  host_neighbourhood                            33344 non-null  object\n",
      " 23  host_listings_count                           41528 non-null  object\n",
      " 24  host_total_listings_count                     41528 non-null  object\n",
      " 25  host_verifications                            41533 non-null  object\n",
      " 26  host_has_profile_pic                          41528 non-null  object\n",
      " 27  host_identity_verified                        41528 non-null  object\n",
      " 28  neighbourhood                                 24090 non-null  object\n",
      " 29  neighbourhood_cleansed                        41533 non-null  object\n",
      " 30  neighbourhood_group_cleansed                  41533 non-null  object\n",
      " 31  latitude                                      41533 non-null  object\n",
      " 32  longitude                                     41533 non-null  object\n",
      " 33  property_type                                 41533 non-null  object\n",
      " 34  room_type                                     41533 non-null  object\n",
      " 35  accommodates                                  41533 non-null  object\n",
      " 36  bathrooms_text                                41456 non-null  object\n",
      " 37  beds                                          40592 non-null  object\n",
      " 38  amenities                                     41533 non-null  object\n",
      " 39  price                                         41533 non-null  object\n",
      " 40  minimum_nights                                41533 non-null  object\n",
      " 41  maximum_nights                                41533 non-null  object\n",
      " 42  minimum_minimum_nights                        41519 non-null  object\n",
      " 43  maximum_minimum_nights                        41519 non-null  object\n",
      " 44  minimum_maximum_nights                        41519 non-null  object\n",
      " 45  maximum_maximum_nights                        41519 non-null  object\n",
      " 46  minimum_nights_avg_ntm                        41519 non-null  object\n",
      " 47  maximum_nights_avg_ntm                        41519 non-null  object\n",
      " 48  has_availability                              41533 non-null  object\n",
      " 49  availability_30                               41533 non-null  object\n",
      " 50  availability_60                               41533 non-null  object\n",
      " 51  availability_90                               41533 non-null  object\n",
      " 52  availability_365                              41533 non-null  object\n",
      " 53  calendar_last_scraped                         41533 non-null  object\n",
      " 54  number_of_reviews                             41533 non-null  object\n",
      " 55  number_of_reviews_ltm                         41533 non-null  object\n",
      " 56  number_of_reviews_l30d                        41533 non-null  object\n",
      " 57  first_review                                  32140 non-null  object\n",
      " 58  last_review                                   32140 non-null  object\n",
      " 59  review_scores_rating                          32140 non-null  object\n",
      " 60  review_scores_accuracy                        31692 non-null  object\n",
      " 61  review_scores_cleanliness                     31702 non-null  object\n",
      " 62  review_scores_checkin                         31688 non-null  object\n",
      " 63  review_scores_communication                   31697 non-null  object\n",
      " 64  review_scores_location                        31685 non-null  object\n",
      " 65  review_scores_value                           31685 non-null  object\n",
      " 66  instant_bookable                              41533 non-null  object\n",
      " 67  calculated_host_listings_count                41533 non-null  object\n",
      " 68  calculated_host_listings_count_entire_homes   41533 non-null  object\n",
      " 69  calculated_host_listings_count_private_rooms  41533 non-null  object\n",
      " 70  calculated_host_listings_count_shared_rooms   41533 non-null  object\n",
      " 71  reviews_per_month                             32140 non-null  object\n",
      " 72  bedrooms                                      37711 non-null  object\n",
      " 73  license                                       1 non-null      object\n",
      "dtypes: object(74)\n",
      "memory usage: 23.4+ MB\n"
     ]
    }
   ],
   "source": [
    "df.info()"
   ]
  },
  {
   "cell_type": "code",
   "execution_count": 293,
   "id": "0a3a4aab-6a0a-442b-b276-b8d4db8051d8",
   "metadata": {},
   "outputs": [],
   "source": [
    "nulls = dict(df.isnull().sum() / df.shape[0] * 100)"
   ]
  },
  {
   "cell_type": "code",
   "execution_count": 294,
   "id": "faa2527d-71bd-474b-b6be-71e90b5679dd",
   "metadata": {},
   "outputs": [],
   "source": [
    "nulls =  {k: v for k, v in sorted(nulls.items(), reverse = True, key=lambda item: item[1])}"
   ]
  },
  {
   "cell_type": "code",
   "execution_count": 295,
   "id": "1fd7cb85-eba8-4e07-8bc0-6bcdad2dfefb",
   "metadata": {},
   "outputs": [],
   "source": [
    "def is_not_zero(pair):\n",
    "    key, value = pair\n",
    "\n",
    "    if value > 0:\n",
    "        return True\n",
    "    else:\n",
    "        return False\n",
    "\n",
    "nulls = dict(filter(is_not_zero, nulls.items()))"
   ]
  },
  {
   "cell_type": "code",
   "execution_count": 296,
   "id": "6edf43a6-b54d-4d56-b9d7-3e3c1b2ead70",
   "metadata": {},
   "outputs": [],
   "source": [
    "keys = list(nulls.keys())\n",
    "values = list(nulls.values())"
   ]
  },
  {
   "cell_type": "code",
   "execution_count": 297,
   "id": "a93220ac-035e-4450-bdb9-8bd1a38429a7",
   "metadata": {},
   "outputs": [
    {
     "data": {
      "text/plain": [
       "Text(0.08, 0.5, '% of Null Values')"
      ]
     },
     "execution_count": 297,
     "metadata": {},
     "output_type": "execute_result"
    },
    {
     "data": {
      "image/png": "[encoded data removed]",
      "text/plain": [
       "<Figure size 1200x500 with 1 Axes>"
      ]
     },
     "metadata": {},
     "output_type": "display_data"
    }
   ],
   "source": [
    "fig, ax = plt.subplots(figsize=(12, 5))\n",
    "\n",
    "bar = sns.barplot(x = keys, y = values, ax = ax)\n",
    "\n",
    "ax.xaxis.set_tick_params(labelsize=10)\n",
    "ax.yaxis.set_tick_params(labelsize=10)\n",
    "\n",
    "plt.text(0.5, 1.05, 'Percentage of Null values for columns',\n",
    "        horizontalalignment='center',\n",
    "        fontsize=20,\n",
    "        transform = ax.transAxes)\n",
    "\n",
    "plt.xticks(rotation = 90)\n",
    "ax.margins(x=0.02)\n",
    "\n",
    "# set various colors\n",
    "ax.spines['bottom'].set_color('black')\n",
    "ax.spines['top'].set_color('black') \n",
    "ax.spines['right'].set_color('black')\n",
    "ax.spines['right'].set_linewidth(2)\n",
    "ax.spines['top'].set_linewidth(2)\n",
    "ax.spines['bottom'].set_linewidth(2)\n",
    "ax.spines['left'].set_color('black')\n",
    "ax.spines['left'].set_lw(2) \n",
    "ax.tick_params(which='both', width=2)\n",
    "ax.tick_params(which='major', length=7)\n",
    "ax.tick_params(which='minor', length=7)\n",
    "ax.tick_params(which = 'both', direction = 'in')\n",
    "\n",
    "# fig.text(0.5, -0.35, 'Columns', ha='center', va='center', fontsize = 20)\n",
    "fig.text(0.08, 0.5, '% of Null Values', ha='center', va='center', rotation='vertical', fontsize = 20)\n",
    "\n",
    "# plt.savefig('percentage_of_null_values.jpg',  bbox_inches='tight', dpi = 500)"
   ]
  },
  {
   "cell_type": "markdown",
   "id": "bfd10fa9-8403-474b-ae1d-01e5e986a0d4",
   "metadata": {},
   "source": [
    "It looks like we have two choices for columns with more than 30 % null values. \n",
    "    \n",
    "    1. Either drop them, or\n",
    "    2. Figure out a way to properly fill those null values"
   ]
  },
  {
   "cell_type": "code",
   "execution_count": 298,
   "id": "f7dff956-29db-4274-9a64-81bf9874c275",
   "metadata": {},
   "outputs": [
    {
     "data": {
      "text/plain": [
       "Index(['_id', 'id', 'listing_url', 'scrape_id', 'last_scraped', 'source',\n",
       "       'name', 'description', 'neighborhood_overview', 'picture_url',\n",
       "       'host_id', 'host_url', 'host_name', 'host_since', 'host_location',\n",
       "       'host_about', 'host_response_time', 'host_response_rate',\n",
       "       'host_acceptance_rate', 'host_is_superhost', 'host_thumbnail_url',\n",
       "       'host_picture_url', 'host_neighbourhood', 'host_listings_count',\n",
       "       'host_total_listings_count', 'host_verifications',\n",
       "       'host_has_profile_pic', 'host_identity_verified', 'neighbourhood',\n",
       "       'neighbourhood_cleansed', 'neighbourhood_group_cleansed', 'latitude',\n",
       "       'longitude', 'property_type', 'room_type', 'accommodates',\n",
       "       'bathrooms_text', 'beds', 'amenities', 'price', 'minimum_nights',\n",
       "       'maximum_nights', 'minimum_minimum_nights', 'maximum_minimum_nights',\n",
       "       'minimum_maximum_nights', 'maximum_maximum_nights',\n",
       "       'minimum_nights_avg_ntm', 'maximum_nights_avg_ntm', 'has_availability',\n",
       "       'availability_30', 'availability_60', 'availability_90',\n",
       "       'availability_365', 'calendar_last_scraped', 'number_of_reviews',\n",
       "       'number_of_reviews_ltm', 'number_of_reviews_l30d', 'first_review',\n",
       "       'last_review', 'review_scores_rating', 'review_scores_accuracy',\n",
       "       'review_scores_cleanliness', 'review_scores_checkin',\n",
       "       'review_scores_communication', 'review_scores_location',\n",
       "       'review_scores_value', 'instant_bookable',\n",
       "       'calculated_host_listings_count',\n",
       "       'calculated_host_listings_count_entire_homes',\n",
       "       'calculated_host_listings_count_private_rooms',\n",
       "       'calculated_host_listings_count_shared_rooms', 'reviews_per_month',\n",
       "       'bedrooms', 'license'],\n",
       "      dtype='object')"
      ]
     },
     "execution_count": 298,
     "metadata": {},
     "output_type": "execute_result"
    }
   ],
   "source": [
    "available_columns = df.columns;available_columns"
   ]
  },
  {
   "cell_type": "code",
   "execution_count": 299,
   "id": "54867cb2-cadd-4178-86aa-243ca881eea1",
   "metadata": {},
   "outputs": [],
   "source": [
    "columns_that_are_dropped = []"
   ]
  },
  {
   "cell_type": "code",
   "execution_count": 300,
   "id": "7d9253d3-0c8d-485d-b92b-c5617d037940",
   "metadata": {},
   "outputs": [],
   "source": [
    "data_dictionary = { \n",
    "    'id': 'The unique identifier of the Airbnb listing.',\n",
    "    'listing_url': 'The URL of the Airbnb listing page.',\n",
    "    'scrape_id': 'The unique identifier of the data scrape used to generate the Airbnb listing data.',\n",
    "    'last_scraped': 'The date on which the Airbnb listing data was last scraped.', \n",
    "    'name': 'The name or title of the Airbnb listing.',\n",
    "    'summary': 'A short summary of the Airbnb listing.',\n",
    "    'space': 'A description of the space available in the Airbnb listing.',\n",
    "    'description': 'A detailed description of the Airbnb listing.', \n",
    "    'experiences_offered' : 'A list of experiences offered by the Airbnb host.',\n",
    "    'neighborhood_overview': 'An overview of the neighbourhood where the Airbnb listing is located.',\n",
    "    'notes': 'Additional notes or information about the Airbnb listing.',\n",
    "    'transit': 'Information about nearby public transportation options.',\n",
    "    'access': 'Information about what areas of the Airbnb listing are accessible to guests.',\n",
    "    'interaction': 'Information about how the Airbnb host will interact with guests.',\n",
    "    'house_rules': 'Rules and policies set by the Airbnb host for guests.',\n",
    "    'thumbnail_url': 'The URL of the Airbnb listing thumbnail image.',\n",
    "    'medium_url': 'The URL of a medium-sized image of the Airbnb listing.',\n",
    "    'picture_url': 'The URL of the main image of the Airbnb listing.',\n",
    "    'xl_picture_url': 'The URL of an extra-large image of the Airbnb listing.',\n",
    "    'host_id': 'The unique identifier of the Airbnb host who owns the listing.',\n",
    "    'host_url': 'The URL of the Airbnb host page.',\n",
    "    'host_name': 'The name of the Airbnb host who owns the listing.',\n",
    "    'host_since': 'The date on which the Airbnb host joined the platform.',\n",
    "    'host_location': 'The location of the Airbnb host.',\n",
    "    'host_about': 'Information about the Airbnb host.',\n",
    "    'host_response_time': 'The typical amount of time it takes for the Airbnb host to respond to messages.',\n",
    "    'host_response_rate': 'The percentage of messages that the Airbnb host responds to.',\n",
    "    'host_acceptance_rate': 'The percentage of booking requests that the Airbnb host accepts.',\n",
    "    'host_is_superhost': 'A binary value indicating whether or not the Airbnb host is a Superhost.',\n",
    "    'host_thumbnail_url': 'The URL of the Airbnb host\\'s thumbnail image.', \n",
    "    'host_picture_url': 'The URL of the Airbnb host\\'s main image.',\n",
    "    'host_neighbourhood': 'The neighbourhood where the Airbnb host lives.',\n",
    "    'host_listings_count': 'The number of listings that the Airbnb host has on the platform.',\n",
    "    'host_total_listings_count': 'The total number of listings that the Airbnb host has on all platforms.',\n",
    "    'host_verifications': 'A list of verification methods used by the Airbnb host.',\n",
    "    'host_has_profile_pic': 'A binary value indicating whether or not the Airbnb host has a profile picture.',\n",
    "    'host_identity_verified': 'A binary value indicating whether or not the Airbnb host\\'s identity has been verified.',\n",
    "    'neighbourhood': 'The neighbourhood where the Airbnb listing is located.',\n",
    "    'neighbourhood_cleansed': 'The cleaned-up version of the neighbourhood name.',\n",
    "    'neighbourhood_group_cleansed': 'The cleaned-up version of the neighbourhood group name.',\n",
    "    'latitude': 'The latitude coordinate of the Airbnb listing.',\n",
    "    'longitude': 'The longitude coordinate of the Airbnb listing.',\n",
    "    'property_type': 'The type of property being listed on Airbnb (e.g. Apartment, House, etc.).',\n",
    "    'room_type': 'The type of room being listed on Airbnb (e.g. Private room, Entire home/apt, etc.).',\n",
    "    'accommodates': 'The maximum number of guests the Airbnb listing can accommodate.',\n",
    "    'bathrooms': 'The number of bathrooms available in the Airbnb listing.',\n",
    "    'bedrooms': 'The number of bedrooms available in the Airbnb listing.',\n",
    "    'beds': 'The number of beds available in the Airbnb listing.',\n",
    "    'bed_type': 'The type of bed available in the Airbnb listing (e.g. Real Bed, Futon, etc.).',\n",
    "    'amenities': 'A list of amenities available in the Airbnb listing (e.g. Wifi, TV, etc.).',\n",
    "    'square_feet': 'The size of the Airbnb listing in square feet.',\n",
    "    'price': 'The nightly price of the Airbnb listing.',\n",
    "    'weekly_price': 'The weekly price of the Airbnb listing.',\n",
    "    'monthly_price': 'The monthly price of the Airbnb listing.',\n",
    "    'security_deposit': 'The amount of security deposit required for the Airbnb listing.',\n",
    "    'cleaning_fee': 'The cleaning fee charged for the Airbnb listing.',\n",
    "    'guests_included': 'The number of guests included in the nightly price of the Airbnb listing.',\n",
    "    'extra_people': 'The additional cost per guest after the number of guests included in the nightly price.',\n",
    "    'minimum_nights': 'The minimum number of nights required to book the Airbnb listing.',\n",
    "    'maximum_nights': 'The maximum number of nights allowed for a booking of the Airbnb listing.',\n",
    "    'calendar_updated': 'The last time the Airbnb listing calendar was updated.',\n",
    "    'has_availability': 'A binary value indicating whether or not the Airbnb listing is currently available.',\n",
    "    'availability_30': 'The number of available nights in the next 30 days.',\n",
    "    'availability_60': 'The number of available nights in the next 60 days.',\n",
    "    'availability_90': 'The number of available nights in the next 90 days.',\n",
    "    'availability_365': 'The number of available nights in the next 365 days.',\n",
    "    'calendar_last_scraped': 'The date on which the Airbnb listing calendar was last scraped.',\n",
    "    'number_of_reviews': 'The total number of reviews for the Airbnb listing.',\n",
    "    'number_of_reviews_ltm': 'The total number of reviews for the Airbnb listing in the last 12 months.',\n",
    "    'first_review': 'The date of the first review for the Airbnb listing.',\n",
    "    'last_review': 'The date of the most recent review for the Airbnb listing.',\n",
    "    'review_scores_rating': 'The average rating score for the Airbnb listing.',\n",
    "    'review_scores_accuracy': 'The average accuracy score for the Airbnb listing.',\n",
    "    'review_scores_cleanliness': 'The average cleanliness score for the Airbnb listing.',\n",
    "    'review_scores_communication': 'The average communication score for the Airbnb listing.',\n",
    "}"
   ]
  },
  {
   "cell_type": "code",
   "execution_count": 301,
   "id": "0194527b-26b2-4572-8194-dad698313403",
   "metadata": {},
   "outputs": [],
   "source": [
    "# pd.DataFrame(data_dictionary.values(), \n",
    "# columns = data_dictionary.keys())"
   ]
  },
  {
   "cell_type": "markdown",
   "id": "49dfd7db-ee33-470b-b511-76f99f6467eb",
   "metadata": {
    "tags": []
   },
   "source": [
    "# Data Cleaning"
   ]
  },
  {
   "cell_type": "code",
   "execution_count": 302,
   "id": "4ceac756-0b57-44b1-8bb3-d807a343277b",
   "metadata": {},
   "outputs": [],
   "source": [
    "def check_column_presence(column):\n",
    "    try:\n",
    "        if df[column].shape[0] > 0:\n",
    "            return 'Column |{}| is Present'.format(column)\n",
    "        else:\n",
    "            return None\n",
    "    except:\n",
    "        return \"Column |{}| has been removed !! \".format(column)"
   ]
  },
  {
   "cell_type": "code",
   "execution_count": 303,
   "id": "760a4eb5-e267-49e4-a1c1-bc69c6b32d95",
   "metadata": {},
   "outputs": [
    {
     "data": {
      "text/plain": [
       "'Column |availability_365| is Present'"
      ]
     },
     "execution_count": 303,
     "metadata": {},
     "output_type": "execute_result"
    }
   ],
   "source": [
    "# testing the function\n",
    "check_column_presence('availability_365')"
   ]
  },
  {
   "cell_type": "code",
   "execution_count": 304,
   "id": "c6a85934-97a2-42f9-80a6-2c1c4d89d3b3",
   "metadata": {},
   "outputs": [
    {
     "data": {
      "text/plain": [
       "0        [\"Carbon monoxide alarm\", \"Stove\", \"Bathtub\", ...\n",
       "1        [\"Hair dryer\", \"Smoke alarm\", \"Carbon monoxide...\n",
       "2        [\"HDTV with Disney+, HBO Max, standard cable, ...\n",
       "3        [\"Heating\", \"Wifi\", \"Long term stays allowed\",...\n",
       "4        [\"Carbon monoxide alarm\", \"Shampoo\", \"Stove\", ...\n",
       "                               ...                        \n",
       "41528    [\"Smoke alarm\", \"Wifi\", \"Exercise equipment\", ...\n",
       "41529    [\"Smoke alarm\", \"First aid kit\", \"Wifi\", \"TV\",...\n",
       "41530    [\"Hair dryer\", \"Smoke alarm\", \"Carbon monoxide...\n",
       "41531    [\"Smoke alarm\", \"Carbon monoxide alarm\", \"Firs...\n",
       "41532    [\"Carbon monoxide alarm\", \"Shampoo\", \"Conditio...\n",
       "Name: amenities, Length: 41533, dtype: object"
      ]
     },
     "execution_count": 304,
     "metadata": {},
     "output_type": "execute_result"
    }
   ],
   "source": [
    "df['amenities']"
   ]
  },
  {
   "cell_type": "markdown",
   "id": "b91d843f-2e9e-4590-8760-e9604fc87966",
   "metadata": {},
   "source": [
    "## Dropping useless individual columns"
   ]
  },
  {
   "cell_type": "markdown",
   "id": "795b7978-3017-47e0-84eb-3c3e3f986b25",
   "metadata": {},
   "source": [
    "### 1. `_id` column"
   ]
  },
  {
   "cell_type": "code",
   "execution_count": 305,
   "id": "354e5d71-4361-407a-8f34-a91168b78283",
   "metadata": {},
   "outputs": [
    {
     "data": {
      "text/plain": [
       "(41533,)"
      ]
     },
     "execution_count": 305,
     "metadata": {},
     "output_type": "execute_result"
    }
   ],
   "source": [
    "df['_id'].unique().shape"
   ]
  },
  {
   "cell_type": "markdown",
   "id": "102c5a4a-fec6-422c-a5c4-b34871acef17",
   "metadata": {},
   "source": [
    "This column is simply generated by Mongodb by assignng a unique value to each document/rows while uploading the file.\n",
    "We don't need this column, which is why we will proceed to drop this column."
   ]
  },
  {
   "cell_type": "code",
   "execution_count": 306,
   "id": "3c275229-df5d-4683-a942-b885a6a4d9dd",
   "metadata": {},
   "outputs": [],
   "source": [
    "df.drop('_id', axis = 1, inplace = True)"
   ]
  },
  {
   "cell_type": "code",
   "execution_count": 307,
   "id": "fb8b848d-edd5-4771-a147-34d7cfed1724",
   "metadata": {},
   "outputs": [
    {
     "data": {
      "text/plain": [
       "'Column |_id| has been removed !! '"
      ]
     },
     "execution_count": 307,
     "metadata": {},
     "output_type": "execute_result"
    }
   ],
   "source": [
    "check_column_presence('_id')"
   ]
  },
  {
   "cell_type": "code",
   "execution_count": 308,
   "id": "6c24964b-125e-44f1-956a-67c711dfbede",
   "metadata": {},
   "outputs": [],
   "source": [
    "columns_that_are_dropped.append('_id')"
   ]
  },
  {
   "cell_type": "markdown",
   "id": "72619fb1-3ee8-4056-905c-a31a964dcf02",
   "metadata": {},
   "source": [
    "### 2. `id` column"
   ]
  },
  {
   "cell_type": "code",
   "execution_count": 309,
   "id": "38810d23-a6e1-49b5-98c2-59ec90a95efb",
   "metadata": {},
   "outputs": [
    {
     "data": {
      "text/plain": [
       "(41533,)"
      ]
     },
     "execution_count": 309,
     "metadata": {},
     "output_type": "execute_result"
    }
   ],
   "source": [
    "df['id'].shape"
   ]
  },
  {
   "cell_type": "markdown",
   "id": "b4afe1ec-c320-487b-a7ec-69fafdbb2c59",
   "metadata": {},
   "source": [
    "Each rental is assigned a unique ID. So, this column is also not necessary."
   ]
  },
  {
   "cell_type": "code",
   "execution_count": 310,
   "id": "eb611023-4295-4f6a-b08a-c568bbd36cd1",
   "metadata": {},
   "outputs": [],
   "source": [
    "df.drop('id', axis = 1, inplace = True)"
   ]
  },
  {
   "cell_type": "code",
   "execution_count": 311,
   "id": "c124c388-5cf2-4528-aa3d-f338014b8349",
   "metadata": {},
   "outputs": [
    {
     "data": {
      "text/plain": [
       "'Column |id| has been removed !! '"
      ]
     },
     "execution_count": 311,
     "metadata": {},
     "output_type": "execute_result"
    }
   ],
   "source": [
    "check_column_presence('id')"
   ]
  },
  {
   "cell_type": "code",
   "execution_count": 312,
   "id": "dbfdeace-8c9d-48a8-bf45-72aa3ec2830d",
   "metadata": {},
   "outputs": [],
   "source": [
    "columns_that_are_dropped.append('id')"
   ]
  },
  {
   "cell_type": "markdown",
   "id": "26f3f39f-e9e8-4eaf-8420-a65bd7ff28f3",
   "metadata": {},
   "source": [
    "### 3. `listing_url` column"
   ]
  },
  {
   "cell_type": "code",
   "execution_count": 313,
   "id": "0928a0be-c5f9-42dd-b7b9-859ee16975bc",
   "metadata": {},
   "outputs": [
    {
     "data": {
      "text/plain": [
       "(41533,)"
      ]
     },
     "execution_count": 313,
     "metadata": {},
     "output_type": "execute_result"
    }
   ],
   "source": [
    "df['listing_url'].unique().shape"
   ]
  },
  {
   "cell_type": "markdown",
   "id": "12cef78a-ad4f-4156-882b-a2bfddbf5f23",
   "metadata": {},
   "source": [
    "Likewise, this column contains the listing URL for the corresponding rentals. We can remove this column as it does not contain any useful information."
   ]
  },
  {
   "cell_type": "code",
   "execution_count": 314,
   "id": "d91437d4-0d29-4b11-b386-ec833f419f63",
   "metadata": {},
   "outputs": [],
   "source": [
    "df.drop('listing_url', axis = 1, inplace = True)"
   ]
  },
  {
   "cell_type": "code",
   "execution_count": 315,
   "id": "2cd8b7e7-1bf4-4d35-94c5-00eb2b6b5713",
   "metadata": {},
   "outputs": [
    {
     "data": {
      "text/plain": [
       "'Column |listing_url| has been removed !! '"
      ]
     },
     "execution_count": 315,
     "metadata": {},
     "output_type": "execute_result"
    }
   ],
   "source": [
    "check_column_presence('listing_url')"
   ]
  },
  {
   "cell_type": "code",
   "execution_count": 316,
   "id": "f614102b-49bb-4e93-ad29-53c4278a285d",
   "metadata": {},
   "outputs": [],
   "source": [
    "columns_that_are_dropped.append('listing_url')"
   ]
  },
  {
   "cell_type": "markdown",
   "id": "3e393bcb-ce22-4ce1-9cc2-f1fc456680f8",
   "metadata": {},
   "source": [
    "### 4. `scrape_id` column"
   ]
  },
  {
   "cell_type": "code",
   "execution_count": 317,
   "id": "6b890dae-c447-4183-8d3b-c882862089d6",
   "metadata": {},
   "outputs": [
    {
     "data": {
      "text/plain": [
       "(1,)"
      ]
     },
     "execution_count": 317,
     "metadata": {},
     "output_type": "execute_result"
    }
   ],
   "source": [
    "df['scrape_id'].unique().shape"
   ]
  },
  {
   "cell_type": "code",
   "execution_count": 318,
   "id": "f52485f4-b9f4-4c81-a47f-fe575309e43f",
   "metadata": {},
   "outputs": [
    {
     "data": {
      "text/plain": [
       "array(['20221204162430'], dtype=object)"
      ]
     },
     "execution_count": 318,
     "metadata": {},
     "output_type": "execute_result"
    }
   ],
   "source": [
    "df['scrape_id'].unique()"
   ]
  },
  {
   "cell_type": "markdown",
   "id": "94c665f7-b0b8-40a4-b62f-5e4c40e82ae4",
   "metadata": {},
   "source": [
    "This column has only one unique value which is why we will proceed to remove this column as well. "
   ]
  },
  {
   "cell_type": "code",
   "execution_count": 319,
   "id": "75e407bb-181c-4a9a-a3d0-0c5d7f6547ec",
   "metadata": {},
   "outputs": [],
   "source": [
    "df.drop('scrape_id', axis = 1, inplace = True)"
   ]
  },
  {
   "cell_type": "code",
   "execution_count": 320,
   "id": "48fa280a-25eb-44c3-a042-fc849e091e9a",
   "metadata": {},
   "outputs": [
    {
     "data": {
      "text/plain": [
       "'Column |scrape_id| has been removed !! '"
      ]
     },
     "execution_count": 320,
     "metadata": {},
     "output_type": "execute_result"
    }
   ],
   "source": [
    "check_column_presence('scrape_id')"
   ]
  },
  {
   "cell_type": "code",
   "execution_count": 321,
   "id": "22e7a228-fc91-40b1-9588-f4c02a77a835",
   "metadata": {},
   "outputs": [],
   "source": [
    "columns_that_are_dropped.append('scrape_id')"
   ]
  },
  {
   "cell_type": "markdown",
   "id": "c46a7c30-fe61-4ebd-996e-6368a64c245d",
   "metadata": {},
   "source": [
    "### 5. `last_scraped` column"
   ]
  },
  {
   "cell_type": "code",
   "execution_count": 322,
   "id": "aa166da6-5a92-4f77-942c-4bc44a74e921",
   "metadata": {},
   "outputs": [
    {
     "data": {
      "text/plain": [
       "array(['2022-12-05', '2022-12-04'], dtype=object)"
      ]
     },
     "execution_count": 322,
     "metadata": {},
     "output_type": "execute_result"
    }
   ],
   "source": [
    "df['last_scraped'].unique()"
   ]
  },
  {
   "cell_type": "markdown",
   "id": "81ac8a9b-2d54-48cf-b508-2abf39ee03fd",
   "metadata": {},
   "source": [
    "It looks like Airbnb scraped all of their data from database at the end of 2022, which is why two date values belonging to december are only present in this column. So, we can safely drop this column as well."
   ]
  },
  {
   "cell_type": "code",
   "execution_count": 323,
   "id": "1d44edf1-bbee-4b8a-81e0-296ad58b64e0",
   "metadata": {},
   "outputs": [],
   "source": [
    "df.drop('last_scraped', axis = 1, inplace = True)"
   ]
  },
  {
   "cell_type": "code",
   "execution_count": 324,
   "id": "5edc2698-4a6f-498d-9e26-a500e02e19bd",
   "metadata": {},
   "outputs": [
    {
     "data": {
      "text/plain": [
       "'Column |last_scraped| has been removed !! '"
      ]
     },
     "execution_count": 324,
     "metadata": {},
     "output_type": "execute_result"
    }
   ],
   "source": [
    "check_column_presence('last_scraped')"
   ]
  },
  {
   "cell_type": "code",
   "execution_count": 325,
   "id": "fa11a06b-2570-4207-94fb-c2798294d168",
   "metadata": {},
   "outputs": [],
   "source": [
    "columns_that_are_dropped.append('last_scraped')"
   ]
  },
  {
   "cell_type": "markdown",
   "id": "6438db2d-6c4c-49ce-acec-e460aef324f2",
   "metadata": {},
   "source": [
    "### 6. `source` column"
   ]
  },
  {
   "cell_type": "code",
   "execution_count": 326,
   "id": "8423b1a7-771e-40bf-8937-2a7a7ca30e49",
   "metadata": {},
   "outputs": [
    {
     "data": {
      "text/plain": [
       "'source'"
      ]
     },
     "execution_count": 326,
     "metadata": {},
     "output_type": "execute_result"
    }
   ],
   "source": [
    "available_columns[5]"
   ]
  },
  {
   "cell_type": "code",
   "execution_count": 327,
   "id": "12f94bf4-f5a6-48ec-a153-590b4a990940",
   "metadata": {},
   "outputs": [
    {
     "data": {
      "text/plain": [
       "array(['city scrape', 'previous scrape'], dtype=object)"
      ]
     },
     "execution_count": 327,
     "metadata": {},
     "output_type": "execute_result"
    }
   ],
   "source": [
    "df['source'].unique()"
   ]
  },
  {
   "cell_type": "markdown",
   "id": "271af5ed-2832-41a0-a8f9-715fb248ebe3",
   "metadata": {},
   "source": [
    "This column contains the source from where Airbnb retrieved their data. So, we can remove this column. "
   ]
  },
  {
   "cell_type": "code",
   "execution_count": 328,
   "id": "9aebdd97-d965-4419-9143-b06f34a6e9fa",
   "metadata": {},
   "outputs": [
    {
     "data": {
      "text/plain": [
       "'Column |source| has been removed !! '"
      ]
     },
     "execution_count": 328,
     "metadata": {},
     "output_type": "execute_result"
    }
   ],
   "source": [
    "df.drop('source', axis = 1, inplace = True)\n",
    "check_column_presence('source')"
   ]
  },
  {
   "cell_type": "code",
   "execution_count": 329,
   "id": "c77926ac-8b0c-4197-904e-bfa9ea15a07a",
   "metadata": {},
   "outputs": [],
   "source": [
    "columns_that_are_dropped.append('source')"
   ]
  },
  {
   "cell_type": "markdown",
   "id": "85c76b78-eb2b-43d8-aed3-131cfaf5842b",
   "metadata": {},
   "source": [
    "### 7. `name` column"
   ]
  },
  {
   "cell_type": "code",
   "execution_count": 330,
   "id": "ffc51fef-e314-4bd1-aed4-eb040c994c4f",
   "metadata": {},
   "outputs": [
    {
     "data": {
      "text/plain": [
       "'name'"
      ]
     },
     "execution_count": 330,
     "metadata": {},
     "output_type": "execute_result"
    }
   ],
   "source": [
    "available_columns[6]"
   ]
  },
  {
   "cell_type": "code",
   "execution_count": 331,
   "id": "e40a3269-2290-4728-970b-222ab109dbb9",
   "metadata": {},
   "outputs": [
    {
     "data": {
      "text/plain": [
       "0                           Skylit Midtown Castle\n",
       "1              Cozy Clean Guest Room - Family Apt\n",
       "2        Spacious Brooklyn Duplex, Patio + Garden\n",
       "3                                 BlissArtsSpace!\n",
       "4                Only 2 stops to Manhattan studio\n",
       "                           ...                   \n",
       "41528                                     Dahiari\n",
       "41529                          Beautiful Basement\n",
       "41530                  Central Park Close By - 24\n",
       "41531                     Good Vibes at The Bronx\n",
       "41532           2 bedroom Condo near West Village\n",
       "Name: name, Length: 41533, dtype: object"
      ]
     },
     "execution_count": 331,
     "metadata": {},
     "output_type": "execute_result"
    }
   ],
   "source": [
    "df['name']"
   ]
  },
  {
   "cell_type": "markdown",
   "id": "52b68d4a-62a2-480b-943e-b7db89f75685",
   "metadata": {},
   "source": [
    "This column contains names of each Airbnb rentals"
   ]
  },
  {
   "cell_type": "code",
   "execution_count": 332,
   "id": "55e8e8d2-d037-46f9-9cf3-747e39762120",
   "metadata": {},
   "outputs": [
    {
     "data": {
      "text/plain": [
       "array(['Comfy modern appartment in hip Crown Heights',\n",
       "       'Sun filled gem in the heart of the East Village',\n",
       "       'Top Notch 2BR & 2BA Minutes From Central Park',\n",
       "       'Super cute, private patio, 1 block from A Train',\n",
       "       'Prime Williamsburg loft on Bedford',\n",
       "       'SPACIOUS 2-STORY Brownstone House 4 ppl | BED STUY',\n",
       "       '1000 Sq Ft HUGE apartment with Empire State views.',\n",
       "       'Clean and spacious three bedrooms apartment',\n",
       "       'Cozy 1 Bedroom Unit in Brooklyn',\n",
       "       'Beautiful 2 bedroom home - Bronx'], dtype=object)"
      ]
     },
     "execution_count": 332,
     "metadata": {},
     "output_type": "execute_result"
    }
   ],
   "source": [
    "df['name'].sample(10).values"
   ]
  },
  {
   "cell_type": "markdown",
   "id": "14422866-069c-4c07-8b27-411351f705a3",
   "metadata": {},
   "source": [
    "some of the names of the Airbnb rentals contain the location of the rentals. Since we have other columns precisely providing the location of the rentals, we can proceed to safely remove this column."
   ]
  },
  {
   "cell_type": "code",
   "execution_count": 333,
   "id": "8c30ee51-b07e-4ee2-a168-a30e08a69fa8",
   "metadata": {},
   "outputs": [
    {
     "data": {
      "text/plain": [
       "'Column |name| has been removed !! '"
      ]
     },
     "execution_count": 333,
     "metadata": {},
     "output_type": "execute_result"
    }
   ],
   "source": [
    "df.drop('name', axis = 1, inplace = True)\n",
    "check_column_presence('name')"
   ]
  },
  {
   "cell_type": "code",
   "execution_count": 334,
   "id": "ca813cb2-06ae-454e-ad89-2fc227a574e6",
   "metadata": {},
   "outputs": [],
   "source": [
    "columns_that_are_dropped.append('name')"
   ]
  },
  {
   "cell_type": "markdown",
   "id": "899742e8-4b13-46bf-8f4c-ac9320e06b2e",
   "metadata": {},
   "source": [
    "### 8. `description` column"
   ]
  },
  {
   "cell_type": "code",
   "execution_count": 335,
   "id": "93b99d23-f192-4e57-ad9c-5ff9027c40de",
   "metadata": {},
   "outputs": [
    {
     "data": {
      "text/plain": [
       "'description'"
      ]
     },
     "execution_count": 335,
     "metadata": {},
     "output_type": "execute_result"
    }
   ],
   "source": [
    "available_columns[7]"
   ]
  },
  {
   "cell_type": "code",
   "execution_count": 336,
   "id": "f13cbb4e-285f-4855-8f7f-ff789ead33c7",
   "metadata": {},
   "outputs": [
    {
     "data": {
      "text/plain": [
       "0        Beautiful, spacious skylit studio in the heart...\n",
       "1        Our best guests are seeking a safe, clean, spa...\n",
       "2        We welcome you to stay in our lovely 2 br dupl...\n",
       "3        One room available for rent in a 2 bedroom apt...\n",
       "4        Comfortable studio apartment with super comfor...\n",
       "                               ...                        \n",
       "41528    Desconecta de tus preocupaciones en este espac...\n",
       "41529    Your family will be close to everything when y...\n",
       "41530    This is a Three-Bedroom Apartment. You will ha...\n",
       "41531    Keep it simple at this peaceful and centrally-...\n",
       "41532    This beautifully decorated condo will give you...\n",
       "Name: description, Length: 41533, dtype: object"
      ]
     },
     "execution_count": 336,
     "metadata": {},
     "output_type": "execute_result"
    }
   ],
   "source": [
    "df['description']"
   ]
  },
  {
   "cell_type": "markdown",
   "id": "7aa294b4-621c-41b9-953a-6bd6ea96855f",
   "metadata": {},
   "source": [
    "This column is also useless for analysis as it contains description of each Airbnb rentals."
   ]
  },
  {
   "cell_type": "code",
   "execution_count": 337,
   "id": "4a67c8f0-8e53-4f05-85e5-3a5247e36724",
   "metadata": {},
   "outputs": [
    {
     "data": {
      "text/plain": [
       "'Column |description| has been removed !! '"
      ]
     },
     "execution_count": 337,
     "metadata": {},
     "output_type": "execute_result"
    }
   ],
   "source": [
    "df.drop('description', axis = 1, inplace = True)\n",
    "check_column_presence('description')"
   ]
  },
  {
   "cell_type": "code",
   "execution_count": 338,
   "id": "15d6e2e7-b68a-40ca-be3c-a49fd9f1a0fc",
   "metadata": {},
   "outputs": [],
   "source": [
    "columns_that_are_dropped.append('description')"
   ]
  },
  {
   "cell_type": "markdown",
   "id": "64f6de11-4121-4ea1-b986-aeb58bc318fa",
   "metadata": {
    "tags": []
   },
   "source": [
    "### 9. `neighborhood_overview` column"
   ]
  },
  {
   "cell_type": "code",
   "execution_count": 339,
   "id": "37ae0f8c-1d7f-4bfe-a082-fbf5a62fbd5d",
   "metadata": {},
   "outputs": [
    {
     "data": {
      "text/plain": [
       "'neighborhood_overview'"
      ]
     },
     "execution_count": 339,
     "metadata": {},
     "output_type": "execute_result"
    }
   ],
   "source": [
    "available_columns[8]"
   ]
  },
  {
   "cell_type": "code",
   "execution_count": 340,
   "id": "74bb8703-7e29-4921-9011-895f416f96b0",
   "metadata": {},
   "outputs": [
    {
     "data": {
      "text/plain": [
       "17443"
      ]
     },
     "execution_count": 340,
     "metadata": {},
     "output_type": "execute_result"
    }
   ],
   "source": [
    "df['neighborhood_overview'].isnull().sum()"
   ]
  },
  {
   "cell_type": "code",
   "execution_count": 341,
   "id": "c3fc7d10-c508-4258-9036-39f4c6ad7ee6",
   "metadata": {},
   "outputs": [
    {
     "data": {
      "text/plain": [
       "0        Centrally located in the heart of Manhattan ju...\n",
       "1        Our neighborhood is full of restaurants and ca...\n",
       "5          Theater district, many restaurants around here.\n",
       "6        Location: Five minutes to Central Park, Museum...\n",
       "7        This sweet Harlem sanctuary is a 10-20 minute ...\n",
       "                               ...                        \n",
       "41493    Woodlawn Heights is a fun and safe community. ...\n",
       "41497    ▶What's nearby <br />• In Manhattan <br />• Ti...\n",
       "41521    Prime Flatiron / Nomad location in middle of M...\n",
       "41523    This busy convenient location provides quick a...\n",
       "41525    The Most BEAUTIFUL NYC Skyline View From The C...\n",
       "Name: neighborhood_overview, Length: 24090, dtype: object"
      ]
     },
     "execution_count": 341,
     "metadata": {},
     "output_type": "execute_result"
    }
   ],
   "source": [
    "df['neighborhood_overview'].dropna()"
   ]
  },
  {
   "cell_type": "markdown",
   "id": "4819349a-01cc-469d-a944-28a6fbb7e9c8",
   "metadata": {},
   "source": [
    "We won't need this column as well as we already have columns containing neighbourhood information. "
   ]
  },
  {
   "cell_type": "code",
   "execution_count": 342,
   "id": "9830aca6-3127-415c-992b-f4fb46ebbc33",
   "metadata": {},
   "outputs": [
    {
     "data": {
      "text/plain": [
       "'Column |neighborhood_overview| has been removed !! '"
      ]
     },
     "execution_count": 342,
     "metadata": {},
     "output_type": "execute_result"
    }
   ],
   "source": [
    "df.drop('neighborhood_overview', axis = 1, inplace = True)\n",
    "check_column_presence('neighborhood_overview')"
   ]
  },
  {
   "cell_type": "code",
   "execution_count": 343,
   "id": "5fc1bcab-5500-4cdb-bb62-73558462d2b3",
   "metadata": {},
   "outputs": [],
   "source": [
    "columns_that_are_dropped.append('neighborhood_overview')"
   ]
  },
  {
   "cell_type": "markdown",
   "id": "02288bc1-91d5-4e6f-b539-1f5ea739ec47",
   "metadata": {},
   "source": [
    "### 10. `host_id` column"
   ]
  },
  {
   "cell_type": "code",
   "execution_count": 344,
   "id": "a9a65df8-dbe7-4fdc-95c0-b208ade7ba0d",
   "metadata": {},
   "outputs": [
    {
     "data": {
      "text/plain": [
       "'host_id'"
      ]
     },
     "execution_count": 344,
     "metadata": {},
     "output_type": "execute_result"
    }
   ],
   "source": [
    "available_columns[10]"
   ]
  },
  {
   "cell_type": "code",
   "execution_count": 345,
   "id": "af8f4b64-ba0a-405a-8349-5ed5bd50ce9b",
   "metadata": {},
   "outputs": [
    {
     "data": {
      "text/plain": [
       "0             2845\n",
       "1             7490\n",
       "2             7378\n",
       "3             7356\n",
       "4            15991\n",
       "           ...    \n",
       "41528    125534010\n",
       "41529    338424773\n",
       "41530      2653479\n",
       "41531    421264574\n",
       "41532    481177884\n",
       "Name: host_id, Length: 41533, dtype: object"
      ]
     },
     "execution_count": 345,
     "metadata": {},
     "output_type": "execute_result"
    }
   ],
   "source": [
    "df['host_id']"
   ]
  },
  {
   "cell_type": "markdown",
   "id": "829360ac-8a6d-45ac-8b5b-e95472594504",
   "metadata": {},
   "source": [
    "Each Airbnb rental's host will have unique host id. So, we can proceed to drop this column as well."
   ]
  },
  {
   "cell_type": "code",
   "execution_count": 346,
   "id": "757b48ac-0817-422e-a911-07a55f2badfe",
   "metadata": {},
   "outputs": [],
   "source": [
    "df.drop('host_id', axis = 1, inplace = True)\n",
    "check_column_presence('host_id')\n",
    "columns_that_are_dropped.append('host_id')"
   ]
  },
  {
   "cell_type": "markdown",
   "id": "5ba2720b-436e-4cc9-b2ba-2cdf7ae8d3ab",
   "metadata": {},
   "source": [
    "### 11. `host_url` column"
   ]
  },
  {
   "cell_type": "code",
   "execution_count": 347,
   "id": "1ba90320-feed-4053-a49a-25e26900ee50",
   "metadata": {},
   "outputs": [
    {
     "data": {
      "text/plain": [
       "'host_url'"
      ]
     },
     "execution_count": 347,
     "metadata": {},
     "output_type": "execute_result"
    }
   ],
   "source": [
    "available_columns[11]"
   ]
  },
  {
   "cell_type": "code",
   "execution_count": 348,
   "id": "4b2f8a04-c822-4d8f-83fe-4653e526011a",
   "metadata": {},
   "outputs": [
    {
     "data": {
      "text/plain": [
       "0             https://www.airbnb.com/users/show/2845\n",
       "1             https://www.airbnb.com/users/show/7490\n",
       "2             https://www.airbnb.com/users/show/7378\n",
       "3             https://www.airbnb.com/users/show/7356\n",
       "4            https://www.airbnb.com/users/show/15991\n",
       "                            ...                     \n",
       "41528    https://www.airbnb.com/users/show/125534010\n",
       "41529    https://www.airbnb.com/users/show/338424773\n",
       "41530      https://www.airbnb.com/users/show/2653479\n",
       "41531    https://www.airbnb.com/users/show/421264574\n",
       "41532    https://www.airbnb.com/users/show/481177884\n",
       "Name: host_url, Length: 41533, dtype: object"
      ]
     },
     "execution_count": 348,
     "metadata": {},
     "output_type": "execute_result"
    }
   ],
   "source": [
    "df['host_url']"
   ]
  },
  {
   "cell_type": "markdown",
   "id": "f7581331-5401-4ac6-8df7-fa3c2d12f19d",
   "metadata": {},
   "source": [
    "This column contains the URL of each Airbnb's hosts' profiles. So, we can safely drop this column as it will be of no further use to us."
   ]
  },
  {
   "cell_type": "code",
   "execution_count": 349,
   "id": "7c64ee1f-6731-45f4-8df5-bb949e31159f",
   "metadata": {},
   "outputs": [],
   "source": [
    "df.drop('host_url', axis = 1, inplace = True)\n",
    "check_column_presence('host_url')\n",
    "columns_that_are_dropped.append('host_url')"
   ]
  },
  {
   "cell_type": "markdown",
   "id": "5aa587e1-4229-438d-aad6-e195362660c0",
   "metadata": {},
   "source": [
    "### 12. `host_name` column"
   ]
  },
  {
   "cell_type": "code",
   "execution_count": 350,
   "id": "c7a0d2ba-f7cf-4c43-b52e-fc213e5cc1c2",
   "metadata": {},
   "outputs": [
    {
     "data": {
      "text/plain": [
       "'host_name'"
      ]
     },
     "execution_count": 350,
     "metadata": {},
     "output_type": "execute_result"
    }
   ],
   "source": [
    "available_columns[12]"
   ]
  },
  {
   "cell_type": "code",
   "execution_count": 351,
   "id": "03557e33-ebb7-4dc0-be73-5a0dcab7d3fa",
   "metadata": {},
   "outputs": [
    {
     "data": {
      "text/plain": [
       "0             Jennifer\n",
       "1            MaryEllen\n",
       "2              Rebecca\n",
       "3                Garon\n",
       "4        Allen & Irina\n",
       "             ...      \n",
       "41528          Larissa\n",
       "41529               Md\n",
       "41530          Richard\n",
       "41531           Aridio\n",
       "41532           Steven\n",
       "Name: host_name, Length: 41533, dtype: object"
      ]
     },
     "execution_count": 351,
     "metadata": {},
     "output_type": "execute_result"
    }
   ],
   "source": [
    "df['host_name']"
   ]
  },
  {
   "cell_type": "code",
   "execution_count": 352,
   "id": "de5fe110-4c23-453e-9eb8-3ceb7013e1d6",
   "metadata": {},
   "outputs": [
    {
     "data": {
      "text/plain": [
       "(9629,)"
      ]
     },
     "execution_count": 352,
     "metadata": {},
     "output_type": "execute_result"
    }
   ],
   "source": [
    "df['host_name'].unique().shape"
   ]
  },
  {
   "cell_type": "markdown",
   "id": "65d188e3-05fc-4d6f-b042-ef05c8e8da49",
   "metadata": {},
   "source": [
    "Each Airbnb rental's host will have a name. Therefore, this column will not be of much use to us."
   ]
  },
  {
   "cell_type": "code",
   "execution_count": 353,
   "id": "d636cba1-936c-4bc1-9f95-1cab03e6b891",
   "metadata": {},
   "outputs": [],
   "source": [
    "df.drop('host_name', axis = 1, inplace = True)\n",
    "check_column_presence('host_name')\n",
    "columns_that_are_dropped.append('host_name')"
   ]
  },
  {
   "cell_type": "markdown",
   "id": "e7ab3ed2-9b5c-43ef-9320-bc48e76e97d5",
   "metadata": {},
   "source": [
    "### 13. `host_since` column"
   ]
  },
  {
   "cell_type": "code",
   "execution_count": 354,
   "id": "74911b8b-a40d-4c09-8d18-9a77b4c28390",
   "metadata": {},
   "outputs": [
    {
     "data": {
      "text/plain": [
       "'host_since'"
      ]
     },
     "execution_count": 354,
     "metadata": {},
     "output_type": "execute_result"
    }
   ],
   "source": [
    "available_columns[13]"
   ]
  },
  {
   "cell_type": "code",
   "execution_count": 355,
   "id": "ee2b8a17-4785-4314-b26e-eeaa5d6aed52",
   "metadata": {},
   "outputs": [
    {
     "data": {
      "text/plain": [
       "0        2008-09-09\n",
       "1        2009-02-05\n",
       "2        2009-02-03\n",
       "3        2009-02-03\n",
       "4        2009-05-06\n",
       "            ...    \n",
       "41528    2017-04-12\n",
       "41529    2020-02-24\n",
       "41530    2012-06-16\n",
       "41531    2021-09-02\n",
       "41532    2022-09-26\n",
       "Name: host_since, Length: 41533, dtype: object"
      ]
     },
     "execution_count": 355,
     "metadata": {},
     "output_type": "execute_result"
    }
   ],
   "source": [
    "df['host_since']"
   ]
  },
  {
   "cell_type": "markdown",
   "id": "38d2c0e1-19cc-41be-9bcd-421bf3aa28b0",
   "metadata": {},
   "source": [
    "This column contains information about the date since when the Airbnb rental has been opened up for hosting services."
   ]
  },
  {
   "cell_type": "code",
   "execution_count": 356,
   "id": "9dafa3f1-ae68-495b-a90b-fa3be0e4526c",
   "metadata": {},
   "outputs": [],
   "source": [
    "df['host_since'] = pd.to_datetime(df['host_since'])"
   ]
  },
  {
   "cell_type": "markdown",
   "id": "2dfef757-b565-4aee-a841-14ae982777ce",
   "metadata": {},
   "source": [
    "<b> Since we will be predicting the rental's price, we would be focusing more on the properties of individual rental. So, date from which a rental has been open should not matter much in predicting price. "
   ]
  },
  {
   "cell_type": "code",
   "execution_count": 357,
   "id": "441caaf9-9c5b-498d-998d-ed2ea62d504e",
   "metadata": {},
   "outputs": [
    {
     "data": {
      "text/plain": [
       "5"
      ]
     },
     "execution_count": 357,
     "metadata": {},
     "output_type": "execute_result"
    }
   ],
   "source": [
    "df['host_since'].isnull().sum()"
   ]
  },
  {
   "cell_type": "code",
   "execution_count": 358,
   "id": "1344850b-e519-4105-aa02-5f183c6ad900",
   "metadata": {},
   "outputs": [
    {
     "data": {
      "text/plain": [
       "'host_since'"
      ]
     },
     "execution_count": 358,
     "metadata": {},
     "output_type": "execute_result"
    }
   ],
   "source": [
    "available_columns[13]"
   ]
  },
  {
   "cell_type": "code",
   "execution_count": 359,
   "id": "bdce7ece-fdca-42fe-9416-39ceb13cea12",
   "metadata": {},
   "outputs": [],
   "source": [
    "df.drop('host_since', axis = 1, inplace = True)\n",
    "check_column_presence('host_since')\n",
    "columns_that_are_dropped.append('host_since')"
   ]
  },
  {
   "cell_type": "markdown",
   "id": "37a191de-4d69-4971-9d6c-bde22b537623",
   "metadata": {},
   "source": [
    "### 14. `host_about` column"
   ]
  },
  {
   "cell_type": "code",
   "execution_count": 360,
   "id": "e34b4aaf-d701-4905-ad2a-fca185bebf21",
   "metadata": {},
   "outputs": [
    {
     "data": {
      "text/plain": [
       "'host_about'"
      ]
     },
     "execution_count": 360,
     "metadata": {},
     "output_type": "execute_result"
    }
   ],
   "source": [
    "available_columns[15]"
   ]
  },
  {
   "cell_type": "code",
   "execution_count": 361,
   "id": "1bae7466-c944-4dbd-9c63-c91064d9b216",
   "metadata": {},
   "outputs": [
    {
     "data": {
      "text/plain": [
       "0        A New Yorker since (Phone number hidden by Air...\n",
       "1        Welcome to family life with my oldest two away...\n",
       "2        Rebecca is an artist/designer, and Henoch is i...\n",
       "3         I am an artist(painter, filmmaker) and curato...\n",
       "4        We love to travel. When we travel we like to s...\n",
       "                               ...                        \n",
       "41528                                                  NaN\n",
       "41529                                                  NaN\n",
       "41530                   I love to travel and meet people. \n",
       "41531                                                  NaN\n",
       "41532                                                  NaN\n",
       "Name: host_about, Length: 41533, dtype: object"
      ]
     },
     "execution_count": 361,
     "metadata": {},
     "output_type": "execute_result"
    }
   ],
   "source": [
    "df['host_about']"
   ]
  },
  {
   "cell_type": "code",
   "execution_count": 362,
   "id": "fd253e71-d75d-4370-ba94-1a149367e069",
   "metadata": {},
   "outputs": [
    {
     "data": {
      "text/plain": [
       "688      Hello,\\r\\n\\r\\nFriendly, fun-loving couple orig...\n",
       "16323    Well-educated, fun loving, mother of 3 college...\n",
       "33201    Friendly, open minded, family oriented person....\n",
       "22467    I am a great roommate, very quiet and respectf...\n",
       "4204                                                   NaN\n",
       "Name: host_about, dtype: object"
      ]
     },
     "execution_count": 362,
     "metadata": {},
     "output_type": "execute_result"
    }
   ],
   "source": [
    "df['host_about'].sample(5)"
   ]
  },
  {
   "cell_type": "code",
   "execution_count": 363,
   "id": "40a4732a-5132-44c6-83b2-99be7376ff80",
   "metadata": {},
   "outputs": [
    {
     "data": {
      "text/plain": [
       "18297"
      ]
     },
     "execution_count": 363,
     "metadata": {},
     "output_type": "execute_result"
    }
   ],
   "source": [
    "df['host_about'].isnull().sum()"
   ]
  },
  {
   "cell_type": "markdown",
   "id": "3585a4a6-349e-4169-b95b-c2965af14e09",
   "metadata": {},
   "source": [
    "This column doesn't contain any useful information. So, we will proceed to drop this columns."
   ]
  },
  {
   "cell_type": "code",
   "execution_count": 364,
   "id": "7d3534ee-2ab2-4e6b-a386-8e048b2101f7",
   "metadata": {},
   "outputs": [],
   "source": [
    "df.drop('host_about', axis = 1, inplace = True)\n",
    "check_column_presence('host_about')\n",
    "columns_that_are_dropped.append('host_about')"
   ]
  },
  {
   "cell_type": "code",
   "execution_count": 365,
   "id": "a47241a8-bf4c-4b1d-8924-01efbd726464",
   "metadata": {},
   "outputs": [
    {
     "data": {
      "text/plain": [
       "14"
      ]
     },
     "execution_count": 365,
     "metadata": {},
     "output_type": "execute_result"
    }
   ],
   "source": [
    "len(columns_that_are_dropped)"
   ]
  },
  {
   "cell_type": "markdown",
   "id": "1659230e-e92f-430d-b525-b6ef95304d05",
   "metadata": {},
   "source": [
    "### 15. `host_location` column"
   ]
  },
  {
   "cell_type": "code",
   "execution_count": 366,
   "id": "bcb9ee89-4e60-4e0a-9a8a-79fac6958b3c",
   "metadata": {},
   "outputs": [
    {
     "data": {
      "text/plain": [
       "'host_location'"
      ]
     },
     "execution_count": 366,
     "metadata": {},
     "output_type": "execute_result"
    }
   ],
   "source": [
    "available_columns[14]"
   ]
  },
  {
   "cell_type": "code",
   "execution_count": 367,
   "id": "668d3d58-f889-4e1b-bc76-3ebba6eda7e4",
   "metadata": {},
   "outputs": [
    {
     "data": {
      "text/plain": [
       "0              New York, NY\n",
       "1              New York, NY\n",
       "2              New York, NY\n",
       "3              New York, NY\n",
       "4              New York, NY\n",
       "                ...        \n",
       "41528    Dominican Republic\n",
       "41529                   NaN\n",
       "41530          New York, NY\n",
       "41531                   NaN\n",
       "41532                   NaN\n",
       "Name: host_location, Length: 41533, dtype: object"
      ]
     },
     "execution_count": 367,
     "metadata": {},
     "output_type": "execute_result"
    }
   ],
   "source": [
    "df['host_location']"
   ]
  },
  {
   "cell_type": "code",
   "execution_count": 368,
   "id": "42fedbc8-e7c0-4939-ab7c-bf6e39cb7048",
   "metadata": {},
   "outputs": [
    {
     "data": {
      "text/plain": [
       "7745"
      ]
     },
     "execution_count": 368,
     "metadata": {},
     "output_type": "execute_result"
    }
   ],
   "source": [
    "df['host_location'].isnull().sum()"
   ]
  },
  {
   "cell_type": "markdown",
   "id": "f86620f2-dda3-4eb8-bd7b-d1ac96737352",
   "metadata": {},
   "source": [
    "It looks like this column contains information about the location of the Airbnb's rental's hosts' locations. Furthermore, a foreigner can also host a rental through Airbnb. But, the price of a Airbnb rental should not matter at all as we are predicting price of a rental in NYC and not in other countries. Nonetheless, lets check the number of rentals foreign residents own in NYC.   "
   ]
  },
  {
   "cell_type": "code",
   "execution_count": 369,
   "id": "8dac4841-cc4f-4139-a87a-9f85bed87dbc",
   "metadata": {},
   "outputs": [],
   "source": [
    "host_location = df['host_location'].dropna()\n",
    "host_location = host_location.apply(lambda x : x.split(\",\")[-1])\n",
    "host_location = host_location.value_counts()"
   ]
  },
  {
   "cell_type": "code",
   "execution_count": 370,
   "id": "2c5405d4-ce55-437d-a22f-f26207282422",
   "metadata": {},
   "outputs": [
    {
     "data": {
      "text/plain": [
       " NY                    25682\n",
       " United States          4348\n",
       " CA                      624\n",
       " FL                      395\n",
       "United States            326\n",
       "                       ...  \n",
       "U.S. Virgin Islands        1\n",
       " Czechia                   1\n",
       " Iceland                   1\n",
       "India                      1\n",
       "Dominican Republic         1\n",
       "Name: host_location, Length: 151, dtype: int64"
      ]
     },
     "execution_count": 370,
     "metadata": {},
     "output_type": "execute_result"
    }
   ],
   "source": [
    "host_location"
   ]
  },
  {
   "cell_type": "markdown",
   "id": "dd27ff55-41df-4860-a9e3-ab7648874cef",
   "metadata": {},
   "source": [
    "It looks like residents of different US states and countries own a NYC Airbnb rentals. Lets proceed to sum up all observations for states and United states from the above series to get the total count of all residents in the US owning a NYC Airbnb rentals."
   ]
  },
  {
   "cell_type": "code",
   "execution_count": 371,
   "id": "7225797a-3d4d-4d54-abd7-1beca92ab10d",
   "metadata": {},
   "outputs": [],
   "source": [
    "host_location = dict(host_location)"
   ]
  },
  {
   "cell_type": "code",
   "execution_count": 372,
   "id": "b612c7d8-ace5-4efa-92ea-02f708e1b1af",
   "metadata": {},
   "outputs": [],
   "source": [
    "total_individual_countries_count = {}"
   ]
  },
  {
   "cell_type": "code",
   "execution_count": 373,
   "id": "bfef4392-8e6f-4015-870e-c0cc79ebd2bf",
   "metadata": {},
   "outputs": [],
   "source": [
    "count = 0\n",
    "for key, val in host_location.items():   \n",
    "    if len(key) == 3 or key in ['United States', ' United States']:\n",
    "        # print(key)\n",
    "        count += val\n",
    "        \n",
    "total_individual_countries_count['USA'] = count"
   ]
  },
  {
   "cell_type": "code",
   "execution_count": 374,
   "id": "a5d11918-2239-4f78-b3c0-9185fa1be64d",
   "metadata": {},
   "outputs": [],
   "source": [
    "for key, val in host_location.items():\n",
    "    if len(key) != 3 and key not in ['United States', ' United States']:\n",
    "        # print(key)\n",
    "        total_individual_countries_count[key] = val"
   ]
  },
  {
   "cell_type": "code",
   "execution_count": 375,
   "id": "aae0b047-2fd3-479f-91b7-e841fff740ea",
   "metadata": {},
   "outputs": [],
   "source": [
    "total_individual_countries_count = dict(sorted(total_individual_countries_count.items(), reverse = True,key=lambda item: item[1]))"
   ]
  },
  {
   "cell_type": "code",
   "execution_count": 376,
   "id": "e4bf69ad-106e-4840-b615-fc35b12f38b8",
   "metadata": {},
   "outputs": [
    {
     "data": {
      "text/plain": [
       "{'USA': 32798,\n",
       " ' France': 145,\n",
       " ' United Kingdom': 129,\n",
       " ' Canada': 77,\n",
       " ' Germany': 50,\n",
       " ' Australia': 43,\n",
       " ' Spain': 36,\n",
       " ' Italy': 35,\n",
       " ' Brazil': 32,\n",
       " ' Israel': 25,\n",
       " ' Colombia': 24,\n",
       " ' Mexico': 24,\n",
       " ' China': 21,\n",
       " ' India': 20,\n",
       " ' Switzerland': 17,\n",
       " 'Hong Kong': 15,\n",
       " ' Sweden': 12,\n",
       " ' Dominican Republic': 11,\n",
       " ' Ireland': 11,\n",
       " ' New Zealand': 11,\n",
       " ' Argentina': 9,\n",
       " ' South Korea': 9,\n",
       " ' Netherlands': 8,\n",
       " ' Puerto Rico': 8,\n",
       " ' Belgium': 8,\n",
       " 'Singapore': 7,\n",
       " ' Turkey': 7,\n",
       " ' Portugal': 7,\n",
       " ' Lebanon': 7,\n",
       " ' Denmark': 7,\n",
       " ' Japan': 7,\n",
       " ' Hungary': 6,\n",
       " 'China': 6,\n",
       " 'Israel': 6,\n",
       " ' Russia': 6,\n",
       " ' Ecuador': 6,\n",
       " ' Austria': 6,\n",
       " ' Greece': 6,\n",
       " ' United Arab Emirates': 5,\n",
       " ' Costa Rica': 5,\n",
       " 'France': 4,\n",
       " ' Poland': 4,\n",
       " ' Jamaica': 4,\n",
       " ' Uruguay': 4,\n",
       " 'Jamaica': 3,\n",
       " 'Colombia': 3,\n",
       " 'Mexico': 3,\n",
       " ' Nigeria': 3,\n",
       " ' Bulgaria': 3,\n",
       " ' Curaçao': 3,\n",
       " ' Latvia': 3,\n",
       " ' Kazakhstan': 3,\n",
       " ' Norway': 3,\n",
       " 'United Kingdom': 3,\n",
       " ' Chile': 3,\n",
       " ' Taiwan': 3,\n",
       " ' South Africa': 3,\n",
       " ' Finland': 3,\n",
       " ' Thailand': 3,\n",
       " ' Indonesia': 3,\n",
       " 'Taiwan': 3,\n",
       " ' Serbia': 2,\n",
       " ' Kenya': 2,\n",
       " ' French Guiana': 2,\n",
       " 'Italy': 2,\n",
       " ' Morocco': 2,\n",
       " ' Venezuela': 2,\n",
       " 'Australia': 2,\n",
       " ' Pakistan': 2,\n",
       " 'Germany': 2,\n",
       " ' Slovakia': 1,\n",
       " 'Brazil': 1,\n",
       " 'Norway': 1,\n",
       " 'Ramallah': 1,\n",
       " 'Puerto Rico': 1,\n",
       " 'South Korea': 1,\n",
       " ' Bahamas': 1,\n",
       " 'Pakistan': 1,\n",
       " 'Costa Rica': 1,\n",
       " ' Haiti': 1,\n",
       " 'Austria': 1,\n",
       " 'Netherlands': 1,\n",
       " ' Philippines': 1,\n",
       " ' Trinidad & Tobago': 1,\n",
       " 'Ukraine': 1,\n",
       " ' Peru': 1,\n",
       " ' Montenegro': 1,\n",
       " ' Albania': 1,\n",
       " ' Egypt': 1,\n",
       " ' Croatia': 1,\n",
       " 'Uruguay': 1,\n",
       " ' Hong Kong': 1,\n",
       " ' Paraguay': 1,\n",
       " ' Mali': 1,\n",
       " 'Vietnam': 1,\n",
       " 'Portugal': 1,\n",
       " 'U.S. Virgin Islands': 1,\n",
       " ' Czechia': 1,\n",
       " ' Iceland': 1,\n",
       " 'India': 1,\n",
       " 'Dominican Republic': 1}"
      ]
     },
     "execution_count": 376,
     "metadata": {},
     "output_type": "execute_result"
    }
   ],
   "source": [
    "total_individual_countries_count"
   ]
  },
  {
   "cell_type": "code",
   "execution_count": 377,
   "id": "a02f6c43-bef7-44f6-8fe8-6031f1afd2b3",
   "metadata": {},
   "outputs": [],
   "source": [
    "df.drop('host_location', axis = 1, inplace = True)\n",
    "check_column_presence('host_location')\n",
    "columns_that_are_dropped.append('host_location')"
   ]
  },
  {
   "cell_type": "code",
   "execution_count": 378,
   "id": "1bc7a8ed-e5ee-47c1-85e6-56b8810add07",
   "metadata": {},
   "outputs": [],
   "source": [
    "# available_host_countries = df['host_location'].apply(lambda x : x.split(',')[-1])"
   ]
  },
  {
   "cell_type": "markdown",
   "id": "272063ac-a2e8-4f2d-aec5-7296dd7053ee",
   "metadata": {},
   "source": [
    "### 16. `host_response_time` column"
   ]
  },
  {
   "cell_type": "code",
   "execution_count": 379,
   "id": "70c66528-844a-4531-90fb-dce563939685",
   "metadata": {},
   "outputs": [
    {
     "data": {
      "text/plain": [
       "'host_response_time'"
      ]
     },
     "execution_count": 379,
     "metadata": {},
     "output_type": "execute_result"
    }
   ],
   "source": [
    "available_columns[16]"
   ]
  },
  {
   "cell_type": "code",
   "execution_count": 380,
   "id": "3d956df3-850a-446b-b7b0-faadf771d272",
   "metadata": {},
   "outputs": [
    {
     "data": {
      "text/plain": [
       "0              within a day\n",
       "1                       N/A\n",
       "2                       N/A\n",
       "3              within a day\n",
       "4            within an hour\n",
       "                ...        \n",
       "41528        within an hour\n",
       "41529    within a few hours\n",
       "41530        within an hour\n",
       "41531                   N/A\n",
       "41532    within a few hours\n",
       "Name: host_response_time, Length: 41533, dtype: object"
      ]
     },
     "execution_count": 380,
     "metadata": {},
     "output_type": "execute_result"
    }
   ],
   "source": [
    "df['host_response_time']"
   ]
  },
  {
   "cell_type": "code",
   "execution_count": 381,
   "id": "382fb74b-d42a-44c8-9e44-f75981cb2549",
   "metadata": {},
   "outputs": [
    {
     "data": {
      "text/plain": [
       "5"
      ]
     },
     "execution_count": 381,
     "metadata": {},
     "output_type": "execute_result"
    }
   ],
   "source": [
    "df['host_response_time'].isnull().sum()"
   ]
  },
  {
   "cell_type": "markdown",
   "id": "c784cfe1-231f-47a2-8548-49a604212a96",
   "metadata": {},
   "source": [
    "Since there are only 5 null values, there should not be much problem filling these values."
   ]
  },
  {
   "cell_type": "code",
   "execution_count": 382,
   "id": "6f0736d0-9417-433e-8b9c-a848da422c45",
   "metadata": {},
   "outputs": [
    {
     "data": {
      "text/plain": [
       "within an hour        18063\n",
       "N/A                   13640\n",
       "within a few hours     5997\n",
       "within a day           3201\n",
       "a few days or more      627\n",
       "Name: host_response_time, dtype: int64"
      ]
     },
     "execution_count": 382,
     "metadata": {},
     "output_type": "execute_result"
    }
   ],
   "source": [
    "df['host_response_time'].value_counts()"
   ]
  },
  {
   "cell_type": "markdown",
   "id": "e29ee358-e5c1-49f9-8915-0d2d5a762974",
   "metadata": {},
   "source": [
    "Majority of Airbnb hosts seem to respond within an hour. This column will be useful. Additionally, I will change the N/A values to unknown. I will also fill null values as unknown respectively."
   ]
  },
  {
   "cell_type": "code",
   "execution_count": 383,
   "id": "90c305ea-6ec2-481a-a183-0771803d0679",
   "metadata": {},
   "outputs": [],
   "source": [
    "df['host_response_time'] = df['host_response_time'].replace(to_replace = 'N/A', value = 'Unknown')"
   ]
  },
  {
   "cell_type": "code",
   "execution_count": 384,
   "id": "26e7b959-1fe3-4d4a-a221-86296ed0ac1c",
   "metadata": {},
   "outputs": [],
   "source": [
    "df['host_response_time'] = df['host_response_time'].fillna('Unknown')"
   ]
  },
  {
   "cell_type": "code",
   "execution_count": 385,
   "id": "d35da544-9cca-4d8f-a34c-95e5654b23cf",
   "metadata": {},
   "outputs": [
    {
     "data": {
      "text/plain": [
       "(within an hour        18063\n",
       " Unknown               13645\n",
       " within a few hours     5997\n",
       " within a day           3201\n",
       " a few days or more      627\n",
       " Name: host_response_time, dtype: int64,\n",
       " 0)"
      ]
     },
     "execution_count": 385,
     "metadata": {},
     "output_type": "execute_result"
    }
   ],
   "source": [
    "df['host_response_time'].value_counts(), df['host_response_time'].isnull().sum()"
   ]
  },
  {
   "cell_type": "code",
   "execution_count": 386,
   "id": "b5f9261b-07f0-49f0-a324-49b42747d881",
   "metadata": {},
   "outputs": [],
   "source": [
    "dictionary = dict(df['host_response_time'].value_counts())"
   ]
  },
  {
   "cell_type": "code",
   "execution_count": 692,
   "id": "b0b51e69-d917-4e7d-9dfa-8b7e24947ffe",
   "metadata": {},
   "outputs": [
    {
     "data": {
      "text/plain": [
       "Text(0.04, 0.5, 'Count')"
      ]
     },
     "execution_count": 692,
     "metadata": {},
     "output_type": "execute_result"
    },
    {
     "data": {
      "image/png": "[encoded data removed]",
      "text/plain": [
       "<Figure size 1200x500 with 1 Axes>"
      ]
     },
     "metadata": {},
     "output_type": "display_data"
    }
   ],
   "source": [
    "fig, ax = plt.subplots(figsize=(12, 5))\n",
    "\n",
    "bar = sns.barplot(x = list(dictionary.keys()), y = list(dictionary.values()), ax = ax)\n",
    "\n",
    "ax.xaxis.set_tick_params(labelsize=15)\n",
    "ax.yaxis.set_tick_params(labelsize=15)\n",
    "\n",
    "plt.text(0.5, 1.05, 'Response Time for Hosts',\n",
    "        horizontalalignment='center',\n",
    "        fontsize=20,\n",
    "        transform = ax.transAxes)\n",
    "\n",
    "plt.xticks(rotation = 90)\n",
    "ax.margins(x=0.02)\n",
    "\n",
    "# set various colors\n",
    "ax.spines['bottom'].set_color('black')\n",
    "ax.spines['top'].set_color('black') \n",
    "ax.spines['right'].set_color('black')\n",
    "ax.spines['right'].set_linewidth(2)\n",
    "ax.spines['top'].set_linewidth(2)\n",
    "ax.spines['bottom'].set_linewidth(2)\n",
    "ax.spines['left'].set_color('black')\n",
    "ax.spines['left'].set_lw(2) \n",
    "ax.tick_params(which='both', width=2)\n",
    "ax.tick_params(which='major', length=7)\n",
    "ax.tick_params(which='minor', length=7)\n",
    "ax.tick_params(which = 'both', direction = 'in')\n",
    "\n",
    "# fig.text(0.5, -0.35, 'Time', ha='center', va='center', fontsize = 20)\n",
    "fig.text(0.04, 0.5, 'Count', ha='center', va='center', rotation='vertical', fontsize = 20)\n"
   ]
  },
  {
   "cell_type": "markdown",
   "id": "0234cfc7-34aa-4b3a-a03f-97254eb03ee0",
   "metadata": {},
   "source": [
    "It is clear that majority of hosts respond within an hour. Similarly, there is a huge section of hosts whose responses were either not recorded properly or did not respond at all. The price of a rental might depend upon this column due to the fact that quickly responding to potential customers about rental information could be an important factors for guest to decide to book a particular rental. For now, we will keep this column and later do additional analysis to check if we will really need this column for modelling purposes."
   ]
  },
  {
   "cell_type": "code",
   "execution_count": 388,
   "id": "09a17260-9b2b-4bf4-9feb-4c8f68cbddcb",
   "metadata": {
    "tags": []
   },
   "outputs": [],
   "source": [
    "# df.drop('host_name', axis = 1, inplace = True)\n",
    "# check_column_presence('host_name')\n",
    "# columns_that_are_dropped.append('host_about')"
   ]
  },
  {
   "cell_type": "markdown",
   "id": "7a27d631-edc0-41a5-a26b-040ba40f11fe",
   "metadata": {},
   "source": [
    "### 17. `host_response_rate` column"
   ]
  },
  {
   "cell_type": "code",
   "execution_count": 389,
   "id": "44c6c4d2-d06f-45b0-bff2-c97eb5f3d3ce",
   "metadata": {},
   "outputs": [
    {
     "data": {
      "text/plain": [
       "'host_response_rate'"
      ]
     },
     "execution_count": 389,
     "metadata": {},
     "output_type": "execute_result"
    }
   ],
   "source": [
    "available_columns[17]"
   ]
  },
  {
   "cell_type": "code",
   "execution_count": 390,
   "id": "1c708e99-a3f6-470f-a0ea-b0839c9880fc",
   "metadata": {},
   "outputs": [
    {
     "data": {
      "text/plain": [
       "0         72%\n",
       "1         N/A\n",
       "2         N/A\n",
       "3         90%\n",
       "4        100%\n",
       "         ... \n",
       "41528    100%\n",
       "41529    100%\n",
       "41530     98%\n",
       "41531     N/A\n",
       "41532     83%\n",
       "Name: host_response_rate, Length: 41533, dtype: object"
      ]
     },
     "execution_count": 390,
     "metadata": {},
     "output_type": "execute_result"
    }
   ],
   "source": [
    "df['host_response_rate']"
   ]
  },
  {
   "cell_type": "code",
   "execution_count": 391,
   "id": "371838aa-5ea3-4d76-a197-3e1da3ec730e",
   "metadata": {},
   "outputs": [
    {
     "data": {
      "text/plain": [
       "array(['72%', 'N/A', '90%', '100%', '94%', '33%', '80%', '60%', '91%',\n",
       "       '99%', '0%', '93%', '67%', '83%', '50%', '88%', '78%', '92%',\n",
       "       '63%', '75%', '82%', '86%', '70%', '71%', '89%', '96%', '40%',\n",
       "       '73%', '20%', '98%', '97%', '64%', '85%', '87%', '25%', '62%',\n",
       "       '43%', '84%', '56%', nan, '58%', '95%', '38%', '13%', '10%', '22%',\n",
       "       '65%', '17%', '14%', '44%', '81%', '79%', '57%', '61%', '77%',\n",
       "       '69%', '26%', '55%', '76%', '30%', '29%', '46%', '68%', '31%',\n",
       "       '74%', '53%', '54%', '41%', '51%'], dtype=object)"
      ]
     },
     "execution_count": 391,
     "metadata": {},
     "output_type": "execute_result"
    }
   ],
   "source": [
    "df['host_response_rate'].unique()"
   ]
  },
  {
   "cell_type": "code",
   "execution_count": 392,
   "id": "e98638fd-e92f-43f9-96fc-9b8da353fdbe",
   "metadata": {},
   "outputs": [
    {
     "data": {
      "text/plain": [
       "5"
      ]
     },
     "execution_count": 392,
     "metadata": {},
     "output_type": "execute_result"
    }
   ],
   "source": [
    "df['host_response_rate'].isnull().sum()"
   ]
  },
  {
   "cell_type": "markdown",
   "id": "720b6300-4c07-4f45-93ec-d3f414b3f177",
   "metadata": {},
   "source": [
    "Only five null values shouldn't be a problem. How often a host responds to user inquires could play an important role over the price of a rental. Therefore, we will perform further analysis on this column. "
   ]
  },
  {
   "cell_type": "markdown",
   "id": "e9005193-c847-4a1a-a20d-ce1465e00485",
   "metadata": {},
   "source": [
    "### 18. `host_acceptance_rate` column"
   ]
  },
  {
   "cell_type": "code",
   "execution_count": 393,
   "id": "7b1d4007-0c1f-4e94-80d4-01b96fe7b00d",
   "metadata": {},
   "outputs": [
    {
     "data": {
      "text/plain": [
       "'host_acceptance_rate'"
      ]
     },
     "execution_count": 393,
     "metadata": {},
     "output_type": "execute_result"
    }
   ],
   "source": [
    "available_columns[18]"
   ]
  },
  {
   "cell_type": "code",
   "execution_count": 394,
   "id": "31aa40eb-5d7d-4b12-8657-3f858fd72744",
   "metadata": {},
   "outputs": [
    {
     "data": {
      "text/plain": [
       "0         22%\n",
       "1         N/A\n",
       "2         50%\n",
       "3         82%\n",
       "4        100%\n",
       "         ... \n",
       "41528    100%\n",
       "41529    100%\n",
       "41530     86%\n",
       "41531     N/A\n",
       "41532    100%\n",
       "Name: host_acceptance_rate, Length: 41533, dtype: object"
      ]
     },
     "execution_count": 394,
     "metadata": {},
     "output_type": "execute_result"
    }
   ],
   "source": [
    "df['host_acceptance_rate']"
   ]
  },
  {
   "cell_type": "code",
   "execution_count": 395,
   "id": "0bbb9ccd-02fa-4797-92a2-dd3848cabe65",
   "metadata": {},
   "outputs": [
    {
     "data": {
      "text/plain": [
       "5"
      ]
     },
     "execution_count": 395,
     "metadata": {},
     "output_type": "execute_result"
    }
   ],
   "source": [
    "df['host_acceptance_rate'].isnull().sum()"
   ]
  },
  {
   "cell_type": "code",
   "execution_count": 396,
   "id": "73094b50-c959-4207-8ac4-52420ed4b171",
   "metadata": {},
   "outputs": [
    {
     "data": {
      "text/plain": [
       "array(['22%', 'N/A', '50%', '82%', '100%', '13%', '54%', '98%', '96%',\n",
       "       '97%', '0%', '83%', '95%', '86%', '85%', '46%', '40%', '67%',\n",
       "       '10%', '25%', '99%', '87%', '88%', '33%', '38%', '20%', '61%',\n",
       "       '73%', '60%', '65%', '64%', '30%', '94%', '89%', '91%', '93%',\n",
       "       '78%', '35%', '5%', '36%', '75%', '53%', '43%', '39%', '70%',\n",
       "       '80%', '92%', '23%', '17%', '49%', '76%', '63%', '69%', '57%',\n",
       "       '74%', '62%', '79%', '21%', '90%', '84%', '14%', '71%', '81%',\n",
       "       '77%', '55%', '72%', '15%', '29%', '44%', '45%', '47%', '19%',\n",
       "       '56%', '68%', '28%', '52%', '59%', '34%', '48%', '27%', '18%',\n",
       "       '66%', '58%', '7%', '42%', '11%', '32%', '16%', '51%', '26%',\n",
       "       '12%', '41%', nan, '37%', '4%', '8%', '31%', '9%', '6%', '24%'],\n",
       "      dtype=object)"
      ]
     },
     "execution_count": 396,
     "metadata": {},
     "output_type": "execute_result"
    }
   ],
   "source": [
    "df['host_acceptance_rate'].unique()"
   ]
  },
  {
   "cell_type": "markdown",
   "id": "6c335e89-0461-457d-9aa4-396e3b0b8841",
   "metadata": {},
   "source": [
    "This column could play an important role in determining the price of a rental. If a host is very much likely to accept user inquiries and bookings, more people might prefer to choose the corresponding rental ultimately driving up its price.\n",
    "Similarly, if a host has vey low acceptance rate, customers might imply that the host has too many restrictions on his rental which is why he/she doesnot generally accept bookings. We will keep this column for now to do additional analysis."
   ]
  },
  {
   "cell_type": "markdown",
   "id": "c2f9c8ed-8432-4ffd-a674-5cb9a8aaed10",
   "metadata": {},
   "source": [
    "### 19. `host_is_superhost` column"
   ]
  },
  {
   "cell_type": "code",
   "execution_count": 397,
   "id": "a21ac1e1-88d9-4878-a6ac-30ab77a3832a",
   "metadata": {},
   "outputs": [
    {
     "data": {
      "text/plain": [
       "'host_is_superhost'"
      ]
     },
     "execution_count": 397,
     "metadata": {},
     "output_type": "execute_result"
    }
   ],
   "source": [
    "available_columns[19]"
   ]
  },
  {
   "cell_type": "code",
   "execution_count": 398,
   "id": "6d7ee469-a4e5-4467-bf4f-fb9963f9d836",
   "metadata": {},
   "outputs": [
    {
     "data": {
      "text/plain": [
       "'A binary value indicating whether or not the Airbnb host is a Superhost.'"
      ]
     },
     "execution_count": 398,
     "metadata": {},
     "output_type": "execute_result"
    }
   ],
   "source": [
    "data_dictionary['host_is_superhost']"
   ]
  },
  {
   "cell_type": "code",
   "execution_count": 399,
   "id": "db977186-6825-4a0b-b759-97092b1b5775",
   "metadata": {},
   "outputs": [
    {
     "data": {
      "text/plain": [
       "29"
      ]
     },
     "execution_count": 399,
     "metadata": {},
     "output_type": "execute_result"
    }
   ],
   "source": [
    "df['host_is_superhost'].isnull().sum()"
   ]
  },
  {
   "cell_type": "markdown",
   "id": "01f0791b-7519-4d97-964c-70833596bfc0",
   "metadata": {},
   "source": [
    "39 null values should not be much of a problem for us as we have enough data to fill the null values."
   ]
  },
  {
   "cell_type": "code",
   "execution_count": 400,
   "id": "1647c408-c1e1-42c0-b759-2006bf03283d",
   "metadata": {},
   "outputs": [
    {
     "data": {
      "text/plain": [
       "f    32635\n",
       "t     8869\n",
       "Name: host_is_superhost, dtype: int64"
      ]
     },
     "execution_count": 400,
     "metadata": {},
     "output_type": "execute_result"
    }
   ],
   "source": [
    "df['host_is_superhost'].value_counts()"
   ]
  },
  {
   "cell_type": "markdown",
   "id": "01119992-db7d-4637-9ddb-99cd145c399e",
   "metadata": {},
   "source": [
    "It looks like the majority of hosts are not superhosts. This column could play an important role in determining the price of a rental. If a host is a `Superhost`, he/she is considered an experienced host and is very likely to consistently receive very high ratings from the customers who stayed in that rental. Additionally, being a superhost also provides customers with the assurance that the host is reliable, trustworthy and offers high quality of hospitality.\n",
    "\n",
    "Therefore, we will keep this column for further analysis for now."
   ]
  },
  {
   "cell_type": "markdown",
   "id": "86de7b60-977a-4c38-9947-eca7e8594856",
   "metadata": {},
   "source": [
    "### 20. `host_thumbnail_url` column"
   ]
  },
  {
   "cell_type": "code",
   "execution_count": 401,
   "id": "08df73eb-475f-4c78-98d7-e48a328a085b",
   "metadata": {},
   "outputs": [
    {
     "name": "stdout",
     "output_type": "stream",
     "text": [
      "COLUMN:  host_thumbnail_url\n",
      "DATA DICT:  The URL of the Airbnb host's thumbnail image.\n"
     ]
    }
   ],
   "source": [
    "idx = 20\n",
    "col = available_columns[20]\n",
    "print(\"COLUMN: \", col)\n",
    "print(\"DATA DICT: \", data_dictionary[col])"
   ]
  },
  {
   "cell_type": "code",
   "execution_count": 402,
   "id": "73078882-d980-4454-83a8-946f73a58ad3",
   "metadata": {},
   "outputs": [
    {
     "data": {
      "text/plain": [
       "0        https://a0.muscache.com/im/pictures/user/50fc5...\n",
       "1        https://a0.muscache.com/im/users/7490/profile_...\n",
       "2        https://a0.muscache.com/im/users/7378/profile_...\n",
       "3        https://a0.muscache.com/im/pictures/user/72a61...\n",
       "4        https://a0.muscache.com/im/users/15991/profile...\n",
       "                               ...                        \n",
       "41528    https://a0.muscache.com/im/pictures/user/cac77...\n",
       "41529    https://a0.muscache.com/defaults/user_pic-50x5...\n",
       "41530    https://a0.muscache.com/im/pictures/user/a5e30...\n",
       "41531    https://a0.muscache.com/im/pictures/user/44c06...\n",
       "41532    https://a0.muscache.com/im/pictures/user/2c04b...\n",
       "Name: host_thumbnail_url, Length: 41533, dtype: object"
      ]
     },
     "execution_count": 402,
     "metadata": {},
     "output_type": "execute_result"
    }
   ],
   "source": [
    "df[col]"
   ]
  },
  {
   "cell_type": "code",
   "execution_count": 403,
   "id": "6f78d696-ec0d-45d9-b671-171741d5d5d0",
   "metadata": {},
   "outputs": [
    {
     "data": {
      "text/plain": [
       "(26363,)"
      ]
     },
     "execution_count": 403,
     "metadata": {},
     "output_type": "execute_result"
    }
   ],
   "source": [
    "df[col].unique().shape"
   ]
  },
  {
   "cell_type": "markdown",
   "id": "b2a13b63-1578-45a3-aa91-5efe10d0c88a",
   "metadata": {},
   "source": [
    "The thumbnail of a property should have absolutely no bearing in the price of a rental. Therefore, we will proceed to drop this column."
   ]
  },
  {
   "cell_type": "code",
   "execution_count": 404,
   "id": "7948e9bf-8561-4c4e-8fd8-daefe969102d",
   "metadata": {},
   "outputs": [
    {
     "name": "stdout",
     "output_type": "stream",
     "text": [
      "Column |host_thumbnail_url| has been removed !! \n"
     ]
    }
   ],
   "source": [
    "df.drop(col, axis = 1, inplace = True)\n",
    "print(check_column_presence(col))\n",
    "columns_that_are_dropped.append(col)"
   ]
  },
  {
   "cell_type": "markdown",
   "id": "0854d489-e3d5-45de-9d92-74a9cc3c5983",
   "metadata": {},
   "source": [
    "### 21. `host_picture_url` column"
   ]
  },
  {
   "cell_type": "code",
   "execution_count": 405,
   "id": "1a018454-4d5f-4758-8845-02487c044810",
   "metadata": {},
   "outputs": [
    {
     "name": "stdout",
     "output_type": "stream",
     "text": [
      "COLUMN:  host_picture_url\n",
      "DATA DICT:  The URL of the Airbnb host's main image.\n"
     ]
    }
   ],
   "source": [
    "idx = 21\n",
    "col = available_columns[idx]\n",
    "print(\"COLUMN: \", col)\n",
    "print(\"DATA DICT: \", data_dictionary[col])"
   ]
  },
  {
   "cell_type": "code",
   "execution_count": 406,
   "id": "24e4fc16-67a4-4287-a90f-e908e0d080a5",
   "metadata": {},
   "outputs": [
    {
     "data": {
      "text/plain": [
       "0        https://a0.muscache.com/im/pictures/user/50fc5...\n",
       "1        https://a0.muscache.com/im/users/7490/profile_...\n",
       "2        https://a0.muscache.com/im/users/7378/profile_...\n",
       "3        https://a0.muscache.com/im/pictures/user/72a61...\n",
       "4        https://a0.muscache.com/im/users/15991/profile...\n",
       "                               ...                        \n",
       "41528    https://a0.muscache.com/im/pictures/user/cac77...\n",
       "41529    https://a0.muscache.com/defaults/user_pic-225x...\n",
       "41530    https://a0.muscache.com/im/pictures/user/a5e30...\n",
       "41531    https://a0.muscache.com/im/pictures/user/44c06...\n",
       "41532    https://a0.muscache.com/im/pictures/user/2c04b...\n",
       "Name: host_picture_url, Length: 41533, dtype: object"
      ]
     },
     "execution_count": 406,
     "metadata": {},
     "output_type": "execute_result"
    }
   ],
   "source": [
    "df[col]"
   ]
  },
  {
   "cell_type": "code",
   "execution_count": 407,
   "id": "d11a3101-7068-45f8-a272-ea1c8c877cd7",
   "metadata": {},
   "outputs": [
    {
     "data": {
      "text/plain": [
       "(26363,)"
      ]
     },
     "execution_count": 407,
     "metadata": {},
     "output_type": "execute_result"
    }
   ],
   "source": [
    "df[col].unique().shape"
   ]
  },
  {
   "cell_type": "markdown",
   "id": "1032832e-aa66-4f9d-b9bd-6f2aa24204d6",
   "metadata": {},
   "source": [
    "This column contains the url to the host's profile picture. This column should also have no bearing in the property's price. So, we will proceed to drop this column. "
   ]
  },
  {
   "cell_type": "code",
   "execution_count": 408,
   "id": "186bb05d-c480-4a72-a68b-cc42ce76b3ec",
   "metadata": {},
   "outputs": [
    {
     "name": "stdout",
     "output_type": "stream",
     "text": [
      "Column |host_picture_url| has been removed !! \n"
     ]
    }
   ],
   "source": [
    "df.drop(col, axis = 1, inplace = True)\n",
    "print(check_column_presence(col))\n",
    "columns_that_are_dropped.append(col)"
   ]
  },
  {
   "cell_type": "markdown",
   "id": "cba706f4-dcd9-480a-88d9-e2a535a77499",
   "metadata": {},
   "source": [
    "### 22. `host_neighbourhood` column"
   ]
  },
  {
   "cell_type": "code",
   "execution_count": 409,
   "id": "8e869789-2c4c-4fe7-803a-0acd098e43b9",
   "metadata": {},
   "outputs": [
    {
     "name": "stdout",
     "output_type": "stream",
     "text": [
      "COLUMN:  host_neighbourhood\n",
      "DATA DICT:  The neighbourhood where the Airbnb host lives.\n"
     ]
    }
   ],
   "source": [
    "idx = 22\n",
    "col = available_columns[idx]\n",
    "print(\"COLUMN: \", col)\n",
    "print(\"DATA DICT: \", data_dictionary[col])"
   ]
  },
  {
   "cell_type": "code",
   "execution_count": 410,
   "id": "593a3dad-567e-4029-9c8c-159fa3c7cd4c",
   "metadata": {},
   "outputs": [
    {
     "data": {
      "text/plain": [
       "0                   Midtown\n",
       "1           Upper West Side\n",
       "2         Greenwood Heights\n",
       "3        Bedford-Stuyvesant\n",
       "4              Williamsburg\n",
       "                ...        \n",
       "41528            West Bronx\n",
       "41529               Jamaica\n",
       "41530                   NaN\n",
       "41531            East Bronx\n",
       "41532                   NaN\n",
       "Name: host_neighbourhood, Length: 41533, dtype: object"
      ]
     },
     "execution_count": 410,
     "metadata": {},
     "output_type": "execute_result"
    }
   ],
   "source": [
    "df[col]"
   ]
  },
  {
   "cell_type": "code",
   "execution_count": 411,
   "id": "6e4cb445-a8e7-4691-8e56-0feebe7cf7b3",
   "metadata": {},
   "outputs": [
    {
     "data": {
      "text/plain": [
       "Bedford-Stuyvesant             2421\n",
       "Williamsburg                   2031\n",
       "Bushwick                       1458\n",
       "Jamaica                        1274\n",
       "Flushing                       1190\n",
       "                               ... \n",
       "Bromley-by-Bow                    1\n",
       "Sugar House                       1\n",
       "Cannonborough Elliotborough       1\n",
       "Block E2                          1\n",
       "Little Saigon                     1\n",
       "Name: host_neighbourhood, Length: 539, dtype: int64"
      ]
     },
     "execution_count": 411,
     "metadata": {},
     "output_type": "execute_result"
    }
   ],
   "source": [
    "df[col].value_counts()"
   ]
  },
  {
   "cell_type": "markdown",
   "id": "65e4142e-2321-4613-9772-60144f4679b4",
   "metadata": {},
   "source": [
    "This column is very much unlikely to be very useful for predicting price. It is so because this column provides information about the location of the neighbour where the actual host resides and not the neighbourhood of the rental itself. Since I could be staying in kathmandu and operate a rental in New york city, my rental's price in NYC should have absolutely no relationship whatsoever. So, we will proceed to drop this column."
   ]
  },
  {
   "cell_type": "code",
   "execution_count": 412,
   "id": "67248184-d6f3-40bb-859a-965c3990448c",
   "metadata": {},
   "outputs": [
    {
     "name": "stdout",
     "output_type": "stream",
     "text": [
      "Column |host_neighbourhood| has been removed !! \n"
     ]
    }
   ],
   "source": [
    "df.drop(col, axis = 1, inplace = True)\n",
    "print(check_column_presence(col))\n",
    "columns_that_are_dropped.append(col)"
   ]
  },
  {
   "cell_type": "markdown",
   "id": "4fe4467c-1ea4-4ca8-a426-520c31c56797",
   "metadata": {},
   "source": [
    "### 23. `host_listings_count` column"
   ]
  },
  {
   "cell_type": "code",
   "execution_count": 413,
   "id": "01c3ceeb-31f6-4025-9315-eb6d56ef1ded",
   "metadata": {},
   "outputs": [
    {
     "name": "stdout",
     "output_type": "stream",
     "text": [
      "COLUMN:  host_listings_count\n",
      "DATA DICT:  The number of listings that the Airbnb host has on the platform.\n"
     ]
    }
   ],
   "source": [
    "idx = 23\n",
    "col = available_columns[idx]\n",
    "print(\"COLUMN: \", col)\n",
    "print(\"DATA DICT: \", data_dictionary[col])"
   ]
  },
  {
   "cell_type": "code",
   "execution_count": 414,
   "id": "e81c627c-3874-4927-9f4e-bd353ac89bbf",
   "metadata": {},
   "outputs": [
    {
     "data": {
      "text/plain": [
       "1      20037\n",
       "2       5930\n",
       "3       2883\n",
       "4       1912\n",
       "5       1155\n",
       "       ...  \n",
       "408        1\n",
       "349        1\n",
       "188        1\n",
       "169        1\n",
       "91         1\n",
       "Name: host_listings_count, Length: 116, dtype: int64"
      ]
     },
     "execution_count": 414,
     "metadata": {},
     "output_type": "execute_result"
    }
   ],
   "source": [
    "df[col].value_counts()"
   ]
  },
  {
   "cell_type": "markdown",
   "id": "a8831d46-248b-4a69-92c7-d1929cfa0775",
   "metadata": {},
   "source": [
    "A host with many listings available could potentially show that host is an experienced person. Similarly, someone with relatively low listings indicates that they are probably new to the platform and are inexperienced. A tourist might feel more comfortable staying at someone's property if they are experienced. So, this could could be important. We will keep it for further analysis. "
   ]
  },
  {
   "cell_type": "markdown",
   "id": "3c072227-bb30-456d-9219-98cb364a4cdf",
   "metadata": {},
   "source": [
    "### 24. `host_total_listings_count` column"
   ]
  },
  {
   "cell_type": "code",
   "execution_count": 415,
   "id": "5749d792-0265-4185-8795-5b14f92cd013",
   "metadata": {},
   "outputs": [
    {
     "name": "stdout",
     "output_type": "stream",
     "text": [
      "COLUMN:  host_total_listings_count\n",
      "DATA DICT:  The total number of listings that the Airbnb host has on all platforms.\n"
     ]
    }
   ],
   "source": [
    "idx = 24\n",
    "col = available_columns[idx]\n",
    "print(\"COLUMN: \", col)\n",
    "print(\"DATA DICT: \", data_dictionary[col])"
   ]
  },
  {
   "cell_type": "code",
   "execution_count": 416,
   "id": "70b2e7a6-0077-43bd-b0b9-670d65829f42",
   "metadata": {},
   "outputs": [
    {
     "data": {
      "text/plain": [
       "1       12527\n",
       "2        7422\n",
       "3        4547\n",
       "4        2870\n",
       "5        1900\n",
       "        ...  \n",
       "88          1\n",
       "84          1\n",
       "2761        1\n",
       "151         1\n",
       "127         1\n",
       "Name: host_total_listings_count, Length: 143, dtype: int64"
      ]
     },
     "execution_count": 416,
     "metadata": {},
     "output_type": "execute_result"
    }
   ],
   "source": [
    "df[col].value_counts()"
   ]
  },
  {
   "cell_type": "markdown",
   "id": "e393fa46-ac86-4c19-ba06-211176718356",
   "metadata": {},
   "source": [
    "This column is very similar to previous column `host_listings_count`. Both column indicate the number of listings a host has on platforms. Therefore, we will proceed to drop this column altogether."
   ]
  },
  {
   "cell_type": "code",
   "execution_count": 417,
   "id": "1da97d73-089e-465d-af0e-f64b331e413c",
   "metadata": {},
   "outputs": [
    {
     "name": "stdout",
     "output_type": "stream",
     "text": [
      "Column |host_total_listings_count| has been removed !! \n"
     ]
    }
   ],
   "source": [
    "df.drop(col, axis = 1, inplace = True)\n",
    "print(check_column_presence(col))\n",
    "columns_that_are_dropped.append(col)"
   ]
  },
  {
   "cell_type": "markdown",
   "id": "b5e22ea0-c2f0-4729-b9b1-06713ad33ca5",
   "metadata": {},
   "source": [
    "### 25. `host_verifications` column"
   ]
  },
  {
   "cell_type": "code",
   "execution_count": 418,
   "id": "a824245d-72c7-4d5f-8a4e-8d63a0e92f4d",
   "metadata": {},
   "outputs": [
    {
     "name": "stdout",
     "output_type": "stream",
     "text": [
      "COLUMN:  host_verifications\n",
      "DATA DICT:  A list of verification methods used by the Airbnb host.\n"
     ]
    }
   ],
   "source": [
    "idx = 25\n",
    "col = available_columns[idx]\n",
    "print(\"COLUMN: \", col)\n",
    "print(\"DATA DICT: \", data_dictionary[col])"
   ]
  },
  {
   "cell_type": "code",
   "execution_count": 419,
   "id": "1e1a76c4-e786-40c3-af9e-26c845651df6",
   "metadata": {},
   "outputs": [
    {
     "data": {
      "text/plain": [
       "['email', 'phone']                  32167\n",
       "['email', 'phone', 'work_email']     5313\n",
       "['phone']                            3836\n",
       "['phone', 'work_email']               119\n",
       "['email']                              61\n",
       "[]                                     27\n",
       "None                                    5\n",
       "['email', 'work_email']                 5\n",
       "Name: host_verifications, dtype: int64"
      ]
     },
     "execution_count": 419,
     "metadata": {},
     "output_type": "execute_result"
    }
   ],
   "source": [
    "df[col].value_counts()"
   ]
  },
  {
   "cell_type": "markdown",
   "id": "59cdd01c-8ccb-4b5c-8522-eca30435d532",
   "metadata": {},
   "source": [
    "This column contains the list of profile verification methods like email, phone and work_email. Out of available methods, a user could use any one to verify their accounts. Furthermore, their verification method will probably have no bearing in the price of their corresponding rental. So, we will drop this column."
   ]
  },
  {
   "cell_type": "code",
   "execution_count": 420,
   "id": "7341e898-2af1-4416-9c57-361d8b64372c",
   "metadata": {},
   "outputs": [
    {
     "name": "stdout",
     "output_type": "stream",
     "text": [
      "Column |host_verifications| has been removed !! \n"
     ]
    }
   ],
   "source": [
    "df.drop(col, axis = 1, inplace = True)\n",
    "print(check_column_presence(col))\n",
    "columns_that_are_dropped.append(col)"
   ]
  },
  {
   "cell_type": "markdown",
   "id": "59a5a63a-2c8d-46b3-ac48-dbbe99610ee7",
   "metadata": {},
   "source": [
    "### 26. `host_has_profile_pic` column"
   ]
  },
  {
   "cell_type": "code",
   "execution_count": 421,
   "id": "58beb116-f8b2-4aea-b593-04ab174eabb7",
   "metadata": {},
   "outputs": [
    {
     "name": "stdout",
     "output_type": "stream",
     "text": [
      "COLUMN:  host_has_profile_pic\n",
      "DATA DICT:  A binary value indicating whether or not the Airbnb host has a profile picture.\n"
     ]
    }
   ],
   "source": [
    "idx = 26\n",
    "col = available_columns[idx]\n",
    "print(\"COLUMN: \", col)\n",
    "print(\"DATA DICT: \", data_dictionary[col])"
   ]
  },
  {
   "cell_type": "code",
   "execution_count": 422,
   "id": "ced7fe4d-daf8-4738-b753-a4c8f5926d25",
   "metadata": {},
   "outputs": [
    {
     "data": {
      "text/plain": [
       "t    40904\n",
       "f      624\n",
       "Name: host_has_profile_pic, dtype: int64"
      ]
     },
     "execution_count": 422,
     "metadata": {},
     "output_type": "execute_result"
    }
   ],
   "source": [
    "df[col].value_counts()"
   ]
  },
  {
   "cell_type": "markdown",
   "id": "c3a9f0d3-7902-48c8-bd11-313934e6829b",
   "metadata": {},
   "source": [
    "while the fact that a host has no profile picture might not be directly linked to the price of a rental, potential customers could feel more comfortable about contacting a host with profile picture and ask for inquiries. We will use this column for further analysis."
   ]
  },
  {
   "cell_type": "markdown",
   "id": "66386070-5681-439d-b920-f2976b236d03",
   "metadata": {},
   "source": [
    "### 27. `host_identity_verified` column"
   ]
  },
  {
   "cell_type": "code",
   "execution_count": 423,
   "id": "3fe4e466-61b0-4e9e-be29-643a46b1fc9b",
   "metadata": {},
   "outputs": [
    {
     "name": "stdout",
     "output_type": "stream",
     "text": [
      "COLUMN:  host_identity_verified\n",
      "DATA DICT:  A binary value indicating whether or not the Airbnb host's identity has been verified.\n"
     ]
    }
   ],
   "source": [
    "idx = 27\n",
    "col = available_columns[idx]\n",
    "print(\"COLUMN: \", col)\n",
    "print(\"DATA DICT: \", data_dictionary[col])"
   ]
  },
  {
   "cell_type": "code",
   "execution_count": 424,
   "id": "8054501e-1ec2-45fb-9d1b-b9d1ffd7e092",
   "metadata": {},
   "outputs": [
    {
     "data": {
      "text/plain": [
       "t    35262\n",
       "f     6266\n",
       "Name: host_identity_verified, dtype: int64"
      ]
     },
     "execution_count": 424,
     "metadata": {},
     "output_type": "execute_result"
    }
   ],
   "source": [
    "df[col].value_counts()"
   ]
  },
  {
   "cell_type": "markdown",
   "id": "e276aa85-b50e-4ea3-89dc-98a73e25c9c2",
   "metadata": {},
   "source": [
    "Similarly, customers might feel more confident in a rental whose owner's profile and identity has been verified. Therefore, we will proceed to keep this column for further analysis."
   ]
  },
  {
   "cell_type": "markdown",
   "id": "76ab0b32-86c9-4467-9cfa-58815b824da2",
   "metadata": {},
   "source": [
    "### 28. `neighbourhood` column"
   ]
  },
  {
   "cell_type": "code",
   "execution_count": 425,
   "id": "f23fdb00-29fd-4dd4-8fc0-de843e806768",
   "metadata": {},
   "outputs": [
    {
     "name": "stdout",
     "output_type": "stream",
     "text": [
      "COLUMN:  neighbourhood\n",
      "DATA DICT:  The neighbourhood where the Airbnb listing is located.\n"
     ]
    }
   ],
   "source": [
    "idx = 28\n",
    "col = available_columns[idx]\n",
    "print(\"COLUMN: \", col)\n",
    "print(\"DATA DICT: \", data_dictionary[col])"
   ]
  },
  {
   "cell_type": "code",
   "execution_count": 426,
   "id": "73b4ad9f-446c-46b9-9995-c850e8b83585",
   "metadata": {},
   "outputs": [
    {
     "data": {
      "text/plain": [
       "New York, United States                        9649\n",
       "Brooklyn, New York, United States              8997\n",
       "Queens, New York, United States                3490\n",
       "Bronx, New York, United States                  491\n",
       "The Bronx, New York, United States              392\n",
       "                                               ... \n",
       "ozone park queens , New York, United States       1\n",
       "Jamaica , ny, United States                       1\n",
       "New York, New York , United States                1\n",
       " Crown Heights,NY, New York, United States        1\n",
       "Valley Stream, New York, United States            1\n",
       "Name: neighbourhood, Length: 193, dtype: int64"
      ]
     },
     "execution_count": 426,
     "metadata": {},
     "output_type": "execute_result"
    }
   ],
   "source": [
    "df[col].value_counts()"
   ]
  },
  {
   "cell_type": "markdown",
   "id": "16e5e0e2-1635-4458-9dac-9c8f0b424083",
   "metadata": {},
   "source": [
    "The price of a rental is directly affected by the neighbourhood it is located on. For example, brooklyn neighbourhood of New york might be very expensive than other neighbourhoods in terms of living expenses which ultimately drives up the price of a rental.\n",
    "\n",
    "But, there are two additional columns containing similar information about neighbourhood and this column contains too many unique values. So, we will drop this column and use another column that is equivalent to the information provided in this column."
   ]
  },
  {
   "cell_type": "code",
   "execution_count": 427,
   "id": "bf96fe89-a003-454b-a137-9712be30e145",
   "metadata": {},
   "outputs": [
    {
     "name": "stdout",
     "output_type": "stream",
     "text": [
      "Column |neighbourhood| has been removed !! \n"
     ]
    }
   ],
   "source": [
    "df.drop(col, axis = 1, inplace = True)\n",
    "print(check_column_presence(col))\n",
    "columns_that_are_dropped.append(col)"
   ]
  },
  {
   "cell_type": "markdown",
   "id": "12695f83-01b9-489c-8e16-098824986def",
   "metadata": {},
   "source": [
    "### 29. `neighbourhood_cleansed` column"
   ]
  },
  {
   "cell_type": "code",
   "execution_count": 428,
   "id": "79413fe2-560c-45dd-9a70-28c17207b7a8",
   "metadata": {},
   "outputs": [
    {
     "name": "stdout",
     "output_type": "stream",
     "text": [
      "COLUMN:  neighbourhood_cleansed\n",
      "DATA DICT:  The cleaned-up version of the neighbourhood name.\n"
     ]
    }
   ],
   "source": [
    "idx = 29\n",
    "col = available_columns[idx]\n",
    "print(\"COLUMN: \", col)\n",
    "print(\"DATA DICT: \", data_dictionary[col])"
   ]
  },
  {
   "cell_type": "code",
   "execution_count": 429,
   "id": "0f9154af-47c7-4c95-bb86-a44f91673e5d",
   "metadata": {},
   "outputs": [
    {
     "data": {
      "text/plain": [
       "Bedford-Stuyvesant    2936\n",
       "Williamsburg          2570\n",
       "Harlem                1949\n",
       "Midtown               1918\n",
       "Bushwick              1752\n",
       "                      ... \n",
       "Woodrow                  1\n",
       "Bull's Head              1\n",
       "Westerleigh              1\n",
       "New Dorp                 1\n",
       "Hollis Hills             1\n",
       "Name: neighbourhood_cleansed, Length: 223, dtype: int64"
      ]
     },
     "execution_count": 429,
     "metadata": {},
     "output_type": "execute_result"
    }
   ],
   "source": [
    "df[col].value_counts()"
   ]
  },
  {
   "cell_type": "markdown",
   "id": "c9df0f7f-e5c6-406f-b6bd-7f2cb44ee6d4",
   "metadata": {},
   "source": [
    "<b><u><i><font color='red'> MAYBE THIS CAN BE USED BY LABEL ENCODING?? ESMA SPECIFIC NEIGHBOURHOOD KO BAREMA INFO PANI XA"
   ]
  },
  {
   "cell_type": "markdown",
   "id": "2a52a0bc-a55c-414d-9bb2-6827c5ab10a8",
   "metadata": {},
   "source": [
    "This column simply slices the strings available in previous column and take first element of the list. However, there are still too many unique column and there is an additional column that explains the neighbourhood location of a rental. \n",
    "\n",
    "But, we will use this column for spatial analysis by creating a heatmap. So, we will keep this column for now."
   ]
  },
  {
   "cell_type": "code",
   "execution_count": 430,
   "id": "b242140d-b30c-4af1-820c-a930cab4f743",
   "metadata": {},
   "outputs": [],
   "source": [
    "# df.drop(col, axis = 1, inplace = True)\n",
    "# print(check_column_presence(col))\n",
    "# columns_that_are_dropped.append(col)"
   ]
  },
  {
   "cell_type": "markdown",
   "id": "e7a7ee5f-2076-403f-bdc6-32f0a64fc39e",
   "metadata": {},
   "source": [
    "### 30. `neighbourhood_group_cleansed` column"
   ]
  },
  {
   "cell_type": "code",
   "execution_count": 431,
   "id": "55f21435-8164-4c66-9c05-02d947afd944",
   "metadata": {},
   "outputs": [
    {
     "name": "stdout",
     "output_type": "stream",
     "text": [
      "COLUMN:  neighbourhood_group_cleansed\n",
      "DATA DICT:  The cleaned-up version of the neighbourhood group name.\n"
     ]
    }
   ],
   "source": [
    "idx = 30\n",
    "col = available_columns[idx]\n",
    "print(\"COLUMN: \", col)\n",
    "print(\"DATA DICT: \", data_dictionary[col])"
   ]
  },
  {
   "cell_type": "code",
   "execution_count": 432,
   "id": "7abb2635-5945-407d-82b5-fd59289d877d",
   "metadata": {},
   "outputs": [
    {
     "data": {
      "text/plain": [
       "Manhattan        17334\n",
       "Brooklyn         15688\n",
       "Queens            6519\n",
       "Bronx             1587\n",
       "Staten Island      405\n",
       "Name: neighbourhood_group_cleansed, dtype: int64"
      ]
     },
     "execution_count": 432,
     "metadata": {},
     "output_type": "execute_result"
    }
   ],
   "source": [
    "df[col].value_counts()"
   ]
  },
  {
   "cell_type": "markdown",
   "id": "02820b2b-d1ae-4e8b-ace5-d2935af95f5f",
   "metadata": {},
   "source": [
    "This column explains the number of rentals present in each neighbourhood. Since Manhattan and Brooklyn are two most populus and tourist attraction regions of NYC, it is appropriate in business terms to establish a rental in this region, which can drive up the price as these areas are pretty expensive. We will keep this column as it could be very important for price modeling."
   ]
  },
  {
   "cell_type": "markdown",
   "id": "3aaf6f47-901b-4b76-a864-4b254a6fd680",
   "metadata": {},
   "source": [
    "### 31. `latitude` column"
   ]
  },
  {
   "cell_type": "code",
   "execution_count": 433,
   "id": "f3014c38-5d1e-4633-add7-676fd29fe24b",
   "metadata": {},
   "outputs": [
    {
     "name": "stdout",
     "output_type": "stream",
     "text": [
      "COLUMN:  latitude\n",
      "DATA DICT:  The latitude coordinate of the Airbnb listing.\n"
     ]
    }
   ],
   "source": [
    "idx = 31\n",
    "col = available_columns[idx]\n",
    "print(\"COLUMN: \", col)\n",
    "print(\"DATA DICT: \", data_dictionary[col])"
   ]
  },
  {
   "cell_type": "markdown",
   "id": "07dcc696-defa-4f33-93cb-b8c012745f8a",
   "metadata": {},
   "source": [
    "This column contains the latitude of the airbnb listing. It will be useful for performing geospatial analysis."
   ]
  },
  {
   "cell_type": "markdown",
   "id": "263481d9-b8f6-464f-acdb-7fde48b7ac00",
   "metadata": {},
   "source": [
    "### 32. `longitude` column"
   ]
  },
  {
   "cell_type": "code",
   "execution_count": 434,
   "id": "ddc8b371-d88d-4a53-b09d-73a773e478cb",
   "metadata": {},
   "outputs": [
    {
     "name": "stdout",
     "output_type": "stream",
     "text": [
      "COLUMN:  longitude\n",
      "DATA DICT:  The longitude coordinate of the Airbnb listing.\n"
     ]
    }
   ],
   "source": [
    "idx = 32\n",
    "col = available_columns[idx]\n",
    "print(\"COLUMN: \", col)\n",
    "print(\"DATA DICT: \", data_dictionary[col])"
   ]
  },
  {
   "cell_type": "markdown",
   "id": "775db1fa-c438-4ecd-a7b2-8e4d6f8584f8",
   "metadata": {},
   "source": [
    "This column contains the longitude of the airbnb listing. It will be useful for performing geospatial analysis."
   ]
  },
  {
   "cell_type": "markdown",
   "id": "58e8a7e5-3e6c-46a9-9ce4-09f0a40878f2",
   "metadata": {},
   "source": [
    "### 33. `property_type` column"
   ]
  },
  {
   "cell_type": "code",
   "execution_count": 435,
   "id": "f4de4064-9b3f-4246-b860-a74d66152f0c",
   "metadata": {},
   "outputs": [
    {
     "name": "stdout",
     "output_type": "stream",
     "text": [
      "COLUMN:  property_type\n",
      "DATA DICT:  The type of property being listed on Airbnb (e.g. Apartment, House, etc.).\n"
     ]
    }
   ],
   "source": [
    "idx = 33\n",
    "col = available_columns[idx]\n",
    "print(\"COLUMN: \", col)\n",
    "print(\"DATA DICT: \", data_dictionary[col])"
   ]
  },
  {
   "cell_type": "code",
   "execution_count": 436,
   "id": "9b603c4a-9e85-4142-a272-e924f7ef54b5",
   "metadata": {},
   "outputs": [
    {
     "data": {
      "text/plain": [
       "Entire rental unit                    17579\n",
       "Private room in rental unit           10995\n",
       "Private room in home                   2198\n",
       "Entire condo                           1690\n",
       "Entire home                            1568\n",
       "                                      ...  \n",
       "Private room in religious building        1\n",
       "Private room in tent                      1\n",
       "Private room in dorm                      1\n",
       "Private room in farm stay                 1\n",
       "Shared room in shepherd's hut             1\n",
       "Name: property_type, Length: 80, dtype: int64"
      ]
     },
     "execution_count": 436,
     "metadata": {},
     "output_type": "execute_result"
    }
   ],
   "source": [
    "df[col].value_counts()"
   ]
  },
  {
   "cell_type": "markdown",
   "id": "222f37f1-a59b-4d78-a095-fef65c367e7c",
   "metadata": {},
   "source": [
    "The type of a rental could have direct impact on its price. For example, an entire rental unit or condo could be more expensive than a shared room. We will keep this column for further analysis."
   ]
  },
  {
   "cell_type": "markdown",
   "id": "d5f8db54-3790-489b-81fb-4f775e88f08f",
   "metadata": {},
   "source": [
    "<b><i><u><font color='red'>If the \"property_type\" column has too many unique values, it can be difficult to work with in some predictive models. One approach to address this issue is to group similar property types together into broader categories.For example, you could group all apartments (e.g. apartment, loft, studio, etc.) into one category, all houses (e.g. house, townhouse, villa, etc.) into another category, and so on. You could also consider grouping properties based on their size or capacity (e.g. small, medium, large), their location (e.g. urban, suburban, rural), or any other relevant factor that you believe may impact rental prices. To do this, you can create a new column that maps each unique property type to its corresponding category. You can use domain knowledge or data exploration techniques to help guide your decisions on how to group the property types. Once you have created this new column, you can drop the original \"property_type\" column from your dataset and use the new, grouped column as a predictor of rental prices."
   ]
  },
  {
   "cell_type": "markdown",
   "id": "b488b02f-91b8-4c9b-a49e-420bddc7af38",
   "metadata": {
    "tags": []
   },
   "source": [
    "### 34. `room_type` column"
   ]
  },
  {
   "cell_type": "code",
   "execution_count": 437,
   "id": "397ac417-72be-40e0-9885-9d7c3f1603fc",
   "metadata": {},
   "outputs": [
    {
     "name": "stdout",
     "output_type": "stream",
     "text": [
      "COLUMN:  room_type\n",
      "DATA DICT:  The type of room being listed on Airbnb (e.g. Private room, Entire home/apt, etc.).\n"
     ]
    }
   ],
   "source": [
    "idx = 34\n",
    "col = available_columns[idx]\n",
    "print(\"COLUMN: \", col)\n",
    "print(\"DATA DICT: \", data_dictionary[col])"
   ]
  },
  {
   "cell_type": "code",
   "execution_count": 438,
   "id": "baffda0f-9025-4739-bc9b-968ff98d0799",
   "metadata": {},
   "outputs": [
    {
     "data": {
      "text/plain": [
       "Entire home/apt    23526\n",
       "Private room       17287\n",
       "Shared room          532\n",
       "Hotel room           188\n",
       "Name: room_type, dtype: int64"
      ]
     },
     "execution_count": 438,
     "metadata": {},
     "output_type": "execute_result"
    }
   ],
   "source": [
    "df[col].value_counts()"
   ]
  },
  {
   "cell_type": "markdown",
   "id": "71336e2d-9d29-4035-b131-9ce830ce72b0",
   "metadata": {},
   "source": [
    "The \"room_type\" column indicates the type of room being rented (e.g. entire home/apt, private room, shared room, etc.). It could be important so we will keep this for additional analysis"
   ]
  },
  {
   "cell_type": "markdown",
   "id": "8c5c0abc-596b-4fb8-8106-d57c4769bacd",
   "metadata": {},
   "source": [
    "<b><i><u><font color='red'> The \"property_type\" column describes the type of property being rented (e.g. apartment, house, condominium, etc.), while the \"room_type\" column describes the type of room being rented (e.g. entire home/apt, private room, shared room, etc.). The \"property_type\" column provides information about the overall type of dwelling being rented, while the \"room_type\" column provides information about the specific part of the property that is being rented out. For example, a property type of \"apartment\" indicates that the entire dwelling unit is being rented, while a room type of \"private room\" indicates that only a single private room within that apartment is being rented. Both columns can be useful predictors of rental prices, as they provide different types of information about the rental property. "
   ]
  },
  {
   "cell_type": "markdown",
   "id": "a3359c10-54da-4c67-b757-9ce8ef8ceae7",
   "metadata": {},
   "source": [
    "### 35. `accommodates` column"
   ]
  },
  {
   "cell_type": "code",
   "execution_count": 439,
   "id": "6be70bf2-2921-4a13-8540-e23732ea7712",
   "metadata": {},
   "outputs": [
    {
     "name": "stdout",
     "output_type": "stream",
     "text": [
      "COLUMN:  accommodates\n",
      "DATA DICT:  The maximum number of guests the Airbnb listing can accommodate.\n"
     ]
    }
   ],
   "source": [
    "idx = 35\n",
    "col = available_columns[idx]\n",
    "print(\"COLUMN: \", col)\n",
    "print(\"DATA DICT: \", data_dictionary[col])"
   ]
  },
  {
   "cell_type": "code",
   "execution_count": 440,
   "id": "6c705db5-f349-48ec-8c20-906b49203770",
   "metadata": {},
   "outputs": [
    {
     "data": {
      "text/plain": [
       "2     18556\n",
       "4      6621\n",
       "1      6432\n",
       "3      4006\n",
       "6      2176\n",
       "5      1705\n",
       "8       738\n",
       "7       446\n",
       "10      251\n",
       "16      205\n",
       "12      164\n",
       "9       102\n",
       "15       37\n",
       "11       32\n",
       "14       28\n",
       "13       18\n",
       "0        16\n",
       "Name: accommodates, dtype: int64"
      ]
     },
     "execution_count": 440,
     "metadata": {},
     "output_type": "execute_result"
    }
   ],
   "source": [
    "df[col].value_counts()"
   ]
  },
  {
   "cell_type": "markdown",
   "id": "60b69ddc-49ed-4812-849d-3b20d5fe6366",
   "metadata": {},
   "source": [
    "This column indicates the number of accomodates to allow in the airbnb rental. The \"accommodates\" column can be a useful predictor of rental prices, as properties that can accommodate more guests may be more in demand and therefore have higher prices. So, we will keep this column for further analysis."
   ]
  },
  {
   "cell_type": "markdown",
   "id": "c8c0692c-e579-4ee1-931d-0656ea6e45a8",
   "metadata": {
    "tags": []
   },
   "source": [
    "### 36. `bathrooms_text` column"
   ]
  },
  {
   "cell_type": "code",
   "execution_count": 441,
   "id": "b05d9891-e7a4-4377-aac6-1db53205c584",
   "metadata": {},
   "outputs": [],
   "source": [
    "# sorted(list(data_dictionary.keys())) #bathrooms"
   ]
  },
  {
   "cell_type": "code",
   "execution_count": 442,
   "id": "6d733dbc-829d-4df7-b24a-80e25d18df82",
   "metadata": {},
   "outputs": [
    {
     "name": "stdout",
     "output_type": "stream",
     "text": [
      "COLUMN:  bathrooms_text\n"
     ]
    }
   ],
   "source": [
    "idx = 36\n",
    "col = available_columns[idx]\n",
    "print(\"COLUMN: \", col)\n",
    "# print(\"DATA DICT: \", data_dictionary['bathrooms'])"
   ]
  },
  {
   "cell_type": "code",
   "execution_count": 443,
   "id": "c2624cc7-42d2-4fb8-890f-879f688dbf02",
   "metadata": {},
   "outputs": [
    {
     "data": {
      "text/plain": [
       "1 bath               21760\n",
       "1 shared bath         9589\n",
       "1 private bath        2893\n",
       "2 baths               2729\n",
       "1.5 baths             1165\n",
       "2 shared baths        1109\n",
       "1.5 shared baths       722\n",
       "2.5 baths              400\n",
       "3 baths                303\n",
       "0 shared baths         157\n",
       "4 baths                126\n",
       "3.5 baths              106\n",
       "3 shared baths          95\n",
       "2.5 shared baths        82\n",
       "0 baths                 57\n",
       "Half-bath               40\n",
       "4.5 baths               36\n",
       "Shared half-bath        17\n",
       "5 baths                 16\n",
       "4 shared baths          14\n",
       "Private half-bath       12\n",
       "6 baths                  8\n",
       "5.5 baths                8\n",
       "6.5 baths                3\n",
       "3.5 shared baths         2\n",
       "4.5 shared baths         2\n",
       "6 shared baths           2\n",
       "15.5 baths               1\n",
       "7 baths                  1\n",
       "8 baths                  1\n",
       "Name: bathrooms_text, dtype: int64"
      ]
     },
     "execution_count": 443,
     "metadata": {},
     "output_type": "execute_result"
    }
   ],
   "source": [
    "df[col].value_counts()"
   ]
  },
  {
   "cell_type": "markdown",
   "id": "58adba3c-9f88-492c-9f94-960421172329",
   "metadata": {},
   "source": [
    "This column will be useful as various number of bathrooms could increase the demand of a rental and ultimately increasing the price. So, we will do further analysis in this column."
   ]
  },
  {
   "cell_type": "markdown",
   "id": "4aaeca2a-d346-486c-8153-de2abcb0bb87",
   "metadata": {},
   "source": [
    "<b><i><u><font color='red'> To convert the \"bathrooms_text\" column into a simpler form, you can extract the numerical value for the number of bathrooms using regular expressions or string manipulation techniques. Here's an example code snippet in Python that demonstrates how to extract the number of bathrooms from the \"bathrooms_text\" column and convert it into a numeric format:\n",
    "`\n",
    "\n",
    "<b> Extract the numerical value from the \"bathrooms_text\" column using regular expressions\n",
    "\n",
    "df[\"bathrooms\"] = df[\"bathrooms_text\"].str.extract(r\"(\\d+(?:\\.\\d+)?)\").astype(float)\n",
    "\n",
    "<b> Drop the original \"bathrooms_text\" column\n",
    "\n",
    "df = df.drop(\"bathrooms_text\", axis=1)\n",
    "\n",
    "`\n",
    "in this code snippet, we use the str.extract() method from Pandas to extract the numerical value from the \"bathrooms_text\" column. The regular expression r\"(\\d+(?:\\.\\d+)?) matches one or more digits followed by an optional decimal point and more digits, and extracts this as a string. We then convert this extracted string into a float using the astype() method.\n",
    "\n",
    "<b><i><u><font color='red'>\n",
    "After extracting the numerical value for the number of bathrooms, we can drop the original \"bathrooms_text\" column using the drop() method.\n"
   ]
  },
  {
   "cell_type": "code",
   "execution_count": 444,
   "id": "969ed64e-54d8-446e-b397-7561c177c10b",
   "metadata": {},
   "outputs": [],
   "source": [
    "# a = df[\"bathrooms_text\"].str.extract(r\"(\\d+(?:.\\d+)?)\").astype(float)"
   ]
  },
  {
   "cell_type": "markdown",
   "id": "03187a3b-574a-479d-a108-667220726eae",
   "metadata": {},
   "source": [
    "### 37. `beds` column"
   ]
  },
  {
   "cell_type": "code",
   "execution_count": 445,
   "id": "a85ccd44-0ed2-4d32-a5de-e8b0afc506e7",
   "metadata": {},
   "outputs": [
    {
     "name": "stdout",
     "output_type": "stream",
     "text": [
      "COLUMN:  beds\n",
      "DATA DICT:  The number of beds available in the Airbnb listing.\n"
     ]
    }
   ],
   "source": [
    "idx = 37\n",
    "col = available_columns[idx]\n",
    "print(\"COLUMN: \", col)\n",
    "print(\"DATA DICT: \", data_dictionary[col])"
   ]
  },
  {
   "cell_type": "code",
   "execution_count": 446,
   "id": "79b9f9c4-2786-4ae0-8488-b939fb7a83bb",
   "metadata": {},
   "outputs": [
    {
     "data": {
      "text/plain": [
       "1     25557\n",
       "2      8894\n",
       "3      3486\n",
       "4      1528\n",
       "5       538\n",
       "6       307\n",
       "7       101\n",
       "8        94\n",
       "9        34\n",
       "10       20\n",
       "12       12\n",
       "11       11\n",
       "14        3\n",
       "16        2\n",
       "18        1\n",
       "42        1\n",
       "21        1\n",
       "13        1\n",
       "17        1\n",
       "Name: beds, dtype: int64"
      ]
     },
     "execution_count": 446,
     "metadata": {},
     "output_type": "execute_result"
    }
   ],
   "source": [
    "df[col].value_counts()"
   ]
  },
  {
   "cell_type": "markdown",
   "id": "38816b52-b2f4-46a3-b9d9-efde212c3e76",
   "metadata": {},
   "source": [
    "Higher the number of a bed could increase the price of a rental. So, we will use this column for further analysis."
   ]
  },
  {
   "cell_type": "markdown",
   "id": "4318496c-46fc-4736-a60b-c04a0204d488",
   "metadata": {},
   "source": [
    "### 38. `amenities` column"
   ]
  },
  {
   "cell_type": "code",
   "execution_count": 447,
   "id": "2bba28e8-9b79-4da5-b9bb-d1670407d05d",
   "metadata": {},
   "outputs": [
    {
     "name": "stdout",
     "output_type": "stream",
     "text": [
      "COLUMN:  amenities\n",
      "DATA DICT:  A list of amenities available in the Airbnb listing (e.g. Wifi, TV, etc.).\n"
     ]
    }
   ],
   "source": [
    "idx = 38\n",
    "col = available_columns[idx]\n",
    "print(\"COLUMN: \", col)\n",
    "print(\"DATA DICT: \", data_dictionary[col])"
   ]
  },
  {
   "cell_type": "code",
   "execution_count": 448,
   "id": "7b67a506-9948-4c6e-84ea-9504967a90af",
   "metadata": {},
   "outputs": [
    {
     "data": {
      "text/plain": [
       "[\"Long term stays allowed\"]                                                                                                                                                                                                     131\n",
       "[\"Smoke alarm\", \"Carbon monoxide alarm\", \"Washer\", \"Wifi\", \"TV\", \"Kitchen\", \"Long term stays allowed\", \"Air conditioning\"]                                                                                                       77\n",
       "[\"Smoke alarm\", \"Carbon monoxide alarm\", \"First aid kit\", \"Shampoo\", \"Heating\", \"Wifi\", \"Air conditioning\", \"Fire extinguisher\", \"Elevator\", \"TV\", \"Long term stays allowed\", \"Iron\", \"Essentials\", \"Hangers\", \"Hair dryer\"]     69\n",
       "Name: amenities, dtype: int64"
      ]
     },
     "execution_count": 448,
     "metadata": {},
     "output_type": "execute_result"
    }
   ],
   "source": [
    "df[col].value_counts()[:3]"
   ]
  },
  {
   "cell_type": "markdown",
   "id": "55d6d30b-34ec-4321-afb2-42bfda79b843",
   "metadata": {},
   "source": [
    "If a rental unit has many ameneties, it would make the rental more attractive for potential customers. Therefore, this column will be very important. However, this column contains too many unique values. So, it will need good preprocessing. We will keep this column for further analysis."
   ]
  },
  {
   "cell_type": "markdown",
   "id": "2cfd20f0-f0d1-413b-9079-8c686b8cce60",
   "metadata": {},
   "source": [
    "### 39. `price` column"
   ]
  },
  {
   "cell_type": "code",
   "execution_count": 449,
   "id": "9b8c1360-d995-4598-9b29-025adf1b5b08",
   "metadata": {},
   "outputs": [
    {
     "name": "stdout",
     "output_type": "stream",
     "text": [
      "COLUMN:  price\n",
      "DATA DICT:  The nightly price of the Airbnb listing.\n"
     ]
    }
   ],
   "source": [
    "idx = 39\n",
    "col = available_columns[idx]\n",
    "print(\"COLUMN: \", col)\n",
    "print(\"DATA DICT: \", data_dictionary[col])"
   ]
  },
  {
   "cell_type": "code",
   "execution_count": 450,
   "id": "7ab7b477-9968-4546-8601-32005f25fd73",
   "metadata": {},
   "outputs": [
    {
     "data": {
      "text/plain": [
       "0          $175.00\n",
       "1           $75.00\n",
       "2          $275.00\n",
       "3           $60.00\n",
       "4           $68.00\n",
       "           ...    \n",
       "41528      $105.00\n",
       "41529       $87.00\n",
       "41530       $70.00\n",
       "41531      $125.00\n",
       "41532    $1,114.00\n",
       "Name: price, Length: 41533, dtype: object"
      ]
     },
     "execution_count": 450,
     "metadata": {},
     "output_type": "execute_result"
    }
   ],
   "source": [
    "df[col]"
   ]
  },
  {
   "cell_type": "markdown",
   "id": "44f350c9-78f9-4107-8c7e-cfe2d1686f1a",
   "metadata": {},
   "source": [
    "<b> This is the column which will be used for making predictions. This column is very messy and will need preprocessing. Additionally, we will be predicting price range for a rental with specific properties. So, this continuous column will be converted to a categorical form."
   ]
  },
  {
   "cell_type": "markdown",
   "id": "b0d60b0f-ecee-4850-bf04-878b06bde6b3",
   "metadata": {},
   "source": [
    "### 40. `minimum_nights` column"
   ]
  },
  {
   "cell_type": "code",
   "execution_count": 451,
   "id": "e766faad-a68e-4cd5-a0a6-43b121ee4e87",
   "metadata": {},
   "outputs": [
    {
     "name": "stdout",
     "output_type": "stream",
     "text": [
      "COLUMN:  minimum_nights\n",
      "DATA DICT:  The minimum number of nights required to book the Airbnb listing.\n"
     ]
    }
   ],
   "source": [
    "idx = 40\n",
    "col = available_columns[idx]\n",
    "print(\"COLUMN: \", col)\n",
    "print(\"DATA DICT: \", data_dictionary[col])"
   ]
  },
  {
   "cell_type": "code",
   "execution_count": 452,
   "id": "5496c496-5961-4ce9-ad3e-e86fa4775df3",
   "metadata": {},
   "outputs": [
    {
     "data": {
      "text/plain": [
       "30     17625\n",
       "1       7202\n",
       "2       5329\n",
       "3       3780\n",
       "5       1492\n",
       "       ...  \n",
       "153        1\n",
       "999        1\n",
       "53         1\n",
       "19         1\n",
       "88         1\n",
       "Name: minimum_nights, Length: 126, dtype: int64"
      ]
     },
     "execution_count": 452,
     "metadata": {},
     "output_type": "execute_result"
    }
   ],
   "source": [
    "df[col].value_counts()"
   ]
  },
  {
   "cell_type": "markdown",
   "id": "d3447ba4-a7dd-4271-930b-88574a9012de",
   "metadata": {},
   "source": [
    "Like previous column, a rental's requirement that a customer has to stay up to a minimum period of time at most will play an important role in its price. So, we will use this column for additional analysis. "
   ]
  },
  {
   "cell_type": "markdown",
   "id": "f366d7f8-f7c8-42ca-a917-3c1eb05a8d42",
   "metadata": {},
   "source": [
    "### 41. `maximum_nights` column"
   ]
  },
  {
   "cell_type": "code",
   "execution_count": 453,
   "id": "67cadc0b-447e-4089-ac0f-a0d94c4ca637",
   "metadata": {},
   "outputs": [
    {
     "name": "stdout",
     "output_type": "stream",
     "text": [
      "COLUMN:  maximum_nights\n",
      "DATA DICT:  The maximum number of nights allowed for a booking of the Airbnb listing.\n"
     ]
    }
   ],
   "source": [
    "idx = 41\n",
    "col = available_columns[idx]\n",
    "print(\"COLUMN: \", col)\n",
    "print(\"DATA DICT: \", data_dictionary[col])"
   ]
  },
  {
   "cell_type": "code",
   "execution_count": 454,
   "id": "56f211f4-6ab5-4d2b-b2ac-96c4ea9e5fe5",
   "metadata": {},
   "outputs": [
    {
     "data": {
      "text/plain": [
       "0        1125\n",
       "1          14\n",
       "2        1125\n",
       "3         730\n",
       "4         730\n",
       "         ... \n",
       "41528     365\n",
       "41529     365\n",
       "41530      30\n",
       "41531      30\n",
       "41532     365\n",
       "Name: maximum_nights, Length: 41533, dtype: object"
      ]
     },
     "execution_count": 454,
     "metadata": {},
     "output_type": "execute_result"
    }
   ],
   "source": [
    "df[col]"
   ]
  },
  {
   "cell_type": "markdown",
   "id": "c22f1430-d970-4294-84f9-b169395ae684",
   "metadata": {},
   "source": [
    "Like previous column, a rental's requirement that a customer can only stay up to a given period of time at most will play an important role in its price. So, we will use this column for additional analysis. "
   ]
  },
  {
   "cell_type": "markdown",
   "id": "6593f4f2-8332-4e7b-9060-221f2a2a9af4",
   "metadata": {},
   "source": [
    "### 42. `minimum_minimum_nights` column"
   ]
  },
  {
   "cell_type": "code",
   "execution_count": 455,
   "id": "35462677-c7a1-4671-ba69-350a3c5387f1",
   "metadata": {},
   "outputs": [
    {
     "name": "stdout",
     "output_type": "stream",
     "text": [
      "COLUMN:  minimum_minimum_nights\n"
     ]
    }
   ],
   "source": [
    "idx = 42\n",
    "col = available_columns[idx]\n",
    "print(\"COLUMN: \", col)\n",
    "# print(\"DATA DICT: \", data_dictionary[col])"
   ]
  },
  {
   "cell_type": "markdown",
   "id": "85c1fab8-017a-4f35-89dd-598267c0dbf0",
   "metadata": {},
   "source": [
    "The information provided by this column is already given by previous column. So, I will drop this column."
   ]
  },
  {
   "cell_type": "code",
   "execution_count": 456,
   "id": "0d6cd647-6972-401f-b9d6-5d86ca6d023b",
   "metadata": {},
   "outputs": [
    {
     "name": "stdout",
     "output_type": "stream",
     "text": [
      "Column |minimum_minimum_nights| has been removed !! \n"
     ]
    }
   ],
   "source": [
    "df.drop(col, axis = 1, inplace = True)\n",
    "print(check_column_presence(col))\n",
    "columns_that_are_dropped.append(col)"
   ]
  },
  {
   "cell_type": "markdown",
   "id": "daeeaa2d-cb6e-4cca-b8b3-2f8929da1f4f",
   "metadata": {},
   "source": [
    "### 43. `maximum_minimum_nights` column"
   ]
  },
  {
   "cell_type": "code",
   "execution_count": 457,
   "id": "4d032348-39e1-42f8-968b-06a8bed945ab",
   "metadata": {},
   "outputs": [
    {
     "name": "stdout",
     "output_type": "stream",
     "text": [
      "COLUMN:  maximum_minimum_nights\n"
     ]
    }
   ],
   "source": [
    "idx = 43\n",
    "col = available_columns[idx]\n",
    "print(\"COLUMN: \", col)\n",
    "# print(\"DATA DICT: \", data_dictionary[col])"
   ]
  },
  {
   "cell_type": "markdown",
   "id": "146cb1cb-e4ae-4e61-ad92-96d27aa12ba8",
   "metadata": {},
   "source": [
    "The information provided by this column is already given by previous column. So, I will drop this column."
   ]
  },
  {
   "cell_type": "code",
   "execution_count": 458,
   "id": "71704068-fe2d-489a-9889-2756fcbe29b8",
   "metadata": {},
   "outputs": [
    {
     "name": "stdout",
     "output_type": "stream",
     "text": [
      "Column |maximum_minimum_nights| has been removed !! \n"
     ]
    }
   ],
   "source": [
    "df.drop(col, axis = 1, inplace = True)\n",
    "print(check_column_presence(col))\n",
    "columns_that_are_dropped.append(col)"
   ]
  },
  {
   "cell_type": "markdown",
   "id": "a93aa3f9-13ec-4488-b967-0dc05b9ea8e4",
   "metadata": {},
   "source": [
    "### 44. `maximum_minimum_nights` column"
   ]
  },
  {
   "cell_type": "code",
   "execution_count": 459,
   "id": "7e23f51d-b737-44ab-8a2e-d0f1b011564b",
   "metadata": {},
   "outputs": [
    {
     "name": "stdout",
     "output_type": "stream",
     "text": [
      "COLUMN:  minimum_maximum_nights\n"
     ]
    }
   ],
   "source": [
    "idx = 44\n",
    "col = available_columns[idx]\n",
    "print(\"COLUMN: \", col)"
   ]
  },
  {
   "cell_type": "markdown",
   "id": "f41732b9-77c3-4bfd-819d-8ebccc91f0dd",
   "metadata": {},
   "source": [
    "The information provided by this column is already given by previous column. So, I will drop this column."
   ]
  },
  {
   "cell_type": "code",
   "execution_count": 460,
   "id": "58ebfa30-8102-4919-93da-cf8f488ec831",
   "metadata": {},
   "outputs": [
    {
     "name": "stdout",
     "output_type": "stream",
     "text": [
      "Column |minimum_maximum_nights| has been removed !! \n"
     ]
    }
   ],
   "source": [
    "df.drop(col, axis = 1, inplace = True)\n",
    "print(check_column_presence(col))\n",
    "columns_that_are_dropped.append(col)"
   ]
  },
  {
   "cell_type": "markdown",
   "id": "a6e49144-49c2-4588-9252-04e19d37b6b3",
   "metadata": {},
   "source": [
    "### 45. `maximum_maximum_nights` column"
   ]
  },
  {
   "cell_type": "code",
   "execution_count": 461,
   "id": "73f65726-5d91-484f-a16e-dccc747545ae",
   "metadata": {},
   "outputs": [
    {
     "name": "stdout",
     "output_type": "stream",
     "text": [
      "COLUMN:  maximum_maximum_nights\n"
     ]
    }
   ],
   "source": [
    "idx = 45\n",
    "col = available_columns[idx]\n",
    "print(\"COLUMN: \", col)"
   ]
  },
  {
   "cell_type": "markdown",
   "id": "fbd7465c-c183-4edd-ada7-54d9da06b394",
   "metadata": {},
   "source": [
    "The information provided by this column is already given by previous column. So, I will drop this column."
   ]
  },
  {
   "cell_type": "code",
   "execution_count": 462,
   "id": "f2254177-33ff-4d41-ae32-8ef34d36cee1",
   "metadata": {},
   "outputs": [
    {
     "name": "stdout",
     "output_type": "stream",
     "text": [
      "Column |maximum_maximum_nights| has been removed !! \n"
     ]
    }
   ],
   "source": [
    "df.drop(col, axis = 1, inplace = True)\n",
    "print(check_column_presence(col))\n",
    "columns_that_are_dropped.append(col)"
   ]
  },
  {
   "cell_type": "markdown",
   "id": "465610c3-c544-48d0-96ff-54a8a8014e23",
   "metadata": {},
   "source": [
    "### 46. `minimum_nights_avg_ntm` column"
   ]
  },
  {
   "cell_type": "code",
   "execution_count": 463,
   "id": "658908d9-474c-4aea-8ceb-c473ea708d85",
   "metadata": {},
   "outputs": [
    {
     "name": "stdout",
     "output_type": "stream",
     "text": [
      "COLUMN:  minimum_nights_avg_ntm\n"
     ]
    }
   ],
   "source": [
    "idx = 46\n",
    "col = available_columns[idx]\n",
    "print(\"COLUMN: \", col)"
   ]
  },
  {
   "cell_type": "markdown",
   "id": "280cee8e-9878-4083-9ec1-24d535ed7e66",
   "metadata": {},
   "source": [
    "The information provided by this column is already given by previous column. So, I will drop this column."
   ]
  },
  {
   "cell_type": "code",
   "execution_count": 464,
   "id": "ee60592c-a2b6-4aef-82d0-f4c341edb581",
   "metadata": {},
   "outputs": [
    {
     "name": "stdout",
     "output_type": "stream",
     "text": [
      "Column |minimum_nights_avg_ntm| has been removed !! \n"
     ]
    }
   ],
   "source": [
    "df.drop(col, axis = 1, inplace = True)\n",
    "print(check_column_presence(col))\n",
    "columns_that_are_dropped.append(col)"
   ]
  },
  {
   "cell_type": "markdown",
   "id": "3b5e2c53-8771-4423-a46a-3014e4df45cb",
   "metadata": {},
   "source": [
    "### 47. `maximum_nights_avg_ntm` column"
   ]
  },
  {
   "cell_type": "code",
   "execution_count": 465,
   "id": "e46a9dac-16bb-40b0-bb0a-12276d8b9d12",
   "metadata": {},
   "outputs": [
    {
     "name": "stdout",
     "output_type": "stream",
     "text": [
      "COLUMN:  maximum_nights_avg_ntm\n"
     ]
    }
   ],
   "source": [
    "idx = 47\n",
    "col = available_columns[idx]\n",
    "print(\"COLUMN: \", col)"
   ]
  },
  {
   "cell_type": "markdown",
   "id": "467a97fa-2ebe-4c49-9037-686a78439c7f",
   "metadata": {},
   "source": [
    "The information provided by this column is already given by previous column. So, I will drop this column."
   ]
  },
  {
   "cell_type": "code",
   "execution_count": 466,
   "id": "832b0c04-7868-4d74-a47d-484c5b309c08",
   "metadata": {},
   "outputs": [
    {
     "name": "stdout",
     "output_type": "stream",
     "text": [
      "Column |maximum_nights_avg_ntm| has been removed !! \n"
     ]
    }
   ],
   "source": [
    "df.drop(col, axis = 1, inplace = True)\n",
    "print(check_column_presence(col))\n",
    "columns_that_are_dropped.append(col)"
   ]
  },
  {
   "cell_type": "markdown",
   "id": "817ea4f5-e0f5-4b27-91a0-87ec48ce35b2",
   "metadata": {},
   "source": [
    "### 48. `has_availability` column"
   ]
  },
  {
   "cell_type": "code",
   "execution_count": 467,
   "id": "26046b0e-d888-4596-b657-3db241787c87",
   "metadata": {},
   "outputs": [
    {
     "name": "stdout",
     "output_type": "stream",
     "text": [
      "COLUMN:  has_availability\n"
     ]
    },
    {
     "data": {
      "text/plain": [
       "'A binary value indicating whether or not the Airbnb listing is currently available.'"
      ]
     },
     "execution_count": 467,
     "metadata": {},
     "output_type": "execute_result"
    }
   ],
   "source": [
    "idx = 48\n",
    "col = available_columns[idx]\n",
    "print(\"COLUMN: \", col)\n",
    "data_dictionary[col]"
   ]
  },
  {
   "cell_type": "code",
   "execution_count": 468,
   "id": "9ccf305f-e7d4-48f4-ac85-be236e65651e",
   "metadata": {},
   "outputs": [
    {
     "data": {
      "text/plain": [
       "t    35281\n",
       "f     6252\n",
       "Name: has_availability, dtype: int64"
      ]
     },
     "execution_count": 468,
     "metadata": {},
     "output_type": "execute_result"
    }
   ],
   "source": [
    "df[col].value_counts()"
   ]
  },
  {
   "cell_type": "markdown",
   "id": "b3af7f22-03b1-4fb5-9d34-1c94c494ecbd",
   "metadata": {},
   "source": [
    "This column might not be useful for predicting price because the values in this column are not real-time. It contains information about whether a rental is currently available or not. Since we will pre predicting the price of a rental, this column might not be very useful as a tourist will be looking for an available rental to book."
   ]
  },
  {
   "cell_type": "code",
   "execution_count": 469,
   "id": "28066467-7699-4ef6-98e5-f208c44984ec",
   "metadata": {},
   "outputs": [
    {
     "name": "stdout",
     "output_type": "stream",
     "text": [
      "Column |has_availability| has been removed !! \n"
     ]
    }
   ],
   "source": [
    "df.drop(col, axis = 1, inplace = True)\n",
    "print(check_column_presence(col))\n",
    "columns_that_are_dropped.append(col)"
   ]
  },
  {
   "cell_type": "markdown",
   "id": "85f083f4-04e7-444d-8424-24f224ebf7f0",
   "metadata": {},
   "source": [
    "### 49. `availability_30` column"
   ]
  },
  {
   "cell_type": "code",
   "execution_count": 549,
   "id": "96d6ce05-0984-4144-82dc-b78bb0d95fd9",
   "metadata": {},
   "outputs": [
    {
     "name": "stdout",
     "output_type": "stream",
     "text": [
      "COLUMN:  availability_30\n"
     ]
    },
    {
     "data": {
      "text/plain": [
       "'The number of available nights in the next 30 days.'"
      ]
     },
     "execution_count": 549,
     "metadata": {},
     "output_type": "execute_result"
    }
   ],
   "source": [
    "idx = 49\n",
    "col = available_columns[idx]\n",
    "print(\"COLUMN: \", col)\n",
    "data_dictionary[col]"
   ]
  },
  {
   "cell_type": "code",
   "execution_count": 550,
   "id": "2a0a7ee1-be9c-415e-a2ab-8232c1c1c219",
   "metadata": {},
   "outputs": [
    {
     "data": {
      "text/plain": [
       "0        30\n",
       "1         0\n",
       "2         0\n",
       "3        11\n",
       "4        23\n",
       "         ..\n",
       "41528     9\n",
       "41529    26\n",
       "41530    20\n",
       "41531    18\n",
       "41532    20\n",
       "Name: availability_30, Length: 41533, dtype: object"
      ]
     },
     "execution_count": 550,
     "metadata": {},
     "output_type": "execute_result"
    }
   ],
   "source": [
    "df[col]"
   ]
  },
  {
   "cell_type": "markdown",
   "id": "ffbfef5c-2b9e-41e2-a458-9c2ef2623104",
   "metadata": {},
   "source": [
    "The availability_30 column in the Airbnb NYC dataset represents the number of days the rental property is available for booking in the next 30 days. However, this column may not be directly related to the rental price of the property. For example, a property that is highly in demand may have a higher rental price, but the relationship between availability and rental price may not be straightforward.\n",
    "\n",
    "\n",
    "But, the data here is not in real time. So, we will drop this column."
   ]
  },
  {
   "cell_type": "code",
   "execution_count": 551,
   "id": "7ec8f973-a91b-42f5-9f15-578068c9f9a5",
   "metadata": {},
   "outputs": [
    {
     "name": "stdout",
     "output_type": "stream",
     "text": [
      "Column |availability_30| has been removed !! \n"
     ]
    }
   ],
   "source": [
    "df.drop(col, axis = 1, inplace = True)\n",
    "print(check_column_presence(col))\n",
    "columns_that_are_dropped.append(col)"
   ]
  },
  {
   "cell_type": "markdown",
   "id": "a075e3dd-2dd0-47bd-834a-14c15b2a9dd0",
   "metadata": {},
   "source": [
    "### 50. `availability_60` column"
   ]
  },
  {
   "cell_type": "code",
   "execution_count": 472,
   "id": "9eff654c-69ef-4eb8-b208-ad057733998b",
   "metadata": {},
   "outputs": [
    {
     "name": "stdout",
     "output_type": "stream",
     "text": [
      "COLUMN:  availability_60\n"
     ]
    },
    {
     "data": {
      "text/plain": [
       "'The number of available nights in the next 60 days.'"
      ]
     },
     "execution_count": 472,
     "metadata": {},
     "output_type": "execute_result"
    }
   ],
   "source": [
    "idx = 50\n",
    "col = available_columns[idx]\n",
    "print(\"COLUMN: \", col)\n",
    "data_dictionary[col]"
   ]
  },
  {
   "cell_type": "markdown",
   "id": "d38766ae-f64b-4a9c-beeb-0ce43dd35eaa",
   "metadata": {},
   "source": [
    "This column explains the number of days the rental propertey is available for booking in the next 60 days. We will drop this column as if there is a relationship between availability and price, then we can get that relationship from availability_30 column."
   ]
  },
  {
   "cell_type": "code",
   "execution_count": 473,
   "id": "7458a49e-57f3-44e3-ad22-0b125d9c420a",
   "metadata": {},
   "outputs": [
    {
     "name": "stdout",
     "output_type": "stream",
     "text": [
      "Column |availability_60| has been removed !! \n"
     ]
    }
   ],
   "source": [
    "df.drop(col, axis = 1, inplace = True)\n",
    "print(check_column_presence(col))\n",
    "columns_that_are_dropped.append(col)"
   ]
  },
  {
   "cell_type": "markdown",
   "id": "cdff4967-8edf-409f-b8e1-7bbdceefe746",
   "metadata": {},
   "source": [
    "### 51. `availability_90` column"
   ]
  },
  {
   "cell_type": "code",
   "execution_count": 474,
   "id": "c667d0b3-e5a6-4eaa-908d-eb1381e6d941",
   "metadata": {},
   "outputs": [
    {
     "name": "stdout",
     "output_type": "stream",
     "text": [
      "COLUMN:  availability_90\n"
     ]
    },
    {
     "data": {
      "text/plain": [
       "'The number of available nights in the next 90 days.'"
      ]
     },
     "execution_count": 474,
     "metadata": {},
     "output_type": "execute_result"
    }
   ],
   "source": [
    "idx = 51\n",
    "col = available_columns[idx]\n",
    "print(\"COLUMN: \", col)\n",
    "data_dictionary[col]"
   ]
  },
  {
   "cell_type": "markdown",
   "id": "dbcab03c-47bb-486c-99b2-39032bdc0e0f",
   "metadata": {},
   "source": [
    "Like in previous columns, we will proceed to drop this column as well."
   ]
  },
  {
   "cell_type": "code",
   "execution_count": 475,
   "id": "2cd6ecec-1124-4f11-a149-4cbd3ded1e37",
   "metadata": {},
   "outputs": [
    {
     "name": "stdout",
     "output_type": "stream",
     "text": [
      "Column |availability_90| has been removed !! \n"
     ]
    }
   ],
   "source": [
    "df.drop(col, axis = 1, inplace = True)\n",
    "print(check_column_presence(col))\n",
    "columns_that_are_dropped.append(col)"
   ]
  },
  {
   "cell_type": "markdown",
   "id": "0fc5ea1a-7db0-4ea0-8897-d0ec6694a616",
   "metadata": {},
   "source": [
    "### 52. `availability_365` column"
   ]
  },
  {
   "cell_type": "code",
   "execution_count": 476,
   "id": "45ac54fa-a21e-47b0-ba25-c0f9b6b98996",
   "metadata": {},
   "outputs": [
    {
     "name": "stdout",
     "output_type": "stream",
     "text": [
      "COLUMN:  availability_365\n"
     ]
    },
    {
     "data": {
      "text/plain": [
       "'The number of available nights in the next 365 days.'"
      ]
     },
     "execution_count": 476,
     "metadata": {},
     "output_type": "execute_result"
    }
   ],
   "source": [
    "idx = 52\n",
    "col = available_columns[idx]\n",
    "print(\"COLUMN: \", col)\n",
    "data_dictionary[col]"
   ]
  },
  {
   "cell_type": "markdown",
   "id": "b2fc033a-44a2-46a5-b69d-103e42fdf37e",
   "metadata": {},
   "source": [
    "Similar to the previous column, we will also drop this column."
   ]
  },
  {
   "cell_type": "code",
   "execution_count": 477,
   "id": "efa9d8c9-760a-4406-8f18-bda779dd12e6",
   "metadata": {},
   "outputs": [
    {
     "name": "stdout",
     "output_type": "stream",
     "text": [
      "Column |availability_365| has been removed !! \n"
     ]
    }
   ],
   "source": [
    "df.drop(col, axis = 1, inplace = True)\n",
    "print(check_column_presence(col))\n",
    "columns_that_are_dropped.append(col)"
   ]
  },
  {
   "cell_type": "markdown",
   "id": "47c7a113-4fae-4908-8c45-61d8951a28d6",
   "metadata": {},
   "source": [
    "### 53. `calendar_last_scraped` column"
   ]
  },
  {
   "cell_type": "code",
   "execution_count": 478,
   "id": "de534a8a-4015-46c3-bece-cb11e9d64636",
   "metadata": {},
   "outputs": [
    {
     "name": "stdout",
     "output_type": "stream",
     "text": [
      "COLUMN:  calendar_last_scraped\n"
     ]
    },
    {
     "data": {
      "text/plain": [
       "'The date on which the Airbnb listing calendar was last scraped.'"
      ]
     },
     "execution_count": 478,
     "metadata": {},
     "output_type": "execute_result"
    }
   ],
   "source": [
    "idx = 53\n",
    "col = available_columns[idx]\n",
    "print(\"COLUMN: \", col)\n",
    "data_dictionary[col]"
   ]
  },
  {
   "cell_type": "code",
   "execution_count": 479,
   "id": "ac47ee5e-4224-4d8e-aaf1-14a77cb902d2",
   "metadata": {},
   "outputs": [
    {
     "data": {
      "text/plain": [
       "0        2022-12-05\n",
       "1        2022-12-05\n",
       "2        2022-12-04\n",
       "3        2022-12-05\n",
       "4        2022-12-05\n",
       "            ...    \n",
       "41528    2022-12-05\n",
       "41529    2022-12-05\n",
       "41530    2022-12-05\n",
       "41531    2022-12-04\n",
       "41532    2022-12-05\n",
       "Name: calendar_last_scraped, Length: 41533, dtype: object"
      ]
     },
     "execution_count": 479,
     "metadata": {},
     "output_type": "execute_result"
    }
   ],
   "source": [
    "df[col]"
   ]
  },
  {
   "cell_type": "markdown",
   "id": "829e114f-8b54-4b0b-a0fc-09997db4761a",
   "metadata": {},
   "source": [
    "This column contains date on which the airbnb listing calender data was scraped. So, there is no useful information in this column. So, we will proceed to drop this column."
   ]
  },
  {
   "cell_type": "code",
   "execution_count": 480,
   "id": "643965b2-7534-4595-aa55-e21f4b7f8f6a",
   "metadata": {},
   "outputs": [
    {
     "name": "stdout",
     "output_type": "stream",
     "text": [
      "Column |calendar_last_scraped| has been removed !! \n"
     ]
    }
   ],
   "source": [
    "df.drop(col, axis = 1, inplace = True)\n",
    "print(check_column_presence(col))\n",
    "columns_that_are_dropped.append(col)"
   ]
  },
  {
   "cell_type": "markdown",
   "id": "c408e86e-1ea0-4eb2-90fc-2132a58b7219",
   "metadata": {},
   "source": [
    "### 54. `number_of_reviews` column"
   ]
  },
  {
   "cell_type": "code",
   "execution_count": 481,
   "id": "3acd1d25-1913-4a2d-a5d5-157a9d600183",
   "metadata": {},
   "outputs": [
    {
     "name": "stdout",
     "output_type": "stream",
     "text": [
      "COLUMN:  number_of_reviews\n"
     ]
    },
    {
     "data": {
      "text/plain": [
       "'The total number of reviews for the Airbnb listing.'"
      ]
     },
     "execution_count": 481,
     "metadata": {},
     "output_type": "execute_result"
    }
   ],
   "source": [
    "idx = 54\n",
    "col = available_columns[idx]\n",
    "print(\"COLUMN: \", col)\n",
    "data_dictionary[col]"
   ]
  },
  {
   "cell_type": "code",
   "execution_count": 482,
   "id": "c586c2ca-bc9b-48c2-8e84-76a0c42dd547",
   "metadata": {},
   "outputs": [
    {
     "data": {
      "text/plain": [
       "0         49\n",
       "1        118\n",
       "2          3\n",
       "3         50\n",
       "4        187\n",
       "        ... \n",
       "41528      0\n",
       "41529      0\n",
       "41530      0\n",
       "41531      0\n",
       "41532      0\n",
       "Name: number_of_reviews, Length: 41533, dtype: object"
      ]
     },
     "execution_count": 482,
     "metadata": {},
     "output_type": "execute_result"
    }
   ],
   "source": [
    "df[col]"
   ]
  },
  {
   "cell_type": "markdown",
   "id": "b5d3194d-9a0b-4b2e-a259-bee89b210d68",
   "metadata": {},
   "source": [
    "The \"number_of_reviews\" column in the Airbnb NYC dataset represents the total number of reviews that a rental property has received from guests. This column can be useful in predicting rental prices because it gives an indication of the popularity and overall experience of the property. Generally, properties with more positive reviews are likely to command higher rental prices. That being said, it is important to note that the \"number_of_reviews\" column only provides information on the quantity of reviews, and not necessarily the quality of the reviews. Therefore, it is possible that a property with a high number of reviews could have a lower rental price than a property with fewer reviews but higher overall ratings.\n",
    "\n",
    "We will keep this column for further analysis."
   ]
  },
  {
   "cell_type": "markdown",
   "id": "11c882aa-f22c-453c-bc72-2785e88f8f7e",
   "metadata": {},
   "source": [
    "### 55. `number_of_reviews_ltm` column"
   ]
  },
  {
   "cell_type": "code",
   "execution_count": 483,
   "id": "cac35d86-5264-4463-80cd-3efd847e7c69",
   "metadata": {},
   "outputs": [
    {
     "name": "stdout",
     "output_type": "stream",
     "text": [
      "COLUMN:  number_of_reviews_ltm\n"
     ]
    },
    {
     "data": {
      "text/plain": [
       "'The total number of reviews for the Airbnb listing in the last 12 months.'"
      ]
     },
     "execution_count": 483,
     "metadata": {},
     "output_type": "execute_result"
    }
   ],
   "source": [
    "idx = 55\n",
    "col = available_columns[idx]\n",
    "print(\"COLUMN: \", col)\n",
    "data_dictionary[col]"
   ]
  },
  {
   "cell_type": "code",
   "execution_count": 484,
   "id": "82350ddc-9878-4144-82d0-846692d1e533",
   "metadata": {},
   "outputs": [
    {
     "data": {
      "text/plain": [
       "0        1\n",
       "1        0\n",
       "2        1\n",
       "3        0\n",
       "4        5\n",
       "        ..\n",
       "41528    0\n",
       "41529    0\n",
       "41530    0\n",
       "41531    0\n",
       "41532    0\n",
       "Name: number_of_reviews_ltm, Length: 41533, dtype: object"
      ]
     },
     "execution_count": 484,
     "metadata": {},
     "output_type": "execute_result"
    }
   ],
   "source": [
    "df[col]"
   ]
  },
  {
   "cell_type": "markdown",
   "id": "8a4f303d-cd6f-4787-9e04-e84e1dd5ce4b",
   "metadata": {},
   "source": [
    "The \"number_of_reviews_ltm\" column in the Airbnb NYC dataset represents the number of reviews a rental property received in the last 12 months. This column is similar to the \"number_of_reviews\" column, but provides more recent data on the popularity of the rental property.\n",
    "\n",
    "However, it is important that a rental property with a high number of recent reviews may not necessarily be more expensive than a property with fewer recent reviews but higher overall ratings.\n",
    "\n",
    "So, we will drop this column."
   ]
  },
  {
   "cell_type": "code",
   "execution_count": 485,
   "id": "a4bca4f5-d9cb-4516-a68c-fcac92844d7f",
   "metadata": {},
   "outputs": [
    {
     "name": "stdout",
     "output_type": "stream",
     "text": [
      "Column |number_of_reviews_ltm| has been removed !! \n"
     ]
    }
   ],
   "source": [
    "df.drop(col, axis = 1, inplace = True)\n",
    "print(check_column_presence(col))\n",
    "columns_that_are_dropped.append(col)"
   ]
  },
  {
   "cell_type": "markdown",
   "id": "fb5dab6e-f9fd-4020-9836-50dfe717b8f6",
   "metadata": {},
   "source": [
    "### 56. `number_of_reviews_l30d` column"
   ]
  },
  {
   "cell_type": "code",
   "execution_count": 486,
   "id": "b1ad9fac-5f5e-48b9-9ce5-2a82fe2848f5",
   "metadata": {},
   "outputs": [
    {
     "name": "stdout",
     "output_type": "stream",
     "text": [
      "COLUMN:  number_of_reviews_l30d\n"
     ]
    }
   ],
   "source": [
    "idx = 56\n",
    "col = available_columns[idx]\n",
    "print(\"COLUMN: \", col)\n",
    "# data_dictionary[col]"
   ]
  },
  {
   "cell_type": "code",
   "execution_count": 487,
   "id": "17209783-7c1a-493e-bd02-401aec13c0c1",
   "metadata": {},
   "outputs": [
    {
     "data": {
      "text/plain": [
       "0        0\n",
       "1        0\n",
       "2        0\n",
       "3        0\n",
       "4        0\n",
       "        ..\n",
       "41528    0\n",
       "41529    0\n",
       "41530    0\n",
       "41531    0\n",
       "41532    0\n",
       "Name: number_of_reviews_l30d, Length: 41533, dtype: object"
      ]
     },
     "execution_count": 487,
     "metadata": {},
     "output_type": "execute_result"
    }
   ],
   "source": [
    "df[col]"
   ]
  },
  {
   "cell_type": "markdown",
   "id": "7609ad06-1c15-427b-9fd5-c581a449fccb",
   "metadata": {},
   "source": [
    "We already have reviews information. So, additional similar column might not be very useful. So, we will drop this column."
   ]
  },
  {
   "cell_type": "code",
   "execution_count": 488,
   "id": "dead2a0a-0bfa-4607-b1f1-eb4dad39cf25",
   "metadata": {},
   "outputs": [
    {
     "name": "stdout",
     "output_type": "stream",
     "text": [
      "Column |number_of_reviews_l30d| has been removed !! \n"
     ]
    }
   ],
   "source": [
    "df.drop(col, axis = 1, inplace = True)\n",
    "print(check_column_presence(col))\n",
    "columns_that_are_dropped.append(col)"
   ]
  },
  {
   "cell_type": "markdown",
   "id": "ef25b287-bc09-4a13-a211-9751f0214554",
   "metadata": {},
   "source": [
    "### 57. `first_review` column"
   ]
  },
  {
   "cell_type": "code",
   "execution_count": 489,
   "id": "f1267240-7c31-4b26-838d-3985f37db26b",
   "metadata": {},
   "outputs": [
    {
     "name": "stdout",
     "output_type": "stream",
     "text": [
      "COLUMN:  first_review\n"
     ]
    },
    {
     "data": {
      "text/plain": [
       "'The date of the first review for the Airbnb listing.'"
      ]
     },
     "execution_count": 489,
     "metadata": {},
     "output_type": "execute_result"
    }
   ],
   "source": [
    "idx = 57\n",
    "col = available_columns[idx]\n",
    "print(\"COLUMN: \", col)\n",
    "data_dictionary[col]"
   ]
  },
  {
   "cell_type": "code",
   "execution_count": 490,
   "id": "76729862-5e2d-4d92-9583-fbaadc1ca562",
   "metadata": {},
   "outputs": [
    {
     "data": {
      "text/plain": [
       "0        2009-11-21\n",
       "1        2009-09-07\n",
       "2        2014-01-02\n",
       "3        2009-05-28\n",
       "4        2009-05-25\n",
       "            ...    \n",
       "41528           NaN\n",
       "41529           NaN\n",
       "41530           NaN\n",
       "41531           NaN\n",
       "41532           NaN\n",
       "Name: first_review, Length: 41533, dtype: object"
      ]
     },
     "execution_count": 490,
     "metadata": {},
     "output_type": "execute_result"
    }
   ],
   "source": [
    "df[col]"
   ]
  },
  {
   "cell_type": "markdown",
   "id": "7cf127a6-6a06-4826-ad1b-22e609421fe8",
   "metadata": {},
   "source": [
    "The date of first review for the Airbnb listing should have no bearing on its price. So, we can safely drop this column."
   ]
  },
  {
   "cell_type": "code",
   "execution_count": 491,
   "id": "03ad402a-3e25-40c2-9957-7991d7b3dd4f",
   "metadata": {},
   "outputs": [
    {
     "name": "stdout",
     "output_type": "stream",
     "text": [
      "Column |first_review| has been removed !! \n"
     ]
    }
   ],
   "source": [
    "df.drop(col, axis = 1, inplace = True)\n",
    "print(check_column_presence(col))\n",
    "columns_that_are_dropped.append(col)"
   ]
  },
  {
   "cell_type": "markdown",
   "id": "173c989b-4d92-467c-ac10-067b7953ae2d",
   "metadata": {},
   "source": [
    "### 58. `last_review` column"
   ]
  },
  {
   "cell_type": "code",
   "execution_count": 492,
   "id": "b568c22e-6993-4e12-8d8a-d7a4a804e046",
   "metadata": {},
   "outputs": [
    {
     "name": "stdout",
     "output_type": "stream",
     "text": [
      "COLUMN:  last_review\n"
     ]
    },
    {
     "data": {
      "text/plain": [
       "'The date of the most recent review for the Airbnb listing.'"
      ]
     },
     "execution_count": 492,
     "metadata": {},
     "output_type": "execute_result"
    }
   ],
   "source": [
    "idx = 58\n",
    "col = available_columns[idx]\n",
    "print(\"COLUMN: \", col)\n",
    "data_dictionary[col]"
   ]
  },
  {
   "cell_type": "code",
   "execution_count": 493,
   "id": "138c92c7-2bbf-45cd-830c-32f082862853",
   "metadata": {},
   "outputs": [
    {
     "data": {
      "text/plain": [
       "0        2022-06-21\n",
       "1        2017-07-21\n",
       "2        2022-08-10\n",
       "3        2019-12-02\n",
       "4        2022-11-02\n",
       "            ...    \n",
       "41528           NaN\n",
       "41529           NaN\n",
       "41530           NaN\n",
       "41531           NaN\n",
       "41532           NaN\n",
       "Name: last_review, Length: 41533, dtype: object"
      ]
     },
     "execution_count": 493,
     "metadata": {},
     "output_type": "execute_result"
    }
   ],
   "source": [
    "df[col]"
   ]
  },
  {
   "cell_type": "markdown",
   "id": "49d4b6c4-36d8-4534-bed2-4e6b3df11ec5",
   "metadata": {},
   "source": [
    "Similarly, the date of last review for the Airbnb listing should have no bearing on its price. So, we can safely drop this column."
   ]
  },
  {
   "cell_type": "code",
   "execution_count": 494,
   "id": "fbeff12c-b8df-4ce6-a299-145349384259",
   "metadata": {},
   "outputs": [
    {
     "name": "stdout",
     "output_type": "stream",
     "text": [
      "Column |last_review| has been removed !! \n"
     ]
    }
   ],
   "source": [
    "df.drop(col, axis = 1, inplace = True)\n",
    "print(check_column_presence(col))\n",
    "columns_that_are_dropped.append(col)"
   ]
  },
  {
   "cell_type": "markdown",
   "id": "7ed5f13b-a75a-4a73-93fa-656244f1e6bc",
   "metadata": {},
   "source": [
    "### 59. `review_scores_rating` column"
   ]
  },
  {
   "cell_type": "code",
   "execution_count": 495,
   "id": "6b53d9f2-2087-4dec-bed8-995f11dbe723",
   "metadata": {},
   "outputs": [
    {
     "name": "stdout",
     "output_type": "stream",
     "text": [
      "COLUMN:  review_scores_rating\n"
     ]
    },
    {
     "data": {
      "text/plain": [
       "'The average rating score for the Airbnb listing.'"
      ]
     },
     "execution_count": 495,
     "metadata": {},
     "output_type": "execute_result"
    }
   ],
   "source": [
    "idx = 59\n",
    "col = available_columns[idx]\n",
    "print(\"COLUMN: \", col)\n",
    "data_dictionary[col]"
   ]
  },
  {
   "cell_type": "code",
   "execution_count": 496,
   "id": "4f113e3d-908e-4e61-bb53-2adf76146b1f",
   "metadata": {},
   "outputs": [
    {
     "data": {
      "text/plain": [
       "0        4.68\n",
       "1        4.91\n",
       "2         5.0\n",
       "3        4.52\n",
       "4        4.57\n",
       "         ... \n",
       "41528     NaN\n",
       "41529     NaN\n",
       "41530     NaN\n",
       "41531     NaN\n",
       "41532     NaN\n",
       "Name: review_scores_rating, Length: 41533, dtype: object"
      ]
     },
     "execution_count": 496,
     "metadata": {},
     "output_type": "execute_result"
    }
   ],
   "source": [
    "df[col]"
   ]
  },
  {
   "cell_type": "code",
   "execution_count": 497,
   "id": "9f29d383-bf8d-443f-9ca8-0e202cda66c3",
   "metadata": {},
   "outputs": [
    {
     "data": {
      "text/plain": [
       "count     32140\n",
       "unique      164\n",
       "top         5.0\n",
       "freq       9459\n",
       "Name: review_scores_rating, dtype: object"
      ]
     },
     "execution_count": 497,
     "metadata": {},
     "output_type": "execute_result"
    }
   ],
   "source": [
    "df[col].describe()"
   ]
  },
  {
   "cell_type": "markdown",
   "id": "9440cdd6-19be-4793-9962-af693716e68b",
   "metadata": {},
   "source": [
    "The \"review_scores_rating\" column in the Airbnb NYC dataset represents the overall rating of a rental property, as determined by the average of all the ratings provided by guests who have stayed at the property. This rating is on a scale of 1 to 100, with higher scores indicating better overall ratings. The \"review_scores_rating\" column can be a useful feature to include in your predictive model, as it provides an overall indication of the quality and popularity of the rental property. However, it is important to note that this rating may be influenced by factors such as the number of reviews, the timing of the reviews, and the individual preferences of the guests leaving the reviews. Additionally, it may be helpful to consider other features of the rental property in conjunction with the \"review_scores_rating\" column. For example, amenities, location, and other features of the property may also influence its overall price and popularity. Overall, the \"review_scores_rating\" column can be a useful feature to include in your predictive model, but it should be considered alongside other factors to provide a more complete understanding of the rental property's value and appeal.\n",
    "\n",
    "So, we will keep this column for further analysis."
   ]
  },
  {
   "cell_type": "markdown",
   "id": "ef823c8a-a2cc-4f33-ac0e-fd027df863f7",
   "metadata": {},
   "source": [
    "### 60. `review_scores_accuracy` column"
   ]
  },
  {
   "cell_type": "code",
   "execution_count": 498,
   "id": "6e243851-f58e-4871-83c1-da17985077a3",
   "metadata": {},
   "outputs": [
    {
     "name": "stdout",
     "output_type": "stream",
     "text": [
      "COLUMN:  review_scores_accuracy\n"
     ]
    },
    {
     "data": {
      "text/plain": [
       "'The average accuracy score for the Airbnb listing.'"
      ]
     },
     "execution_count": 498,
     "metadata": {},
     "output_type": "execute_result"
    }
   ],
   "source": [
    "idx = 60\n",
    "col = available_columns[idx]\n",
    "print(\"COLUMN: \", col)\n",
    "data_dictionary[col]"
   ]
  },
  {
   "cell_type": "code",
   "execution_count": 499,
   "id": "7853fef3-cdd7-440f-b910-99abdf83b4e9",
   "metadata": {},
   "outputs": [
    {
     "data": {
      "text/plain": [
       "0        4.73\n",
       "1        4.83\n",
       "2         5.0\n",
       "3        4.22\n",
       "4        4.59\n",
       "         ... \n",
       "41528     NaN\n",
       "41529     NaN\n",
       "41530     NaN\n",
       "41531     NaN\n",
       "41532     NaN\n",
       "Name: review_scores_accuracy, Length: 41533, dtype: object"
      ]
     },
     "execution_count": 499,
     "metadata": {},
     "output_type": "execute_result"
    }
   ],
   "source": [
    "df[col]"
   ]
  },
  {
   "cell_type": "markdown",
   "id": "76418c4b-71fa-4ba9-a278-5bb7a7d827d0",
   "metadata": {},
   "source": [
    "The \"review_scores_accuracy\" column in the Airbnb NYC dataset represents the degree to which the listing description matches the actual rental property as rated by guests who have stayed at the property. This rating is on a scale of 1 to 10, with higher scores indicating that the description was more accurate.\n",
    "\n",
    "The \"review_scores_accuracy\" column can be a useful feature to include in your predictive model, as it provides an indication of how well the listing description matches the actual property. However, it is important to note that this rating may be influenced by factors such as the individual preferences of the guests leaving the review and their personal expectations.\n",
    "\n",
    "In addition to \"review_scores_accuracy\", other features of the rental property such as location, amenities, and size may also affect the overall accuracy of the listing description. Therefore, it may be helpful to consider multiple features of the rental property in conjunction with the \"review_scores_accuracy\" column when developing a predictive model.\n",
    "\n",
    "Overall, while the \"review_scores_accuracy\" column can provide valuable insights into the accuracy of the listing description, it should be considered alongside other factors when predicting the rental property's value and appeal."
   ]
  },
  {
   "cell_type": "markdown",
   "id": "4722a5de-3c4c-4f92-939c-f1d55ba868ed",
   "metadata": {},
   "source": [
    "<b> We will use this column for further analysis"
   ]
  },
  {
   "cell_type": "markdown",
   "id": "5e997525-4bc6-4da7-90cb-6ab1a3e4af79",
   "metadata": {},
   "source": [
    "### 61. `review_scores_cleanliness` column"
   ]
  },
  {
   "cell_type": "code",
   "execution_count": 500,
   "id": "dae63284-07b9-437b-9e92-494c92b56176",
   "metadata": {},
   "outputs": [
    {
     "name": "stdout",
     "output_type": "stream",
     "text": [
      "COLUMN:  review_scores_cleanliness\n"
     ]
    },
    {
     "data": {
      "text/plain": [
       "'The average cleanliness score for the Airbnb listing.'"
      ]
     },
     "execution_count": 500,
     "metadata": {},
     "output_type": "execute_result"
    }
   ],
   "source": [
    "idx = 61\n",
    "col = available_columns[idx]\n",
    "print(\"COLUMN: \", col)\n",
    "data_dictionary[col]"
   ]
  },
  {
   "cell_type": "code",
   "execution_count": 501,
   "id": "58a79a65-d7a2-416c-a53a-955add1fa08f",
   "metadata": {},
   "outputs": [
    {
     "data": {
      "text/plain": [
       "0        4.63\n",
       "1        4.82\n",
       "2         5.0\n",
       "3        4.09\n",
       "4        4.86\n",
       "         ... \n",
       "41528     NaN\n",
       "41529     NaN\n",
       "41530     NaN\n",
       "41531     NaN\n",
       "41532     NaN\n",
       "Name: review_scores_cleanliness, Length: 41533, dtype: object"
      ]
     },
     "execution_count": 501,
     "metadata": {},
     "output_type": "execute_result"
    }
   ],
   "source": [
    "df[col]"
   ]
  },
  {
   "cell_type": "markdown",
   "id": "1b8dc1a0-851a-4f90-8ef9-f4178917ff41",
   "metadata": {},
   "source": [
    "The \"review_scores_cleanliness\" column in the Airbnb NYC dataset represents the degree to which the rental property was clean upon arrival, as rated by guests who have stayed at the property. This rating is on a scale of 1 to 10, with higher scores indicating that the property was cleaner.\n",
    "\n",
    "The \"review_scores_cleanliness\" column can be a useful feature to include in your predictive model as it provides an indication of the overall cleanliness of the rental property. A clean and well-maintained property is generally considered more attractive to potential renters and may command a higher price.\n",
    "\n",
    "However, it is important to note that the cleanliness rating may be subjective and influenced by factors such as the individual standards of the guests leaving the review. Additionally, the cleanliness of the property may not be the only factor influencing its value and appeal.\n",
    "\n",
    "Therefore, while the \"review_scores_cleanliness\" column can provide valuable insights into the cleanliness of the rental property, it should be considered alongside other factors when predicting the rental property's value and appeal."
   ]
  },
  {
   "cell_type": "markdown",
   "id": "6e66eb10-4471-4f56-9219-7b75b1fbb48a",
   "metadata": {},
   "source": [
    "<B> This column will be useful for further analysis."
   ]
  },
  {
   "cell_type": "markdown",
   "id": "8cd572a6-722e-4436-820b-01657d76b438",
   "metadata": {},
   "source": [
    "### 62. `review_scores_checkin` column"
   ]
  },
  {
   "cell_type": "code",
   "execution_count": 502,
   "id": "fa38454f-8a03-418d-a145-2726ffa869a3",
   "metadata": {},
   "outputs": [
    {
     "name": "stdout",
     "output_type": "stream",
     "text": [
      "COLUMN:  review_scores_checkin\n"
     ]
    }
   ],
   "source": [
    "idx = 62\n",
    "col = available_columns[idx]\n",
    "print(\"COLUMN: \", col)\n",
    "# data_dictionary[col]"
   ]
  },
  {
   "cell_type": "code",
   "execution_count": 503,
   "id": "4adef6e7-df6a-4856-9e7d-5e19bdc7d606",
   "metadata": {},
   "outputs": [
    {
     "data": {
      "text/plain": [
       "0        4.77\n",
       "1        4.97\n",
       "2         5.0\n",
       "3        4.91\n",
       "4        4.84\n",
       "         ... \n",
       "41528     NaN\n",
       "41529     NaN\n",
       "41530     NaN\n",
       "41531     NaN\n",
       "41532     NaN\n",
       "Name: review_scores_checkin, Length: 41533, dtype: object"
      ]
     },
     "execution_count": 503,
     "metadata": {},
     "output_type": "execute_result"
    }
   ],
   "source": [
    "df[col]"
   ]
  },
  {
   "cell_type": "markdown",
   "id": "83bddec9-d69d-4cec-bee7-9a4ac96a88fc",
   "metadata": {},
   "source": [
    "The \"review_scores_checkin\" column may provide some useful information for predicting the price of a rental property, as guests' satisfaction with the check-in experience could influence their overall impression of the property and their willingness to pay a higher price. However, the column alone is unlikely to be a strong predictor of rental price, as there are many other factors that may be more influential, such as location, property size, and available amenities.\n",
    "\n",
    "Therefore, while the \"review_scores_checkin\" column may be considered as a feature in a machine learning model for predicting rental price, it should be used in conjunction with other relevant features to build a more accurate and robust model.\n",
    "\n",
    "\n",
    "So, this column will be used for further analysis."
   ]
  },
  {
   "cell_type": "markdown",
   "id": "bd8de365-bc8b-4b07-b0b2-fa6ff0976ef7",
   "metadata": {},
   "source": [
    "### 63. `review_scores_communication` column"
   ]
  },
  {
   "cell_type": "code",
   "execution_count": 504,
   "id": "7f4fe7fa-9ad2-40e7-a658-0d5220a3c6f4",
   "metadata": {},
   "outputs": [
    {
     "name": "stdout",
     "output_type": "stream",
     "text": [
      "COLUMN:  review_scores_communication\n"
     ]
    },
    {
     "data": {
      "text/plain": [
       "'The average communication score for the Airbnb listing.'"
      ]
     },
     "execution_count": 504,
     "metadata": {},
     "output_type": "execute_result"
    }
   ],
   "source": [
    "idx = 63\n",
    "col = available_columns[idx]\n",
    "print(\"COLUMN: \", col)\n",
    "data_dictionary[col]"
   ]
  },
  {
   "cell_type": "code",
   "execution_count": 505,
   "id": "d8cd45cd-986c-4e61-be86-8d5db928db2a",
   "metadata": {},
   "outputs": [
    {
     "data": {
      "text/plain": [
       "0         4.8\n",
       "1        4.95\n",
       "2         5.0\n",
       "3        4.91\n",
       "4         4.8\n",
       "         ... \n",
       "41528     NaN\n",
       "41529     NaN\n",
       "41530     NaN\n",
       "41531     NaN\n",
       "41532     NaN\n",
       "Name: review_scores_communication, Length: 41533, dtype: object"
      ]
     },
     "execution_count": 505,
     "metadata": {},
     "output_type": "execute_result"
    }
   ],
   "source": [
    "df[col]"
   ]
  },
  {
   "cell_type": "markdown",
   "id": "582f3554-c35a-46fa-ac69-6d2deb65e24f",
   "metadata": {},
   "source": [
    "The \"review_scores_communication\" column could be a useful feature for predicting rental price, as good communication with guests can enhance their overall experience and satisfaction with the property. Guests who feel well-informed and supported by the host are more likely to leave positive reviews and recommend the property to others, which could translate into higher demand and higher prices.\n",
    "\n",
    "However, as with other review score columns, \"review_scores_communication\" should not be considered in isolation but as part of a broader set of features. Other factors such as location, property size, amenities, and availability could also be important predictors of rental price, and a comprehensive analysis of these features should be conducted to build an accurate and reliable machine learning model.\n",
    "\n",
    "So, this column will be used for further analysis."
   ]
  },
  {
   "cell_type": "markdown",
   "id": "26c217a9-209f-4660-adb9-90208235b904",
   "metadata": {},
   "source": [
    "### 64. `review_scores_location` column"
   ]
  },
  {
   "cell_type": "code",
   "execution_count": 506,
   "id": "4ae0141e-600c-487e-b36e-aa0512796e41",
   "metadata": {},
   "outputs": [
    {
     "name": "stdout",
     "output_type": "stream",
     "text": [
      "COLUMN:  review_scores_location\n"
     ]
    }
   ],
   "source": [
    "idx = 64\n",
    "col = available_columns[idx]\n",
    "print(\"COLUMN: \", col)\n",
    "# data_dictionary[col]"
   ]
  },
  {
   "cell_type": "code",
   "execution_count": 507,
   "id": "5aa03796-a9ad-41f5-96b4-7ebbdc1d6450",
   "metadata": {},
   "outputs": [
    {
     "data": {
      "text/plain": [
       "0        4.81\n",
       "1        4.94\n",
       "2        4.67\n",
       "3        4.47\n",
       "4        4.67\n",
       "         ... \n",
       "41528     NaN\n",
       "41529     NaN\n",
       "41530     NaN\n",
       "41531     NaN\n",
       "41532     NaN\n",
       "Name: review_scores_location, Length: 41533, dtype: object"
      ]
     },
     "execution_count": 507,
     "metadata": {},
     "output_type": "execute_result"
    }
   ],
   "source": [
    "df[col]"
   ]
  },
  {
   "cell_type": "markdown",
   "id": "c694d41a-b742-467d-8061-63df2f6f6376",
   "metadata": {},
   "source": [
    "The \"review_scores_location\" column could be a useful feature for predicting rental price, especially if the property is located in a popular or desirable neighborhood. Guests who enjoy the location and surroundings of the property are more likely to leave positive reviews and recommend the property to others, which could translate into higher demand and higher prices.\n",
    "\n",
    "However, it is important to keep in mind that the impact of location on rental price may vary depending on other factors such as property size, amenities, and availability. A comprehensive analysis of these features should be conducted to build an accurate and reliable machine learning model.\n",
    "\n",
    "So, this column will be used for further analyis."
   ]
  },
  {
   "cell_type": "markdown",
   "id": "7b3d3eed-e20c-4915-bb1a-e8ca6b4f4092",
   "metadata": {},
   "source": [
    "### 65. `review_scores_value` column"
   ]
  },
  {
   "cell_type": "code",
   "execution_count": 508,
   "id": "65c02da5-67e6-4a8a-af23-cd8e26078b42",
   "metadata": {},
   "outputs": [
    {
     "name": "stdout",
     "output_type": "stream",
     "text": [
      "COLUMN:  review_scores_value\n"
     ]
    }
   ],
   "source": [
    "idx = 65\n",
    "col = available_columns[idx]\n",
    "print(\"COLUMN: \", col)\n",
    "# data_dictionary[col]"
   ]
  },
  {
   "cell_type": "code",
   "execution_count": 509,
   "id": "72e96d32-720a-4dbf-8073-74f0fc6d41c7",
   "metadata": {},
   "outputs": [
    {
     "data": {
      "text/plain": [
       "0         4.4\n",
       "1        4.92\n",
       "2         5.0\n",
       "3        4.52\n",
       "4        4.56\n",
       "         ... \n",
       "41528     NaN\n",
       "41529     NaN\n",
       "41530     NaN\n",
       "41531     NaN\n",
       "41532     NaN\n",
       "Name: review_scores_value, Length: 41533, dtype: object"
      ]
     },
     "execution_count": 509,
     "metadata": {},
     "output_type": "execute_result"
    }
   ],
   "source": [
    "df[col]"
   ]
  },
  {
   "cell_type": "markdown",
   "id": "7f62821a-0617-4e3a-acce-2096c22b23e3",
   "metadata": {},
   "source": [
    "The \"review_scores_value\" column could also be a useful feature for predicting rental price. This metric represents how much guests feel they got for their money in terms of the property's quality and amenities. Properties with higher ratings in this category may be able to command higher prices, especially if they are in a desirable location or have other attractive features.\n",
    "\n",
    "However, as with the other review score columns, it is important to consider this feature in the context of other factors that may influence rental prices. A thorough analysis of the dataset, including all relevant features, should be conducted to build an accurate and reliable machine learning model."
   ]
  },
  {
   "cell_type": "markdown",
   "id": "29247865-2a77-497a-9e03-2b2a089dac19",
   "metadata": {},
   "source": [
    "### 66. `instant_bookable` column"
   ]
  },
  {
   "cell_type": "code",
   "execution_count": 510,
   "id": "4d656956-2737-44ae-b684-d96eb129e05b",
   "metadata": {},
   "outputs": [
    {
     "name": "stdout",
     "output_type": "stream",
     "text": [
      "COLUMN:  instant_bookable\n"
     ]
    }
   ],
   "source": [
    "idx = 66\n",
    "col = available_columns[idx]\n",
    "print(\"COLUMN: \", col)\n",
    "# data_dictionary[col]"
   ]
  },
  {
   "cell_type": "code",
   "execution_count": 511,
   "id": "8ed81cda-aaa4-45e2-85c2-20dac5973c1d",
   "metadata": {},
   "outputs": [
    {
     "data": {
      "text/plain": [
       "f    33123\n",
       "t     8410\n",
       "Name: instant_bookable, dtype: int64"
      ]
     },
     "execution_count": 511,
     "metadata": {},
     "output_type": "execute_result"
    }
   ],
   "source": [
    "df[col].value_counts()"
   ]
  },
  {
   "cell_type": "markdown",
   "id": "a8dc7300-223a-456b-834f-5f04f46991e7",
   "metadata": {},
   "source": [
    "The \"instant_bookable\" column could be a useful feature for predicting rental price. This column indicates whether the property is available for instant booking or requires approval from the host before a booking can be made. Properties that are available for instant booking may be more convenient for guests and therefore may be able to command higher prices, especially in areas where demand for rentals is high."
   ]
  },
  {
   "cell_type": "markdown",
   "id": "9b34f11a-477f-40ed-8652-c8873734ef6d",
   "metadata": {},
   "source": [
    "### 67. `calculated_host_listings_count` column"
   ]
  },
  {
   "cell_type": "code",
   "execution_count": 512,
   "id": "1cd7e0c5-746a-4ca3-8567-6d6f6eb95f21",
   "metadata": {},
   "outputs": [
    {
     "name": "stdout",
     "output_type": "stream",
     "text": [
      "COLUMN:  calculated_host_listings_count\n"
     ]
    }
   ],
   "source": [
    "idx = 67\n",
    "col = available_columns[idx]\n",
    "print(\"COLUMN: \", col)\n",
    "# data_dictionary[col]"
   ]
  },
  {
   "cell_type": "code",
   "execution_count": 513,
   "id": "aff6e6c0-86cd-42ce-955d-05f57de91781",
   "metadata": {},
   "outputs": [
    {
     "data": {
      "text/plain": [
       "0         3\n",
       "1         1\n",
       "2         1\n",
       "3         2\n",
       "4         1\n",
       "         ..\n",
       "41528     1\n",
       "41529     1\n",
       "41530    37\n",
       "41531     1\n",
       "41532     2\n",
       "Name: calculated_host_listings_count, Length: 41533, dtype: object"
      ]
     },
     "execution_count": 513,
     "metadata": {},
     "output_type": "execute_result"
    }
   ],
   "source": [
    "df[col]"
   ]
  },
  {
   "cell_type": "markdown",
   "id": "26b5564d-7407-49dd-8a6c-d0f22c06a918",
   "metadata": {},
   "source": [
    "The calculated_host_listings_count column represents the total number of listings that a host has on Airbnb in a particular city. This information may not be directly useful for predicting the price of a particular listing, as it relates to the host rather than the listing itself. However, it could potentially be used as a feature to capture some aspect of the host's experience and reputation on Airbnb, which could indirectly impact the price of their listings.\n",
    "\n",
    "So, we will be droping this column."
   ]
  },
  {
   "cell_type": "code",
   "execution_count": 514,
   "id": "35bd24c5-9be6-4976-9f84-d95469bbadcf",
   "metadata": {},
   "outputs": [
    {
     "name": "stdout",
     "output_type": "stream",
     "text": [
      "Column |calculated_host_listings_count| has been removed !! \n"
     ]
    }
   ],
   "source": [
    "df.drop(col, axis = 1, inplace = True)\n",
    "print(check_column_presence(col))\n",
    "columns_that_are_dropped.append(col)"
   ]
  },
  {
   "cell_type": "markdown",
   "id": "05e752d0-222b-4f8b-a878-a6b2fe7c8d86",
   "metadata": {},
   "source": [
    "### 68. `calculated_host_listings_count_entire_homes` column"
   ]
  },
  {
   "cell_type": "code",
   "execution_count": 515,
   "id": "45a01c89-9aed-4639-9cf7-135665a0639c",
   "metadata": {},
   "outputs": [
    {
     "name": "stdout",
     "output_type": "stream",
     "text": [
      "COLUMN:  calculated_host_listings_count_entire_homes\n"
     ]
    }
   ],
   "source": [
    "idx = 68\n",
    "col = available_columns[idx]\n",
    "print(\"COLUMN: \", col)\n",
    "# data_dictionary[col]"
   ]
  },
  {
   "cell_type": "code",
   "execution_count": 516,
   "id": "832b23ad-f2b8-45d8-b92e-d15990fd7ee8",
   "metadata": {},
   "outputs": [
    {
     "data": {
      "text/plain": [
       "0        3\n",
       "1        0\n",
       "2        1\n",
       "3        0\n",
       "4        1\n",
       "        ..\n",
       "41528    1\n",
       "41529    0\n",
       "41530    2\n",
       "41531    1\n",
       "41532    2\n",
       "Name: calculated_host_listings_count_entire_homes, Length: 41533, dtype: object"
      ]
     },
     "execution_count": 516,
     "metadata": {},
     "output_type": "execute_result"
    }
   ],
   "source": [
    "df[col]"
   ]
  },
  {
   "cell_type": "markdown",
   "id": "814d9ff0-ca07-4a35-bc41-507f7109de30",
   "metadata": {},
   "source": [
    "The calculated_host_listings_count_entire_homes column represents the number of entire homes or apartments that are listed by the host, based on the listings data. It could potentially be useful in predicting the price of a rental, as hosts who list multiple entire homes may have different pricing strategies compared to hosts who list only a single room or share their own home.\n",
    "\n",
    "However, this column is closely related to other columns such as room_type and property_type, which also provide information about the type of listing. So, we will drop this column."
   ]
  },
  {
   "cell_type": "code",
   "execution_count": 517,
   "id": "f7a8d24c-9b10-4924-8632-c2547302cb97",
   "metadata": {},
   "outputs": [
    {
     "name": "stdout",
     "output_type": "stream",
     "text": [
      "Column |calculated_host_listings_count_entire_homes| has been removed !! \n"
     ]
    }
   ],
   "source": [
    "df.drop(col, axis = 1, inplace = True)\n",
    "print(check_column_presence(col))\n",
    "columns_that_are_dropped.append(col)"
   ]
  },
  {
   "cell_type": "markdown",
   "id": "af4e0fdf-0ba9-45f4-b356-9ef62b4f161c",
   "metadata": {},
   "source": [
    "### 69. `calculated_host_listings_count_private_rooms` column"
   ]
  },
  {
   "cell_type": "code",
   "execution_count": 518,
   "id": "f98de78b-53a9-4421-bdaa-f14997db44f2",
   "metadata": {},
   "outputs": [
    {
     "name": "stdout",
     "output_type": "stream",
     "text": [
      "COLUMN:  calculated_host_listings_count_private_rooms\n"
     ]
    }
   ],
   "source": [
    "idx = 69\n",
    "col = available_columns[idx]\n",
    "print(\"COLUMN: \", col)\n",
    "# data_dictionary[col]"
   ]
  },
  {
   "cell_type": "code",
   "execution_count": 519,
   "id": "74672a30-7e17-4822-9c04-533e8ab333cd",
   "metadata": {},
   "outputs": [
    {
     "data": {
      "text/plain": [
       "0         0\n",
       "1         1\n",
       "2         0\n",
       "3         2\n",
       "4         0\n",
       "         ..\n",
       "41528     0\n",
       "41529     1\n",
       "41530    35\n",
       "41531     0\n",
       "41532     0\n",
       "Name: calculated_host_listings_count_private_rooms, Length: 41533, dtype: object"
      ]
     },
     "execution_count": 519,
     "metadata": {},
     "output_type": "execute_result"
    }
   ],
   "source": [
    "df[col]"
   ]
  },
  {
   "cell_type": "markdown",
   "id": "42c3e5b9-8b24-4e7e-a433-d0b1062aa27a",
   "metadata": {},
   "source": [
    "The calculated_host_listings_count_private_rooms column is a subcategory of the calculated_host_listings_count column, which represents the number of listings that a host has across all room types. Specifically, calculated_host_listings_count_private_rooms represents the number of listings that a host has for private rooms only.\n",
    "\n",
    "This column could be useful in predicting price, as hosts with more private room listings may have a different pricing strategy than hosts with mostly entire home listings. However, the usefulness of this column depends on the specific research question and analysis being conducted.\n",
    "\n",
    "<b> We will be dropping this column."
   ]
  },
  {
   "cell_type": "code",
   "execution_count": 520,
   "id": "e51577fb-02d3-42b2-aa58-6f358170b027",
   "metadata": {},
   "outputs": [
    {
     "name": "stdout",
     "output_type": "stream",
     "text": [
      "Column |calculated_host_listings_count_private_rooms| has been removed !! \n"
     ]
    }
   ],
   "source": [
    "df.drop(col, axis = 1, inplace = True)\n",
    "print(check_column_presence(col))\n",
    "columns_that_are_dropped.append(col)"
   ]
  },
  {
   "cell_type": "markdown",
   "id": "d3ad0868-c910-4d12-8621-35b48281d58d",
   "metadata": {},
   "source": [
    "### 70. `calculated_host_listings_count_shared_rooms` column"
   ]
  },
  {
   "cell_type": "code",
   "execution_count": 521,
   "id": "88f006bd-d72c-4946-acd6-d97aa9ed1a2d",
   "metadata": {},
   "outputs": [
    {
     "name": "stdout",
     "output_type": "stream",
     "text": [
      "COLUMN:  calculated_host_listings_count_shared_rooms\n"
     ]
    }
   ],
   "source": [
    "idx = 70\n",
    "col = available_columns[idx]\n",
    "print(\"COLUMN: \", col)\n",
    "# data_dictionary[col]"
   ]
  },
  {
   "cell_type": "markdown",
   "id": "5087df24-84b8-4a79-8241-b307ba281909",
   "metadata": {},
   "source": [
    "The calculated_host_listings_count_shared_rooms column indicates the number of listings that are shared rooms in the host's total number of listings. This column may not be particularly useful in predicting the price of a rental, as it only pertains to a subset of listings and may not have a strong correlation with price. It could potentially be dropped if it is not relevant to the specific analysis being conducted."
   ]
  },
  {
   "cell_type": "code",
   "execution_count": 522,
   "id": "88840ef4-9226-405f-9fb7-6899817af211",
   "metadata": {},
   "outputs": [
    {
     "name": "stdout",
     "output_type": "stream",
     "text": [
      "Column |calculated_host_listings_count_shared_rooms| has been removed !! \n"
     ]
    }
   ],
   "source": [
    "df.drop(col, axis = 1, inplace = True)\n",
    "print(check_column_presence(col))\n",
    "columns_that_are_dropped.append(col)"
   ]
  },
  {
   "cell_type": "markdown",
   "id": "1be34e60-8b33-46fd-af17-aaf8e51e6f7e",
   "metadata": {},
   "source": [
    "### 71. `reviews_per_month` column"
   ]
  },
  {
   "cell_type": "code",
   "execution_count": 523,
   "id": "aafc0b5d-434f-4431-82b1-c85b08900da3",
   "metadata": {},
   "outputs": [
    {
     "name": "stdout",
     "output_type": "stream",
     "text": [
      "COLUMN:  reviews_per_month\n"
     ]
    }
   ],
   "source": [
    "idx = 71\n",
    "col = available_columns[idx]\n",
    "print(\"COLUMN: \", col)\n",
    "# data_dictionary[col]"
   ]
  },
  {
   "cell_type": "code",
   "execution_count": 524,
   "id": "fb90acdc-e898-4ba1-87dd-4064b1173308",
   "metadata": {},
   "outputs": [
    {
     "data": {
      "text/plain": [
       "0        0.31\n",
       "1        0.73\n",
       "2        0.03\n",
       "3        0.30\n",
       "4        1.13\n",
       "         ... \n",
       "41528     NaN\n",
       "41529     NaN\n",
       "41530     NaN\n",
       "41531     NaN\n",
       "41532     NaN\n",
       "Name: reviews_per_month, Length: 41533, dtype: object"
      ]
     },
     "execution_count": 524,
     "metadata": {},
     "output_type": "execute_result"
    }
   ],
   "source": [
    "df[col]"
   ]
  },
  {
   "cell_type": "markdown",
   "id": "92d1357a-4723-4afe-9f60-2985b32c6c11",
   "metadata": {},
   "source": [
    "The reviews_per_month column in the Airbnb dataset provides the average number of reviews per month for a listing. This column can be useful for predicting the popularity of a listing or its occupancy rate, but it may not have a direct impact on the price prediction. However, it could still be included as a feature in a machine learning model if it is found to be correlated with the target variable (i.e., the price).\n",
    "\n",
    "So, we will drop this column.\n",
    "\n",
    "\n"
   ]
  },
  {
   "cell_type": "code",
   "execution_count": 525,
   "id": "fd63e3c8-5c2f-471f-9676-4ecf374b4d70",
   "metadata": {},
   "outputs": [
    {
     "name": "stdout",
     "output_type": "stream",
     "text": [
      "Column |reviews_per_month| has been removed !! \n"
     ]
    }
   ],
   "source": [
    "df.drop(col, axis = 1, inplace = True)\n",
    "print(check_column_presence(col))\n",
    "columns_that_are_dropped.append(col)"
   ]
  },
  {
   "cell_type": "markdown",
   "id": "17c138c7-b8f3-480d-a976-1ad537eb6772",
   "metadata": {},
   "source": [
    "### 72. `bedrooms` column"
   ]
  },
  {
   "cell_type": "code",
   "execution_count": 526,
   "id": "bec8c4a8-1c84-477e-a4fb-a293c9426b9c",
   "metadata": {},
   "outputs": [
    {
     "name": "stdout",
     "output_type": "stream",
     "text": [
      "COLUMN:  bedrooms\n"
     ]
    },
    {
     "data": {
      "text/plain": [
       "'The number of bedrooms available in the Airbnb listing.'"
      ]
     },
     "execution_count": 526,
     "metadata": {},
     "output_type": "execute_result"
    }
   ],
   "source": [
    "idx = 72\n",
    "col = available_columns[idx]\n",
    "print(\"COLUMN: \", col)\n",
    "data_dictionary[col]"
   ]
  },
  {
   "cell_type": "code",
   "execution_count": 527,
   "id": "cad3a324-dfc2-452e-8dff-26cd9c4db69d",
   "metadata": {},
   "outputs": [
    {
     "data": {
      "text/plain": [
       "0        NaN\n",
       "1          1\n",
       "2          2\n",
       "3          1\n",
       "4        NaN\n",
       "        ... \n",
       "41528      2\n",
       "41529      1\n",
       "41530      1\n",
       "41531      2\n",
       "41532      2\n",
       "Name: bedrooms, Length: 41533, dtype: object"
      ]
     },
     "execution_count": 527,
     "metadata": {},
     "output_type": "execute_result"
    }
   ],
   "source": [
    "df[col]"
   ]
  },
  {
   "cell_type": "markdown",
   "id": "5faf3f66-1493-4f5b-8963-d16203b2ab29",
   "metadata": {},
   "source": [
    "This column will be important."
   ]
  },
  {
   "cell_type": "markdown",
   "id": "b54ed558-aaf4-4802-8532-ea79598a25bd",
   "metadata": {},
   "source": [
    "### 73. `license` column"
   ]
  },
  {
   "cell_type": "code",
   "execution_count": 528,
   "id": "11574dcd-70db-4ec7-8fb8-7531d405c76b",
   "metadata": {},
   "outputs": [
    {
     "name": "stdout",
     "output_type": "stream",
     "text": [
      "COLUMN:  license\n"
     ]
    }
   ],
   "source": [
    "idx = 73\n",
    "col = available_columns[idx]\n",
    "print(\"COLUMN: \", col)\n",
    "# data_dictionary[col]"
   ]
  },
  {
   "cell_type": "code",
   "execution_count": 529,
   "id": "9fe4ed1b-90cb-40ea-920d-03e4ac76f077",
   "metadata": {},
   "outputs": [
    {
     "data": {
      "text/plain": [
       "0.9999759227602147"
      ]
     },
     "execution_count": 529,
     "metadata": {},
     "output_type": "execute_result"
    }
   ],
   "source": [
    "df[col].isnull().sum() / df.shape[0]"
   ]
  },
  {
   "cell_type": "markdown",
   "id": "2c4bf681-28a0-41e5-8860-0eb73e82c736",
   "metadata": {},
   "source": [
    "Almost all of the values in this column are Null. So, we can simply drop this column as it is of no use to us."
   ]
  },
  {
   "cell_type": "code",
   "execution_count": 530,
   "id": "f718c8ad-205e-40cd-a342-0a6e159ee9a9",
   "metadata": {},
   "outputs": [
    {
     "name": "stdout",
     "output_type": "stream",
     "text": [
      "Column |license| has been removed !! \n"
     ]
    }
   ],
   "source": [
    "df.drop(col, axis = 1, inplace = True)\n",
    "print(check_column_presence(col))\n",
    "columns_that_are_dropped.append(col)"
   ]
  },
  {
   "cell_type": "markdown",
   "id": "0274ccc1-bcf8-450b-be1d-cf752b44ae04",
   "metadata": {},
   "source": [
    "### 74. `Picture URL` column"
   ]
  },
  {
   "cell_type": "code",
   "execution_count": 531,
   "id": "9f808ea8-34a5-4ff6-8902-d360e36c6a56",
   "metadata": {},
   "outputs": [],
   "source": [
    "col = 'picture_url'"
   ]
  },
  {
   "cell_type": "code",
   "execution_count": 532,
   "id": "2292006d-cb6a-4827-ba59-6d6a0c8cf0d1",
   "metadata": {},
   "outputs": [
    {
     "data": {
      "text/plain": [
       "'The URL of the main image of the Airbnb listing.'"
      ]
     },
     "execution_count": 532,
     "metadata": {},
     "output_type": "execute_result"
    }
   ],
   "source": [
    "data_dictionary['picture_url']"
   ]
  },
  {
   "cell_type": "code",
   "execution_count": 533,
   "id": "b8004f73-0f2d-49fd-a44c-ac7823b19d01",
   "metadata": {},
   "outputs": [
    {
     "data": {
      "text/plain": [
       "0        https://a0.muscache.com/pictures/f0813a11-40b2...\n",
       "1        https://a0.muscache.com/pictures/103776/b37157...\n",
       "2        https://a0.muscache.com/pictures/miso/Hosting-...\n",
       "3        https://a0.muscache.com/pictures/2090980c-b68e...\n",
       "4        https://a0.muscache.com/pictures/e4f031a7-f146...\n",
       "                               ...                        \n",
       "41528    https://a0.muscache.com/pictures/miso/Hosting-...\n",
       "41529    https://a0.muscache.com/pictures/miso/Hosting-...\n",
       "41530    https://a0.muscache.com/pictures/miso/Hosting-...\n",
       "41531    https://a0.muscache.com/pictures/miso/Hosting-...\n",
       "41532    https://a0.muscache.com/pictures/miso/Hosting-...\n",
       "Name: picture_url, Length: 41533, dtype: object"
      ]
     },
     "execution_count": 533,
     "metadata": {},
     "output_type": "execute_result"
    }
   ],
   "source": [
    "df['picture_url']"
   ]
  },
  {
   "cell_type": "markdown",
   "id": "c7c4f6da-f85d-47b5-86c2-d4eab10766bf",
   "metadata": {},
   "source": [
    "This column has no useful information. So, we drop this column as well/"
   ]
  },
  {
   "cell_type": "code",
   "execution_count": 534,
   "id": "e0c9ee2a-8baf-419e-867c-65b1b5c531bf",
   "metadata": {},
   "outputs": [
    {
     "name": "stdout",
     "output_type": "stream",
     "text": [
      "Column |picture_url| has been removed !! \n"
     ]
    }
   ],
   "source": [
    "df.drop(col, axis = 1, inplace = True)\n",
    "print(check_column_presence(col))\n",
    "columns_that_are_dropped.append(col)"
   ]
  },
  {
   "cell_type": "code",
   "execution_count": 535,
   "id": "9b208367-ad3b-4861-97bf-3132e0910064",
   "metadata": {},
   "outputs": [
    {
     "data": {
      "text/plain": [
       "43"
      ]
     },
     "execution_count": 535,
     "metadata": {},
     "output_type": "execute_result"
    }
   ],
   "source": [
    "len(columns_that_are_dropped)"
   ]
  },
  {
   "cell_type": "code",
   "execution_count": 536,
   "id": "1450e365-32e4-4b43-9654-b9e411fadc44",
   "metadata": {},
   "outputs": [],
   "source": [
    "# df.to_csv(\"Semi_cleaned_dataset.csv\", index = True)"
   ]
  },
  {
   "cell_type": "code",
   "execution_count": 537,
   "id": "7e6d8c30-7353-430b-b6ad-9c735778d0f8",
   "metadata": {},
   "outputs": [
    {
     "data": {
      "text/plain": [
       "31"
      ]
     },
     "execution_count": 537,
     "metadata": {},
     "output_type": "execute_result"
    }
   ],
   "source": [
    "75 - 44"
   ]
  },
  {
   "cell_type": "markdown",
   "id": "add28223-1ad1-4279-a813-5f8ad539cba8",
   "metadata": {},
   "source": [
    "### 75. `Price` column"
   ]
  },
  {
   "cell_type": "markdown",
   "id": "5224c831-36fc-4fde-829d-2554a45ceca4",
   "metadata": {},
   "source": [
    "we will be predicting the price. So, we will need this column for modelling purpose."
   ]
  },
  {
   "cell_type": "markdown",
   "id": "be87eaea-6d3f-4853-b331-5654ac6232b9",
   "metadata": {},
   "source": [
    "## Cleaning and visualizing columns"
   ]
  },
  {
   "cell_type": "code",
   "execution_count": 748,
   "id": "fc0b41f8-0848-4f6a-8de2-282bc7818666",
   "metadata": {},
   "outputs": [],
   "source": [
    "features_for_modelling = []"
   ]
  },
  {
   "cell_type": "code",
   "execution_count": 552,
   "id": "bf56a05f-de85-4453-89e0-d7513db210ca",
   "metadata": {},
   "outputs": [
    {
     "data": {
      "text/plain": [
       "Index(['host_response_time', 'host_response_rate', 'host_acceptance_rate',\n",
       "       'host_is_superhost', 'host_listings_count', 'host_has_profile_pic',\n",
       "       'host_identity_verified', 'neighbourhood_cleansed',\n",
       "       'neighbourhood_group_cleansed', 'latitude', 'longitude',\n",
       "       'property_type', 'room_type', 'accommodates', 'bathrooms_text', 'beds',\n",
       "       'amenities', 'price', 'minimum_nights', 'maximum_nights',\n",
       "       'number_of_reviews', 'review_scores_rating', 'review_scores_accuracy',\n",
       "       'review_scores_cleanliness', 'review_scores_checkin',\n",
       "       'review_scores_communication', 'review_scores_location',\n",
       "       'review_scores_value', 'instant_bookable', 'bedrooms'],\n",
       "      dtype='object')"
      ]
     },
     "execution_count": 552,
     "metadata": {},
     "output_type": "execute_result"
    }
   ],
   "source": [
    "df.columns"
   ]
  },
  {
   "cell_type": "code",
   "execution_count": 553,
   "id": "8079b00d-df06-416c-8bca-a5fd39daea95",
   "metadata": {},
   "outputs": [
    {
     "data": {
      "text/html": [
       "<div>\n",
       "<style scoped>\n",
       "    .dataframe tbody tr th:only-of-type {\n",
       "        vertical-align: middle;\n",
       "    }\n",
       "\n",
       "    .dataframe tbody tr th {\n",
       "        vertical-align: top;\n",
       "    }\n",
       "\n",
       "    .dataframe thead th {\n",
       "        text-align: right;\n",
       "    }\n",
       "</style>\n",
       "<table border=\"1\" class=\"dataframe\">\n",
       "  <thead>\n",
       "    <tr style=\"text-align: right;\">\n",
       "      <th></th>\n",
       "      <th>host_response_time</th>\n",
       "      <th>host_response_rate</th>\n",
       "      <th>host_acceptance_rate</th>\n",
       "      <th>host_is_superhost</th>\n",
       "      <th>host_listings_count</th>\n",
       "      <th>host_has_profile_pic</th>\n",
       "      <th>host_identity_verified</th>\n",
       "      <th>neighbourhood_cleansed</th>\n",
       "      <th>neighbourhood_group_cleansed</th>\n",
       "      <th>latitude</th>\n",
       "      <th>...</th>\n",
       "      <th>number_of_reviews</th>\n",
       "      <th>review_scores_rating</th>\n",
       "      <th>review_scores_accuracy</th>\n",
       "      <th>review_scores_cleanliness</th>\n",
       "      <th>review_scores_checkin</th>\n",
       "      <th>review_scores_communication</th>\n",
       "      <th>review_scores_location</th>\n",
       "      <th>review_scores_value</th>\n",
       "      <th>instant_bookable</th>\n",
       "      <th>bedrooms</th>\n",
       "    </tr>\n",
       "  </thead>\n",
       "  <tbody>\n",
       "    <tr>\n",
       "      <th>0</th>\n",
       "      <td>within a day</td>\n",
       "      <td>72%</td>\n",
       "      <td>22%</td>\n",
       "      <td>f</td>\n",
       "      <td>6</td>\n",
       "      <td>t</td>\n",
       "      <td>t</td>\n",
       "      <td>Midtown</td>\n",
       "      <td>Manhattan</td>\n",
       "      <td>40.75356</td>\n",
       "      <td>...</td>\n",
       "      <td>49</td>\n",
       "      <td>4.68</td>\n",
       "      <td>4.73</td>\n",
       "      <td>4.63</td>\n",
       "      <td>4.77</td>\n",
       "      <td>4.8</td>\n",
       "      <td>4.81</td>\n",
       "      <td>4.4</td>\n",
       "      <td>f</td>\n",
       "      <td>NaN</td>\n",
       "    </tr>\n",
       "    <tr>\n",
       "      <th>1</th>\n",
       "      <td>Unknown</td>\n",
       "      <td>N/A</td>\n",
       "      <td>N/A</td>\n",
       "      <td>f</td>\n",
       "      <td>1</td>\n",
       "      <td>t</td>\n",
       "      <td>t</td>\n",
       "      <td>Upper West Side</td>\n",
       "      <td>Manhattan</td>\n",
       "      <td>40.8038</td>\n",
       "      <td>...</td>\n",
       "      <td>118</td>\n",
       "      <td>4.91</td>\n",
       "      <td>4.83</td>\n",
       "      <td>4.82</td>\n",
       "      <td>4.97</td>\n",
       "      <td>4.95</td>\n",
       "      <td>4.94</td>\n",
       "      <td>4.92</td>\n",
       "      <td>f</td>\n",
       "      <td>1</td>\n",
       "    </tr>\n",
       "    <tr>\n",
       "      <th>2</th>\n",
       "      <td>Unknown</td>\n",
       "      <td>N/A</td>\n",
       "      <td>50%</td>\n",
       "      <td>f</td>\n",
       "      <td>1</td>\n",
       "      <td>t</td>\n",
       "      <td>t</td>\n",
       "      <td>Sunset Park</td>\n",
       "      <td>Brooklyn</td>\n",
       "      <td>40.66265</td>\n",
       "      <td>...</td>\n",
       "      <td>3</td>\n",
       "      <td>5.0</td>\n",
       "      <td>5.0</td>\n",
       "      <td>5.0</td>\n",
       "      <td>5.0</td>\n",
       "      <td>5.0</td>\n",
       "      <td>4.67</td>\n",
       "      <td>5.0</td>\n",
       "      <td>f</td>\n",
       "      <td>2</td>\n",
       "    </tr>\n",
       "    <tr>\n",
       "      <th>3</th>\n",
       "      <td>within a day</td>\n",
       "      <td>90%</td>\n",
       "      <td>82%</td>\n",
       "      <td>t</td>\n",
       "      <td>2</td>\n",
       "      <td>t</td>\n",
       "      <td>t</td>\n",
       "      <td>Bedford-Stuyvesant</td>\n",
       "      <td>Brooklyn</td>\n",
       "      <td>40.68535</td>\n",
       "      <td>...</td>\n",
       "      <td>50</td>\n",
       "      <td>4.52</td>\n",
       "      <td>4.22</td>\n",
       "      <td>4.09</td>\n",
       "      <td>4.91</td>\n",
       "      <td>4.91</td>\n",
       "      <td>4.47</td>\n",
       "      <td>4.52</td>\n",
       "      <td>f</td>\n",
       "      <td>1</td>\n",
       "    </tr>\n",
       "    <tr>\n",
       "      <th>4</th>\n",
       "      <td>within an hour</td>\n",
       "      <td>100%</td>\n",
       "      <td>100%</td>\n",
       "      <td>f</td>\n",
       "      <td>1</td>\n",
       "      <td>t</td>\n",
       "      <td>t</td>\n",
       "      <td>Williamsburg</td>\n",
       "      <td>Brooklyn</td>\n",
       "      <td>40.70935</td>\n",
       "      <td>...</td>\n",
       "      <td>187</td>\n",
       "      <td>4.57</td>\n",
       "      <td>4.59</td>\n",
       "      <td>4.86</td>\n",
       "      <td>4.84</td>\n",
       "      <td>4.8</td>\n",
       "      <td>4.67</td>\n",
       "      <td>4.56</td>\n",
       "      <td>f</td>\n",
       "      <td>NaN</td>\n",
       "    </tr>\n",
       "    <tr>\n",
       "      <th>...</th>\n",
       "      <td>...</td>\n",
       "      <td>...</td>\n",
       "      <td>...</td>\n",
       "      <td>...</td>\n",
       "      <td>...</td>\n",
       "      <td>...</td>\n",
       "      <td>...</td>\n",
       "      <td>...</td>\n",
       "      <td>...</td>\n",
       "      <td>...</td>\n",
       "      <td>...</td>\n",
       "      <td>...</td>\n",
       "      <td>...</td>\n",
       "      <td>...</td>\n",
       "      <td>...</td>\n",
       "      <td>...</td>\n",
       "      <td>...</td>\n",
       "      <td>...</td>\n",
       "      <td>...</td>\n",
       "      <td>...</td>\n",
       "      <td>...</td>\n",
       "    </tr>\n",
       "    <tr>\n",
       "      <th>41528</th>\n",
       "      <td>within an hour</td>\n",
       "      <td>100%</td>\n",
       "      <td>100%</td>\n",
       "      <td>f</td>\n",
       "      <td>1</td>\n",
       "      <td>t</td>\n",
       "      <td>t</td>\n",
       "      <td>Kingsbridge</td>\n",
       "      <td>Bronx</td>\n",
       "      <td>40.87093610000001</td>\n",
       "      <td>...</td>\n",
       "      <td>0</td>\n",
       "      <td>NaN</td>\n",
       "      <td>NaN</td>\n",
       "      <td>NaN</td>\n",
       "      <td>NaN</td>\n",
       "      <td>NaN</td>\n",
       "      <td>NaN</td>\n",
       "      <td>NaN</td>\n",
       "      <td>f</td>\n",
       "      <td>2</td>\n",
       "    </tr>\n",
       "    <tr>\n",
       "      <th>41529</th>\n",
       "      <td>within a few hours</td>\n",
       "      <td>100%</td>\n",
       "      <td>100%</td>\n",
       "      <td>f</td>\n",
       "      <td>1</td>\n",
       "      <td>f</td>\n",
       "      <td>t</td>\n",
       "      <td>Jamaica</td>\n",
       "      <td>Queens</td>\n",
       "      <td>40.6989115737136</td>\n",
       "      <td>...</td>\n",
       "      <td>0</td>\n",
       "      <td>NaN</td>\n",
       "      <td>NaN</td>\n",
       "      <td>NaN</td>\n",
       "      <td>NaN</td>\n",
       "      <td>NaN</td>\n",
       "      <td>NaN</td>\n",
       "      <td>NaN</td>\n",
       "      <td>t</td>\n",
       "      <td>1</td>\n",
       "    </tr>\n",
       "    <tr>\n",
       "      <th>41530</th>\n",
       "      <td>within an hour</td>\n",
       "      <td>98%</td>\n",
       "      <td>86%</td>\n",
       "      <td>f</td>\n",
       "      <td>40</td>\n",
       "      <td>t</td>\n",
       "      <td>t</td>\n",
       "      <td>Morningside Heights</td>\n",
       "      <td>Manhattan</td>\n",
       "      <td>40.80259</td>\n",
       "      <td>...</td>\n",
       "      <td>0</td>\n",
       "      <td>NaN</td>\n",
       "      <td>NaN</td>\n",
       "      <td>NaN</td>\n",
       "      <td>NaN</td>\n",
       "      <td>NaN</td>\n",
       "      <td>NaN</td>\n",
       "      <td>NaN</td>\n",
       "      <td>t</td>\n",
       "      <td>1</td>\n",
       "    </tr>\n",
       "    <tr>\n",
       "      <th>41531</th>\n",
       "      <td>Unknown</td>\n",
       "      <td>N/A</td>\n",
       "      <td>N/A</td>\n",
       "      <td>f</td>\n",
       "      <td>1</td>\n",
       "      <td>t</td>\n",
       "      <td>t</td>\n",
       "      <td>Unionport</td>\n",
       "      <td>Bronx</td>\n",
       "      <td>40.828074</td>\n",
       "      <td>...</td>\n",
       "      <td>0</td>\n",
       "      <td>NaN</td>\n",
       "      <td>NaN</td>\n",
       "      <td>NaN</td>\n",
       "      <td>NaN</td>\n",
       "      <td>NaN</td>\n",
       "      <td>NaN</td>\n",
       "      <td>NaN</td>\n",
       "      <td>t</td>\n",
       "      <td>2</td>\n",
       "    </tr>\n",
       "    <tr>\n",
       "      <th>41532</th>\n",
       "      <td>within a few hours</td>\n",
       "      <td>83%</td>\n",
       "      <td>100%</td>\n",
       "      <td>f</td>\n",
       "      <td>2</td>\n",
       "      <td>t</td>\n",
       "      <td>t</td>\n",
       "      <td>Chelsea</td>\n",
       "      <td>Manhattan</td>\n",
       "      <td>40.740030367077864</td>\n",
       "      <td>...</td>\n",
       "      <td>0</td>\n",
       "      <td>NaN</td>\n",
       "      <td>NaN</td>\n",
       "      <td>NaN</td>\n",
       "      <td>NaN</td>\n",
       "      <td>NaN</td>\n",
       "      <td>NaN</td>\n",
       "      <td>NaN</td>\n",
       "      <td>t</td>\n",
       "      <td>2</td>\n",
       "    </tr>\n",
       "  </tbody>\n",
       "</table>\n",
       "<p>41533 rows × 30 columns</p>\n",
       "</div>"
      ],
      "text/plain": [
       "       host_response_time host_response_rate host_acceptance_rate  \\\n",
       "0            within a day                72%                  22%   \n",
       "1                 Unknown                N/A                  N/A   \n",
       "2                 Unknown                N/A                  50%   \n",
       "3            within a day                90%                  82%   \n",
       "4          within an hour               100%                 100%   \n",
       "...                   ...                ...                  ...   \n",
       "41528      within an hour               100%                 100%   \n",
       "41529  within a few hours               100%                 100%   \n",
       "41530      within an hour                98%                  86%   \n",
       "41531             Unknown                N/A                  N/A   \n",
       "41532  within a few hours                83%                 100%   \n",
       "\n",
       "      host_is_superhost host_listings_count host_has_profile_pic  \\\n",
       "0                     f                   6                    t   \n",
       "1                     f                   1                    t   \n",
       "2                     f                   1                    t   \n",
       "3                     t                   2                    t   \n",
       "4                     f                   1                    t   \n",
       "...                 ...                 ...                  ...   \n",
       "41528                 f                   1                    t   \n",
       "41529                 f                   1                    f   \n",
       "41530                 f                  40                    t   \n",
       "41531                 f                   1                    t   \n",
       "41532                 f                   2                    t   \n",
       "\n",
       "      host_identity_verified neighbourhood_cleansed  \\\n",
       "0                          t                Midtown   \n",
       "1                          t        Upper West Side   \n",
       "2                          t            Sunset Park   \n",
       "3                          t     Bedford-Stuyvesant   \n",
       "4                          t           Williamsburg   \n",
       "...                      ...                    ...   \n",
       "41528                      t            Kingsbridge   \n",
       "41529                      t                Jamaica   \n",
       "41530                      t    Morningside Heights   \n",
       "41531                      t              Unionport   \n",
       "41532                      t                Chelsea   \n",
       "\n",
       "      neighbourhood_group_cleansed            latitude  ... number_of_reviews  \\\n",
       "0                        Manhattan            40.75356  ...                49   \n",
       "1                        Manhattan             40.8038  ...               118   \n",
       "2                         Brooklyn            40.66265  ...                 3   \n",
       "3                         Brooklyn            40.68535  ...                50   \n",
       "4                         Brooklyn            40.70935  ...               187   \n",
       "...                            ...                 ...  ...               ...   \n",
       "41528                        Bronx   40.87093610000001  ...                 0   \n",
       "41529                       Queens    40.6989115737136  ...                 0   \n",
       "41530                    Manhattan            40.80259  ...                 0   \n",
       "41531                        Bronx           40.828074  ...                 0   \n",
       "41532                    Manhattan  40.740030367077864  ...                 0   \n",
       "\n",
       "      review_scores_rating review_scores_accuracy review_scores_cleanliness  \\\n",
       "0                     4.68                   4.73                      4.63   \n",
       "1                     4.91                   4.83                      4.82   \n",
       "2                      5.0                    5.0                       5.0   \n",
       "3                     4.52                   4.22                      4.09   \n",
       "4                     4.57                   4.59                      4.86   \n",
       "...                    ...                    ...                       ...   \n",
       "41528                  NaN                    NaN                       NaN   \n",
       "41529                  NaN                    NaN                       NaN   \n",
       "41530                  NaN                    NaN                       NaN   \n",
       "41531                  NaN                    NaN                       NaN   \n",
       "41532                  NaN                    NaN                       NaN   \n",
       "\n",
       "      review_scores_checkin review_scores_communication  \\\n",
       "0                      4.77                         4.8   \n",
       "1                      4.97                        4.95   \n",
       "2                       5.0                         5.0   \n",
       "3                      4.91                        4.91   \n",
       "4                      4.84                         4.8   \n",
       "...                     ...                         ...   \n",
       "41528                   NaN                         NaN   \n",
       "41529                   NaN                         NaN   \n",
       "41530                   NaN                         NaN   \n",
       "41531                   NaN                         NaN   \n",
       "41532                   NaN                         NaN   \n",
       "\n",
       "      review_scores_location  review_scores_value instant_bookable bedrooms  \n",
       "0                       4.81                  4.4                f      NaN  \n",
       "1                       4.94                 4.92                f        1  \n",
       "2                       4.67                  5.0                f        2  \n",
       "3                       4.47                 4.52                f        1  \n",
       "4                       4.67                 4.56                f      NaN  \n",
       "...                      ...                  ...              ...      ...  \n",
       "41528                    NaN                  NaN                f        2  \n",
       "41529                    NaN                  NaN                t        1  \n",
       "41530                    NaN                  NaN                t        1  \n",
       "41531                    NaN                  NaN                t        2  \n",
       "41532                    NaN                  NaN                t        2  \n",
       "\n",
       "[41533 rows x 30 columns]"
      ]
     },
     "execution_count": 553,
     "metadata": {},
     "output_type": "execute_result"
    }
   ],
   "source": [
    "df"
   ]
  },
  {
   "cell_type": "markdown",
   "id": "325d6d2f-0fc6-4e9d-9c6a-1bc50619cb04",
   "metadata": {},
   "source": [
    "## Cleaning and exploring `price` column"
   ]
  },
  {
   "cell_type": "code",
   "execution_count": 540,
   "id": "bea63cb6-acfc-49ab-8774-3ee0c0460e22",
   "metadata": {},
   "outputs": [
    {
     "data": {
      "text/plain": [
       "0          $175.00\n",
       "1           $75.00\n",
       "2          $275.00\n",
       "3           $60.00\n",
       "4           $68.00\n",
       "           ...    \n",
       "41528      $105.00\n",
       "41529       $87.00\n",
       "41530       $70.00\n",
       "41531      $125.00\n",
       "41532    $1,114.00\n",
       "Name: price, Length: 41533, dtype: object"
      ]
     },
     "execution_count": 540,
     "metadata": {},
     "output_type": "execute_result"
    }
   ],
   "source": [
    "df['price']"
   ]
  },
  {
   "cell_type": "markdown",
   "id": "8fafd9f1-ca23-4832-b5c9-8373a939da95",
   "metadata": {},
   "source": [
    "we will drop `$` as we need raw numbers for further analysis. Additionally, I will proceed to convert the values to float64."
   ]
  },
  {
   "cell_type": "code",
   "execution_count": 541,
   "id": "6d93ddf0-c88e-4909-a37f-2862df213f84",
   "metadata": {},
   "outputs": [
    {
     "data": {
      "text/plain": [
       "'175.00'"
      ]
     },
     "execution_count": 541,
     "metadata": {},
     "output_type": "execute_result"
    }
   ],
   "source": [
    "df['price'].iloc[0].replace(\"$\", \"\")"
   ]
  },
  {
   "cell_type": "code",
   "execution_count": 542,
   "id": "d7333825-82b8-4825-9e54-117a719a9c19",
   "metadata": {},
   "outputs": [],
   "source": [
    "df['price'] = df['price'].apply(lambda x : x.replace(\"$\", \"\"))"
   ]
  },
  {
   "cell_type": "code",
   "execution_count": 543,
   "id": "9e1432d5-5f31-4bfe-a7de-b69b063454d8",
   "metadata": {},
   "outputs": [
    {
     "data": {
      "text/plain": [
       "'1,114.00'"
      ]
     },
     "execution_count": 543,
     "metadata": {},
     "output_type": "execute_result"
    }
   ],
   "source": [
    "df['price'].iloc[41532]"
   ]
  },
  {
   "cell_type": "markdown",
   "id": "52b30879-9e99-45d1-9ba2-15329922195d",
   "metadata": {},
   "source": [
    "we still need to remove comma from the values."
   ]
  },
  {
   "cell_type": "code",
   "execution_count": 544,
   "id": "7ccee870-e8e4-4170-bbfa-6326f22591a2",
   "metadata": {},
   "outputs": [],
   "source": [
    "df['price'] = df['price'].apply(lambda x : x.replace(\",\", \"\"))"
   ]
  },
  {
   "cell_type": "code",
   "execution_count": 545,
   "id": "761efa0e-20e7-4a07-af85-e53d3366428b",
   "metadata": {},
   "outputs": [],
   "source": [
    "df['price'] = df['price'].astype(np.float32)"
   ]
  },
  {
   "cell_type": "markdown",
   "id": "5b217f86-c9eb-419c-ad68-3fa7074ebc5f",
   "metadata": {},
   "source": [
    "<b> lets remove and cap outliers with a maximum possible value. We will use outlier formula with Inter quartile range for outlier remvoal"
   ]
  },
  {
   "cell_type": "code",
   "execution_count": 609,
   "id": "b6f93ffc-dd1a-4034-8657-c7f046612484",
   "metadata": {},
   "outputs": [],
   "source": [
    "price = df['price']"
   ]
  },
  {
   "cell_type": "code",
   "execution_count": 610,
   "id": "68c9e27b-41e4-4cae-8bc9-e25e42951acb",
   "metadata": {},
   "outputs": [
    {
     "name": "stdout",
     "output_type": "stream",
     "text": [
      "Q1:  80.0\n",
      "Q3:  220.0\n"
     ]
    }
   ],
   "source": [
    "q1 = np.quantile(price, 0.25)\n",
    "q3 = np.quantile(price, 0.75)\n",
    "\n",
    "print(\"Q1: \", q1)\n",
    "print(\"Q3: \", q3)"
   ]
  },
  {
   "cell_type": "code",
   "execution_count": 611,
   "id": "56975d60-56fe-4246-a3aa-031175d1fccc",
   "metadata": {},
   "outputs": [
    {
     "data": {
      "text/plain": [
       "140.0"
      ]
     },
     "execution_count": 611,
     "metadata": {},
     "output_type": "execute_result"
    }
   ],
   "source": [
    "iqr = q3 - q1;iqr"
   ]
  },
  {
   "cell_type": "code",
   "execution_count": 612,
   "id": "51aa7953-d69c-482e-989d-0aedece8da16",
   "metadata": {},
   "outputs": [
    {
     "data": {
      "text/plain": [
       "[-130.0, 430.0]"
      ]
     },
     "execution_count": 612,
     "metadata": {},
     "output_type": "execute_result"
    }
   ],
   "source": [
    "range_out = [q1 - 1.5 * iqr, q3 + 1.5 * iqr];range_out"
   ]
  },
  {
   "cell_type": "code",
   "execution_count": 616,
   "id": "a49cca6f-c530-487b-92e0-7f79e59263cb",
   "metadata": {},
   "outputs": [],
   "source": [
    "price_outlier_removed = price.apply(lambda x: range_out[0] if x < range_out[0] else range_out[1] if x > range_out[1] else x)"
   ]
  },
  {
   "cell_type": "code",
   "execution_count": 649,
   "id": "499e5b76-a785-4e34-bd37-bbb01dbea52b",
   "metadata": {},
   "outputs": [
    {
     "data": {
      "text/plain": [
       "Text(0.5, 0.95, 'Distribution of Price')"
      ]
     },
     "execution_count": 649,
     "metadata": {},
     "output_type": "execute_result"
    },
    {
     "data": {
      "image/png": "[encoded data removed]",
      "text/plain": [
       "<Figure size 1500x700 with 2 Axes>"
      ]
     },
     "metadata": {},
     "output_type": "display_data"
    }
   ],
   "source": [
    "fig, axes = plt.subplots(1, 2, figsize=(15, 7))\n",
    "\n",
    "ax = plt.subplot(1, 2, 1)\n",
    "\n",
    "hist_with_outliers = sns.histplot(x = df['price'], kde = True, bins = 100, ax = ax)\n",
    "ax.set_ylabel(\"\")\n",
    "ax.set_xlabel(\"\")\n",
    "\n",
    "ax.xaxis.set_tick_params(labelsize=15)\n",
    "ax.yaxis.set_tick_params(labelsize=15)\n",
    "\n",
    "ax.spines['bottom'].set_color('black')\n",
    "ax.spines['top'].set_color('black') \n",
    "ax.spines['right'].set_color('black')\n",
    "ax.spines['right'].set_linewidth(2)\n",
    "ax.spines['top'].set_linewidth(2)\n",
    "ax.spines['bottom'].set_linewidth(2)\n",
    "ax.spines['left'].set_color('black')\n",
    "ax.spines['left'].set_lw(2) \n",
    "ax.tick_params(which='both', width=2)\n",
    "ax.tick_params(which='major', length=7)\n",
    "ax.tick_params(which='minor', length=7)\n",
    "ax.tick_params(which = 'both', direction = 'in')\n",
    "\n",
    "ax.text(0.85, 1.45, \"With outliers\", horizontalalignment='center',\\\n",
    "     transform=ax1.transAxes, fontsize = 15, fontweight=\"bold\", rotation = 'horizontal')\n",
    "\n",
    "\n",
    "ax = plt.subplot(1, 2, 2)\n",
    "\n",
    "hist_without_outliers = sns.histplot(x = price_outlier_removed, kde = True, bins = 100, ax = ax)\n",
    "ax.xaxis.set_tick_params(labelsize=15)\n",
    "ax.yaxis.set_tick_params(labelsize=15)\n",
    "ax.set_ylabel(\"\")\n",
    "ax.set_xlabel(\"\")\n",
    "\n",
    "# set various colors\n",
    "ax.spines['bottom'].set_color('black')\n",
    "ax.spines['top'].set_color('black') \n",
    "ax.spines['right'].set_color('black')\n",
    "ax.spines['right'].set_linewidth(2)\n",
    "ax.spines['top'].set_linewidth(2)\n",
    "ax.spines['bottom'].set_linewidth(2)\n",
    "ax.spines['left'].set_color('black')\n",
    "ax.spines['left'].set_lw(2) \n",
    "ax.tick_params(which='both', width=2)\n",
    "ax.tick_params(which='major', length=7)\n",
    "ax.tick_params(which='minor', length=7)\n",
    "ax.tick_params(which = 'both', direction = 'in')\n",
    "ax.text(1.925, 1.45, \"Without outliers\", horizontalalignment='center',\\\n",
    "     transform=ax1.transAxes, fontsize = 15, fontweight=\"bold\", rotation = 'horizontal')\n",
    "\n",
    "plt.subplots_adjust(wspace=0.15, hspace=0.075)\n",
    "fig.text(0.07, 0.5, 'Count', ha='center', va='center', rotation='vertical', fontsize = 20)\n",
    "fig.text(0.5, 0., 'Price in USD', ha='center', va='center', rotation='horizontal', fontsize = 20)\n",
    "\n",
    "fig.text(0.5, 0.95, 'Distribution of Price', ha='center', va='center', rotation='horizontal', fontsize = 25)\n",
    "\n",
    "# plt.savefig('percentage_of_null_values.jpg',  bbox_inches='tight', dpi = 500)"
   ]
  },
  {
   "cell_type": "code",
   "execution_count": 652,
   "id": "5e46075d-e2e5-4a4e-8ef5-11489d35c77b",
   "metadata": {},
   "outputs": [
    {
     "name": "stdout",
     "output_type": "stream",
     "text": [
      "THE Maximum cost of a rental is:  98159.0\n"
     ]
    }
   ],
   "source": [
    "print(\"THE Maximum cost of a rental is: \", price.max()) # maximum price of a rental"
   ]
  },
  {
   "cell_type": "code",
   "execution_count": 654,
   "id": "c5968b24-e408-4a03-8b42-4d4fb187ab15",
   "metadata": {},
   "outputs": [
    {
     "data": {
      "text/plain": [
       "329      2500.0\n",
       "368      1100.0\n",
       "478      5560.0\n",
       "710      2000.0\n",
       "828      2500.0\n",
       "          ...  \n",
       "41443    9999.0\n",
       "41484    3888.0\n",
       "41485    3888.0\n",
       "41486    2830.0\n",
       "41532    1114.0\n",
       "Name: price, Length: 780, dtype: float32"
      ]
     },
     "execution_count": 654,
     "metadata": {},
     "output_type": "execute_result"
    }
   ],
   "source": [
    "price[price>1000]"
   ]
  },
  {
   "cell_type": "markdown",
   "id": "6637af40-a884-4894-8d72-6b4d3d26cc0f",
   "metadata": {},
   "source": [
    "<b> 780 rentals are priced more than $ 1000."
   ]
  },
  {
   "cell_type": "markdown",
   "id": "4838c279-daca-4ff9-b81d-b92f5a303a1d",
   "metadata": {},
   "source": [
    "It can be seen that the price column is very much positively or right skewed. It looks like majority of the rentals have price between 50 to 300. Some rentals are extremely expensive. Some are even higher than 1000. One costs $ 98159 which seems to indicate there are another variables at play here. Perhaps, the rental is a penthouse located in an extremely expensive neighbourhood?. We will need to look into it. We will keep the original column as it is because we can't simply remove outliers unless we are certain that they are not errors but correct values."
   ]
  },
  {
   "cell_type": "code",
   "execution_count": 665,
   "id": "35ab4091-279c-4069-b957-b0cc489d6c60",
   "metadata": {},
   "outputs": [],
   "source": [
    "df['price_outlier_removed'] = price_outlier_removed"
   ]
  },
  {
   "cell_type": "markdown",
   "id": "1a01efcf-56c6-4a7b-89e0-c1d1af41b561",
   "metadata": {},
   "source": [
    "## `host_response_time` vs `Price`"
   ]
  },
  {
   "cell_type": "code",
   "execution_count": 657,
   "id": "a5318424-a9ec-4896-8e46-24c3d88cba86",
   "metadata": {},
   "outputs": [
    {
     "data": {
      "text/plain": [
       "within an hour        18063\n",
       "Unknown               13645\n",
       "within a few hours     5997\n",
       "within a day           3201\n",
       "a few days or more      627\n",
       "Name: host_response_time, dtype: int64"
      ]
     },
     "execution_count": 657,
     "metadata": {},
     "output_type": "execute_result"
    }
   ],
   "source": [
    "df['host_response_time'].value_counts()"
   ]
  },
  {
   "cell_type": "code",
   "execution_count": 672,
   "id": "b213b7f9-c7bc-4d00-a1b0-eac3d6dc0e33",
   "metadata": {},
   "outputs": [
    {
     "data": {
      "text/plain": [
       "{'within an hour': 18063,\n",
       " 'Unknown': 13645,\n",
       " 'within a few hours': 5997,\n",
       " 'within a day': 3201,\n",
       " 'a few days or more': 627}"
      ]
     },
     "execution_count": 672,
     "metadata": {},
     "output_type": "execute_result"
    }
   ],
   "source": [
    "dictionary"
   ]
  },
  {
   "cell_type": "code",
   "execution_count": 718,
   "id": "baeaefd1-aa05-4cfc-b42e-4fe429d0e281",
   "metadata": {},
   "outputs": [
    {
     "data": {
      "text/html": [
       "<div>\n",
       "<style scoped>\n",
       "    .dataframe tbody tr th:only-of-type {\n",
       "        vertical-align: middle;\n",
       "    }\n",
       "\n",
       "    .dataframe tbody tr th {\n",
       "        vertical-align: top;\n",
       "    }\n",
       "\n",
       "    .dataframe thead th {\n",
       "        text-align: right;\n",
       "    }\n",
       "</style>\n",
       "<table border=\"1\" class=\"dataframe\">\n",
       "  <thead>\n",
       "    <tr style=\"text-align: right;\">\n",
       "      <th></th>\n",
       "      <th>host_response_time</th>\n",
       "      <th>price</th>\n",
       "      <th>Count</th>\n",
       "    </tr>\n",
       "  </thead>\n",
       "  <tbody>\n",
       "    <tr>\n",
       "      <th>0</th>\n",
       "      <td>Unknown</td>\n",
       "      <td>166.947754</td>\n",
       "      <td>13645</td>\n",
       "    </tr>\n",
       "    <tr>\n",
       "      <th>1</th>\n",
       "      <td>a few days or more</td>\n",
       "      <td>253.205734</td>\n",
       "      <td>627</td>\n",
       "    </tr>\n",
       "    <tr>\n",
       "      <th>2</th>\n",
       "      <td>within a day</td>\n",
       "      <td>253.366135</td>\n",
       "      <td>3201</td>\n",
       "    </tr>\n",
       "    <tr>\n",
       "      <th>3</th>\n",
       "      <td>within a few hours</td>\n",
       "      <td>203.245956</td>\n",
       "      <td>5997</td>\n",
       "    </tr>\n",
       "    <tr>\n",
       "      <th>4</th>\n",
       "      <td>within an hour</td>\n",
       "      <td>263.121918</td>\n",
       "      <td>18063</td>\n",
       "    </tr>\n",
       "  </tbody>\n",
       "</table>\n",
       "</div>"
      ],
      "text/plain": [
       "   host_response_time       price  Count\n",
       "0             Unknown  166.947754  13645\n",
       "1  a few days or more  253.205734    627\n",
       "2        within a day  253.366135   3201\n",
       "3  within a few hours  203.245956   5997\n",
       "4      within an hour  263.121918  18063"
      ]
     },
     "execution_count": 718,
     "metadata": {},
     "output_type": "execute_result"
    }
   ],
   "source": [
    "price_vs_response_time = df.groupby('host_response_time')['price'].mean().reset_index()\n",
    "price_vs_response_time['Count'] = [13645, 627, 3201, 5997, 18063]\n",
    "price_vs_response_time"
   ]
  },
  {
   "cell_type": "code",
   "execution_count": 719,
   "id": "f9b5e3d8-f9b2-47ea-93ea-0dc8057144e9",
   "metadata": {},
   "outputs": [
    {
     "data": {
      "text/plain": [
       "Text(0.04, 0.5, 'Count')"
      ]
     },
     "execution_count": 719,
     "metadata": {},
     "output_type": "execute_result"
    },
    {
     "data": {
      "image/png": "[encoded data removed]",
      "text/plain": [
       "<Figure size 1200x500 with 2 Axes>"
      ]
     },
     "metadata": {},
     "output_type": "display_data"
    }
   ],
   "source": [
    "fig, ax = plt.subplots(figsize=(12, 5))\n",
    "\n",
    "bar = sns.barplot(x = price_vs_response_time['host_response_time'], y = price_vs_response_time['Count'], ax  =ax)\n",
    "bar.set_xlabel(\"\")\n",
    "bar.set_ylabel(\"\")\n",
    "\n",
    "ax1 = ax.twinx()\n",
    "ax1.plot(range(5), price_vs_response_time['price'], color = 'red', marker = 'o', markersize = 12.5)\n",
    "\n",
    "\n",
    "ax.xaxis.set_tick_params(labelsize=15)\n",
    "ax.yaxis.set_tick_params(labelsize=15)\n",
    "\n",
    "plt.text(0.5, 1.05, 'Response Time for Hosts vs Original Price',\n",
    "        horizontalalignment='center',\n",
    "        fontsize=20,\n",
    "        transform = ax.transAxes)\n",
    "\n",
    "plt.xticks(rotation = 90)\n",
    "ax.margins(x=0.02)\n",
    "\n",
    "# set various colors\n",
    "ax.spines['bottom'].set_color('black')\n",
    "ax.spines['top'].set_color('black') \n",
    "ax.spines['right'].set_color('black')\n",
    "ax.spines['right'].set_linewidth(2)\n",
    "ax.spines['top'].set_linewidth(2)\n",
    "ax.spines['bottom'].set_linewidth(2)\n",
    "ax.spines['left'].set_color('black')\n",
    "ax.spines['left'].set_lw(2) \n",
    "ax.tick_params(which='both', width=2)\n",
    "ax.tick_params(which='major', length=7)\n",
    "ax.tick_params(which='minor', length=7)\n",
    "ax.tick_params(which = 'both', direction = 'in')\n",
    "\n",
    "ax1.spines['bottom'].set_color('black')\n",
    "ax1.spines['top'].set_color('black') \n",
    "ax1.spines['right'].set_color('black')\n",
    "ax1.spines['right'].set_linewidth(2)\n",
    "ax1.spines['top'].set_linewidth(2)\n",
    "ax1.spines['bottom'].set_linewidth(2)\n",
    "ax1.spines['left'].set_color('black')\n",
    "ax1.spines['left'].set_lw(2) \n",
    "ax1.tick_params(which='both', width=2)\n",
    "ax1.tick_params(which='major', length=7)\n",
    "ax1.tick_params(which='minor', length=7)\n",
    "ax1.tick_params(which = 'both', direction = 'in')\n",
    "ax1.margins(x=0.02)\n",
    "ax1.xaxis.set_tick_params(labelsize=15)\n",
    "ax1.yaxis.set_tick_params(labelsize=15, labelcolor = 'red')\n",
    "\n",
    "fig.text(0.95, 0.5, 'Price', ha='center', va='center', rotation = 'vertical', color = 'red', fontsize = 20)\n",
    "fig.text(0.04, 0.5, 'Count', ha='center', va='center', rotation='vertical', fontsize = 20)\n"
   ]
  },
  {
   "cell_type": "markdown",
   "id": "abade38e-c15c-436c-ad55-418ddf7b6dea",
   "metadata": {},
   "source": [
    "It looks like due to too much skewness, we can't find relavant relationship between the price of a rental and how quickly a host responds to inquiries. So, lets aggregate using `price_outlier_removed` column."
   ]
  },
  {
   "cell_type": "code",
   "execution_count": 720,
   "id": "f8615ac5-3d19-4f68-b6dc-5dcaaf11f678",
   "metadata": {},
   "outputs": [
    {
     "data": {
      "text/html": [
       "<div>\n",
       "<style scoped>\n",
       "    .dataframe tbody tr th:only-of-type {\n",
       "        vertical-align: middle;\n",
       "    }\n",
       "\n",
       "    .dataframe tbody tr th {\n",
       "        vertical-align: top;\n",
       "    }\n",
       "\n",
       "    .dataframe thead th {\n",
       "        text-align: right;\n",
       "    }\n",
       "</style>\n",
       "<table border=\"1\" class=\"dataframe\">\n",
       "  <thead>\n",
       "    <tr style=\"text-align: right;\">\n",
       "      <th></th>\n",
       "      <th>host_response_time</th>\n",
       "      <th>price_outlier_removed</th>\n",
       "      <th>Count</th>\n",
       "    </tr>\n",
       "  </thead>\n",
       "  <tbody>\n",
       "    <tr>\n",
       "      <th>0</th>\n",
       "      <td>Unknown</td>\n",
       "      <td>137.706852</td>\n",
       "      <td>13645</td>\n",
       "    </tr>\n",
       "    <tr>\n",
       "      <th>1</th>\n",
       "      <td>a few days or more</td>\n",
       "      <td>171.661882</td>\n",
       "      <td>627</td>\n",
       "    </tr>\n",
       "    <tr>\n",
       "      <th>2</th>\n",
       "      <td>within a day</td>\n",
       "      <td>176.685098</td>\n",
       "      <td>3201</td>\n",
       "    </tr>\n",
       "    <tr>\n",
       "      <th>3</th>\n",
       "      <td>within a few hours</td>\n",
       "      <td>155.780223</td>\n",
       "      <td>5997</td>\n",
       "    </tr>\n",
       "    <tr>\n",
       "      <th>4</th>\n",
       "      <td>within an hour</td>\n",
       "      <td>191.990256</td>\n",
       "      <td>18063</td>\n",
       "    </tr>\n",
       "  </tbody>\n",
       "</table>\n",
       "</div>"
      ],
      "text/plain": [
       "   host_response_time  price_outlier_removed  Count\n",
       "0             Unknown             137.706852  13645\n",
       "1  a few days or more             171.661882    627\n",
       "2        within a day             176.685098   3201\n",
       "3  within a few hours             155.780223   5997\n",
       "4      within an hour             191.990256  18063"
      ]
     },
     "execution_count": 720,
     "metadata": {},
     "output_type": "execute_result"
    }
   ],
   "source": [
    "price_vs_response_time = df.groupby('host_response_time')['price_outlier_removed'].mean().reset_index()\n",
    "price_vs_response_time['Count'] = [13645, 627, 3201, 5997, 18063]\n",
    "price_vs_response_time"
   ]
  },
  {
   "cell_type": "code",
   "execution_count": 723,
   "id": "ad4d251a-19ff-4432-8a15-8d1232b89dd8",
   "metadata": {},
   "outputs": [
    {
     "data": {
      "text/plain": [
       "Text(0.04, 0.5, 'Count')"
      ]
     },
     "execution_count": 723,
     "metadata": {},
     "output_type": "execute_result"
    },
    {
     "data": {
      "image/png": "[encoded data removed]",
      "text/plain": [
       "<Figure size 1200x500 with 2 Axes>"
      ]
     },
     "metadata": {},
     "output_type": "display_data"
    }
   ],
   "source": [
    "fig, ax = plt.subplots(figsize=(12, 5))\n",
    "\n",
    "bar = sns.barplot(x = price_vs_response_time['host_response_time'], y = price_vs_response_time['Count'], ax  =ax)\n",
    "bar.set_xlabel(\"\")\n",
    "bar.set_ylabel(\"\")\n",
    "\n",
    "ax1 = ax.twinx()\n",
    "ax1.plot(range(5), price_vs_response_time['price_outlier_removed'], color = 'red', marker = 'o', markersize = 12.5)\n",
    "\n",
    "\n",
    "ax.xaxis.set_tick_params(labelsize=15)\n",
    "ax.yaxis.set_tick_params(labelsize=15)\n",
    "\n",
    "plt.text(0.5, 1.05, 'Response Time for Hosts vs price with Outliers Removed',\n",
    "        horizontalalignment='center',\n",
    "        fontsize=20,\n",
    "        transform = ax.transAxes)\n",
    "\n",
    "plt.xticks(rotation = 90)\n",
    "ax.margins(x=0.02)\n",
    "\n",
    "# set various colors\n",
    "ax.spines['bottom'].set_color('black')\n",
    "ax.spines['top'].set_color('black') \n",
    "ax.spines['right'].set_color('black')\n",
    "ax.spines['right'].set_linewidth(2)\n",
    "ax.spines['top'].set_linewidth(2)\n",
    "ax.spines['bottom'].set_linewidth(2)\n",
    "ax.spines['left'].set_color('black')\n",
    "ax.spines['left'].set_lw(2) \n",
    "ax.tick_params(which='both', width=2)\n",
    "ax.tick_params(which='major', length=7)\n",
    "ax.tick_params(which='minor', length=7)\n",
    "ax.tick_params(which = 'both', direction = 'in')\n",
    "\n",
    "ax1.spines['bottom'].set_color('black')\n",
    "ax1.spines['top'].set_color('black') \n",
    "ax1.spines['right'].set_color('black')\n",
    "ax1.spines['right'].set_linewidth(2)\n",
    "ax1.spines['top'].set_linewidth(2)\n",
    "ax1.spines['bottom'].set_linewidth(2)\n",
    "ax1.spines['left'].set_color('black')\n",
    "ax1.spines['left'].set_lw(2) \n",
    "ax1.tick_params(which='both', width=2)\n",
    "ax1.tick_params(which='major', length=7)\n",
    "ax1.tick_params(which='minor', length=7)\n",
    "ax1.tick_params(which = 'both', direction = 'in')\n",
    "ax1.margins(x=0.02)\n",
    "ax1.xaxis.set_tick_params(labelsize=15)\n",
    "ax1.yaxis.set_tick_params(labelsize=15, labelcolor = 'red')\n",
    "\n",
    "fig.text(0.95, 0.5, 'Price', ha='center', va='center', rotation = 'vertical', color = 'red', fontsize = 20)\n",
    "fig.text(0.04, 0.5, 'Count', ha='center', va='center', rotation='vertical', fontsize = 20)\n"
   ]
  },
  {
   "cell_type": "markdown",
   "id": "3c8d997b-93c6-4232-9327-cefa65ec031f",
   "metadata": {},
   "source": [
    "Now this provides useful analysis. After removing the outliers in the price column, we can clearly see that the hosts that respond within an hour for rental inquires have the highest average price. Unsuprisingly, the rentals whose hosts response is unrecorded have the lowest rental price among all other categories."
   ]
  },
  {
   "cell_type": "code",
   "execution_count": 746,
   "id": "4af0c748-b419-4fb0-952f-fa8b454abff9",
   "metadata": {},
   "outputs": [
    {
     "data": {
      "text/plain": [
       "0.3285339368694773"
      ]
     },
     "execution_count": 746,
     "metadata": {},
     "output_type": "execute_result"
    }
   ],
   "source": [
    "df[df['host_response_time'] == 'Unknown'].shape[0] / df.shape[0]"
   ]
  },
  {
   "cell_type": "markdown",
   "id": "7f1e29b9-fdcf-49eb-9d0f-46d57fd67c87",
   "metadata": {},
   "source": [
    "<b> Almost 33 % of the values in this column are `Unknown` which indicates that majority of hosts response time is not known. Similarly, this group of hosts have lowest rental price on average. So, we will use this column for modelling purpose."
   ]
  },
  {
   "cell_type": "code",
   "execution_count": 749,
   "id": "1b8a9153-aa7a-404f-936e-4d61e628b2bd",
   "metadata": {},
   "outputs": [],
   "source": [
    "features_for_modelling.append('host_response_time')"
   ]
  },
  {
   "cell_type": "markdown",
   "id": "a97cd76f-6a7d-4bc0-b4bf-2521108945a4",
   "metadata": {},
   "source": [
    "## `host_response_rate` vs `Price`"
   ]
  },
  {
   "cell_type": "code",
   "execution_count": 757,
   "id": "647f5d3d-a5f8-4b16-9344-2f0a95c2a4d7",
   "metadata": {},
   "outputs": [
    {
     "data": {
      "text/plain": [
       "'The percentage of messages that the Airbnb host responds to.'"
      ]
     },
     "execution_count": 757,
     "metadata": {},
     "output_type": "execute_result"
    }
   ],
   "source": [
    "data_dictionary['host_response_rate']"
   ]
  },
  {
   "cell_type": "code",
   "execution_count": 750,
   "id": "affe9e9b-09e3-47cb-bbb9-ae8ea9e1890a",
   "metadata": {},
   "outputs": [
    {
     "data": {
      "text/plain": [
       "5"
      ]
     },
     "execution_count": 750,
     "metadata": {},
     "output_type": "execute_result"
    }
   ],
   "source": [
    "df['host_response_rate'].isnull().sum()"
   ]
  },
  {
   "cell_type": "code",
   "execution_count": 751,
   "id": "2e7ad5b2-6b00-4494-8e6e-9db05e9fcc4b",
   "metadata": {},
   "outputs": [
    {
     "data": {
      "text/plain": [
       "100    18953\n",
       "N/A    13640\n",
       "99      1480\n",
       "90      1152\n",
       "80       733\n",
       "       ...  \n",
       "51         2\n",
       "46         1\n",
       "74         1\n",
       "54         1\n",
       "41         1\n",
       "Name: host_response_rate, Length: 68, dtype: int64"
      ]
     },
     "execution_count": 751,
     "metadata": {},
     "output_type": "execute_result"
    }
   ],
   "source": [
    "df['host_response_rate'].value_counts()"
   ]
  },
  {
   "cell_type": "markdown",
   "id": "e160e9cd-c2f7-4919-9542-4026da7a9ebe",
   "metadata": {},
   "source": [
    "<b> Lets remove % from the values first."
   ]
  },
  {
   "cell_type": "code",
   "execution_count": 752,
   "id": "0bed6e48-1d9c-4efe-a393-5d5d28b99be3",
   "metadata": {},
   "outputs": [],
   "source": [
    "df['host_response_rate'] = df['host_response_rate'].apply(lambda x : x[:-1] if x not in ['N/A', np.nan] else x )"
   ]
  },
  {
   "cell_type": "markdown",
   "id": "734019e4-10b5-4ab5-910f-e7399f856ec7",
   "metadata": {},
   "source": [
    "<b> Lets replace N/A with null values"
   ]
  },
  {
   "cell_type": "code",
   "execution_count": 754,
   "id": "bb4987cb-946a-4cf1-9e30-819253870c06",
   "metadata": {},
   "outputs": [],
   "source": [
    "df['host_response_rate'] = df['host_response_rate'].apply(lambda x : np.nan if x == 'N/A' else x)"
   ]
  },
  {
   "cell_type": "markdown",
   "id": "c03610bf-21d7-4a64-9289-69bacca3e000",
   "metadata": {},
   "source": [
    "<b> Lets replace \"\" values with null values"
   ]
  },
  {
   "cell_type": "code",
   "execution_count": 776,
   "id": "cae67345-c1ce-456d-a1f2-b6701b604bfc",
   "metadata": {},
   "outputs": [
    {
     "data": {
      "text/plain": [
       "(0, 31)"
      ]
     },
     "execution_count": 776,
     "metadata": {},
     "output_type": "execute_result"
    }
   ],
   "source": [
    "df[df.host_response_rate == ''].shape"
   ]
  },
  {
   "cell_type": "code",
   "execution_count": 775,
   "id": "191fb6f6-1b1f-4589-bfbb-34bea609079e",
   "metadata": {},
   "outputs": [],
   "source": [
    "df['host_response_rate'] = df['host_response_rate'].apply(lambda x : np.nan if x == '' else x)"
   ]
  },
  {
   "cell_type": "code",
   "execution_count": 777,
   "id": "d8c24e4e-d6c6-4310-b7f3-2beb37f07d65",
   "metadata": {},
   "outputs": [
    {
     "data": {
      "text/plain": [
       "0.3377073652276503"
      ]
     },
     "execution_count": 777,
     "metadata": {},
     "output_type": "execute_result"
    }
   ],
   "source": [
    "df.host_response_rate.isnull().sum() / df.shape[0]"
   ]
  },
  {
   "cell_type": "markdown",
   "id": "11954921-daad-4146-8167-3a3ec1fddad7",
   "metadata": {},
   "source": [
    "There is no point in filling almost 33 % of null values. Lets do further analysis with price before deciding what to do with this column."
   ]
  },
  {
   "cell_type": "code",
   "execution_count": 788,
   "id": "f5ec6497-f974-497a-a6d4-9e847459307d",
   "metadata": {},
   "outputs": [],
   "source": [
    "temp = df[['host_response_rate', 'price', 'price_outlier_removed']].dropna()\n",
    "temp.host_response_rate = temp.host_response_rate.astype(int)"
   ]
  },
  {
   "cell_type": "code",
   "execution_count": 789,
   "id": "523779dc-a464-4396-8d7e-8dca8d5c1c57",
   "metadata": {},
   "outputs": [
    {
     "data": {
      "text/plain": [
       "<AxesSubplot: >"
      ]
     },
     "execution_count": 789,
     "metadata": {},
     "output_type": "execute_result"
    },
    {
     "data": {
      "image/png": "[encoded data removed]",
      "text/plain": [
       "<Figure size 640x480 with 2 Axes>"
      ]
     },
     "metadata": {},
     "output_type": "display_data"
    }
   ],
   "source": [
    "sns.heatmap(temp.corr(), annot = True, cmap = 'Reds')"
   ]
  },
  {
   "cell_type": "markdown",
   "id": "e2670098-a55a-4cd4-827f-3e51a799ed27",
   "metadata": {},
   "source": [
    "There seems to be no correlation between the price and host's response rate."
   ]
  },
  {
   "cell_type": "code",
   "execution_count": 790,
   "id": "8f3d3db5-c823-4981-a8bf-0fbb8e485b7f",
   "metadata": {},
   "outputs": [
    {
     "data": {
      "text/html": [
       "<div>\n",
       "<style scoped>\n",
       "    .dataframe tbody tr th:only-of-type {\n",
       "        vertical-align: middle;\n",
       "    }\n",
       "\n",
       "    .dataframe tbody tr th {\n",
       "        vertical-align: top;\n",
       "    }\n",
       "\n",
       "    .dataframe thead th {\n",
       "        text-align: right;\n",
       "    }\n",
       "</style>\n",
       "<table border=\"1\" class=\"dataframe\">\n",
       "  <thead>\n",
       "    <tr style=\"text-align: right;\">\n",
       "      <th></th>\n",
       "      <th>price</th>\n",
       "      <th>price_outlier_removed</th>\n",
       "    </tr>\n",
       "    <tr>\n",
       "      <th>host_response_rate</th>\n",
       "      <th></th>\n",
       "      <th></th>\n",
       "    </tr>\n",
       "  </thead>\n",
       "  <tbody>\n",
       "    <tr>\n",
       "      <th>1</th>\n",
       "      <td>194.285721</td>\n",
       "      <td>176.285714</td>\n",
       "    </tr>\n",
       "    <tr>\n",
       "      <th>2</th>\n",
       "      <td>236.442856</td>\n",
       "      <td>197.085714</td>\n",
       "    </tr>\n",
       "    <tr>\n",
       "      <th>3</th>\n",
       "      <td>243.379745</td>\n",
       "      <td>198.177215</td>\n",
       "    </tr>\n",
       "    <tr>\n",
       "      <th>4</th>\n",
       "      <td>154.557144</td>\n",
       "      <td>143.557143</td>\n",
       "    </tr>\n",
       "    <tr>\n",
       "      <th>5</th>\n",
       "      <td>575.372009</td>\n",
       "      <td>203.196429</td>\n",
       "    </tr>\n",
       "    <tr>\n",
       "      <th>6</th>\n",
       "      <td>200.666016</td>\n",
       "      <td>175.305019</td>\n",
       "    </tr>\n",
       "    <tr>\n",
       "      <th>7</th>\n",
       "      <td>481.237061</td>\n",
       "      <td>212.073456</td>\n",
       "    </tr>\n",
       "    <tr>\n",
       "      <th>8</th>\n",
       "      <td>224.186874</td>\n",
       "      <td>171.906899</td>\n",
       "    </tr>\n",
       "    <tr>\n",
       "      <th>9</th>\n",
       "      <td>232.559982</td>\n",
       "      <td>189.232116</td>\n",
       "    </tr>\n",
       "    <tr>\n",
       "      <th>10</th>\n",
       "      <td>243.496445</td>\n",
       "      <td>179.923178</td>\n",
       "    </tr>\n",
       "  </tbody>\n",
       "</table>\n",
       "</div>"
      ],
      "text/plain": [
       "                         price  price_outlier_removed\n",
       "host_response_rate                                   \n",
       "1                   194.285721             176.285714\n",
       "2                   236.442856             197.085714\n",
       "3                   243.379745             198.177215\n",
       "4                   154.557144             143.557143\n",
       "5                   575.372009             203.196429\n",
       "6                   200.666016             175.305019\n",
       "7                   481.237061             212.073456\n",
       "8                   224.186874             171.906899\n",
       "9                   232.559982             189.232116\n",
       "10                  243.496445             179.923178"
      ]
     },
     "execution_count": 790,
     "metadata": {},
     "output_type": "execute_result"
    }
   ],
   "source": [
    "temp.groupby('host_response_rate')[['price', 'price_outlier_removed']].mean()"
   ]
  },
  {
   "cell_type": "markdown",
   "id": "d5ec454d-2490-45d5-8208-68ea913d83a1",
   "metadata": {},
   "source": [
    "<b> There seems to be no relationship between the price of a rental and it's host's percentage of responese to rental inquiries. So, we will drop this column."
   ]
  },
  {
   "cell_type": "code",
   "execution_count": 795,
   "id": "f0feb825-ce87-408a-9d5b-9e62b0076bd9",
   "metadata": {},
   "outputs": [],
   "source": [
    "df.drop('host_response_rate', axis = 1, inplace = True)"
   ]
  },
  {
   "cell_type": "code",
   "execution_count": 833,
   "id": "aa4a3ef5-21fa-4ade-81c9-c84f0ba785eb",
   "metadata": {},
   "outputs": [],
   "source": [
    "columns_that_are_dropped.append('host_response_rate')"
   ]
  },
  {
   "cell_type": "markdown",
   "id": "3fcad8ee-5004-43d6-9773-c09d146a2e27",
   "metadata": {},
   "source": [
    "## `host_acceptance_rate` vs `Price`"
   ]
  },
  {
   "cell_type": "code",
   "execution_count": 813,
   "id": "7123b73c-2c76-43bf-a059-f649b0e2510f",
   "metadata": {},
   "outputs": [
    {
     "data": {
      "text/plain": [
       "'The percentage of booking requests that the Airbnb host accepts.'"
      ]
     },
     "execution_count": 813,
     "metadata": {},
     "output_type": "execute_result"
    }
   ],
   "source": [
    "data_dictionary['host_acceptance_rate']"
   ]
  },
  {
   "cell_type": "code",
   "execution_count": 814,
   "id": "bdcc00d0-676a-45d0-9cb7-d43a9e8aedb4",
   "metadata": {},
   "outputs": [
    {
     "data": {
      "text/plain": [
       "100    9438\n",
       "99     1796\n",
       "97     1513\n",
       "98     1383\n",
       "0       946\n",
       "       ... \n",
       "10        7\n",
       "5         6\n",
       "7         4\n",
       "12        3\n",
       "4         2\n",
       "Name: host_acceptance_rate, Length: 98, dtype: int64"
      ]
     },
     "execution_count": 814,
     "metadata": {},
     "output_type": "execute_result"
    }
   ],
   "source": [
    "df['host_acceptance_rate'].value_counts()"
   ]
  },
  {
   "cell_type": "markdown",
   "id": "2f70ecc8-b419-4afc-a506-52b49ecb0655",
   "metadata": {},
   "source": [
    "<b> Lets remove % from the values first."
   ]
  },
  {
   "cell_type": "code",
   "execution_count": 815,
   "id": "85b0378c-4cdc-461a-a6c5-89275ea11f7e",
   "metadata": {},
   "outputs": [],
   "source": [
    "df['host_acceptance_rate'] = df['host_acceptance_rate'].apply(lambda x : x[:-1] if x not in ['N/A', np.nan] else x )"
   ]
  },
  {
   "cell_type": "markdown",
   "id": "b4409e9c-967f-4488-b8d8-cf2195d00ed4",
   "metadata": {},
   "source": [
    "<b> Lets replace N/A with null values"
   ]
  },
  {
   "cell_type": "code",
   "execution_count": 816,
   "id": "0860f5b8-7a45-444c-bb51-59ab504123ee",
   "metadata": {},
   "outputs": [],
   "source": [
    "df['host_acceptance_rate'] = df['host_acceptance_rate'].apply(lambda x : np.nan if x == 'N/A' else x)"
   ]
  },
  {
   "cell_type": "markdown",
   "id": "921c8293-02b8-4e1d-a549-66c38addee0b",
   "metadata": {},
   "source": [
    "<b> Lets replace \"\" values with null values"
   ]
  },
  {
   "cell_type": "code",
   "execution_count": 817,
   "id": "971dc1b7-e58f-4d39-8572-6bf8cd381686",
   "metadata": {},
   "outputs": [],
   "source": [
    "df['host_acceptance_rate'] = df['host_acceptance_rate'].apply(lambda x : np.nan if x == '' else x)"
   ]
  },
  {
   "cell_type": "code",
   "execution_count": 818,
   "id": "6ef9b677-8d71-4766-b70b-5466b22dcb96",
   "metadata": {},
   "outputs": [
    {
     "data": {
      "text/plain": [
       "0.3271615342017191"
      ]
     },
     "execution_count": 818,
     "metadata": {},
     "output_type": "execute_result"
    }
   ],
   "source": [
    "df.host_acceptance_rate.isnull().sum() / df.shape[0]"
   ]
  },
  {
   "cell_type": "markdown",
   "id": "a15f3833-5bc4-4c19-8369-8408004fc588",
   "metadata": {},
   "source": [
    "Almost 30 % of data in this columns are null values. Let's check if the host_acceptance rate truly impacts the price or not."
   ]
  },
  {
   "cell_type": "code",
   "execution_count": 819,
   "id": "83c36515-3ff5-4d2c-8b03-b102d607e996",
   "metadata": {},
   "outputs": [],
   "source": [
    "temp = df[['host_acceptance_rate', 'price', 'price_outlier_removed']].dropna()\n",
    "temp.host_acceptance_rate = temp.host_acceptance_rate.astype(int)"
   ]
  },
  {
   "cell_type": "code",
   "execution_count": 820,
   "id": "f37803d3-d818-4e82-91c3-5587fdfd746a",
   "metadata": {},
   "outputs": [
    {
     "data": {
      "text/plain": [
       "<AxesSubplot: >"
      ]
     },
     "execution_count": 820,
     "metadata": {},
     "output_type": "execute_result"
    },
    {
     "data": {
      "image/png": "[encoded data removed]",
      "text/plain": [
       "<Figure size 640x480 with 2 Axes>"
      ]
     },
     "metadata": {},
     "output_type": "display_data"
    }
   ],
   "source": [
    "sns.heatmap(temp.corr(), annot = True, cmap = 'Reds')"
   ]
  },
  {
   "cell_type": "markdown",
   "id": "aa3e6904-093f-445f-b9f8-6f17f8c815f0",
   "metadata": {},
   "source": [
    "<b> There does not seem to be much relationship between these two columns. So, we will proceed to drop this column."
   ]
  },
  {
   "cell_type": "code",
   "execution_count": 821,
   "id": "c760123d-be43-4a17-90fe-76f5e8fdd8ea",
   "metadata": {},
   "outputs": [
    {
     "data": {
      "text/html": [
       "<div>\n",
       "<style scoped>\n",
       "    .dataframe tbody tr th:only-of-type {\n",
       "        vertical-align: middle;\n",
       "    }\n",
       "\n",
       "    .dataframe tbody tr th {\n",
       "        vertical-align: top;\n",
       "    }\n",
       "\n",
       "    .dataframe thead th {\n",
       "        text-align: right;\n",
       "    }\n",
       "</style>\n",
       "<table border=\"1\" class=\"dataframe\">\n",
       "  <thead>\n",
       "    <tr style=\"text-align: right;\">\n",
       "      <th></th>\n",
       "      <th>host_acceptance_rate</th>\n",
       "      <th>price</th>\n",
       "      <th>price_outlier_removed</th>\n",
       "    </tr>\n",
       "  </thead>\n",
       "  <tbody>\n",
       "    <tr>\n",
       "      <th>0</th>\n",
       "      <td>1</td>\n",
       "      <td>205.781021</td>\n",
       "      <td>175.486618</td>\n",
       "    </tr>\n",
       "    <tr>\n",
       "      <th>1</th>\n",
       "      <td>2</td>\n",
       "      <td>346.960358</td>\n",
       "      <td>227.042683</td>\n",
       "    </tr>\n",
       "    <tr>\n",
       "      <th>2</th>\n",
       "      <td>3</td>\n",
       "      <td>249.706207</td>\n",
       "      <td>202.461679</td>\n",
       "    </tr>\n",
       "    <tr>\n",
       "      <th>3</th>\n",
       "      <td>4</td>\n",
       "      <td>253.202301</td>\n",
       "      <td>179.903874</td>\n",
       "    </tr>\n",
       "    <tr>\n",
       "      <th>4</th>\n",
       "      <td>5</td>\n",
       "      <td>228.395004</td>\n",
       "      <td>189.528067</td>\n",
       "    </tr>\n",
       "    <tr>\n",
       "      <th>5</th>\n",
       "      <td>6</td>\n",
       "      <td>216.124283</td>\n",
       "      <td>174.801429</td>\n",
       "    </tr>\n",
       "    <tr>\n",
       "      <th>6</th>\n",
       "      <td>7</td>\n",
       "      <td>215.570236</td>\n",
       "      <td>172.616067</td>\n",
       "    </tr>\n",
       "    <tr>\n",
       "      <th>7</th>\n",
       "      <td>8</td>\n",
       "      <td>219.879288</td>\n",
       "      <td>160.122746</td>\n",
       "    </tr>\n",
       "    <tr>\n",
       "      <th>8</th>\n",
       "      <td>9</td>\n",
       "      <td>277.487335</td>\n",
       "      <td>191.277433</td>\n",
       "    </tr>\n",
       "    <tr>\n",
       "      <th>9</th>\n",
       "      <td>10</td>\n",
       "      <td>243.641663</td>\n",
       "      <td>185.746027</td>\n",
       "    </tr>\n",
       "  </tbody>\n",
       "</table>\n",
       "</div>"
      ],
      "text/plain": [
       "   host_acceptance_rate       price  price_outlier_removed\n",
       "0                     1  205.781021             175.486618\n",
       "1                     2  346.960358             227.042683\n",
       "2                     3  249.706207             202.461679\n",
       "3                     4  253.202301             179.903874\n",
       "4                     5  228.395004             189.528067\n",
       "5                     6  216.124283             174.801429\n",
       "6                     7  215.570236             172.616067\n",
       "7                     8  219.879288             160.122746\n",
       "8                     9  277.487335             191.277433\n",
       "9                    10  243.641663             185.746027"
      ]
     },
     "execution_count": 821,
     "metadata": {},
     "output_type": "execute_result"
    }
   ],
   "source": [
    "temp = temp.groupby('host_acceptance_rate')[['price', 'price_outlier_removed']].mean().reset_index();temp"
   ]
  },
  {
   "cell_type": "code",
   "execution_count": 831,
   "id": "fc72bcde-1a3b-4b3d-8641-4343a3dcfb6b",
   "metadata": {},
   "outputs": [
    {
     "data": {
      "image/png": "[encoded data removed]",
      "text/plain": [
       "<Figure size 1200x500 with 1 Axes>"
      ]
     },
     "metadata": {},
     "output_type": "display_data"
    }
   ],
   "source": [
    "fig, ax = plt.subplots(figsize=(12, 5))\n",
    "\n",
    "bar = sns.lineplot(x = temp['host_acceptance_rate'], y = temp['price'], ax  =ax, color = 'red', marker = 'o', label = 'Price')\n",
    "bar = sns.lineplot(x = temp['host_acceptance_rate'], y = temp['price_outlier_removed'], ax  =ax, color = 'blue', marker = 'o', label = 'Price (without outliers)')\n",
    "\n",
    "bar.set_xlabel(\"\")\n",
    "bar.set_ylabel(\"\")\n",
    "\n",
    "\n",
    "\n",
    "ax.xaxis.set_tick_params(labelsize=15)\n",
    "ax.yaxis.set_tick_params(labelsize=15)\n",
    "\n",
    "plt.text(0.5, 1.05, 'Host Acceptance Rate vs Rental Price',\n",
    "        horizontalalignment='center',\n",
    "        fontsize=20,\n",
    "        transform = ax.transAxes)\n",
    "\n",
    "# plt.xticks(rotation = 90)\n",
    "ax.margins(x=0.02)\n",
    "\n",
    "plt.legend(fontsize = 15)\n",
    "\n",
    "# set various colors\n",
    "ax.spines['bottom'].set_color('black')\n",
    "ax.spines['top'].set_color('black') \n",
    "ax.spines['right'].set_color('black')\n",
    "ax.spines['right'].set_linewidth(2)\n",
    "ax.spines['top'].set_linewidth(2)\n",
    "ax.spines['bottom'].set_linewidth(2)\n",
    "ax.spines['left'].set_color('black')\n",
    "ax.spines['left'].set_lw(2) \n",
    "ax.tick_params(which='both', width=2)\n",
    "ax.tick_params(which='major', length=7)\n",
    "ax.tick_params(which='minor', length=7)\n",
    "ax.tick_params(which = 'both', direction = 'in')\n",
    "ax.grid(True, which = 'major', alpha = 0.5, linestyle='--', linewidth = 1, color = 'black')\n",
    "\n",
    "fig.text(0.05, 0.5, 'Averaged Rental Price', ha='center', va='center', rotation='vertical', fontsize = 20)\n",
    "fig.text(0.5, 0., 'Host Acceptance Rate', ha='center', va='center', rotation='horizontal', fontsize = 20)\n",
    "plt.xticks(range(1,10,1));\n"
   ]
  },
  {
   "cell_type": "markdown",
   "id": "2669f2c0-255f-45b4-8d21-97a1b10b19d9",
   "metadata": {},
   "source": [
    "<b> Therefore we will proceed to drop this column."
   ]
  },
  {
   "cell_type": "code",
   "execution_count": 832,
   "id": "70fc4265-1a15-4ce6-a6cb-24dbba2895a1",
   "metadata": {},
   "outputs": [],
   "source": [
    "df.drop('host_acceptance_rate', axis = 1, inplace = True)"
   ]
  },
  {
   "cell_type": "code",
   "execution_count": 834,
   "id": "4996d7a4-a715-468e-b3e7-b617b003e19f",
   "metadata": {},
   "outputs": [],
   "source": [
    "columns_that_are_dropped.append('host_acceptance_rate')"
   ]
  },
  {
   "cell_type": "markdown",
   "id": "d186862e-a8f4-4ffe-a6a9-b689f4f7c44e",
   "metadata": {},
   "source": [
    "## `host_is_superhost` vs `Price`"
   ]
  },
  {
   "cell_type": "code",
   "execution_count": 850,
   "id": "63e57c32-08cb-44c2-9f9f-f6ef6777a527",
   "metadata": {},
   "outputs": [
    {
     "data": {
      "text/plain": [
       "False    78.645896\n",
       "True     21.354104\n",
       "Name: host_is_superhost, dtype: float64"
      ]
     },
     "execution_count": 850,
     "metadata": {},
     "output_type": "execute_result"
    }
   ],
   "source": [
    "df['host_is_superhost'].value_counts() / df.shape[0] * 100"
   ]
  },
  {
   "cell_type": "markdown",
   "id": "fcced75d-80b2-42a4-8c82-c41066e016ba",
   "metadata": {},
   "source": [
    "Almost 79 % of Airbnb rental hosts in NYC are not superhost. Could it be possible that superhosts will have higher rental price on average?"
   ]
  },
  {
   "cell_type": "code",
   "execution_count": 841,
   "id": "35ad2f2c-beb4-4ef8-80c4-c9254bab643a",
   "metadata": {},
   "outputs": [
    {
     "data": {
      "text/plain": [
       "29"
      ]
     },
     "execution_count": 841,
     "metadata": {},
     "output_type": "execute_result"
    }
   ],
   "source": [
    "df.host_is_superhost.isnull().sum()"
   ]
  },
  {
   "cell_type": "markdown",
   "id": "a66a29b4-c23c-4e5e-90ce-006d4b0d5e09",
   "metadata": {},
   "source": [
    "We will fill null values with `f` as this value is present in almost 78.6 % of values in this column. Lets check the relationship with price."
   ]
  },
  {
   "cell_type": "code",
   "execution_count": 842,
   "id": "70c5f822-c8b1-4ff4-8d72-4cc07c736f8a",
   "metadata": {},
   "outputs": [],
   "source": [
    "df.host_is_superhost.fillna('f', inplace = True)"
   ]
  },
  {
   "cell_type": "code",
   "execution_count": 843,
   "id": "0a7bdee0-0177-4b30-8efd-190cf24d0edb",
   "metadata": {},
   "outputs": [
    {
     "data": {
      "text/plain": [
       "0"
      ]
     },
     "execution_count": 843,
     "metadata": {},
     "output_type": "execute_result"
    }
   ],
   "source": [
    "df.host_is_superhost.isnull().sum()"
   ]
  },
  {
   "cell_type": "markdown",
   "id": "e1e8bbdb-3e4d-4c03-8949-33b31d13443c",
   "metadata": {},
   "source": [
    "<b> Changing f to False and t to True"
   ]
  },
  {
   "cell_type": "code",
   "execution_count": 849,
   "id": "5c5df8b2-cfba-46f0-a2e3-915655147a78",
   "metadata": {},
   "outputs": [],
   "source": [
    "df.host_is_superhost = df.host_is_superhost.apply(lambda x : True if x == 't' else False)"
   ]
  },
  {
   "cell_type": "code",
   "execution_count": 860,
   "id": "2a882364-ebf1-4a7c-9fa1-304c90548878",
   "metadata": {},
   "outputs": [],
   "source": [
    "temp = df.groupby('host_is_superhost')[['price', 'price_outlier_removed']].agg({'price': ['mean', 'std', 'count']}).reset_index()\n",
    "temp.columns = ['host_is_superhost', 'mean', 'std', 'count']"
   ]
  },
  {
   "cell_type": "code",
   "execution_count": 861,
   "id": "8df8348d-3785-465a-81c1-f1c0586dfa7e",
   "metadata": {},
   "outputs": [
    {
     "data": {
      "text/html": [
       "<div>\n",
       "<style scoped>\n",
       "    .dataframe tbody tr th:only-of-type {\n",
       "        vertical-align: middle;\n",
       "    }\n",
       "\n",
       "    .dataframe tbody tr th {\n",
       "        vertical-align: top;\n",
       "    }\n",
       "\n",
       "    .dataframe thead th {\n",
       "        text-align: right;\n",
       "    }\n",
       "</style>\n",
       "<table border=\"1\" class=\"dataframe\">\n",
       "  <thead>\n",
       "    <tr style=\"text-align: right;\">\n",
       "      <th></th>\n",
       "      <th>host_is_superhost</th>\n",
       "      <th>mean</th>\n",
       "      <th>std</th>\n",
       "      <th>count</th>\n",
       "    </tr>\n",
       "  </thead>\n",
       "  <tbody>\n",
       "    <tr>\n",
       "      <th>0</th>\n",
       "      <td>False</td>\n",
       "      <td>225.306427</td>\n",
       "      <td>940.151915</td>\n",
       "      <td>32664</td>\n",
       "    </tr>\n",
       "    <tr>\n",
       "      <th>1</th>\n",
       "      <td>True</td>\n",
       "      <td>209.720932</td>\n",
       "      <td>839.015772</td>\n",
       "      <td>8869</td>\n",
       "    </tr>\n",
       "  </tbody>\n",
       "</table>\n",
       "</div>"
      ],
      "text/plain": [
       "   host_is_superhost        mean         std  count\n",
       "0              False  225.306427  940.151915  32664\n",
       "1               True  209.720932  839.015772   8869"
      ]
     },
     "execution_count": 861,
     "metadata": {},
     "output_type": "execute_result"
    }
   ],
   "source": [
    "temp"
   ]
  },
  {
   "cell_type": "code",
   "execution_count": 865,
   "id": "eccefefc-727e-4488-9d08-f4843683fe88",
   "metadata": {},
   "outputs": [
    {
     "data": {
      "text/plain": [
       "Text(0.5, 0.0, 'Is host superhost?')"
      ]
     },
     "execution_count": 865,
     "metadata": {},
     "output_type": "execute_result"
    },
    {
     "data": {
      "image/png": "[encoded data removed]",
      "text/plain": [
       "<Figure size 1200x500 with 1 Axes>"
      ]
     },
     "metadata": {},
     "output_type": "display_data"
    }
   ],
   "source": [
    "\n",
    "fig, ax = plt.subplots(figsize=(12, 5))\n",
    "\n",
    "bar = sns.barplot(x = 'host_is_superhost', y = 'mean', data = temp)\n",
    "\n",
    "bar.set_xlabel(\"\")\n",
    "bar.set_ylabel(\"\")\n",
    "\n",
    "\n",
    "\n",
    "ax.xaxis.set_tick_params(labelsize=15)\n",
    "ax.yaxis.set_tick_params(labelsize=15)\n",
    "\n",
    "plt.text(0.5, 1.05, 'Superhost vs Rental Price',\n",
    "        horizontalalignment='center',\n",
    "        fontsize=20,\n",
    "        transform = ax.transAxes)\n",
    "\n",
    "# plt.xticks(rotation = 90)\n",
    "ax.margins(x=0.02)\n",
    "\n",
    "# plt.legend(fontsize = 15)\n",
    "\n",
    "# set various colors\n",
    "ax.spines['bottom'].set_color('black')\n",
    "ax.spines['top'].set_color('black') \n",
    "ax.spines['right'].set_color('black')\n",
    "ax.spines['right'].set_linewidth(2)\n",
    "ax.spines['top'].set_linewidth(2)\n",
    "ax.spines['bottom'].set_linewidth(2)\n",
    "ax.spines['left'].set_color('black')\n",
    "ax.spines['left'].set_lw(2) \n",
    "ax.tick_params(which='both', width=2)\n",
    "ax.tick_params(which='major', length=7)\n",
    "ax.tick_params(which='minor', length=7)\n",
    "ax.tick_params(which = 'both', direction = 'in')\n",
    "# ax.grid(True, which = 'major', alpha = 0.5, linestyle='--', linewidth = 1, color = 'black')\n",
    "\n",
    "fig.text(0.05, 0.5, 'Averaged Rental Price', ha='center', va='center', rotation='vertical', fontsize = 20)\n",
    "fig.text(0.5, 0., 'Is host superhost?', ha='center', va='center', rotation='horizontal', fontsize = 20)"
   ]
  },
  {
   "cell_type": "markdown",
   "id": "e72d6201-f051-4112-973c-25db044d4bf8",
   "metadata": {},
   "source": [
    "The results show that is a host is a superhost, it is less expensive on average."
   ]
  },
  {
   "cell_type": "code",
   "execution_count": 798,
   "id": "9f655d5f-2dff-43e8-a4cf-7c6344aa3ebb",
   "metadata": {},
   "outputs": [],
   "source": [
    "# tempdf[['host_acceptance_rate', 'price', 'price_outlier_removed']]"
   ]
  },
  {
   "cell_type": "code",
   "execution_count": null,
   "id": "450edbde-98e9-4a9f-a2ce-c34eccab07b7",
   "metadata": {},
   "outputs": [],
   "source": []
  }
 ],
 "metadata": {
  "kernelspec": {
   "display_name": "Python 3",
   "language": "python",
   "name": "python3"
  },
  "language_info": {
   "codemirror_mode": {
    "name": "ipython",
    "version": 3
   },
   "file_extension": ".py",
   "mimetype": "text/x-python",
   "name": "python",
   "nbconvert_exporter": "python",
   "pygments_lexer": "ipython3",
   "version": "3.10.8"
  }
 },
 "nbformat": 4,
 "nbformat_minor": 5
}
