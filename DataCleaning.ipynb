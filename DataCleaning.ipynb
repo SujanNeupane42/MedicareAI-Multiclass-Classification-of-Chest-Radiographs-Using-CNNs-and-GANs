{
 "cells": [
  {
   "cell_type": "markdown",
   "id": "a28ec005-cb6b-4cbb-adfc-efc6b9fc704b",
   "metadata": {},
   "source": [
    "# Importing Dependencies"
   ]
  },
  {
   "cell_type": "code",
   "execution_count": 1,
   "id": "1249dc42-a363-4b1b-bea4-3f0b706b5f4b",
   "metadata": {},
   "outputs": [
    {
     "name": "stdout",
     "output_type": "stream",
     "text": [
      "4.3.3\n"
     ]
    }
   ],
   "source": [
    "import pymongo\n",
    "from pprint import pprint\n",
    "from bson.objectid import ObjectId\n",
    "import string\n",
    "import operator\n",
    "import re\n",
    "print (pymongo.version)"
   ]
  },
  {
   "cell_type": "code",
   "execution_count": 2,
   "id": "567615b4-38e0-43f7-affa-26bdbc70a581",
   "metadata": {},
   "outputs": [],
   "source": [
    "import numpy as np\n",
    "import pandas as pd\n",
    "import matplotlib.pyplot as plt\n",
    "import seaborn as sns"
   ]
  },
  {
   "cell_type": "markdown",
   "id": "7af7247d-2744-4cd8-8e6f-51fdc7037201",
   "metadata": {},
   "source": [
    "# Establishing connection and retrieving data from MongoDB"
   ]
  },
  {
   "cell_type": "markdown",
   "id": "b6f17d2f-4e3d-4e8f-a944-cfc9acc47d44",
   "metadata": {},
   "source": [
    "## Connecting to the MongoDB"
   ]
  },
  {
   "cell_type": "code",
   "execution_count": 3,
   "id": "8a141312-da36-4707-89a6-8025b749be56",
   "metadata": {},
   "outputs": [
    {
     "name": "stdout",
     "output_type": "stream",
     "text": [
      "mongodb://localhost:27017/\n",
      "MongoClient(host=['localhost:27017'], document_class=dict, tz_aware=False, connect=True)\n"
     ]
    }
   ],
   "source": [
    "url = 'mongodb://localhost:27017/'\n",
    "print (url)\n",
    "myclient = pymongo.MongoClient(url)\n",
    "print(myclient)"
   ]
  },
  {
   "cell_type": "markdown",
   "id": "c2c34a15-a9d1-496a-a744-5c3f4c4c103e",
   "metadata": {},
   "source": [
    "## Connecting to database"
   ]
  },
  {
   "cell_type": "code",
   "execution_count": 4,
   "id": "5edc3f46-3d96-46ba-827c-61f1eb2a3225",
   "metadata": {},
   "outputs": [
    {
     "name": "stdout",
     "output_type": "stream",
     "text": [
      "Database(MongoClient(host=['localhost:27017'], document_class=dict, tz_aware=False, connect=True), 'BIGDATACOURSEWORK')\n"
     ]
    }
   ],
   "source": [
    "''' Database BIGDATACOURSEWORK will be connected next '''\n",
    "\n",
    "mydb = myclient['BIGDATACOURSEWORK']\n",
    "print (mydb)"
   ]
  },
  {
   "cell_type": "code",
   "execution_count": 5,
   "id": "c0554b98-3f60-4a9f-9a75-6dbc390f0604",
   "metadata": {},
   "outputs": [
    {
     "data": {
      "text/plain": [
       "Database(MongoClient(host=['localhost:27017'], document_class=dict, tz_aware=False, connect=True), 'BIGDATACOURSEWORK')"
      ]
     },
     "execution_count": 5,
     "metadata": {},
     "output_type": "execute_result"
    }
   ],
   "source": [
    "mydb"
   ]
  },
  {
   "cell_type": "markdown",
   "id": "266fb1b7-a89d-4a67-90aa-686a277258dc",
   "metadata": {},
   "source": [
    "## Retrieving all documents from the necessary collection"
   ]
  },
  {
   "cell_type": "code",
   "execution_count": 6,
   "id": "acb22c4c-7695-43f9-81f7-4befa3bb1648",
   "metadata": {},
   "outputs": [
    {
     "data": {
      "text/plain": [
       "['New York City Airbnb Listings File']"
      ]
     },
     "execution_count": 6,
     "metadata": {},
     "output_type": "execute_result"
    }
   ],
   "source": [
    "mydb.list_collection_names()"
   ]
  },
  {
   "cell_type": "markdown",
   "id": "d156e021-d3f0-406b-9a28-722a7bb73ade",
   "metadata": {},
   "source": [
    "<b> This collection contains more than 40,000 documents that contain information about NYC's Airbnb rentals"
   ]
  },
  {
   "cell_type": "markdown",
   "id": "24731711-0f68-4bae-bd4c-9b66fa0dd1e0",
   "metadata": {},
   "source": [
    "<b> database.collection.find() will return all available documents in that corresponding collection. "
   ]
  },
  {
   "cell_type": "code",
   "execution_count": 7,
   "id": "14e4a335-bd91-4a7d-8033-486a1bbdba44",
   "metadata": {},
   "outputs": [],
   "source": [
    "collection = mydb['New York City Airbnb Listings File'].find()"
   ]
  },
  {
   "cell_type": "code",
   "execution_count": 8,
   "id": "3819bcb9-8914-47ad-9c57-fc257a52291e",
   "metadata": {},
   "outputs": [
    {
     "data": {
      "text/plain": [
       "<pymongo.cursor.Cursor at 0x20c9b1d26b0>"
      ]
     },
     "execution_count": 8,
     "metadata": {},
     "output_type": "execute_result"
    }
   ],
   "source": [
    "collection"
   ]
  },
  {
   "cell_type": "markdown",
   "id": "edc5593e-8e7c-4779-82db-a41257586f9a",
   "metadata": {},
   "source": [
    "<b> I will convert the collection to a list and pass it to a pandas DataFrame object to load all of our documents in pandas dataframe"
   ]
  },
  {
   "cell_type": "code",
   "execution_count": 9,
   "id": "e9737955-628d-4f20-bd24-8c3df8161d04",
   "metadata": {},
   "outputs": [],
   "source": [
    "df = pd.DataFrame(list(collection))"
   ]
  },
  {
   "cell_type": "markdown",
   "id": "5eace424-fc59-4002-a20d-40214fbcfe5e",
   "metadata": {},
   "source": [
    "# Basic information about the data"
   ]
  },
  {
   "cell_type": "code",
   "execution_count": 10,
   "id": "5be24db4-4109-44be-b8ea-57ae1a8b79d9",
   "metadata": {},
   "outputs": [
    {
     "data": {
      "text/html": [
       "<div>\n",
       "<style scoped>\n",
       "    .dataframe tbody tr th:only-of-type {\n",
       "        vertical-align: middle;\n",
       "    }\n",
       "\n",
       "    .dataframe tbody tr th {\n",
       "        vertical-align: top;\n",
       "    }\n",
       "\n",
       "    .dataframe thead th {\n",
       "        text-align: right;\n",
       "    }\n",
       "</style>\n",
       "<table border=\"1\" class=\"dataframe\">\n",
       "  <thead>\n",
       "    <tr style=\"text-align: right;\">\n",
       "      <th></th>\n",
       "      <th>_id</th>\n",
       "      <th>id</th>\n",
       "      <th>listing_url</th>\n",
       "      <th>scrape_id</th>\n",
       "      <th>last_scraped</th>\n",
       "      <th>source</th>\n",
       "      <th>name</th>\n",
       "      <th>description</th>\n",
       "      <th>neighborhood_overview</th>\n",
       "      <th>picture_url</th>\n",
       "      <th>...</th>\n",
       "      <th>review_scores_location</th>\n",
       "      <th>review_scores_value</th>\n",
       "      <th>instant_bookable</th>\n",
       "      <th>calculated_host_listings_count</th>\n",
       "      <th>calculated_host_listings_count_entire_homes</th>\n",
       "      <th>calculated_host_listings_count_private_rooms</th>\n",
       "      <th>calculated_host_listings_count_shared_rooms</th>\n",
       "      <th>reviews_per_month</th>\n",
       "      <th>bedrooms</th>\n",
       "      <th>license</th>\n",
       "    </tr>\n",
       "  </thead>\n",
       "  <tbody>\n",
       "    <tr>\n",
       "      <th>0</th>\n",
       "      <td>6421707d8031041829152526</td>\n",
       "      <td>2595</td>\n",
       "      <td>https://www.airbnb.com/rooms/2595</td>\n",
       "      <td>20221204162430</td>\n",
       "      <td>2022-12-05</td>\n",
       "      <td>city scrape</td>\n",
       "      <td>Skylit Midtown Castle</td>\n",
       "      <td>Beautiful, spacious skylit studio in the heart...</td>\n",
       "      <td>Centrally located in the heart of Manhattan ju...</td>\n",
       "      <td>https://a0.muscache.com/pictures/f0813a11-40b2...</td>\n",
       "      <td>...</td>\n",
       "      <td>4.81</td>\n",
       "      <td>4.4</td>\n",
       "      <td>f</td>\n",
       "      <td>3</td>\n",
       "      <td>3</td>\n",
       "      <td>0</td>\n",
       "      <td>0</td>\n",
       "      <td>0.31</td>\n",
       "      <td>NaN</td>\n",
       "      <td>NaN</td>\n",
       "    </tr>\n",
       "    <tr>\n",
       "      <th>1</th>\n",
       "      <td>6421707d8031041829152527</td>\n",
       "      <td>5203</td>\n",
       "      <td>https://www.airbnb.com/rooms/5203</td>\n",
       "      <td>20221204162430</td>\n",
       "      <td>2022-12-05</td>\n",
       "      <td>previous scrape</td>\n",
       "      <td>Cozy Clean Guest Room - Family Apt</td>\n",
       "      <td>Our best guests are seeking a safe, clean, spa...</td>\n",
       "      <td>Our neighborhood is full of restaurants and ca...</td>\n",
       "      <td>https://a0.muscache.com/pictures/103776/b37157...</td>\n",
       "      <td>...</td>\n",
       "      <td>4.94</td>\n",
       "      <td>4.92</td>\n",
       "      <td>f</td>\n",
       "      <td>1</td>\n",
       "      <td>0</td>\n",
       "      <td>1</td>\n",
       "      <td>0</td>\n",
       "      <td>0.73</td>\n",
       "      <td>1</td>\n",
       "      <td>NaN</td>\n",
       "    </tr>\n",
       "    <tr>\n",
       "      <th>2</th>\n",
       "      <td>6421707d8031041829152528</td>\n",
       "      <td>5136</td>\n",
       "      <td>https://www.airbnb.com/rooms/5136</td>\n",
       "      <td>20221204162430</td>\n",
       "      <td>2022-12-04</td>\n",
       "      <td>city scrape</td>\n",
       "      <td>Spacious Brooklyn Duplex, Patio + Garden</td>\n",
       "      <td>We welcome you to stay in our lovely 2 br dupl...</td>\n",
       "      <td>NaN</td>\n",
       "      <td>https://a0.muscache.com/pictures/miso/Hosting-...</td>\n",
       "      <td>...</td>\n",
       "      <td>4.67</td>\n",
       "      <td>5.0</td>\n",
       "      <td>f</td>\n",
       "      <td>1</td>\n",
       "      <td>1</td>\n",
       "      <td>0</td>\n",
       "      <td>0</td>\n",
       "      <td>0.03</td>\n",
       "      <td>2</td>\n",
       "      <td>NaN</td>\n",
       "    </tr>\n",
       "    <tr>\n",
       "      <th>3</th>\n",
       "      <td>6421707d8031041829152529</td>\n",
       "      <td>5121</td>\n",
       "      <td>https://www.airbnb.com/rooms/5121</td>\n",
       "      <td>20221204162430</td>\n",
       "      <td>2022-12-05</td>\n",
       "      <td>city scrape</td>\n",
       "      <td>BlissArtsSpace!</td>\n",
       "      <td>One room available for rent in a 2 bedroom apt...</td>\n",
       "      <td>NaN</td>\n",
       "      <td>https://a0.muscache.com/pictures/2090980c-b68e...</td>\n",
       "      <td>...</td>\n",
       "      <td>4.47</td>\n",
       "      <td>4.52</td>\n",
       "      <td>f</td>\n",
       "      <td>2</td>\n",
       "      <td>0</td>\n",
       "      <td>2</td>\n",
       "      <td>0</td>\n",
       "      <td>0.30</td>\n",
       "      <td>1</td>\n",
       "      <td>NaN</td>\n",
       "    </tr>\n",
       "    <tr>\n",
       "      <th>4</th>\n",
       "      <td>6421707d803104182915252a</td>\n",
       "      <td>6848</td>\n",
       "      <td>https://www.airbnb.com/rooms/6848</td>\n",
       "      <td>20221204162430</td>\n",
       "      <td>2022-12-05</td>\n",
       "      <td>city scrape</td>\n",
       "      <td>Only 2 stops to Manhattan studio</td>\n",
       "      <td>Comfortable studio apartment with super comfor...</td>\n",
       "      <td>NaN</td>\n",
       "      <td>https://a0.muscache.com/pictures/e4f031a7-f146...</td>\n",
       "      <td>...</td>\n",
       "      <td>4.67</td>\n",
       "      <td>4.56</td>\n",
       "      <td>f</td>\n",
       "      <td>1</td>\n",
       "      <td>1</td>\n",
       "      <td>0</td>\n",
       "      <td>0</td>\n",
       "      <td>1.13</td>\n",
       "      <td>NaN</td>\n",
       "      <td>NaN</td>\n",
       "    </tr>\n",
       "  </tbody>\n",
       "</table>\n",
       "<p>5 rows × 74 columns</p>\n",
       "</div>"
      ],
      "text/plain": [
       "                        _id    id                        listing_url  \\\n",
       "0  6421707d8031041829152526  2595  https://www.airbnb.com/rooms/2595   \n",
       "1  6421707d8031041829152527  5203  https://www.airbnb.com/rooms/5203   \n",
       "2  6421707d8031041829152528  5136  https://www.airbnb.com/rooms/5136   \n",
       "3  6421707d8031041829152529  5121  https://www.airbnb.com/rooms/5121   \n",
       "4  6421707d803104182915252a  6848  https://www.airbnb.com/rooms/6848   \n",
       "\n",
       "        scrape_id last_scraped           source  \\\n",
       "0  20221204162430   2022-12-05      city scrape   \n",
       "1  20221204162430   2022-12-05  previous scrape   \n",
       "2  20221204162430   2022-12-04      city scrape   \n",
       "3  20221204162430   2022-12-05      city scrape   \n",
       "4  20221204162430   2022-12-05      city scrape   \n",
       "\n",
       "                                       name  \\\n",
       "0                     Skylit Midtown Castle   \n",
       "1        Cozy Clean Guest Room - Family Apt   \n",
       "2  Spacious Brooklyn Duplex, Patio + Garden   \n",
       "3                           BlissArtsSpace!   \n",
       "4          Only 2 stops to Manhattan studio   \n",
       "\n",
       "                                         description  \\\n",
       "0  Beautiful, spacious skylit studio in the heart...   \n",
       "1  Our best guests are seeking a safe, clean, spa...   \n",
       "2  We welcome you to stay in our lovely 2 br dupl...   \n",
       "3  One room available for rent in a 2 bedroom apt...   \n",
       "4  Comfortable studio apartment with super comfor...   \n",
       "\n",
       "                               neighborhood_overview  \\\n",
       "0  Centrally located in the heart of Manhattan ju...   \n",
       "1  Our neighborhood is full of restaurants and ca...   \n",
       "2                                                NaN   \n",
       "3                                                NaN   \n",
       "4                                                NaN   \n",
       "\n",
       "                                         picture_url  ...  \\\n",
       "0  https://a0.muscache.com/pictures/f0813a11-40b2...  ...   \n",
       "1  https://a0.muscache.com/pictures/103776/b37157...  ...   \n",
       "2  https://a0.muscache.com/pictures/miso/Hosting-...  ...   \n",
       "3  https://a0.muscache.com/pictures/2090980c-b68e...  ...   \n",
       "4  https://a0.muscache.com/pictures/e4f031a7-f146...  ...   \n",
       "\n",
       "  review_scores_location review_scores_value instant_bookable  \\\n",
       "0                   4.81                 4.4                f   \n",
       "1                   4.94                4.92                f   \n",
       "2                   4.67                 5.0                f   \n",
       "3                   4.47                4.52                f   \n",
       "4                   4.67                4.56                f   \n",
       "\n",
       "  calculated_host_listings_count calculated_host_listings_count_entire_homes  \\\n",
       "0                              3                                           3   \n",
       "1                              1                                           0   \n",
       "2                              1                                           1   \n",
       "3                              2                                           0   \n",
       "4                              1                                           1   \n",
       "\n",
       "  calculated_host_listings_count_private_rooms  \\\n",
       "0                                            0   \n",
       "1                                            1   \n",
       "2                                            0   \n",
       "3                                            2   \n",
       "4                                            0   \n",
       "\n",
       "  calculated_host_listings_count_shared_rooms reviews_per_month bedrooms  \\\n",
       "0                                           0              0.31      NaN   \n",
       "1                                           0              0.73        1   \n",
       "2                                           0              0.03        2   \n",
       "3                                           0              0.30        1   \n",
       "4                                           0              1.13      NaN   \n",
       "\n",
       "  license  \n",
       "0     NaN  \n",
       "1     NaN  \n",
       "2     NaN  \n",
       "3     NaN  \n",
       "4     NaN  \n",
       "\n",
       "[5 rows x 74 columns]"
      ]
     },
     "execution_count": 10,
     "metadata": {},
     "output_type": "execute_result"
    }
   ],
   "source": [
    "df.head()"
   ]
  },
  {
   "cell_type": "code",
   "execution_count": 11,
   "id": "0d7d553d-3916-4501-96b9-b4b2bd808f01",
   "metadata": {},
   "outputs": [
    {
     "data": {
      "text/plain": [
       "(41533, 74)"
      ]
     },
     "execution_count": 11,
     "metadata": {},
     "output_type": "execute_result"
    }
   ],
   "source": [
    "df.shape"
   ]
  },
  {
   "cell_type": "markdown",
   "id": "41935b44-68eb-407b-bda5-f0e62063a923",
   "metadata": {},
   "source": [
    "<b> There are 41533 rows and 74 columns in our data."
   ]
  },
  {
   "cell_type": "code",
   "execution_count": 12,
   "id": "66d7d917-5650-45e2-b87b-fc8fd05267c0",
   "metadata": {},
   "outputs": [
    {
     "name": "stdout",
     "output_type": "stream",
     "text": [
      "<class 'pandas.core.frame.DataFrame'>\n",
      "RangeIndex: 41533 entries, 0 to 41532\n",
      "Data columns (total 74 columns):\n",
      " #   Column                                        Non-Null Count  Dtype \n",
      "---  ------                                        --------------  ----- \n",
      " 0   _id                                           41533 non-null  object\n",
      " 1   id                                            41533 non-null  object\n",
      " 2   listing_url                                   41533 non-null  object\n",
      " 3   scrape_id                                     41533 non-null  object\n",
      " 4   last_scraped                                  41533 non-null  object\n",
      " 5   source                                        41533 non-null  object\n",
      " 6   name                                          41522 non-null  object\n",
      " 7   description                                   40748 non-null  object\n",
      " 8   neighborhood_overview                         24090 non-null  object\n",
      " 9   picture_url                                   41533 non-null  object\n",
      " 10  host_id                                       41533 non-null  object\n",
      " 11  host_url                                      41533 non-null  object\n",
      " 12  host_name                                     41528 non-null  object\n",
      " 13  host_since                                    41528 non-null  object\n",
      " 14  host_location                                 33788 non-null  object\n",
      " 15  host_about                                    23236 non-null  object\n",
      " 16  host_response_time                            41528 non-null  object\n",
      " 17  host_response_rate                            41528 non-null  object\n",
      " 18  host_acceptance_rate                          41528 non-null  object\n",
      " 19  host_is_superhost                             41504 non-null  object\n",
      " 20  host_thumbnail_url                            41528 non-null  object\n",
      " 21  host_picture_url                              41528 non-null  object\n",
      " 22  host_neighbourhood                            33344 non-null  object\n",
      " 23  host_listings_count                           41528 non-null  object\n",
      " 24  host_total_listings_count                     41528 non-null  object\n",
      " 25  host_verifications                            41533 non-null  object\n",
      " 26  host_has_profile_pic                          41528 non-null  object\n",
      " 27  host_identity_verified                        41528 non-null  object\n",
      " 28  neighbourhood                                 24090 non-null  object\n",
      " 29  neighbourhood_cleansed                        41533 non-null  object\n",
      " 30  neighbourhood_group_cleansed                  41533 non-null  object\n",
      " 31  latitude                                      41533 non-null  object\n",
      " 32  longitude                                     41533 non-null  object\n",
      " 33  property_type                                 41533 non-null  object\n",
      " 34  room_type                                     41533 non-null  object\n",
      " 35  accommodates                                  41533 non-null  object\n",
      " 36  bathrooms_text                                41456 non-null  object\n",
      " 37  beds                                          40592 non-null  object\n",
      " 38  amenities                                     41533 non-null  object\n",
      " 39  price                                         41533 non-null  object\n",
      " 40  minimum_nights                                41533 non-null  object\n",
      " 41  maximum_nights                                41533 non-null  object\n",
      " 42  minimum_minimum_nights                        41519 non-null  object\n",
      " 43  maximum_minimum_nights                        41519 non-null  object\n",
      " 44  minimum_maximum_nights                        41519 non-null  object\n",
      " 45  maximum_maximum_nights                        41519 non-null  object\n",
      " 46  minimum_nights_avg_ntm                        41519 non-null  object\n",
      " 47  maximum_nights_avg_ntm                        41519 non-null  object\n",
      " 48  has_availability                              41533 non-null  object\n",
      " 49  availability_30                               41533 non-null  object\n",
      " 50  availability_60                               41533 non-null  object\n",
      " 51  availability_90                               41533 non-null  object\n",
      " 52  availability_365                              41533 non-null  object\n",
      " 53  calendar_last_scraped                         41533 non-null  object\n",
      " 54  number_of_reviews                             41533 non-null  object\n",
      " 55  number_of_reviews_ltm                         41533 non-null  object\n",
      " 56  number_of_reviews_l30d                        41533 non-null  object\n",
      " 57  first_review                                  32140 non-null  object\n",
      " 58  last_review                                   32140 non-null  object\n",
      " 59  review_scores_rating                          32140 non-null  object\n",
      " 60  review_scores_accuracy                        31692 non-null  object\n",
      " 61  review_scores_cleanliness                     31702 non-null  object\n",
      " 62  review_scores_checkin                         31688 non-null  object\n",
      " 63  review_scores_communication                   31697 non-null  object\n",
      " 64  review_scores_location                        31685 non-null  object\n",
      " 65  review_scores_value                           31685 non-null  object\n",
      " 66  instant_bookable                              41533 non-null  object\n",
      " 67  calculated_host_listings_count                41533 non-null  object\n",
      " 68  calculated_host_listings_count_entire_homes   41533 non-null  object\n",
      " 69  calculated_host_listings_count_private_rooms  41533 non-null  object\n",
      " 70  calculated_host_listings_count_shared_rooms   41533 non-null  object\n",
      " 71  reviews_per_month                             32140 non-null  object\n",
      " 72  bedrooms                                      37711 non-null  object\n",
      " 73  license                                       1 non-null      object\n",
      "dtypes: object(74)\n",
      "memory usage: 23.4+ MB\n"
     ]
    }
   ],
   "source": [
    "df.info()"
   ]
  },
  {
   "cell_type": "code",
   "execution_count": 13,
   "id": "0a3a4aab-6a0a-442b-b276-b8d4db8051d8",
   "metadata": {},
   "outputs": [],
   "source": [
    "nulls = dict(df.isnull().sum() / df.shape[0] * 100)"
   ]
  },
  {
   "cell_type": "code",
   "execution_count": 14,
   "id": "faa2527d-71bd-474b-b6be-71e90b5679dd",
   "metadata": {},
   "outputs": [],
   "source": [
    "nulls =  {k: v for k, v in sorted(nulls.items(), reverse = True, key=lambda item: item[1])}"
   ]
  },
  {
   "cell_type": "code",
   "execution_count": 15,
   "id": "1fd7cb85-eba8-4e07-8bc0-6bcdad2dfefb",
   "metadata": {},
   "outputs": [],
   "source": [
    "def is_not_zero(pair):\n",
    "    key, value = pair\n",
    "\n",
    "    if value > 0:\n",
    "        return True\n",
    "    else:\n",
    "        return False\n",
    "\n",
    "nulls = dict(filter(is_not_zero, nulls.items()))"
   ]
  },
  {
   "cell_type": "code",
   "execution_count": 16,
   "id": "6edf43a6-b54d-4d56-b9d7-3e3c1b2ead70",
   "metadata": {},
   "outputs": [],
   "source": [
    "keys = list(nulls.keys())\n",
    "values = list(nulls.values())"
   ]
  },
  {
   "cell_type": "code",
   "execution_count": 17,
   "id": "a93220ac-035e-4450-bdb9-8bd1a38429a7",
   "metadata": {},
   "outputs": [
    {
     "data": {
      "image/png": "[encoded data removed]",
      "text/plain": [
       "<Figure size 1200x500 with 1 Axes>"
      ]
     },
     "metadata": {},
     "output_type": "display_data"
    }
   ],
   "source": [
    "fig, ax = plt.subplots(figsize=(12, 5))\n",
    "\n",
    "bar = sns.barplot(x = keys, y = values, ax = ax)\n",
    "\n",
    "ax.xaxis.set_tick_params(labelsize=10)\n",
    "ax.yaxis.set_tick_params(labelsize=10)\n",
    "\n",
    "plt.text(0.5, 1.05, 'Percentage of Null values for columns',\n",
    "        horizontalalignment='center',\n",
    "        fontsize=20,\n",
    "        transform = ax.transAxes)\n",
    "\n",
    "plt.xticks(rotation = 90)\n",
    "ax.margins(x=0.02)\n",
    "\n",
    "# set various colors\n",
    "ax.spines['bottom'].set_color('black')\n",
    "ax.spines['top'].set_color('black') \n",
    "ax.spines['right'].set_color('black')\n",
    "ax.spines['right'].set_linewidth(2)\n",
    "ax.spines['top'].set_linewidth(2)\n",
    "ax.spines['bottom'].set_linewidth(2)\n",
    "ax.spines['left'].set_color('black')\n",
    "ax.spines['left'].set_lw(2) \n",
    "ax.tick_params(which='both', width=2)\n",
    "ax.tick_params(which='major', length=7)\n",
    "ax.tick_params(which='minor', length=7)\n",
    "ax.tick_params(which = 'both', direction = 'in')\n",
    "\n",
    "# fig.text(0.5, -0.35, 'Columns', ha='center', va='center', fontsize = 20)\n",
    "fig.text(0.08, 0.5, '% of Null Values', ha='center', va='center', rotation='vertical', fontsize = 20)\n",
    "\n",
    "# plt.savefig('percentage_of_null_values.jpg',  bbox_inches='tight', dpi = 500)"
   ]
  },
  {
   "cell_type": "markdown",
   "id": "bfd10fa9-8403-474b-ae1d-01e5e986a0d4",
   "metadata": {},
   "source": [
    "It looks like we have two choices for columns with more than 30 % null values. \n",
    "    \n",
    "    1. Either drop them, or\n",
    "    2. Figure out a way to properly fill those null values"
   ]
  },
  {
   "cell_type": "code",
   "execution_count": 21,
   "id": "f7dff956-29db-4274-9a64-81bf9874c275",
   "metadata": {},
   "outputs": [
    {
     "data": {
      "text/plain": [
       "Index(['_id', 'id', 'listing_url', 'scrape_id', 'last_scraped', 'source',\n",
       "       'name', 'description', 'neighborhood_overview', 'picture_url',\n",
       "       'host_id', 'host_url', 'host_name', 'host_since', 'host_location',\n",
       "       'host_about', 'host_response_time', 'host_response_rate',\n",
       "       'host_acceptance_rate', 'host_is_superhost', 'host_thumbnail_url',\n",
       "       'host_picture_url', 'host_neighbourhood', 'host_listings_count',\n",
       "       'host_total_listings_count', 'host_verifications',\n",
       "       'host_has_profile_pic', 'host_identity_verified', 'neighbourhood',\n",
       "       'neighbourhood_cleansed', 'neighbourhood_group_cleansed', 'latitude',\n",
       "       'longitude', 'property_type', 'room_type', 'accommodates',\n",
       "       'bathrooms_text', 'beds', 'amenities', 'price', 'minimum_nights',\n",
       "       'maximum_nights', 'minimum_minimum_nights', 'maximum_minimum_nights',\n",
       "       'minimum_maximum_nights', 'maximum_maximum_nights',\n",
       "       'minimum_nights_avg_ntm', 'maximum_nights_avg_ntm', 'has_availability',\n",
       "       'availability_30', 'availability_60', 'availability_90',\n",
       "       'availability_365', 'calendar_last_scraped', 'number_of_reviews',\n",
       "       'number_of_reviews_ltm', 'number_of_reviews_l30d', 'first_review',\n",
       "       'last_review', 'review_scores_rating', 'review_scores_accuracy',\n",
       "       'review_scores_cleanliness', 'review_scores_checkin',\n",
       "       'review_scores_communication', 'review_scores_location',\n",
       "       'review_scores_value', 'instant_bookable',\n",
       "       'calculated_host_listings_count',\n",
       "       'calculated_host_listings_count_entire_homes',\n",
       "       'calculated_host_listings_count_private_rooms',\n",
       "       'calculated_host_listings_count_shared_rooms', 'reviews_per_month',\n",
       "       'bedrooms', 'license'],\n",
       "      dtype='object')"
      ]
     },
     "execution_count": 21,
     "metadata": {},
     "output_type": "execute_result"
    }
   ],
   "source": [
    "available_columns = df.columns;available_columns"
   ]
  },
  {
   "cell_type": "code",
   "execution_count": 22,
   "id": "54867cb2-cadd-4178-86aa-243ca881eea1",
   "metadata": {},
   "outputs": [],
   "source": [
    "columns_that_are_dropped = []"
   ]
  },
  {
   "cell_type": "code",
   "execution_count": 23,
   "id": "7d9253d3-0c8d-485d-b92b-c5617d037940",
   "metadata": {},
   "outputs": [],
   "source": [
    "data_dictionary = { \n",
    "    'id': 'The unique identifier of the Airbnb listing.',\n",
    "    'listing_url': 'The URL of the Airbnb listing page.',\n",
    "    'scrape_id': 'The unique identifier of the data scrape used to generate the Airbnb listing data.',\n",
    "    'last_scraped': 'The date on which the Airbnb listing data was last scraped.', \n",
    "    'name': 'The name or title of the Airbnb listing.',\n",
    "    'summary': 'A short summary of the Airbnb listing.',\n",
    "    'space': 'A description of the space available in the Airbnb listing.',\n",
    "    'description': 'A detailed description of the Airbnb listing.', \n",
    "    'experiences_offered' : 'A list of experiences offered by the Airbnb host.',\n",
    "    'neighborhood_overview': 'An overview of the neighbourhood where the Airbnb listing is located.',\n",
    "    'notes': 'Additional notes or information about the Airbnb listing.',\n",
    "    'transit': 'Information about nearby public transportation options.',\n",
    "    'access': 'Information about what areas of the Airbnb listing are accessible to guests.',\n",
    "    'interaction': 'Information about how the Airbnb host will interact with guests.',\n",
    "    'house_rules': 'Rules and policies set by the Airbnb host for guests.',\n",
    "    'thumbnail_url': 'The URL of the Airbnb listing thumbnail image.',\n",
    "    'medium_url': 'The URL of a medium-sized image of the Airbnb listing.',\n",
    "    'picture_url': 'The URL of the main image of the Airbnb listing.',\n",
    "    'xl_picture_url': 'The URL of an extra-large image of the Airbnb listing.',\n",
    "    'host_id': 'The unique identifier of the Airbnb host who owns the listing.',\n",
    "    'host_url': 'The URL of the Airbnb host page.',\n",
    "    'host_name': 'The name of the Airbnb host who owns the listing.',\n",
    "    'host_since': 'The date on which the Airbnb host joined the platform.',\n",
    "    'host_location': 'The location of the Airbnb host.',\n",
    "    'host_about': 'Information about the Airbnb host.',\n",
    "    'host_response_time': 'The typical amount of time it takes for the Airbnb host to respond to messages.',\n",
    "    'host_response_rate': 'The percentage of messages that the Airbnb host responds to.',\n",
    "    'host_acceptance_rate': 'The percentage of booking requests that the Airbnb host accepts.',\n",
    "    'host_is_superhost': 'A binary value indicating whether or not the Airbnb host is a Superhost.',\n",
    "    'host_thumbnail_url': 'The URL of the Airbnb host\\'s thumbnail image.', \n",
    "    'host_picture_url': 'The URL of the Airbnb host\\'s main image.',\n",
    "    'host_neighbourhood': 'The neighbourhood where the Airbnb host lives.',\n",
    "    'host_listings_count': 'The number of listings that the Airbnb host has on the platform.',\n",
    "    'host_total_listings_count': 'The total number of listings that the Airbnb host has on all platforms.',\n",
    "    'host_verifications': 'A list of verification methods used by the Airbnb host.',\n",
    "    'host_has_profile_pic': 'A binary value indicating whether or not the Airbnb host has a profile picture.',\n",
    "    'host_identity_verified': 'A binary value indicating whether or not the Airbnb host\\'s identity has been verified.',\n",
    "    'neighbourhood': 'The neighbourhood where the Airbnb listing is located.',\n",
    "    'neighbourhood_cleansed': 'The cleaned-up version of the neighbourhood name.',\n",
    "    'neighbourhood_group_cleansed': 'The cleaned-up version of the neighbourhood group name.',\n",
    "    'latitude': 'The latitude coordinate of the Airbnb listing.',\n",
    "    'longitude': 'The longitude coordinate of the Airbnb listing.',\n",
    "    'property_type': 'The type of property being listed on Airbnb (e.g. Apartment, House, etc.).',\n",
    "    'room_type': 'The type of room being listed on Airbnb (e.g. Private room, Entire home/apt, etc.).',\n",
    "    'accommodates': 'The maximum number of guests the Airbnb listing can accommodate.',\n",
    "    'bathrooms': 'The number of bathrooms available in the Airbnb listing.',\n",
    "    'bedrooms': 'The number of bedrooms available in the Airbnb listing.',\n",
    "    'beds': 'The number of beds available in the Airbnb listing.',\n",
    "    'bed_type': 'The type of bed available in the Airbnb listing (e.g. Real Bed, Futon, etc.).',\n",
    "    'amenities': 'A list of amenities available in the Airbnb listing (e.g. Wifi, TV, etc.).',\n",
    "    'square_feet': 'The size of the Airbnb listing in square feet.',\n",
    "    'price': 'The nightly price of the Airbnb listing.',\n",
    "    'weekly_price': 'The weekly price of the Airbnb listing.',\n",
    "    'monthly_price': 'The monthly price of the Airbnb listing.',\n",
    "    'security_deposit': 'The amount of security deposit required for the Airbnb listing.',\n",
    "    'cleaning_fee': 'The cleaning fee charged for the Airbnb listing.',\n",
    "    'guests_included': 'The number of guests included in the nightly price of the Airbnb listing.',\n",
    "    'extra_people': 'The additional cost per guest after the number of guests included in the nightly price.',\n",
    "    'minimum_nights': 'The minimum number of nights required to book the Airbnb listing.',\n",
    "    'maximum_nights': 'The maximum number of nights allowed for a booking of the Airbnb listing.',\n",
    "    'calendar_updated': 'The last time the Airbnb listing calendar was updated.',\n",
    "    'has_availability': 'A binary value indicating whether or not the Airbnb listing is currently available.',\n",
    "    'availability_30': 'The number of available nights in the next 30 days.',\n",
    "    'availability_60': 'The number of available nights in the next 60 days.',\n",
    "    'availability_90': 'The number of available nights in the next 90 days.',\n",
    "    'availability_365': 'The number of available nights in the next 365 days.',\n",
    "    'calendar_last_scraped': 'The date on which the Airbnb listing calendar was last scraped.',\n",
    "    'number_of_reviews': 'The total number of reviews for the Airbnb listing.',\n",
    "    'number_of_reviews_ltm': 'The total number of reviews for the Airbnb listing in the last 12 months.',\n",
    "    'first_review': 'The date of the first review for the Airbnb listing.',\n",
    "    'last_review': 'The date of the most recent review for the Airbnb listing.',\n",
    "    'review_scores_rating': 'The average rating score for the Airbnb listing.',\n",
    "    'review_scores_accuracy': 'The average accuracy score for the Airbnb listing.',\n",
    "    'review_scores_cleanliness': 'The average cleanliness score for the Airbnb listing.',\n",
    "    'review_scores_communication': 'The average communication score for the Airbnb listing.',\n",
    "}"
   ]
  },
  {
   "cell_type": "code",
   "execution_count": 24,
   "id": "0194527b-26b2-4572-8194-dad698313403",
   "metadata": {},
   "outputs": [],
   "source": [
    "# pd.DataFrame(data_dictionary.values(), \n",
    "# columns = data_dictionary.keys())"
   ]
  },
  {
   "cell_type": "markdown",
   "id": "49dfd7db-ee33-470b-b511-76f99f6467eb",
   "metadata": {
    "tags": []
   },
   "source": [
    "# Data Cleaning"
   ]
  },
  {
   "cell_type": "code",
   "execution_count": 25,
   "id": "4ceac756-0b57-44b1-8bb3-d807a343277b",
   "metadata": {},
   "outputs": [],
   "source": [
    "def check_column_presence(column):\n",
    "    try:\n",
    "        if df[column].shape[0] > 0:\n",
    "            return 'Column |{}| is Present'.format(column)\n",
    "        else:\n",
    "            return None\n",
    "    except:\n",
    "        return \"Column |{}| has been removed !! \".format(column)"
   ]
  },
  {
   "cell_type": "code",
   "execution_count": 26,
   "id": "760a4eb5-e267-49e4-a1c1-bc69c6b32d95",
   "metadata": {},
   "outputs": [
    {
     "data": {
      "text/plain": [
       "'Column |availability_365| is Present'"
      ]
     },
     "execution_count": 26,
     "metadata": {},
     "output_type": "execute_result"
    }
   ],
   "source": [
    "# testing the function\n",
    "check_column_presence('availability_365')"
   ]
  },
  {
   "cell_type": "code",
   "execution_count": 27,
   "id": "c6a85934-97a2-42f9-80a6-2c1c4d89d3b3",
   "metadata": {},
   "outputs": [
    {
     "data": {
      "text/plain": [
       "0        [\"Carbon monoxide alarm\", \"Stove\", \"Bathtub\", ...\n",
       "1        [\"Hair dryer\", \"Smoke alarm\", \"Carbon monoxide...\n",
       "2        [\"HDTV with Disney+, HBO Max, standard cable, ...\n",
       "3        [\"Heating\", \"Wifi\", \"Long term stays allowed\",...\n",
       "4        [\"Carbon monoxide alarm\", \"Shampoo\", \"Stove\", ...\n",
       "                               ...                        \n",
       "41528    [\"Smoke alarm\", \"Wifi\", \"Exercise equipment\", ...\n",
       "41529    [\"Smoke alarm\", \"First aid kit\", \"Wifi\", \"TV\",...\n",
       "41530    [\"Hair dryer\", \"Smoke alarm\", \"Carbon monoxide...\n",
       "41531    [\"Smoke alarm\", \"Carbon monoxide alarm\", \"Firs...\n",
       "41532    [\"Carbon monoxide alarm\", \"Shampoo\", \"Conditio...\n",
       "Name: amenities, Length: 41533, dtype: object"
      ]
     },
     "execution_count": 27,
     "metadata": {},
     "output_type": "execute_result"
    }
   ],
   "source": [
    "df['amenities']"
   ]
  },
  {
   "cell_type": "markdown",
   "id": "b91d843f-2e9e-4590-8760-e9604fc87966",
   "metadata": {},
   "source": [
    "## Dropping useless individual columns"
   ]
  },
  {
   "cell_type": "markdown",
   "id": "795b7978-3017-47e0-84eb-3c3e3f986b25",
   "metadata": {},
   "source": [
    "### 1. `_id` column"
   ]
  },
  {
   "cell_type": "code",
   "execution_count": 28,
   "id": "354e5d71-4361-407a-8f34-a91168b78283",
   "metadata": {},
   "outputs": [
    {
     "data": {
      "text/plain": [
       "(41533,)"
      ]
     },
     "execution_count": 28,
     "metadata": {},
     "output_type": "execute_result"
    }
   ],
   "source": [
    "df['_id'].unique().shape"
   ]
  },
  {
   "cell_type": "markdown",
   "id": "102c5a4a-fec6-422c-a5c4-b34871acef17",
   "metadata": {},
   "source": [
    "This column is simply generated by Mongodb by assignng a unique value to each document/rows while uploading the file.\n",
    "We don't need this column, which is why we will proceed to drop this column."
   ]
  },
  {
   "cell_type": "code",
   "execution_count": 29,
   "id": "3c275229-df5d-4683-a942-b885a6a4d9dd",
   "metadata": {},
   "outputs": [],
   "source": [
    "df.drop('_id', axis = 1, inplace = True)"
   ]
  },
  {
   "cell_type": "code",
   "execution_count": 30,
   "id": "fb8b848d-edd5-4771-a147-34d7cfed1724",
   "metadata": {},
   "outputs": [
    {
     "data": {
      "text/plain": [
       "'Column |_id| has been removed !! '"
      ]
     },
     "execution_count": 30,
     "metadata": {},
     "output_type": "execute_result"
    }
   ],
   "source": [
    "check_column_presence('_id')"
   ]
  },
  {
   "cell_type": "code",
   "execution_count": 31,
   "id": "6c24964b-125e-44f1-956a-67c711dfbede",
   "metadata": {},
   "outputs": [],
   "source": [
    "columns_that_are_dropped.append('_id')"
   ]
  },
  {
   "cell_type": "markdown",
   "id": "72619fb1-3ee8-4056-905c-a31a964dcf02",
   "metadata": {},
   "source": [
    "### 2. `id` column"
   ]
  },
  {
   "cell_type": "code",
   "execution_count": 32,
   "id": "38810d23-a6e1-49b5-98c2-59ec90a95efb",
   "metadata": {},
   "outputs": [
    {
     "data": {
      "text/plain": [
       "(41533,)"
      ]
     },
     "execution_count": 32,
     "metadata": {},
     "output_type": "execute_result"
    }
   ],
   "source": [
    "df['id'].shape"
   ]
  },
  {
   "cell_type": "markdown",
   "id": "b4afe1ec-c320-487b-a7ec-69fafdbb2c59",
   "metadata": {},
   "source": [
    "Each rental is assigned a unique ID. So, this column is also not necessary."
   ]
  },
  {
   "cell_type": "code",
   "execution_count": 33,
   "id": "eb611023-4295-4f6a-b08a-c568bbd36cd1",
   "metadata": {},
   "outputs": [],
   "source": [
    "df.drop('id', axis = 1, inplace = True)"
   ]
  },
  {
   "cell_type": "code",
   "execution_count": 34,
   "id": "c124c388-5cf2-4528-aa3d-f338014b8349",
   "metadata": {},
   "outputs": [
    {
     "data": {
      "text/plain": [
       "'Column |id| has been removed !! '"
      ]
     },
     "execution_count": 34,
     "metadata": {},
     "output_type": "execute_result"
    }
   ],
   "source": [
    "check_column_presence('id')"
   ]
  },
  {
   "cell_type": "code",
   "execution_count": 35,
   "id": "dbfdeace-8c9d-48a8-bf45-72aa3ec2830d",
   "metadata": {},
   "outputs": [],
   "source": [
    "columns_that_are_dropped.append('id')"
   ]
  },
  {
   "cell_type": "markdown",
   "id": "26f3f39f-e9e8-4eaf-8420-a65bd7ff28f3",
   "metadata": {},
   "source": [
    "### 3. `listing_url` column"
   ]
  },
  {
   "cell_type": "code",
   "execution_count": 36,
   "id": "0928a0be-c5f9-42dd-b7b9-859ee16975bc",
   "metadata": {},
   "outputs": [
    {
     "data": {
      "text/plain": [
       "(41533,)"
      ]
     },
     "execution_count": 36,
     "metadata": {},
     "output_type": "execute_result"
    }
   ],
   "source": [
    "df['listing_url'].unique().shape"
   ]
  },
  {
   "cell_type": "markdown",
   "id": "12cef78a-ad4f-4156-882b-a2bfddbf5f23",
   "metadata": {},
   "source": [
    "Likewise, this column contains the listing URL for the corresponding rentals. We can remove this column as it does not contain any useful information."
   ]
  },
  {
   "cell_type": "code",
   "execution_count": 37,
   "id": "d91437d4-0d29-4b11-b386-ec833f419f63",
   "metadata": {},
   "outputs": [],
   "source": [
    "df.drop('listing_url', axis = 1, inplace = True)"
   ]
  },
  {
   "cell_type": "code",
   "execution_count": 38,
   "id": "2cd8b7e7-1bf4-4d35-94c5-00eb2b6b5713",
   "metadata": {},
   "outputs": [
    {
     "data": {
      "text/plain": [
       "'Column |listing_url| has been removed !! '"
      ]
     },
     "execution_count": 38,
     "metadata": {},
     "output_type": "execute_result"
    }
   ],
   "source": [
    "check_column_presence('listing_url')"
   ]
  },
  {
   "cell_type": "code",
   "execution_count": 39,
   "id": "f614102b-49bb-4e93-ad29-53c4278a285d",
   "metadata": {},
   "outputs": [],
   "source": [
    "columns_that_are_dropped.append('listing_url')"
   ]
  },
  {
   "cell_type": "markdown",
   "id": "3e393bcb-ce22-4ce1-9cc2-f1fc456680f8",
   "metadata": {},
   "source": [
    "### 4. `scrape_id` column"
   ]
  },
  {
   "cell_type": "code",
   "execution_count": 40,
   "id": "6b890dae-c447-4183-8d3b-c882862089d6",
   "metadata": {},
   "outputs": [
    {
     "data": {
      "text/plain": [
       "(1,)"
      ]
     },
     "execution_count": 40,
     "metadata": {},
     "output_type": "execute_result"
    }
   ],
   "source": [
    "df['scrape_id'].unique().shape"
   ]
  },
  {
   "cell_type": "code",
   "execution_count": 41,
   "id": "f52485f4-b9f4-4c81-a47f-fe575309e43f",
   "metadata": {},
   "outputs": [
    {
     "data": {
      "text/plain": [
       "array(['20221204162430'], dtype=object)"
      ]
     },
     "execution_count": 41,
     "metadata": {},
     "output_type": "execute_result"
    }
   ],
   "source": [
    "df['scrape_id'].unique()"
   ]
  },
  {
   "cell_type": "markdown",
   "id": "94c665f7-b0b8-40a4-b62f-5e4c40e82ae4",
   "metadata": {},
   "source": [
    "This column has only one unique value which is why we will proceed to remove this column as well. "
   ]
  },
  {
   "cell_type": "code",
   "execution_count": 42,
   "id": "75e407bb-181c-4a9a-a3d0-0c5d7f6547ec",
   "metadata": {},
   "outputs": [],
   "source": [
    "df.drop('scrape_id', axis = 1, inplace = True)"
   ]
  },
  {
   "cell_type": "code",
   "execution_count": 43,
   "id": "48fa280a-25eb-44c3-a042-fc849e091e9a",
   "metadata": {},
   "outputs": [
    {
     "data": {
      "text/plain": [
       "'Column |scrape_id| has been removed !! '"
      ]
     },
     "execution_count": 43,
     "metadata": {},
     "output_type": "execute_result"
    }
   ],
   "source": [
    "check_column_presence('scrape_id')"
   ]
  },
  {
   "cell_type": "code",
   "execution_count": 44,
   "id": "22e7a228-fc91-40b1-9588-f4c02a77a835",
   "metadata": {},
   "outputs": [],
   "source": [
    "columns_that_are_dropped.append('scrape_id')"
   ]
  },
  {
   "cell_type": "markdown",
   "id": "c46a7c30-fe61-4ebd-996e-6368a64c245d",
   "metadata": {},
   "source": [
    "### 5. `last_scraped` column"
   ]
  },
  {
   "cell_type": "code",
   "execution_count": 45,
   "id": "aa166da6-5a92-4f77-942c-4bc44a74e921",
   "metadata": {},
   "outputs": [
    {
     "data": {
      "text/plain": [
       "array(['2022-12-05', '2022-12-04'], dtype=object)"
      ]
     },
     "execution_count": 45,
     "metadata": {},
     "output_type": "execute_result"
    }
   ],
   "source": [
    "df['last_scraped'].unique()"
   ]
  },
  {
   "cell_type": "markdown",
   "id": "81ac8a9b-2d54-48cf-b508-2abf39ee03fd",
   "metadata": {},
   "source": [
    "It looks like Airbnb scraped all of their data from database at the end of 2022, which is why two date values belonging to december are only present in this column. So, we can safely drop this column as well."
   ]
  },
  {
   "cell_type": "code",
   "execution_count": 46,
   "id": "1d44edf1-bbee-4b8a-81e0-296ad58b64e0",
   "metadata": {},
   "outputs": [],
   "source": [
    "df.drop('last_scraped', axis = 1, inplace = True)"
   ]
  },
  {
   "cell_type": "code",
   "execution_count": 47,
   "id": "5edc2698-4a6f-498d-9e26-a500e02e19bd",
   "metadata": {},
   "outputs": [
    {
     "data": {
      "text/plain": [
       "'Column |last_scraped| has been removed !! '"
      ]
     },
     "execution_count": 47,
     "metadata": {},
     "output_type": "execute_result"
    }
   ],
   "source": [
    "check_column_presence('last_scraped')"
   ]
  },
  {
   "cell_type": "code",
   "execution_count": 48,
   "id": "fa11a06b-2570-4207-94fb-c2798294d168",
   "metadata": {},
   "outputs": [],
   "source": [
    "columns_that_are_dropped.append('last_scraped')"
   ]
  },
  {
   "cell_type": "markdown",
   "id": "6438db2d-6c4c-49ce-acec-e460aef324f2",
   "metadata": {},
   "source": [
    "### 6. `source` column"
   ]
  },
  {
   "cell_type": "code",
   "execution_count": 49,
   "id": "8423b1a7-771e-40bf-8937-2a7a7ca30e49",
   "metadata": {},
   "outputs": [
    {
     "data": {
      "text/plain": [
       "'source'"
      ]
     },
     "execution_count": 49,
     "metadata": {},
     "output_type": "execute_result"
    }
   ],
   "source": [
    "available_columns[5]"
   ]
  },
  {
   "cell_type": "code",
   "execution_count": 50,
   "id": "12f94bf4-f5a6-48ec-a153-590b4a990940",
   "metadata": {},
   "outputs": [
    {
     "data": {
      "text/plain": [
       "array(['city scrape', 'previous scrape'], dtype=object)"
      ]
     },
     "execution_count": 50,
     "metadata": {},
     "output_type": "execute_result"
    }
   ],
   "source": [
    "df['source'].unique()"
   ]
  },
  {
   "cell_type": "markdown",
   "id": "271af5ed-2832-41a0-a8f9-715fb248ebe3",
   "metadata": {},
   "source": [
    "This column contains the source from where Airbnb retrieved their data. So, we can remove this column. "
   ]
  },
  {
   "cell_type": "code",
   "execution_count": 51,
   "id": "9aebdd97-d965-4419-9143-b06f34a6e9fa",
   "metadata": {},
   "outputs": [
    {
     "data": {
      "text/plain": [
       "'Column |source| has been removed !! '"
      ]
     },
     "execution_count": 51,
     "metadata": {},
     "output_type": "execute_result"
    }
   ],
   "source": [
    "df.drop('source', axis = 1, inplace = True)\n",
    "check_column_presence('source')"
   ]
  },
  {
   "cell_type": "code",
   "execution_count": 52,
   "id": "c77926ac-8b0c-4197-904e-bfa9ea15a07a",
   "metadata": {},
   "outputs": [],
   "source": [
    "columns_that_are_dropped.append('source')"
   ]
  },
  {
   "cell_type": "markdown",
   "id": "85c76b78-eb2b-43d8-aed3-131cfaf5842b",
   "metadata": {},
   "source": [
    "### 7. `name` column"
   ]
  },
  {
   "cell_type": "code",
   "execution_count": 53,
   "id": "ffc51fef-e314-4bd1-aed4-eb040c994c4f",
   "metadata": {},
   "outputs": [
    {
     "data": {
      "text/plain": [
       "'name'"
      ]
     },
     "execution_count": 53,
     "metadata": {},
     "output_type": "execute_result"
    }
   ],
   "source": [
    "available_columns[6]"
   ]
  },
  {
   "cell_type": "code",
   "execution_count": 54,
   "id": "e40a3269-2290-4728-970b-222ab109dbb9",
   "metadata": {},
   "outputs": [
    {
     "data": {
      "text/plain": [
       "0                           Skylit Midtown Castle\n",
       "1              Cozy Clean Guest Room - Family Apt\n",
       "2        Spacious Brooklyn Duplex, Patio + Garden\n",
       "3                                 BlissArtsSpace!\n",
       "4                Only 2 stops to Manhattan studio\n",
       "                           ...                   \n",
       "41528                                     Dahiari\n",
       "41529                          Beautiful Basement\n",
       "41530                  Central Park Close By - 24\n",
       "41531                     Good Vibes at The Bronx\n",
       "41532           2 bedroom Condo near West Village\n",
       "Name: name, Length: 41533, dtype: object"
      ]
     },
     "execution_count": 54,
     "metadata": {},
     "output_type": "execute_result"
    }
   ],
   "source": [
    "df['name']"
   ]
  },
  {
   "cell_type": "markdown",
   "id": "52b68d4a-62a2-480b-943e-b7db89f75685",
   "metadata": {},
   "source": [
    "This column contains names of each Airbnb rentals"
   ]
  },
  {
   "cell_type": "code",
   "execution_count": 55,
   "id": "55e8e8d2-d037-46f9-9cf3-747e39762120",
   "metadata": {},
   "outputs": [
    {
     "data": {
      "text/plain": [
       "array(['Amazing loft close to everything',\n",
       "       'Williamsburg 3-Bed Townhouse w/ Garden by L Train',\n",
       "       'Tucked Away Inn-Ideal For Long Stays -5 min to LGA',\n",
       "       'Large modern apartment with a view',\n",
       "       'Spacious Private Ground Floor Studio Apt.',\n",
       "       'NEW PENTHOUSE W/ HUGE PRIVATE ROOFTOP EAST VILLAGE',\n",
       "       'Lovely bedroom near Central Park',\n",
       "       'Hermoso apartamento (habitaciones compartidas)',\n",
       "       'Lotus Flower-Lovely 3-Bedroom Apt, Flatbush Bklyn',\n",
       "       'Huge private room in Williamsburg'], dtype=object)"
      ]
     },
     "execution_count": 55,
     "metadata": {},
     "output_type": "execute_result"
    }
   ],
   "source": [
    "df['name'].sample(10).values"
   ]
  },
  {
   "cell_type": "markdown",
   "id": "14422866-069c-4c07-8b27-411351f705a3",
   "metadata": {},
   "source": [
    "some of the names of the Airbnb rentals contain the location of the rentals. Since we have other columns precisely providing the location of the rentals, we can proceed to safely remove this column."
   ]
  },
  {
   "cell_type": "code",
   "execution_count": 56,
   "id": "8c30ee51-b07e-4ee2-a168-a30e08a69fa8",
   "metadata": {},
   "outputs": [
    {
     "data": {
      "text/plain": [
       "'Column |name| has been removed !! '"
      ]
     },
     "execution_count": 56,
     "metadata": {},
     "output_type": "execute_result"
    }
   ],
   "source": [
    "df.drop('name', axis = 1, inplace = True)\n",
    "check_column_presence('name')"
   ]
  },
  {
   "cell_type": "code",
   "execution_count": 57,
   "id": "ca813cb2-06ae-454e-ad89-2fc227a574e6",
   "metadata": {},
   "outputs": [],
   "source": [
    "columns_that_are_dropped.append('name')"
   ]
  },
  {
   "cell_type": "markdown",
   "id": "899742e8-4b13-46bf-8f4c-ac9320e06b2e",
   "metadata": {},
   "source": [
    "### 8. `description` column"
   ]
  },
  {
   "cell_type": "code",
   "execution_count": 58,
   "id": "93b99d23-f192-4e57-ad9c-5ff9027c40de",
   "metadata": {},
   "outputs": [
    {
     "data": {
      "text/plain": [
       "'description'"
      ]
     },
     "execution_count": 58,
     "metadata": {},
     "output_type": "execute_result"
    }
   ],
   "source": [
    "available_columns[7]"
   ]
  },
  {
   "cell_type": "code",
   "execution_count": 59,
   "id": "f13cbb4e-285f-4855-8f7f-ff789ead33c7",
   "metadata": {},
   "outputs": [
    {
     "data": {
      "text/plain": [
       "0        Beautiful, spacious skylit studio in the heart...\n",
       "1        Our best guests are seeking a safe, clean, spa...\n",
       "2        We welcome you to stay in our lovely 2 br dupl...\n",
       "3        One room available for rent in a 2 bedroom apt...\n",
       "4        Comfortable studio apartment with super comfor...\n",
       "                               ...                        \n",
       "41528    Desconecta de tus preocupaciones en este espac...\n",
       "41529    Your family will be close to everything when y...\n",
       "41530    This is a Three-Bedroom Apartment. You will ha...\n",
       "41531    Keep it simple at this peaceful and centrally-...\n",
       "41532    This beautifully decorated condo will give you...\n",
       "Name: description, Length: 41533, dtype: object"
      ]
     },
     "execution_count": 59,
     "metadata": {},
     "output_type": "execute_result"
    }
   ],
   "source": [
    "df['description']"
   ]
  },
  {
   "cell_type": "markdown",
   "id": "7aa294b4-621c-41b9-953a-6bd6ea96855f",
   "metadata": {},
   "source": [
    "This column is also useless for analysis as it contains description of each Airbnb rentals."
   ]
  },
  {
   "cell_type": "code",
   "execution_count": 60,
   "id": "4a67c8f0-8e53-4f05-85e5-3a5247e36724",
   "metadata": {},
   "outputs": [
    {
     "data": {
      "text/plain": [
       "'Column |description| has been removed !! '"
      ]
     },
     "execution_count": 60,
     "metadata": {},
     "output_type": "execute_result"
    }
   ],
   "source": [
    "df.drop('description', axis = 1, inplace = True)\n",
    "check_column_presence('description')"
   ]
  },
  {
   "cell_type": "code",
   "execution_count": 61,
   "id": "15d6e2e7-b68a-40ca-be3c-a49fd9f1a0fc",
   "metadata": {},
   "outputs": [],
   "source": [
    "columns_that_are_dropped.append('description')"
   ]
  },
  {
   "cell_type": "markdown",
   "id": "64f6de11-4121-4ea1-b986-aeb58bc318fa",
   "metadata": {
    "tags": []
   },
   "source": [
    "### 9. `neighborhood_overview` column"
   ]
  },
  {
   "cell_type": "code",
   "execution_count": 62,
   "id": "37ae0f8c-1d7f-4bfe-a082-fbf5a62fbd5d",
   "metadata": {},
   "outputs": [
    {
     "data": {
      "text/plain": [
       "'neighborhood_overview'"
      ]
     },
     "execution_count": 62,
     "metadata": {},
     "output_type": "execute_result"
    }
   ],
   "source": [
    "available_columns[8]"
   ]
  },
  {
   "cell_type": "code",
   "execution_count": 63,
   "id": "74bb8703-7e29-4921-9011-895f416f96b0",
   "metadata": {},
   "outputs": [
    {
     "data": {
      "text/plain": [
       "17443"
      ]
     },
     "execution_count": 63,
     "metadata": {},
     "output_type": "execute_result"
    }
   ],
   "source": [
    "df['neighborhood_overview'].isnull().sum()"
   ]
  },
  {
   "cell_type": "code",
   "execution_count": 64,
   "id": "c3fc7d10-c508-4258-9036-39f4c6ad7ee6",
   "metadata": {},
   "outputs": [
    {
     "data": {
      "text/plain": [
       "0        Centrally located in the heart of Manhattan ju...\n",
       "1        Our neighborhood is full of restaurants and ca...\n",
       "5          Theater district, many restaurants around here.\n",
       "6        Location: Five minutes to Central Park, Museum...\n",
       "7        This sweet Harlem sanctuary is a 10-20 minute ...\n",
       "                               ...                        \n",
       "41493    Woodlawn Heights is a fun and safe community. ...\n",
       "41497    ▶What's nearby <br />• In Manhattan <br />• Ti...\n",
       "41521    Prime Flatiron / Nomad location in middle of M...\n",
       "41523    This busy convenient location provides quick a...\n",
       "41525    The Most BEAUTIFUL NYC Skyline View From The C...\n",
       "Name: neighborhood_overview, Length: 24090, dtype: object"
      ]
     },
     "execution_count": 64,
     "metadata": {},
     "output_type": "execute_result"
    }
   ],
   "source": [
    "df['neighborhood_overview'].dropna()"
   ]
  },
  {
   "cell_type": "markdown",
   "id": "4819349a-01cc-469d-a944-28a6fbb7e9c8",
   "metadata": {},
   "source": [
    "We won't need this column as well as we already have columns containing neighbourhood information. "
   ]
  },
  {
   "cell_type": "code",
   "execution_count": 65,
   "id": "9830aca6-3127-415c-992b-f4fb46ebbc33",
   "metadata": {},
   "outputs": [
    {
     "data": {
      "text/plain": [
       "'Column |neighborhood_overview| has been removed !! '"
      ]
     },
     "execution_count": 65,
     "metadata": {},
     "output_type": "execute_result"
    }
   ],
   "source": [
    "df.drop('neighborhood_overview', axis = 1, inplace = True)\n",
    "check_column_presence('neighborhood_overview')"
   ]
  },
  {
   "cell_type": "code",
   "execution_count": 66,
   "id": "5fc1bcab-5500-4cdb-bb62-73558462d2b3",
   "metadata": {},
   "outputs": [],
   "source": [
    "columns_that_are_dropped.append('neighborhood_overview')"
   ]
  },
  {
   "cell_type": "markdown",
   "id": "02288bc1-91d5-4e6f-b539-1f5ea739ec47",
   "metadata": {},
   "source": [
    "### 10. `host_id` column"
   ]
  },
  {
   "cell_type": "code",
   "execution_count": 67,
   "id": "a9a65df8-dbe7-4fdc-95c0-b208ade7ba0d",
   "metadata": {},
   "outputs": [
    {
     "data": {
      "text/plain": [
       "'host_id'"
      ]
     },
     "execution_count": 67,
     "metadata": {},
     "output_type": "execute_result"
    }
   ],
   "source": [
    "available_columns[10]"
   ]
  },
  {
   "cell_type": "code",
   "execution_count": 68,
   "id": "af8f4b64-ba0a-405a-8349-5ed5bd50ce9b",
   "metadata": {},
   "outputs": [
    {
     "data": {
      "text/plain": [
       "0             2845\n",
       "1             7490\n",
       "2             7378\n",
       "3             7356\n",
       "4            15991\n",
       "           ...    \n",
       "41528    125534010\n",
       "41529    338424773\n",
       "41530      2653479\n",
       "41531    421264574\n",
       "41532    481177884\n",
       "Name: host_id, Length: 41533, dtype: object"
      ]
     },
     "execution_count": 68,
     "metadata": {},
     "output_type": "execute_result"
    }
   ],
   "source": [
    "df['host_id']"
   ]
  },
  {
   "cell_type": "markdown",
   "id": "829360ac-8a6d-45ac-8b5b-e95472594504",
   "metadata": {},
   "source": [
    "Each Airbnb rental's host will have unique host id. So, we can proceed to drop this column as well."
   ]
  },
  {
   "cell_type": "code",
   "execution_count": 69,
   "id": "757b48ac-0817-422e-a911-07a55f2badfe",
   "metadata": {},
   "outputs": [],
   "source": [
    "df.drop('host_id', axis = 1, inplace = True)\n",
    "check_column_presence('host_id')\n",
    "columns_that_are_dropped.append('host_id')"
   ]
  },
  {
   "cell_type": "markdown",
   "id": "5ba2720b-436e-4cc9-b2ba-2cdf7ae8d3ab",
   "metadata": {},
   "source": [
    "### 11. `host_url` column"
   ]
  },
  {
   "cell_type": "code",
   "execution_count": 70,
   "id": "1ba90320-feed-4053-a49a-25e26900ee50",
   "metadata": {},
   "outputs": [
    {
     "data": {
      "text/plain": [
       "'host_url'"
      ]
     },
     "execution_count": 70,
     "metadata": {},
     "output_type": "execute_result"
    }
   ],
   "source": [
    "available_columns[11]"
   ]
  },
  {
   "cell_type": "code",
   "execution_count": 71,
   "id": "4b2f8a04-c822-4d8f-83fe-4653e526011a",
   "metadata": {},
   "outputs": [
    {
     "data": {
      "text/plain": [
       "0             https://www.airbnb.com/users/show/2845\n",
       "1             https://www.airbnb.com/users/show/7490\n",
       "2             https://www.airbnb.com/users/show/7378\n",
       "3             https://www.airbnb.com/users/show/7356\n",
       "4            https://www.airbnb.com/users/show/15991\n",
       "                            ...                     \n",
       "41528    https://www.airbnb.com/users/show/125534010\n",
       "41529    https://www.airbnb.com/users/show/338424773\n",
       "41530      https://www.airbnb.com/users/show/2653479\n",
       "41531    https://www.airbnb.com/users/show/421264574\n",
       "41532    https://www.airbnb.com/users/show/481177884\n",
       "Name: host_url, Length: 41533, dtype: object"
      ]
     },
     "execution_count": 71,
     "metadata": {},
     "output_type": "execute_result"
    }
   ],
   "source": [
    "df['host_url']"
   ]
  },
  {
   "cell_type": "markdown",
   "id": "f7581331-5401-4ac6-8df7-fa3c2d12f19d",
   "metadata": {},
   "source": [
    "This column contains the URL of each Airbnb's hosts' profiles. So, we can safely drop this column as it will be of no further use to us."
   ]
  },
  {
   "cell_type": "code",
   "execution_count": 72,
   "id": "7c64ee1f-6731-45f4-8df5-bb949e31159f",
   "metadata": {},
   "outputs": [],
   "source": [
    "df.drop('host_url', axis = 1, inplace = True)\n",
    "check_column_presence('host_url')\n",
    "columns_that_are_dropped.append('host_url')"
   ]
  },
  {
   "cell_type": "markdown",
   "id": "5aa587e1-4229-438d-aad6-e195362660c0",
   "metadata": {},
   "source": [
    "### 12. `host_name` column"
   ]
  },
  {
   "cell_type": "code",
   "execution_count": 73,
   "id": "c7a0d2ba-f7cf-4c43-b52e-fc213e5cc1c2",
   "metadata": {},
   "outputs": [
    {
     "data": {
      "text/plain": [
       "'host_name'"
      ]
     },
     "execution_count": 73,
     "metadata": {},
     "output_type": "execute_result"
    }
   ],
   "source": [
    "available_columns[12]"
   ]
  },
  {
   "cell_type": "code",
   "execution_count": 74,
   "id": "03557e33-ebb7-4dc0-be73-5a0dcab7d3fa",
   "metadata": {},
   "outputs": [
    {
     "data": {
      "text/plain": [
       "0             Jennifer\n",
       "1            MaryEllen\n",
       "2              Rebecca\n",
       "3                Garon\n",
       "4        Allen & Irina\n",
       "             ...      \n",
       "41528          Larissa\n",
       "41529               Md\n",
       "41530          Richard\n",
       "41531           Aridio\n",
       "41532           Steven\n",
       "Name: host_name, Length: 41533, dtype: object"
      ]
     },
     "execution_count": 74,
     "metadata": {},
     "output_type": "execute_result"
    }
   ],
   "source": [
    "df['host_name']"
   ]
  },
  {
   "cell_type": "code",
   "execution_count": 75,
   "id": "de5fe110-4c23-453e-9eb8-3ceb7013e1d6",
   "metadata": {},
   "outputs": [
    {
     "data": {
      "text/plain": [
       "(9629,)"
      ]
     },
     "execution_count": 75,
     "metadata": {},
     "output_type": "execute_result"
    }
   ],
   "source": [
    "df['host_name'].unique().shape"
   ]
  },
  {
   "cell_type": "markdown",
   "id": "65d188e3-05fc-4d6f-b042-ef05c8e8da49",
   "metadata": {},
   "source": [
    "Each Airbnb rental's host will have a name. Therefore, this column will not be of much use to us."
   ]
  },
  {
   "cell_type": "code",
   "execution_count": 76,
   "id": "d636cba1-936c-4bc1-9f95-1cab03e6b891",
   "metadata": {},
   "outputs": [],
   "source": [
    "df.drop('host_name', axis = 1, inplace = True)\n",
    "check_column_presence('host_name')\n",
    "columns_that_are_dropped.append('host_name')"
   ]
  },
  {
   "cell_type": "markdown",
   "id": "e7ab3ed2-9b5c-43ef-9320-bc48e76e97d5",
   "metadata": {},
   "source": [
    "### 13. `host_since` column"
   ]
  },
  {
   "cell_type": "code",
   "execution_count": 77,
   "id": "74911b8b-a40d-4c09-8d18-9a77b4c28390",
   "metadata": {},
   "outputs": [
    {
     "data": {
      "text/plain": [
       "'host_since'"
      ]
     },
     "execution_count": 77,
     "metadata": {},
     "output_type": "execute_result"
    }
   ],
   "source": [
    "available_columns[13]"
   ]
  },
  {
   "cell_type": "code",
   "execution_count": 78,
   "id": "ee2b8a17-4785-4314-b26e-eeaa5d6aed52",
   "metadata": {},
   "outputs": [
    {
     "data": {
      "text/plain": [
       "0        2008-09-09\n",
       "1        2009-02-05\n",
       "2        2009-02-03\n",
       "3        2009-02-03\n",
       "4        2009-05-06\n",
       "            ...    \n",
       "41528    2017-04-12\n",
       "41529    2020-02-24\n",
       "41530    2012-06-16\n",
       "41531    2021-09-02\n",
       "41532    2022-09-26\n",
       "Name: host_since, Length: 41533, dtype: object"
      ]
     },
     "execution_count": 78,
     "metadata": {},
     "output_type": "execute_result"
    }
   ],
   "source": [
    "df['host_since']"
   ]
  },
  {
   "cell_type": "markdown",
   "id": "38d2c0e1-19cc-41be-9bcd-421bf3aa28b0",
   "metadata": {},
   "source": [
    "This column contains information about the date since when the Airbnb rental has been opened up for hosting services."
   ]
  },
  {
   "cell_type": "code",
   "execution_count": 79,
   "id": "9dafa3f1-ae68-495b-a90b-fa3be0e4526c",
   "metadata": {},
   "outputs": [],
   "source": [
    "df['host_since'] = pd.to_datetime(df['host_since'])"
   ]
  },
  {
   "cell_type": "markdown",
   "id": "2dfef757-b565-4aee-a841-14ae982777ce",
   "metadata": {},
   "source": [
    "<b> Since we will be predicting the rental's price, we would be focusing more on the properties of individual rental. So, date from which a rental has been open should not matter much in predicting price. "
   ]
  },
  {
   "cell_type": "code",
   "execution_count": 80,
   "id": "441caaf9-9c5b-498d-998d-ed2ea62d504e",
   "metadata": {},
   "outputs": [
    {
     "data": {
      "text/plain": [
       "5"
      ]
     },
     "execution_count": 80,
     "metadata": {},
     "output_type": "execute_result"
    }
   ],
   "source": [
    "df['host_since'].isnull().sum()"
   ]
  },
  {
   "cell_type": "code",
   "execution_count": 81,
   "id": "1344850b-e519-4105-aa02-5f183c6ad900",
   "metadata": {},
   "outputs": [
    {
     "data": {
      "text/plain": [
       "'host_since'"
      ]
     },
     "execution_count": 81,
     "metadata": {},
     "output_type": "execute_result"
    }
   ],
   "source": [
    "available_columns[13]"
   ]
  },
  {
   "cell_type": "code",
   "execution_count": 82,
   "id": "bdce7ece-fdca-42fe-9416-39ceb13cea12",
   "metadata": {},
   "outputs": [],
   "source": [
    "df.drop('host_since', axis = 1, inplace = True)\n",
    "check_column_presence('host_since')\n",
    "columns_that_are_dropped.append('host_since')"
   ]
  },
  {
   "cell_type": "markdown",
   "id": "37a191de-4d69-4971-9d6c-bde22b537623",
   "metadata": {},
   "source": [
    "### 14. `host_about` column"
   ]
  },
  {
   "cell_type": "code",
   "execution_count": 83,
   "id": "e34b4aaf-d701-4905-ad2a-fca185bebf21",
   "metadata": {},
   "outputs": [
    {
     "data": {
      "text/plain": [
       "'host_about'"
      ]
     },
     "execution_count": 83,
     "metadata": {},
     "output_type": "execute_result"
    }
   ],
   "source": [
    "available_columns[15]"
   ]
  },
  {
   "cell_type": "code",
   "execution_count": 84,
   "id": "1bae7466-c944-4dbd-9c63-c91064d9b216",
   "metadata": {},
   "outputs": [
    {
     "data": {
      "text/plain": [
       "0        A New Yorker since (Phone number hidden by Air...\n",
       "1        Welcome to family life with my oldest two away...\n",
       "2        Rebecca is an artist/designer, and Henoch is i...\n",
       "3         I am an artist(painter, filmmaker) and curato...\n",
       "4        We love to travel. When we travel we like to s...\n",
       "                               ...                        \n",
       "41528                                                  NaN\n",
       "41529                                                  NaN\n",
       "41530                   I love to travel and meet people. \n",
       "41531                                                  NaN\n",
       "41532                                                  NaN\n",
       "Name: host_about, Length: 41533, dtype: object"
      ]
     },
     "execution_count": 84,
     "metadata": {},
     "output_type": "execute_result"
    }
   ],
   "source": [
    "df['host_about']"
   ]
  },
  {
   "cell_type": "code",
   "execution_count": 85,
   "id": "fd253e71-d75d-4370-ba94-1a149367e069",
   "metadata": {},
   "outputs": [
    {
     "data": {
      "text/plain": [
       "41085                                                  NaN\n",
       "8801      Holistic Health Consultant, and Friendly person.\n",
       "1769     Professional Performing and Teaching Musician/...\n",
       "38509    I have always taken a passion in discovering n...\n",
       "24051                                                  NaN\n",
       "Name: host_about, dtype: object"
      ]
     },
     "execution_count": 85,
     "metadata": {},
     "output_type": "execute_result"
    }
   ],
   "source": [
    "df['host_about'].sample(5)"
   ]
  },
  {
   "cell_type": "code",
   "execution_count": 86,
   "id": "40a4732a-5132-44c6-83b2-99be7376ff80",
   "metadata": {},
   "outputs": [
    {
     "data": {
      "text/plain": [
       "18297"
      ]
     },
     "execution_count": 86,
     "metadata": {},
     "output_type": "execute_result"
    }
   ],
   "source": [
    "df['host_about'].isnull().sum()"
   ]
  },
  {
   "cell_type": "markdown",
   "id": "3585a4a6-349e-4169-b95b-c2965af14e09",
   "metadata": {},
   "source": [
    "This column doesn't contain any useful information. So, we will proceed to drop this columns."
   ]
  },
  {
   "cell_type": "code",
   "execution_count": 87,
   "id": "7d3534ee-2ab2-4e6b-a386-8e048b2101f7",
   "metadata": {},
   "outputs": [],
   "source": [
    "df.drop('host_about', axis = 1, inplace = True)\n",
    "check_column_presence('host_about')\n",
    "columns_that_are_dropped.append('host_about')"
   ]
  },
  {
   "cell_type": "code",
   "execution_count": 88,
   "id": "a47241a8-bf4c-4b1d-8924-01efbd726464",
   "metadata": {},
   "outputs": [
    {
     "data": {
      "text/plain": [
       "14"
      ]
     },
     "execution_count": 88,
     "metadata": {},
     "output_type": "execute_result"
    }
   ],
   "source": [
    "len(columns_that_are_dropped)"
   ]
  },
  {
   "cell_type": "markdown",
   "id": "1659230e-e92f-430d-b525-b6ef95304d05",
   "metadata": {},
   "source": [
    "### 15. `host_location` column"
   ]
  },
  {
   "cell_type": "code",
   "execution_count": 89,
   "id": "bcb9ee89-4e60-4e0a-9a8a-79fac6958b3c",
   "metadata": {},
   "outputs": [
    {
     "data": {
      "text/plain": [
       "'host_location'"
      ]
     },
     "execution_count": 89,
     "metadata": {},
     "output_type": "execute_result"
    }
   ],
   "source": [
    "available_columns[14]"
   ]
  },
  {
   "cell_type": "code",
   "execution_count": 90,
   "id": "668d3d58-f889-4e1b-bc76-3ebba6eda7e4",
   "metadata": {},
   "outputs": [
    {
     "data": {
      "text/plain": [
       "0              New York, NY\n",
       "1              New York, NY\n",
       "2              New York, NY\n",
       "3              New York, NY\n",
       "4              New York, NY\n",
       "                ...        \n",
       "41528    Dominican Republic\n",
       "41529                   NaN\n",
       "41530          New York, NY\n",
       "41531                   NaN\n",
       "41532                   NaN\n",
       "Name: host_location, Length: 41533, dtype: object"
      ]
     },
     "execution_count": 90,
     "metadata": {},
     "output_type": "execute_result"
    }
   ],
   "source": [
    "df['host_location']"
   ]
  },
  {
   "cell_type": "code",
   "execution_count": 91,
   "id": "42fedbc8-e7c0-4939-ab7c-bf6e39cb7048",
   "metadata": {},
   "outputs": [
    {
     "data": {
      "text/plain": [
       "7745"
      ]
     },
     "execution_count": 91,
     "metadata": {},
     "output_type": "execute_result"
    }
   ],
   "source": [
    "df['host_location'].isnull().sum()"
   ]
  },
  {
   "cell_type": "markdown",
   "id": "f86620f2-dda3-4eb8-bd7b-d1ac96737352",
   "metadata": {},
   "source": [
    "It looks like this column contains information about the location of the Airbnb's rental's hosts' locations. Furthermore, a foreigner can also host a rental through Airbnb. But, the price of a Airbnb rental should not matter at all as we are predicting price of a rental in NYC and not in other countries. Nonetheless, lets check the number of rentals foreign residents own in NYC.   "
   ]
  },
  {
   "cell_type": "code",
   "execution_count": 92,
   "id": "8dac4841-cc4f-4139-a87a-9f85bed87dbc",
   "metadata": {},
   "outputs": [],
   "source": [
    "host_location = df['host_location'].dropna()\n",
    "host_location = host_location.apply(lambda x : x.split(\",\")[-1])\n",
    "host_location = host_location.value_counts()"
   ]
  },
  {
   "cell_type": "code",
   "execution_count": 93,
   "id": "2c5405d4-ce55-437d-a22f-f26207282422",
   "metadata": {},
   "outputs": [
    {
     "data": {
      "text/plain": [
       " NY                    25682\n",
       " United States          4348\n",
       " CA                      624\n",
       " FL                      395\n",
       "United States            326\n",
       "                       ...  \n",
       "U.S. Virgin Islands        1\n",
       " Czechia                   1\n",
       " Iceland                   1\n",
       "India                      1\n",
       "Dominican Republic         1\n",
       "Name: host_location, Length: 151, dtype: int64"
      ]
     },
     "execution_count": 93,
     "metadata": {},
     "output_type": "execute_result"
    }
   ],
   "source": [
    "host_location"
   ]
  },
  {
   "cell_type": "markdown",
   "id": "dd27ff55-41df-4860-a9e3-ab7648874cef",
   "metadata": {},
   "source": [
    "It looks like residents of different US states and countries own a NYC Airbnb rentals. Lets proceed to sum up all observations for states and United states from the above series to get the total count of all residents in the US owning a NYC Airbnb rentals."
   ]
  },
  {
   "cell_type": "code",
   "execution_count": 94,
   "id": "7225797a-3d4d-4d54-abd7-1beca92ab10d",
   "metadata": {},
   "outputs": [],
   "source": [
    "host_location = dict(host_location)"
   ]
  },
  {
   "cell_type": "code",
   "execution_count": 95,
   "id": "b612c7d8-ace5-4efa-92ea-02f708e1b1af",
   "metadata": {},
   "outputs": [],
   "source": [
    "total_individual_countries_count = {}"
   ]
  },
  {
   "cell_type": "code",
   "execution_count": 96,
   "id": "bfef4392-8e6f-4015-870e-c0cc79ebd2bf",
   "metadata": {},
   "outputs": [],
   "source": [
    "count = 0\n",
    "for key, val in host_location.items():   \n",
    "    if len(key) == 3 or key in ['United States', ' United States']:\n",
    "        # print(key)\n",
    "        count += val\n",
    "        \n",
    "total_individual_countries_count['USA'] = count"
   ]
  },
  {
   "cell_type": "code",
   "execution_count": 97,
   "id": "a5d11918-2239-4f78-b3c0-9185fa1be64d",
   "metadata": {},
   "outputs": [],
   "source": [
    "for key, val in host_location.items():\n",
    "    if len(key) != 3 and key not in ['United States', ' United States']:\n",
    "        # print(key)\n",
    "        total_individual_countries_count[key] = val"
   ]
  },
  {
   "cell_type": "code",
   "execution_count": 100,
   "id": "aae0b047-2fd3-479f-91b7-e841fff740ea",
   "metadata": {},
   "outputs": [],
   "source": [
    "total_individual_countries_count = dict(sorted(total_individual_countries_count.items(), reverse = True,key=lambda item: item[1]))"
   ]
  },
  {
   "cell_type": "code",
   "execution_count": 101,
   "id": "e4bf69ad-106e-4840-b615-fc35b12f38b8",
   "metadata": {},
   "outputs": [
    {
     "data": {
      "text/plain": [
       "{'USA': 32798,\n",
       " ' France': 145,\n",
       " ' United Kingdom': 129,\n",
       " ' Canada': 77,\n",
       " ' Germany': 50,\n",
       " ' Australia': 43,\n",
       " ' Spain': 36,\n",
       " ' Italy': 35,\n",
       " ' Brazil': 32,\n",
       " ' Israel': 25,\n",
       " ' Colombia': 24,\n",
       " ' Mexico': 24,\n",
       " ' China': 21,\n",
       " ' India': 20,\n",
       " ' Switzerland': 17,\n",
       " 'Hong Kong': 15,\n",
       " ' Sweden': 12,\n",
       " ' Dominican Republic': 11,\n",
       " ' Ireland': 11,\n",
       " ' New Zealand': 11,\n",
       " ' Argentina': 9,\n",
       " ' South Korea': 9,\n",
       " ' Netherlands': 8,\n",
       " ' Puerto Rico': 8,\n",
       " ' Belgium': 8,\n",
       " 'Singapore': 7,\n",
       " ' Turkey': 7,\n",
       " ' Portugal': 7,\n",
       " ' Lebanon': 7,\n",
       " ' Denmark': 7,\n",
       " ' Japan': 7,\n",
       " ' Hungary': 6,\n",
       " 'China': 6,\n",
       " 'Israel': 6,\n",
       " ' Russia': 6,\n",
       " ' Ecuador': 6,\n",
       " ' Austria': 6,\n",
       " ' Greece': 6,\n",
       " ' United Arab Emirates': 5,\n",
       " ' Costa Rica': 5,\n",
       " 'France': 4,\n",
       " ' Poland': 4,\n",
       " ' Jamaica': 4,\n",
       " ' Uruguay': 4,\n",
       " 'Jamaica': 3,\n",
       " 'Colombia': 3,\n",
       " 'Mexico': 3,\n",
       " ' Nigeria': 3,\n",
       " ' Bulgaria': 3,\n",
       " ' Curaçao': 3,\n",
       " ' Latvia': 3,\n",
       " ' Kazakhstan': 3,\n",
       " ' Norway': 3,\n",
       " 'United Kingdom': 3,\n",
       " ' Chile': 3,\n",
       " ' Taiwan': 3,\n",
       " ' South Africa': 3,\n",
       " ' Finland': 3,\n",
       " ' Thailand': 3,\n",
       " ' Indonesia': 3,\n",
       " 'Taiwan': 3,\n",
       " ' Serbia': 2,\n",
       " ' Kenya': 2,\n",
       " ' French Guiana': 2,\n",
       " 'Italy': 2,\n",
       " ' Morocco': 2,\n",
       " ' Venezuela': 2,\n",
       " 'Australia': 2,\n",
       " ' Pakistan': 2,\n",
       " 'Germany': 2,\n",
       " ' Slovakia': 1,\n",
       " 'Brazil': 1,\n",
       " 'Norway': 1,\n",
       " 'Ramallah': 1,\n",
       " 'Puerto Rico': 1,\n",
       " 'South Korea': 1,\n",
       " ' Bahamas': 1,\n",
       " 'Pakistan': 1,\n",
       " 'Costa Rica': 1,\n",
       " ' Haiti': 1,\n",
       " 'Austria': 1,\n",
       " 'Netherlands': 1,\n",
       " ' Philippines': 1,\n",
       " ' Trinidad & Tobago': 1,\n",
       " 'Ukraine': 1,\n",
       " ' Peru': 1,\n",
       " ' Montenegro': 1,\n",
       " ' Albania': 1,\n",
       " ' Egypt': 1,\n",
       " ' Croatia': 1,\n",
       " 'Uruguay': 1,\n",
       " ' Hong Kong': 1,\n",
       " ' Paraguay': 1,\n",
       " ' Mali': 1,\n",
       " 'Vietnam': 1,\n",
       " 'Portugal': 1,\n",
       " 'U.S. Virgin Islands': 1,\n",
       " ' Czechia': 1,\n",
       " ' Iceland': 1,\n",
       " 'India': 1,\n",
       " 'Dominican Republic': 1}"
      ]
     },
     "execution_count": 101,
     "metadata": {},
     "output_type": "execute_result"
    }
   ],
   "source": [
    "total_individual_countries_count"
   ]
  },
  {
   "cell_type": "code",
   "execution_count": 102,
   "id": "a02f6c43-bef7-44f6-8fe8-6031f1afd2b3",
   "metadata": {},
   "outputs": [],
   "source": [
    "df.drop('host_location', axis = 1, inplace = True)\n",
    "check_column_presence('host_location')\n",
    "columns_that_are_dropped.append('host_location')"
   ]
  },
  {
   "cell_type": "code",
   "execution_count": 103,
   "id": "1bc7a8ed-e5ee-47c1-85e6-56b8810add07",
   "metadata": {},
   "outputs": [],
   "source": [
    "# available_host_countries = df['host_location'].apply(lambda x : x.split(',')[-1])"
   ]
  },
  {
   "cell_type": "markdown",
   "id": "272063ac-a2e8-4f2d-aec5-7296dd7053ee",
   "metadata": {},
   "source": [
    "### 16. `host_response_time` column"
   ]
  },
  {
   "cell_type": "code",
   "execution_count": 104,
   "id": "70c66528-844a-4531-90fb-dce563939685",
   "metadata": {},
   "outputs": [
    {
     "data": {
      "text/plain": [
       "'host_response_time'"
      ]
     },
     "execution_count": 104,
     "metadata": {},
     "output_type": "execute_result"
    }
   ],
   "source": [
    "available_columns[16]"
   ]
  },
  {
   "cell_type": "code",
   "execution_count": 105,
   "id": "3d956df3-850a-446b-b7b0-faadf771d272",
   "metadata": {},
   "outputs": [
    {
     "data": {
      "text/plain": [
       "0              within a day\n",
       "1                       N/A\n",
       "2                       N/A\n",
       "3              within a day\n",
       "4            within an hour\n",
       "                ...        \n",
       "41528        within an hour\n",
       "41529    within a few hours\n",
       "41530        within an hour\n",
       "41531                   N/A\n",
       "41532    within a few hours\n",
       "Name: host_response_time, Length: 41533, dtype: object"
      ]
     },
     "execution_count": 105,
     "metadata": {},
     "output_type": "execute_result"
    }
   ],
   "source": [
    "df['host_response_time']"
   ]
  },
  {
   "cell_type": "code",
   "execution_count": 106,
   "id": "382fb74b-d42a-44c8-9e44-f75981cb2549",
   "metadata": {},
   "outputs": [
    {
     "data": {
      "text/plain": [
       "5"
      ]
     },
     "execution_count": 106,
     "metadata": {},
     "output_type": "execute_result"
    }
   ],
   "source": [
    "df['host_response_time'].isnull().sum()"
   ]
  },
  {
   "cell_type": "markdown",
   "id": "c784cfe1-231f-47a2-8548-49a604212a96",
   "metadata": {},
   "source": [
    "Since there are only 5 null values, there should not be much problem filling these values."
   ]
  },
  {
   "cell_type": "code",
   "execution_count": 107,
   "id": "6f0736d0-9417-433e-8b9c-a848da422c45",
   "metadata": {},
   "outputs": [
    {
     "data": {
      "text/plain": [
       "within an hour        18063\n",
       "N/A                   13640\n",
       "within a few hours     5997\n",
       "within a day           3201\n",
       "a few days or more      627\n",
       "Name: host_response_time, dtype: int64"
      ]
     },
     "execution_count": 107,
     "metadata": {},
     "output_type": "execute_result"
    }
   ],
   "source": [
    "df['host_response_time'].value_counts()"
   ]
  },
  {
   "cell_type": "markdown",
   "id": "e29ee358-e5c1-49f9-8915-0d2d5a762974",
   "metadata": {},
   "source": [
    "Majority of Airbnb hosts seem to respond within an hour. This column will be useful. Additionally, I will change the N/A values to unknown. I will also fill null values as unknown respectively."
   ]
  },
  {
   "cell_type": "code",
   "execution_count": 108,
   "id": "90c305ea-6ec2-481a-a183-0771803d0679",
   "metadata": {},
   "outputs": [],
   "source": [
    "df['host_response_time'] = df['host_response_time'].replace(to_replace = 'N/A', value = 'Unknown')"
   ]
  },
  {
   "cell_type": "code",
   "execution_count": 110,
   "id": "26e7b959-1fe3-4d4a-a221-86296ed0ac1c",
   "metadata": {},
   "outputs": [],
   "source": [
    "df['host_response_time'] = df['host_response_time'].fillna('Unknown')"
   ]
  },
  {
   "cell_type": "code",
   "execution_count": 117,
   "id": "d35da544-9cca-4d8f-a34c-95e5654b23cf",
   "metadata": {},
   "outputs": [
    {
     "data": {
      "text/plain": [
       "(within an hour        18063\n",
       " Unknown               13645\n",
       " within a few hours     5997\n",
       " within a day           3201\n",
       " a few days or more      627\n",
       " Name: host_response_time, dtype: int64,\n",
       " 0)"
      ]
     },
     "execution_count": 117,
     "metadata": {},
     "output_type": "execute_result"
    }
   ],
   "source": [
    "df['host_response_time'].value_counts(), df['host_response_time'].isnull().sum()"
   ]
  },
  {
   "cell_type": "code",
   "execution_count": 118,
   "id": "b5f9261b-07f0-49f0-a324-49b42747d881",
   "metadata": {},
   "outputs": [],
   "source": [
    "dictionary = dict(df['host_response_time'].value_counts())"
   ]
  },
  {
   "cell_type": "code",
   "execution_count": 127,
   "id": "b0b51e69-d917-4e7d-9dfa-8b7e24947ffe",
   "metadata": {},
   "outputs": [
    {
     "data": {
      "text/plain": [
       "Text(0.04, 0.5, 'Host Response Time')"
      ]
     },
     "execution_count": 127,
     "metadata": {},
     "output_type": "execute_result"
    },
    {
     "data": {
      "image/png": "[encoded data removed]",
      "text/plain": [
       "<Figure size 1200x500 with 1 Axes>"
      ]
     },
     "metadata": {},
     "output_type": "display_data"
    }
   ],
   "source": [
    "fig, ax = plt.subplots(figsize=(12, 5))\n",
    "\n",
    "bar = sns.barplot(x = list(dictionary.keys()), y = list(dictionary.values()), ax = ax)\n",
    "\n",
    "ax.xaxis.set_tick_params(labelsize=15)\n",
    "ax.yaxis.set_tick_params(labelsize=15)\n",
    "\n",
    "plt.text(0.5, 1.05, 'Response Time for Hosts',\n",
    "        horizontalalignment='center',\n",
    "        fontsize=20,\n",
    "        transform = ax.transAxes)\n",
    "\n",
    "plt.xticks(rotation = 90)\n",
    "ax.margins(x=0.02)\n",
    "\n",
    "# set various colors\n",
    "ax.spines['bottom'].set_color('black')\n",
    "ax.spines['top'].set_color('black') \n",
    "ax.spines['right'].set_color('black')\n",
    "ax.spines['right'].set_linewidth(2)\n",
    "ax.spines['top'].set_linewidth(2)\n",
    "ax.spines['bottom'].set_linewidth(2)\n",
    "ax.spines['left'].set_color('black')\n",
    "ax.spines['left'].set_lw(2) \n",
    "ax.tick_params(which='both', width=2)\n",
    "ax.tick_params(which='major', length=7)\n",
    "ax.tick_params(which='minor', length=7)\n",
    "ax.tick_params(which = 'both', direction = 'in')\n",
    "\n",
    "# fig.text(0.5, -0.35, 'Time', ha='center', va='center', fontsize = 20)\n",
    "fig.text(0.04, 0.5, 'Host Response Time', ha='center', va='center', rotation='vertical', fontsize = 20)\n"
   ]
  },
  {
   "cell_type": "markdown",
   "id": "0234cfc7-34aa-4b3a-a03f-97254eb03ee0",
   "metadata": {},
   "source": [
    "It is clear that majority of hosts respond within an hour. Similarly, there is a huge section of hosts whose responses were either not recorded properly or did not respond at all. The price of a rental might depend upon this column due to the fact that quickly responding to potential customers about rental information could be an important factors for guest to decide to book a particular rental. For now, we will keep this column and later do additional analysis to check if we will really need this column for modelling purposes."
   ]
  },
  {
   "cell_type": "code",
   "execution_count": 593,
   "id": "09a17260-9b2b-4bf4-9feb-4c8f68cbddcb",
   "metadata": {
    "tags": []
   },
   "outputs": [],
   "source": [
    "# df.drop('host_name', axis = 1, inplace = True)\n",
    "# check_column_presence('host_name')\n",
    "# columns_that_are_dropped.append('host_about')"
   ]
  },
  {
   "cell_type": "markdown",
   "id": "7a27d631-edc0-41a5-a26b-040ba40f11fe",
   "metadata": {},
   "source": [
    "### 17. `host_response_rate` column"
   ]
  },
  {
   "cell_type": "code",
   "execution_count": 131,
   "id": "44c6c4d2-d06f-45b0-bff2-c97eb5f3d3ce",
   "metadata": {},
   "outputs": [
    {
     "data": {
      "text/plain": [
       "'host_response_rate'"
      ]
     },
     "execution_count": 131,
     "metadata": {},
     "output_type": "execute_result"
    }
   ],
   "source": [
    "available_columns[17]"
   ]
  },
  {
   "cell_type": "code",
   "execution_count": 132,
   "id": "1c708e99-a3f6-470f-a0ea-b0839c9880fc",
   "metadata": {},
   "outputs": [
    {
     "data": {
      "text/plain": [
       "0         72%\n",
       "1         N/A\n",
       "2         N/A\n",
       "3         90%\n",
       "4        100%\n",
       "         ... \n",
       "41528    100%\n",
       "41529    100%\n",
       "41530     98%\n",
       "41531     N/A\n",
       "41532     83%\n",
       "Name: host_response_rate, Length: 41533, dtype: object"
      ]
     },
     "execution_count": 132,
     "metadata": {},
     "output_type": "execute_result"
    }
   ],
   "source": [
    "df['host_response_rate']"
   ]
  },
  {
   "cell_type": "code",
   "execution_count": 133,
   "id": "371838aa-5ea3-4d76-a197-3e1da3ec730e",
   "metadata": {},
   "outputs": [
    {
     "data": {
      "text/plain": [
       "array(['72%', 'N/A', '90%', '100%', '94%', '33%', '80%', '60%', '91%',\n",
       "       '99%', '0%', '93%', '67%', '83%', '50%', '88%', '78%', '92%',\n",
       "       '63%', '75%', '82%', '86%', '70%', '71%', '89%', '96%', '40%',\n",
       "       '73%', '20%', '98%', '97%', '64%', '85%', '87%', '25%', '62%',\n",
       "       '43%', '84%', '56%', nan, '58%', '95%', '38%', '13%', '10%', '22%',\n",
       "       '65%', '17%', '14%', '44%', '81%', '79%', '57%', '61%', '77%',\n",
       "       '69%', '26%', '55%', '76%', '30%', '29%', '46%', '68%', '31%',\n",
       "       '74%', '53%', '54%', '41%', '51%'], dtype=object)"
      ]
     },
     "execution_count": 133,
     "metadata": {},
     "output_type": "execute_result"
    }
   ],
   "source": [
    "df['host_response_rate'].unique()"
   ]
  },
  {
   "cell_type": "code",
   "execution_count": 134,
   "id": "e98638fd-e92f-43f9-96fc-9b8da353fdbe",
   "metadata": {},
   "outputs": [
    {
     "data": {
      "text/plain": [
       "5"
      ]
     },
     "execution_count": 134,
     "metadata": {},
     "output_type": "execute_result"
    }
   ],
   "source": [
    "df['host_response_rate'].isnull().sum()"
   ]
  },
  {
   "cell_type": "markdown",
   "id": "720b6300-4c07-4f45-93ec-d3f414b3f177",
   "metadata": {},
   "source": [
    "Only five null values shouldn't be a problem"
   ]
  },
  {
   "cell_type": "markdown",
   "id": "e9005193-c847-4a1a-a20d-ce1465e00485",
   "metadata": {},
   "source": [
    "### 18. `host_acceptance_rate` column"
   ]
  },
  {
   "cell_type": "code",
   "execution_count": 598,
   "id": "7b1d4007-0c1f-4e94-80d4-01b96fe7b00d",
   "metadata": {},
   "outputs": [
    {
     "data": {
      "text/plain": [
       "'host_acceptance_rate'"
      ]
     },
     "execution_count": 598,
     "metadata": {},
     "output_type": "execute_result"
    }
   ],
   "source": [
    "available_columns[18]"
   ]
  },
  {
   "cell_type": "code",
   "execution_count": 599,
   "id": "31aa40eb-5d7d-4b12-8657-3f858fd72744",
   "metadata": {},
   "outputs": [
    {
     "data": {
      "text/plain": [
       "0         22%\n",
       "1         N/A\n",
       "2         50%\n",
       "3         82%\n",
       "4        100%\n",
       "         ... \n",
       "41528    100%\n",
       "41529    100%\n",
       "41530     86%\n",
       "41531     N/A\n",
       "41532    100%\n",
       "Name: host_acceptance_rate, Length: 41533, dtype: object"
      ]
     },
     "execution_count": 599,
     "metadata": {},
     "output_type": "execute_result"
    }
   ],
   "source": [
    "df['host_acceptance_rate']"
   ]
  },
  {
   "cell_type": "code",
   "execution_count": 600,
   "id": "0bbb9ccd-02fa-4797-92a2-dd3848cabe65",
   "metadata": {},
   "outputs": [
    {
     "data": {
      "text/plain": [
       "5"
      ]
     },
     "execution_count": 600,
     "metadata": {},
     "output_type": "execute_result"
    }
   ],
   "source": [
    "df['host_acceptance_rate'].isnull().sum()"
   ]
  },
  {
   "cell_type": "code",
   "execution_count": 601,
   "id": "73094b50-c959-4207-8ac4-52420ed4b171",
   "metadata": {},
   "outputs": [
    {
     "data": {
      "text/plain": [
       "array(['22%', 'N/A', '50%', '82%', '100%', '13%', '54%', '98%', '96%',\n",
       "       '97%', '0%', '83%', '95%', '86%', '85%', '46%', '40%', '67%',\n",
       "       '10%', '25%', '99%', '87%', '88%', '33%', '38%', '20%', '61%',\n",
       "       '73%', '60%', '65%', '64%', '30%', '94%', '89%', '91%', '93%',\n",
       "       '78%', '35%', '5%', '36%', '75%', '53%', '43%', '39%', '70%',\n",
       "       '80%', '92%', '23%', '17%', '49%', '76%', '63%', '69%', '57%',\n",
       "       '74%', '62%', '79%', '21%', '90%', '84%', '14%', '71%', '81%',\n",
       "       '77%', '55%', '72%', '15%', '29%', '44%', '45%', '47%', '19%',\n",
       "       '56%', '68%', '28%', '52%', '59%', '34%', '48%', '27%', '18%',\n",
       "       '66%', '58%', '7%', '42%', '11%', '32%', '16%', '51%', '26%',\n",
       "       '12%', '41%', nan, '37%', '4%', '8%', '31%', '9%', '6%', '24%'],\n",
       "      dtype=object)"
      ]
     },
     "execution_count": 601,
     "metadata": {},
     "output_type": "execute_result"
    }
   ],
   "source": [
    "df['host_acceptance_rate'].unique()"
   ]
  },
  {
   "cell_type": "markdown",
   "id": "c2f9c8ed-8432-4ffd-a674-5cb9a8aaed10",
   "metadata": {},
   "source": [
    "### 19. `host_is_superhost` column"
   ]
  },
  {
   "cell_type": "code",
   "execution_count": 602,
   "id": "a21ac1e1-88d9-4878-a6ac-30ab77a3832a",
   "metadata": {},
   "outputs": [
    {
     "data": {
      "text/plain": [
       "'host_is_superhost'"
      ]
     },
     "execution_count": 602,
     "metadata": {},
     "output_type": "execute_result"
    }
   ],
   "source": [
    "available_columns[19]"
   ]
  },
  {
   "cell_type": "code",
   "execution_count": 603,
   "id": "db977186-6825-4a0b-b759-97092b1b5775",
   "metadata": {},
   "outputs": [
    {
     "data": {
      "text/plain": [
       "29"
      ]
     },
     "execution_count": 603,
     "metadata": {},
     "output_type": "execute_result"
    }
   ],
   "source": [
    "df['host_is_superhost'].isnull().sum()"
   ]
  },
  {
   "cell_type": "code",
   "execution_count": null,
   "id": "db976a0f-6c57-481a-bac7-84a13344934d",
   "metadata": {},
   "outputs": [],
   "source": []
  },
  {
   "cell_type": "code",
   "execution_count": null,
   "id": "3494cb1d-64af-4055-bdc4-9396511fcc2a",
   "metadata": {},
   "outputs": [],
   "source": []
  }
 ],
 "metadata": {
  "kernelspec": {
   "display_name": "Python 3",
   "language": "python",
   "name": "python3"
  },
  "language_info": {
   "codemirror_mode": {
    "name": "ipython",
    "version": 3
   },
   "file_extension": ".py",
   "mimetype": "text/x-python",
   "name": "python",
   "nbconvert_exporter": "python",
   "pygments_lexer": "ipython3",
   "version": "3.10.8"
  }
 },
 "nbformat": 4,
 "nbformat_minor": 5
}
