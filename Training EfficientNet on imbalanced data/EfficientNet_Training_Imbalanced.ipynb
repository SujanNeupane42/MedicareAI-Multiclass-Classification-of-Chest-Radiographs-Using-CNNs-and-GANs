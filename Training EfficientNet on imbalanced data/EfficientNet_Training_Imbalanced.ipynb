{
 "cells": [
  {
   "cell_type": "code",
   "execution_count": 1,
   "id": "f517a8e1",
   "metadata": {
    "colab": {
     "base_uri": "https://localhost:8080/"
    },
    "id": "f517a8e1",
    "outputId": "ad4fefd3-1262-46f0-f33e-3bba8bdd56ab"
   },
   "outputs": [
    {
     "name": "stdout",
     "output_type": "stream",
     "text": [
      "Mounted at /content/gdrive\n"
     ]
    }
   ],
   "source": [
    "from google.colab import drive\n",
    "drive.mount('/content/gdrive')"
   ]
  },
  {
   "cell_type": "markdown",
   "id": "f040869a",
   "metadata": {
    "id": "f040869a",
    "tags": []
   },
   "source": [
    "# Training EfficientNet model on imbalanced data"
   ]
  },
  {
   "cell_type": "markdown",
   "id": "7dab0f55",
   "metadata": {
    "id": "7dab0f55"
   },
   "source": [
    "<b> Lets check the specs of my GPU on which this model has been trained on."
   ]
  },
  {
   "cell_type": "code",
   "execution_count": 2,
   "id": "ed0d5de2",
   "metadata": {
    "colab": {
     "base_uri": "https://localhost:8080/"
    },
    "execution": {
     "iopub.execute_input": "2022-12-01T07:19:11.085178Z",
     "iopub.status.busy": "2022-12-01T07:19:11.084992Z",
     "iopub.status.idle": "2022-12-01T07:19:11.955754Z",
     "shell.execute_reply": "2022-12-01T07:19:11.955139Z",
     "shell.execute_reply.started": "2022-12-01T07:19:11.085125Z"
    },
    "id": "ed0d5de2",
    "outputId": "f61b96a4-d6ab-4670-a1b6-415169a759d2",
    "tags": []
   },
   "outputs": [
    {
     "name": "stdout",
     "output_type": "stream",
     "text": [
      "Thu Dec  8 05:42:12 2022       \n",
      "+-----------------------------------------------------------------------------+\n",
      "| NVIDIA-SMI 460.32.03    Driver Version: 460.32.03    CUDA Version: 11.2     |\n",
      "|-------------------------------+----------------------+----------------------+\n",
      "| GPU  Name        Persistence-M| Bus-Id        Disp.A | Volatile Uncorr. ECC |\n",
      "| Fan  Temp  Perf  Pwr:Usage/Cap|         Memory-Usage | GPU-Util  Compute M. |\n",
      "|                               |                      |               MIG M. |\n",
      "|===============================+======================+======================|\n",
      "|   0  Tesla T4            Off  | 00000000:00:04.0 Off |                    0 |\n",
      "| N/A   38C    P0    25W /  70W |      0MiB / 15109MiB |      0%      Default |\n",
      "|                               |                      |                  N/A |\n",
      "+-------------------------------+----------------------+----------------------+\n",
      "                                                                               \n",
      "+-----------------------------------------------------------------------------+\n",
      "| Processes:                                                                  |\n",
      "|  GPU   GI   CI        PID   Type   Process name                  GPU Memory |\n",
      "|        ID   ID                                                   Usage      |\n",
      "|=============================================================================|\n",
      "|  No running processes found                                                 |\n",
      "+-----------------------------------------------------------------------------+\n"
     ]
    }
   ],
   "source": [
    "!nvidia-smi"
   ]
  },
  {
   "cell_type": "markdown",
   "id": "f8bc36d3",
   "metadata": {
    "id": "f8bc36d3"
   },
   "source": [
    "# Importing the dependencies"
   ]
  },
  {
   "cell_type": "code",
   "execution_count": 3,
   "id": "d77ab47a",
   "metadata": {
    "execution": {
     "iopub.execute_input": "2022-12-01T07:19:21.582249Z",
     "iopub.status.busy": "2022-12-01T07:19:21.581983Z",
     "iopub.status.idle": "2022-12-01T07:19:22.999329Z",
     "shell.execute_reply": "2022-12-01T07:19:22.998773Z",
     "shell.execute_reply.started": "2022-12-01T07:19:21.582227Z"
    },
    "id": "d77ab47a",
    "tags": []
   },
   "outputs": [],
   "source": [
    "import os\n",
    "import torch\n",
    "import torchvision\n",
    "import tarfile\n",
    "import torch.nn as nn\n",
    "import numpy as np\n",
    "import torch.nn.functional as F\n",
    "from torchvision.datasets import ImageFolder\n",
    "from torch.utils.data import DataLoader, Dataset\n",
    "import torchvision.transforms as tt\n",
    "from torch.utils.data import random_split\n",
    "from torchvision.utils import make_grid\n",
    "import matplotlib\n",
    "import matplotlib.pyplot as plt\n",
    "%matplotlib inline\n",
    "\n",
    "matplotlib.rcParams['figure.facecolor'] = '#ffffff'"
   ]
  },
  {
   "cell_type": "markdown",
   "id": "9fab1e44",
   "metadata": {
    "id": "9fab1e44"
   },
   "source": [
    "# Loading training, validation and testing dataset"
   ]
  },
  {
   "cell_type": "code",
   "execution_count": 4,
   "id": "3a81d0fa",
   "metadata": {
    "execution": {
     "iopub.execute_input": "2022-12-01T07:20:19.891425Z",
     "iopub.status.busy": "2022-12-01T07:20:19.890949Z",
     "iopub.status.idle": "2022-12-01T07:20:19.894606Z",
     "shell.execute_reply": "2022-12-01T07:20:19.893908Z",
     "shell.execute_reply.started": "2022-12-01T07:20:19.891401Z"
    },
    "id": "3a81d0fa",
    "tags": []
   },
   "outputs": [],
   "source": [
    "train_data_dir = r\"/content/gdrive/MyDrive/FYP Training Models/Covid-19 Dataset/Train\"\n",
    "validation_data_dir = r\"/content/gdrive/MyDrive/FYP Training Models/Covid-19 Dataset/Validation\"\n",
    "test_data_dir = r\"/content/gdrive/MyDrive/FYP Training Models/Covid-19 Dataset/Test\""
   ]
  },
  {
   "cell_type": "code",
   "execution_count": 5,
   "id": "4e762239",
   "metadata": {
    "colab": {
     "base_uri": "https://localhost:8080/"
    },
    "execution": {
     "iopub.execute_input": "2022-12-01T07:20:20.098133Z",
     "iopub.status.busy": "2022-12-01T07:20:20.097611Z",
     "iopub.status.idle": "2022-12-01T07:20:20.101722Z",
     "shell.execute_reply": "2022-12-01T07:20:20.101202Z",
     "shell.execute_reply.started": "2022-12-01T07:20:20.098104Z"
    },
    "id": "4e762239",
    "outputId": "54ae83b6-9706-4065-e13a-7b79e6f49473",
    "tags": []
   },
   "outputs": [
    {
     "name": "stdout",
     "output_type": "stream",
     "text": [
      "The total number of classes present in the dataset are:  ['Covid', 'Normal', 'Viral Pneumonia']\n"
     ]
    }
   ],
   "source": [
    "n_classes = os.listdir(train_data_dir)\n",
    "print(\"The total number of classes present in the dataset are: \", n_classes)"
   ]
  },
  {
   "cell_type": "markdown",
   "id": "8742a3e4",
   "metadata": {
    "id": "8742a3e4"
   },
   "source": [
    "## Looking at some individual samples from training data"
   ]
  },
  {
   "cell_type": "code",
   "execution_count": 6,
   "id": "14b020d2",
   "metadata": {
    "execution": {
     "iopub.execute_input": "2022-12-01T07:20:22.130585Z",
     "iopub.status.busy": "2022-12-01T07:20:22.130276Z",
     "iopub.status.idle": "2022-12-01T07:20:22.133611Z",
     "shell.execute_reply": "2022-12-01T07:20:22.133041Z",
     "shell.execute_reply.started": "2022-12-01T07:20:22.130561Z"
    },
    "id": "14b020d2",
    "tags": []
   },
   "outputs": [],
   "source": [
    "from PIL import Image"
   ]
  },
  {
   "cell_type": "code",
   "execution_count": 8,
   "id": "d9ccd641",
   "metadata": {
    "execution": {
     "iopub.execute_input": "2022-12-01T07:20:27.286782Z",
     "iopub.status.busy": "2022-12-01T07:20:27.286494Z",
     "iopub.status.idle": "2022-12-01T07:20:27.313301Z",
     "shell.execute_reply": "2022-12-01T07:20:27.312761Z",
     "shell.execute_reply.started": "2022-12-01T07:20:27.286756Z"
    },
    "id": "d9ccd641",
    "tags": []
   },
   "outputs": [],
   "source": [
    "# loading the first sample from Covid class\n",
    "\n",
    "covid_sample1 = os.listdir(train_data_dir+'/Covid')[0]\n",
    "covid_sample1 = os.path.join(train_data_dir+\"/Covid\", covid_sample1)\n",
    "\n",
    "print(\"Covid\")\n",
    "Image.open(covid_sample1)"
   ]
  },
  {
   "cell_type": "code",
   "execution_count": null,
   "id": "2ee00fda",
   "metadata": {
    "execution": {
     "iopub.execute_input": "2022-12-01T07:20:32.391187Z",
     "iopub.status.busy": "2022-12-01T07:20:32.390876Z",
     "iopub.status.idle": "2022-12-01T07:20:32.417845Z",
     "shell.execute_reply": "2022-12-01T07:20:32.417309Z",
     "shell.execute_reply.started": "2022-12-01T07:20:32.391162Z"
    },
    "id": "2ee00fda"
   },
   "outputs": [],
   "source": [
    "# loading the first sample from Normal class\n",
    "\n",
    "normal_sample1 = os.listdir(train_data_dir+r'/Normal')[0]\n",
    "normal_sample1 = os.path.join(train_data_dir+r\"/Normal\", normal_sample1)\n",
    "\n",
    "print(\"Normal\")\n",
    "Image.open(normal_sample1)"
   ]
  },
  {
   "cell_type": "code",
   "execution_count": null,
   "id": "b8d63a6d",
   "metadata": {
    "execution": {
     "iopub.execute_input": "2022-12-01T07:20:36.976770Z",
     "iopub.status.busy": "2022-12-01T07:20:36.976474Z",
     "iopub.status.idle": "2022-12-01T07:20:36.998542Z",
     "shell.execute_reply": "2022-12-01T07:20:36.998040Z",
     "shell.execute_reply.started": "2022-12-01T07:20:36.976746Z"
    },
    "id": "b8d63a6d",
    "outputId": "bf8b7af3-d046-4a0a-bd8f-25650d1f82fd"
   },
   "outputs": [
    {
     "name": "stdout",
     "output_type": "stream",
     "text": [
      "Viral Pneumonia\n"
     ]
    },
    {
     "data": {
      "image/png": "[encoded data removed]",
      "text/plain": [
       "<PIL.PngImagePlugin.PngImageFile image mode=L size=299x299>"
      ]
     },
     "execution_count": 9,
     "metadata": {},
     "output_type": "execute_result"
    }
   ],
   "source": [
    "# loading the first sample from Viral Pneumonia class\n",
    "\n",
    "pneumonia_sample1 = os.listdir(train_data_dir+r'/Viral Pneumonia')[0]\n",
    "pneumonia_sample1 = os.path.join(train_data_dir+r\"/Viral Pneumonia\", pneumonia_sample1)\n",
    "\n",
    "print(\"Viral Pneumonia\")\n",
    "Image.open(pneumonia_sample1)"
   ]
  },
  {
   "cell_type": "markdown",
   "id": "c9eecb0d",
   "metadata": {
    "id": "c9eecb0d"
   },
   "source": [
    "## Performing preprocessing on training, validation and testing images"
   ]
  },
  {
   "cell_type": "markdown",
   "id": "59f47c14",
   "metadata": {
    "id": "59f47c14"
   },
   "source": [
    "Since I will be training 3 GAN architectures, DCGAN, WGAN, and WGAN-GP, on 1*64*64 images, I will need to resize all my images to same dimension in order to compare the performance of the model accross all datasets. However, the model I have selected, <b> ResNet-50 </b> takes an input image of 3 * 224 * 244. The number of channels can be changed to 1 in the input layer indicating that the model takes in greyscale image. However, we have two options related to the input image dimensions:\n",
    "\n",
    "    1. Delete/Modify original model such that the initial layers take in 64 * 64 images.\n",
    "    2. Or, perform zero-padding on all training images and convert their dimensions from 1 * 64 * 64 to 1 * 224 * 224.\n",
    "    \n",
    "    \n",
    "I must also note that after generating 1 * 64 * 64 images from GANs, I would need to perform same padding on those images to match the dimensions. This way, we can fairly compare the performance of <b> ResNet-50 </b> accross \n",
    "\n",
    "\n",
    "    1. Imbalanced data\n",
    "    2. Data with traditional augmentation\n",
    "    3. Data with DCGAN augmentation\n",
    "    4. Data with WGAN augmentation\n",
    "    5. Data with WGAN-GP augmentation"
   ]
  },
  {
   "cell_type": "markdown",
   "id": "1a2d3c1d",
   "metadata": {
    "id": "1a2d3c1d"
   },
   "source": [
    "### Calculating mean and standard deviation of the channels of our training dataset"
   ]
  },
  {
   "cell_type": "markdown",
   "id": "ac2c6f8b",
   "metadata": {
    "id": "ac2c6f8b"
   },
   "source": [
    "We will normalize the image tensors by subtracting the mean and dividing by the standard deviation across each channel. As a result, the mean of the data across each channel is 0, and standard deviation is 1. Normalizing the data prevents the values from any one channel from disproportionately affecting the losses and gradients while training, simply by having a higher or wider range of values that others."
   ]
  },
  {
   "cell_type": "code",
   "execution_count": null,
   "id": "49ee9b69",
   "metadata": {
    "execution": {
     "iopub.execute_input": "2022-12-01T07:20:40.759840Z",
     "iopub.status.busy": "2022-12-01T07:20:40.759553Z",
     "iopub.status.idle": "2022-12-01T07:20:40.764332Z",
     "shell.execute_reply": "2022-12-01T07:20:40.763688Z",
     "shell.execute_reply.started": "2022-12-01T07:20:40.759816Z"
    },
    "id": "49ee9b69"
   },
   "outputs": [],
   "source": [
    "def get_mean_and_std(dataloader):\n",
    "    channels_sum, channels_squared_sum, num_batches = 0, 0, 0\n",
    "    for data, _ in dataloader:\n",
    "        \n",
    "        # Mean over batch, height and width, but not over the channels\n",
    "        channels_sum += torch.mean(data, dim=[0,2,3])\n",
    "        channels_squared_sum += torch.mean(data**2, dim=[0,2,3])\n",
    "        num_batches += 1\n",
    "    \n",
    "    mean = channels_sum / num_batches\n",
    "\n",
    "    # std = sqrt(E[X^2] - (E[X])^2)\n",
    "    std = (channels_squared_sum / num_batches - mean ** 2) ** 0.5\n",
    "\n",
    "    return mean, std"
   ]
  },
  {
   "cell_type": "code",
   "execution_count": 9,
   "id": "027b78a9",
   "metadata": {
    "execution": {
     "iopub.execute_input": "2022-12-01T07:20:47.889072Z",
     "iopub.status.busy": "2022-12-01T07:20:47.888685Z",
     "iopub.status.idle": "2022-12-01T07:20:47.892656Z",
     "shell.execute_reply": "2022-12-01T07:20:47.891996Z",
     "shell.execute_reply.started": "2022-12-01T07:20:47.889034Z"
    },
    "id": "027b78a9",
    "tags": []
   },
   "outputs": [],
   "source": [
    "# creating the train dataset and dataloader for calculating the mean and standard deviation of our samples\n",
    "image_size = 64\n",
    "batch_size = 100\n",
    "CHANNELS_IMG = 1"
   ]
  },
  {
   "cell_type": "code",
   "execution_count": null,
   "id": "76564bfc",
   "metadata": {
    "execution": {
     "iopub.execute_input": "2022-12-01T07:20:52.421404Z",
     "iopub.status.busy": "2022-12-01T07:20:52.421108Z",
     "iopub.status.idle": "2022-12-01T07:20:52.466495Z",
     "shell.execute_reply": "2022-12-01T07:20:52.466029Z",
     "shell.execute_reply.started": "2022-12-01T07:20:52.421381Z"
    },
    "id": "76564bfc"
   },
   "outputs": [],
   "source": [
    "train_ds = ImageFolder(train_data_dir, transform=tt.Compose([\n",
    "                                        tt.Grayscale(num_output_channels=1),\n",
    "                                        tt.Resize(image_size),\n",
    "                                        tt.ToTensor()]))\n",
    "\n",
    "train_dl = DataLoader(train_ds, batch_size, shuffle=True, num_workers=4, pin_memory=True)"
   ]
  },
  {
   "cell_type": "code",
   "execution_count": null,
   "id": "f8b57ae8",
   "metadata": {
    "execution": {
     "iopub.execute_input": "2022-12-01T07:20:53.048100Z",
     "iopub.status.busy": "2022-12-01T07:20:53.047810Z",
     "iopub.status.idle": "2022-12-01T07:21:09.831522Z",
     "shell.execute_reply": "2022-12-01T07:21:09.830816Z",
     "shell.execute_reply.started": "2022-12-01T07:20:53.048076Z"
    },
    "id": "f8b57ae8"
   },
   "outputs": [],
   "source": [
    "mean, std = get_mean_and_std(train_dl)"
   ]
  },
  {
   "cell_type": "code",
   "execution_count": null,
   "id": "d2be23d3",
   "metadata": {
    "execution": {
     "iopub.execute_input": "2022-12-01T07:21:09.833492Z",
     "iopub.status.busy": "2022-12-01T07:21:09.833173Z",
     "iopub.status.idle": "2022-12-01T07:21:09.859640Z",
     "shell.execute_reply": "2022-12-01T07:21:09.859020Z",
     "shell.execute_reply.started": "2022-12-01T07:21:09.833453Z"
    },
    "id": "d2be23d3",
    "outputId": "1ce7978e-00ea-4e33-ca6c-de60a96c3288"
   },
   "outputs": [
    {
     "name": "stdout",
     "output_type": "stream",
     "text": [
      "The calculated mean is:  tensor([0.5184])\n",
      "The calculated standard deviation is:  tensor([0.2531])\n"
     ]
    }
   ],
   "source": [
    "print(\"The calculated mean is: \", mean)\n",
    "print(\"The calculated standard deviation is: \", std)"
   ]
  },
  {
   "cell_type": "markdown",
   "id": "4bbcbac7",
   "metadata": {
    "id": "4bbcbac7"
   },
   "source": [
    "Mean = 0.5184, Std = 0.2531"
   ]
  },
  {
   "cell_type": "markdown",
   "id": "232bde81",
   "metadata": {
    "id": "232bde81"
   },
   "source": [
    "### Creating datasets and dataloaders with normalization and zero-padding"
   ]
  },
  {
   "cell_type": "code",
   "execution_count": 10,
   "id": "b2f46851",
   "metadata": {
    "colab": {
     "base_uri": "https://localhost:8080/"
    },
    "execution": {
     "iopub.execute_input": "2022-12-01T07:21:31.984394Z",
     "iopub.status.busy": "2022-12-01T07:21:31.984089Z",
     "iopub.status.idle": "2022-12-01T07:21:31.989671Z",
     "shell.execute_reply": "2022-12-01T07:21:31.989050Z",
     "shell.execute_reply.started": "2022-12-01T07:21:31.984369Z"
    },
    "id": "b2f46851",
    "outputId": "12b859ce-ad74-460d-8718-056c35a7145b",
    "tags": []
   },
   "outputs": [
    {
     "data": {
      "text/plain": [
       "([0.5184], [0.2531])"
      ]
     },
     "execution_count": 10,
     "metadata": {},
     "output_type": "execute_result"
    }
   ],
   "source": [
    "mean = 0.5184\n",
    "std = 0.2531\n",
    "\n",
    "stats = [mean for _ in range(CHANNELS_IMG)], [std for _ in range(CHANNELS_IMG)];stats"
   ]
  },
  {
   "cell_type": "code",
   "execution_count": 11,
   "id": "29a0e65f",
   "metadata": {
    "execution": {
     "iopub.execute_input": "2022-12-01T07:21:33.833263Z",
     "iopub.status.busy": "2022-12-01T07:21:33.832967Z",
     "iopub.status.idle": "2022-12-01T07:21:33.836248Z",
     "shell.execute_reply": "2022-12-01T07:21:33.835664Z",
     "shell.execute_reply.started": "2022-12-01T07:21:33.833238Z"
    },
    "id": "29a0e65f",
    "tags": []
   },
   "outputs": [],
   "source": [
    "from PIL import Image\n",
    "import glob"
   ]
  },
  {
   "cell_type": "code",
   "execution_count": 12,
   "id": "70c2f3fb",
   "metadata": {
    "execution": {
     "iopub.execute_input": "2022-12-01T07:23:51.646840Z",
     "iopub.status.busy": "2022-12-01T07:23:51.646554Z",
     "iopub.status.idle": "2022-12-01T07:23:51.653141Z",
     "shell.execute_reply": "2022-12-01T07:23:51.652599Z",
     "shell.execute_reply.started": "2022-12-01T07:23:51.646814Z"
    },
    "id": "70c2f3fb",
    "tags": []
   },
   "outputs": [],
   "source": [
    "class CustomDatasetWithPadding(Dataset):\n",
    "    def __init__(self, data_dir, transforms):\n",
    "        self.data = []\n",
    "        self.transform = transforms\n",
    "        self.targets = []\n",
    "    \n",
    "        class_list = os.listdir(data_dir) # ['Covid', 'Normal', 'Viral Pneumonia']\n",
    "        for class_name in class_list:\n",
    "            class_path = os.path.join(data_dir, class_name)\n",
    "            for img_path in glob.glob(class_path + \"/*.png\"):\n",
    "                self.data.append([img_path, class_name])\n",
    "                \n",
    "        self.available_classes = os.listdir(data_dir)\n",
    "                        \n",
    "    def __len__(self):\n",
    "        return len(self.data)\n",
    "    \n",
    "    def __getitem__(self, idx):\n",
    "        img_path, class_name = self.data[idx]\n",
    "        img = self.transform(Image.open(img_path))\n",
    "        grey_image = np.zeros([1, 224, 224], dtype = np.float64)\n",
    "        grey_image[:,80:144, 80:144] = img\n",
    "        grey_image = torch.from_numpy(grey_image)\n",
    "        grey_image = grey_image.type(torch.FloatTensor)\n",
    "        # grey_image = grey_image.type(torch.cuda.FloatTensor)\n",
    "        \n",
    "        class_id = self.available_classes.index(class_name)\n",
    "        class_id = torch.tensor(class_id)\n",
    "        \n",
    "        \n",
    "        return grey_image, class_id"
   ]
  },
  {
   "cell_type": "code",
   "execution_count": 13,
   "id": "834249a7",
   "metadata": {
    "execution": {
     "iopub.execute_input": "2022-12-01T07:23:53.189890Z",
     "iopub.status.busy": "2022-12-01T07:23:53.189576Z",
     "iopub.status.idle": "2022-12-01T07:23:53.241414Z",
     "shell.execute_reply": "2022-12-01T07:23:53.240746Z",
     "shell.execute_reply.started": "2022-12-01T07:23:53.189861Z"
    },
    "id": "834249a7",
    "tags": []
   },
   "outputs": [],
   "source": [
    "# following transformations will be performed on each image\n",
    "transformations_to_perform = transform=tt.Compose([\n",
    "                                tt.Grayscale(num_output_channels=1),\n",
    "                                tt.Resize(image_size),\n",
    "                                tt.ToTensor(),\n",
    "                                tt.Normalize(*stats)])\n",
    "\n",
    "\n",
    "# Training dataset\n",
    "train_ds = CustomDatasetWithPadding(train_data_dir, transformations_to_perform)\n",
    "train_dl = DataLoader(train_ds, batch_size, shuffle=True,  pin_memory=True)\n",
    "\n",
    "# Validation dataset\n",
    "val_ds = CustomDatasetWithPadding(validation_data_dir, transformations_to_perform)\n",
    "val_dl = DataLoader(val_ds, batch_size, shuffle=True, pin_memory=True)\n",
    "\n",
    "\n",
    "# Test dataset\n",
    "test_ds = CustomDatasetWithPadding(test_data_dir, transformations_to_perform)\n",
    "test_dl = DataLoader(test_ds, batch_size, shuffle=True, pin_memory=True)"
   ]
  },
  {
   "cell_type": "code",
   "execution_count": 14,
   "id": "942c3ccb",
   "metadata": {
    "execution": {
     "iopub.execute_input": "2022-12-01T07:23:58.864174Z",
     "iopub.status.busy": "2022-12-01T07:23:58.863873Z",
     "iopub.status.idle": "2022-12-01T07:23:58.868034Z",
     "shell.execute_reply": "2022-12-01T07:23:58.867340Z",
     "shell.execute_reply.started": "2022-12-01T07:23:58.864150Z"
    },
    "id": "942c3ccb",
    "tags": []
   },
   "outputs": [],
   "source": [
    "# custom function for denormalizing normalized images \n",
    "\n",
    "def denorm(img_tensors):\n",
    "    img = img_tensors[:,80:144, 80:144] \n",
    "    img = img * stats[1][0] + stats[0][0]\n",
    "    img_tensors[:,80:144, 80:144]  = img\n",
    "    return img_tensors"
   ]
  },
  {
   "cell_type": "code",
   "execution_count": null,
   "id": "148d2cbb",
   "metadata": {
    "execution": {
     "iopub.execute_input": "2022-12-01T07:23:59.040503Z",
     "iopub.status.busy": "2022-12-01T07:23:59.039991Z",
     "iopub.status.idle": "2022-12-01T07:23:59.150555Z",
     "shell.execute_reply": "2022-12-01T07:23:59.149892Z",
     "shell.execute_reply.started": "2022-12-01T07:23:59.040475Z"
    },
    "id": "148d2cbb",
    "outputId": "595f27de-bc4e-4214-9ca6-7c1d0b71f552",
    "tags": []
   },
   "outputs": [
    {
     "name": "stdout",
     "output_type": "stream",
     "text": [
      "tensor([[[0., 0., 0.,  ..., 0., 0., 0.],\n",
      "         [0., 0., 0.,  ..., 0., 0., 0.],\n",
      "         [0., 0., 0.,  ..., 0., 0., 0.],\n",
      "         ...,\n",
      "         [0., 0., 0.,  ..., 0., 0., 0.],\n",
      "         [0., 0., 0.,  ..., 0., 0., 0.],\n",
      "         [0., 0., 0.,  ..., 0., 0., 0.]]])\n"
     ]
    },
    {
     "data": {
      "text/plain": [
       "<matplotlib.image.AxesImage at 0x21af3889e10>"
      ]
     },
     "execution_count": 32,
     "metadata": {},
     "output_type": "execute_result"
    },
    {
     "data": {
      "image/png": "[encoded data removed]",
      "text/plain": [
       "<Figure size 640x480 with 1 Axes>"
      ]
     },
     "metadata": {},
     "output_type": "display_data"
    }
   ],
   "source": [
    "# Padded image 1\n",
    "print(train_ds[0][0])\n",
    "plt.imshow(denorm(train_ds[0][0])[0], cmap ='gray')"
   ]
  },
  {
   "cell_type": "markdown",
   "id": "a6e0a550",
   "metadata": {
    "id": "a6e0a550"
   },
   "source": [
    "# Using a GPU"
   ]
  },
  {
   "cell_type": "code",
   "execution_count": 15,
   "id": "691aa8cc",
   "metadata": {
    "execution": {
     "iopub.execute_input": "2022-12-01T07:24:01.060982Z",
     "iopub.status.busy": "2022-12-01T07:24:01.060533Z",
     "iopub.status.idle": "2022-12-01T07:24:01.066499Z",
     "shell.execute_reply": "2022-12-01T07:24:01.065839Z",
     "shell.execute_reply.started": "2022-12-01T07:24:01.060957Z"
    },
    "id": "691aa8cc",
    "tags": []
   },
   "outputs": [],
   "source": [
    "def get_default_device():\n",
    "    \"\"\"Pick GPU if available, else CPU\"\"\"\n",
    "    if torch.cuda.is_available():\n",
    "        return torch.device('cuda')\n",
    "    else:\n",
    "        return torch.device('cpu')\n",
    "    \n",
    "def to_device(data, device):\n",
    "    \"\"\"Move tensor(s) to chosen device\"\"\"\n",
    "    if isinstance(data, (list,tuple)):\n",
    "        return [to_device(x, device) for x in data]\n",
    "    return data.to(device, non_blocking=True)\n",
    "\n",
    "class DeviceDataLoader():\n",
    "    \"\"\"Wrap a dataloader to move data to a device\"\"\"\n",
    "    def __init__(self, dl, device):\n",
    "        self.dl = dl\n",
    "        self.device = device\n",
    "        \n",
    "    def __iter__(self):\n",
    "        \"\"\"Yield a batch of data after moving it to device\"\"\"\n",
    "        for b in self.dl: \n",
    "            yield to_device(b, self.device)\n",
    "\n",
    "    def __len__(self):\n",
    "        \"\"\"Number of batches\"\"\"\n",
    "        return len(self.dl)"
   ]
  },
  {
   "cell_type": "code",
   "execution_count": 16,
   "id": "2686f6a8",
   "metadata": {
    "colab": {
     "base_uri": "https://localhost:8080/"
    },
    "execution": {
     "iopub.execute_input": "2022-12-01T07:24:01.206519Z",
     "iopub.status.busy": "2022-12-01T07:24:01.206286Z",
     "iopub.status.idle": "2022-12-01T07:24:01.210867Z",
     "shell.execute_reply": "2022-12-01T07:24:01.210292Z",
     "shell.execute_reply.started": "2022-12-01T07:24:01.206499Z"
    },
    "id": "2686f6a8",
    "outputId": "3725512c-f4d9-4421-9433-651981976fb1",
    "tags": []
   },
   "outputs": [
    {
     "data": {
      "text/plain": [
       "device(type='cuda')"
      ]
     },
     "execution_count": 16,
     "metadata": {},
     "output_type": "execute_result"
    }
   ],
   "source": [
    "device = get_default_device()\n",
    "device"
   ]
  },
  {
   "cell_type": "code",
   "execution_count": 17,
   "id": "5cf50b8c",
   "metadata": {
    "execution": {
     "iopub.execute_input": "2022-12-01T07:24:01.364976Z",
     "iopub.status.busy": "2022-12-01T07:24:01.364736Z",
     "iopub.status.idle": "2022-12-01T07:24:01.368287Z",
     "shell.execute_reply": "2022-12-01T07:24:01.367722Z",
     "shell.execute_reply.started": "2022-12-01T07:24:01.364953Z"
    },
    "id": "5cf50b8c",
    "tags": []
   },
   "outputs": [],
   "source": [
    "# transporting training, validation and testing dataloaders to GPU\n",
    "\n",
    "train_dl = DeviceDataLoader(train_dl, device)\n",
    "val_dl = DeviceDataLoader(val_dl, device)\n",
    "test_dl = DeviceDataLoader(test_dl, device)"
   ]
  },
  {
   "cell_type": "markdown",
   "id": "9be377eb",
   "metadata": {
    "id": "9be377eb"
   },
   "source": [
    "# Importing EfficientNet Model"
   ]
  },
  {
   "cell_type": "code",
   "execution_count": null,
   "id": "99931eff",
   "metadata": {
    "execution": {
     "iopub.execute_input": "2022-12-01T07:24:02.048564Z",
     "iopub.status.busy": "2022-12-01T07:24:02.048279Z",
     "iopub.status.idle": "2022-12-01T07:24:02.051532Z",
     "shell.execute_reply": "2022-12-01T07:24:02.050910Z",
     "shell.execute_reply.started": "2022-12-01T07:24:02.048541Z"
    },
    "id": "99931eff",
    "tags": []
   },
   "outputs": [],
   "source": [
    "# importing our custom EfficientNet\n",
    "\n",
    "# from modell import EfficientNet1, CNNBlock, SqueezeExcitation, InvertedResidualBlock"
   ]
  },
  {
   "cell_type": "code",
   "execution_count": 18,
   "id": "8zgJmLXMjsAk",
   "metadata": {
    "id": "8zgJmLXMjsAk"
   },
   "outputs": [],
   "source": [
    "from EfficientNet import EfficientNetModel, CNNBlock, SqueezeExcitation, InvertedResidualBlock"
   ]
  },
  {
   "cell_type": "code",
   "execution_count": 19,
   "id": "0580efd7",
   "metadata": {
    "id": "0580efd7"
   },
   "outputs": [],
   "source": [
    "version = \"b0\"\n",
    "num_classes = 3\n",
    "model = EfficientNetModel(version, num_classes)\n",
    "model = to_device(model, device)"
   ]
  },
  {
   "cell_type": "markdown",
   "id": "2a8025af",
   "metadata": {
    "id": "2a8025af"
   },
   "source": [
    "# Training our model"
   ]
  },
  {
   "cell_type": "code",
   "execution_count": 20,
   "id": "204f193a-2225-44ac-bbdd-a3f2d0197476",
   "metadata": {
    "execution": {
     "iopub.execute_input": "2022-12-01T07:24:04.245666Z",
     "iopub.status.busy": "2022-12-01T07:24:04.245374Z",
     "iopub.status.idle": "2022-12-01T07:24:04.248845Z",
     "shell.execute_reply": "2022-12-01T07:24:04.248219Z",
     "shell.execute_reply.started": "2022-12-01T07:24:04.245643Z"
    },
    "id": "204f193a-2225-44ac-bbdd-a3f2d0197476",
    "tags": []
   },
   "outputs": [],
   "source": [
    "from tqdm import tqdm"
   ]
  },
  {
   "cell_type": "code",
   "execution_count": 21,
   "id": "a22660dd",
   "metadata": {
    "execution": {
     "iopub.execute_input": "2022-12-01T07:24:05.706180Z",
     "iopub.status.busy": "2022-12-01T07:24:05.705871Z",
     "iopub.status.idle": "2022-12-01T07:24:05.714093Z",
     "shell.execute_reply": "2022-12-01T07:24:05.713400Z",
     "shell.execute_reply.started": "2022-12-01T07:24:05.706155Z"
    },
    "id": "a22660dd",
    "tags": []
   },
   "outputs": [],
   "source": [
    "@torch.no_grad()\n",
    "def evaluate(model, val_loader):\n",
    "    model.eval()\n",
    "    outputs = [model.validation_step(batch) for batch in val_loader]\n",
    "    return model.validation_epoch_end(outputs)\n",
    "\n",
    "def get_lr(optimizer):\n",
    "    for param_group in optimizer.param_groups:\n",
    "        return param_group['lr']\n",
    "\n",
    "def fit_one_cycle(epochs, max_lr, model, train_loader, val_loader, \n",
    "                  weight_decay=0, grad_clip=None, opt_func=torch.optim.SGD):\n",
    "    torch.cuda.empty_cache()\n",
    "    history = []\n",
    "    \n",
    "    # Set up cutom optimizer with weight decay\n",
    "    optimizer = opt_func(model.parameters(), max_lr, weight_decay=weight_decay)\n",
    "    # Set up one-cycle learning rate scheduler\n",
    "    sched = torch.optim.lr_scheduler.OneCycleLR(optimizer, max_lr, epochs=epochs, \n",
    "                                                steps_per_epoch=len(train_loader))\n",
    "    \n",
    "    for epoch in range(epochs):\n",
    "        # Training Phase \n",
    "        model.train()\n",
    "        train_losses = []\n",
    "        lrs = []\n",
    "        for batch in tqdm(train_loader):\n",
    "            loss = model.training_step(batch)\n",
    "            train_losses.append(loss)\n",
    "            loss.backward()\n",
    "            \n",
    "            # Gradient clipping\n",
    "            if grad_clip: \n",
    "                nn.utils.clip_grad_value_(model.parameters(), grad_clip)\n",
    "            \n",
    "            optimizer.step()\n",
    "            optimizer.zero_grad()\n",
    "            \n",
    "            # Record & update learning rate\n",
    "            lrs.append(get_lr(optimizer))\n",
    "            sched.step()\n",
    "        \n",
    "        # Validation phase\n",
    "        result = evaluate(model, val_loader)\n",
    "        result['train_loss'] = torch.stack(train_losses).mean().item()\n",
    "        result['lrs'] = lrs\n",
    "        model.epoch_end(epoch, result)\n",
    "        history.append(result)\n",
    "    return history"
   ]
  },
  {
   "cell_type": "code",
   "execution_count": 22,
   "id": "ff0e6066",
   "metadata": {
    "colab": {
     "base_uri": "https://localhost:8080/"
    },
    "execution": {
     "iopub.execute_input": "2022-12-01T07:24:06.317656Z",
     "iopub.status.busy": "2022-12-01T07:24:06.317371Z",
     "iopub.status.idle": "2022-12-01T07:24:12.208995Z",
     "shell.execute_reply": "2022-12-01T07:24:12.208394Z",
     "shell.execute_reply.started": "2022-12-01T07:24:06.317632Z"
    },
    "id": "ff0e6066",
    "outputId": "4af5fd6c-a153-42fb-a9f9-ca16df960635",
    "tags": []
   },
   "outputs": [
    {
     "name": "stdout",
     "output_type": "stream",
     "text": [
      "CPU times: user 9.09 s, sys: 1.23 s, total: 10.3 s\n",
      "Wall time: 9min 36s\n"
     ]
    },
    {
     "data": {
      "text/plain": [
       "[{'val_loss': 1.0986835956573486, 'val_acc': 33.33333206176758}]"
      ]
     },
     "execution_count": 22,
     "metadata": {},
     "output_type": "execute_result"
    }
   ],
   "source": [
    "%%time\n",
    "\n",
    "history = [evaluate(model, val_dl)]\n",
    "history"
   ]
  },
  {
   "cell_type": "code",
   "execution_count": 23,
   "id": "b3c44f5a",
   "metadata": {
    "execution": {
     "iopub.execute_input": "2022-12-01T07:24:39.320091Z",
     "iopub.status.busy": "2022-12-01T07:24:39.319785Z",
     "iopub.status.idle": "2022-12-01T07:24:39.323461Z",
     "shell.execute_reply": "2022-12-01T07:24:39.322888Z",
     "shell.execute_reply.started": "2022-12-01T07:24:39.320067Z"
    },
    "id": "b3c44f5a",
    "tags": []
   },
   "outputs": [],
   "source": [
    "epochs = 20\n",
    "max_lr =  0.0001\n",
    "grad_clip = 0.1\n",
    "weight_decay = 1e-4\n",
    "opt_func = torch.optim.Adam"
   ]
  },
  {
   "cell_type": "code",
   "execution_count": 24,
   "id": "f9b04541-622a-42ab-8e7e-208c584fb084",
   "metadata": {
    "colab": {
     "base_uri": "https://localhost:8080/"
    },
    "execution": {
     "iopub.execute_input": "2022-12-01T07:24:41.484240Z",
     "iopub.status.busy": "2022-12-01T07:24:41.483959Z",
     "iopub.status.idle": "2022-12-01T08:15:10.362256Z",
     "shell.execute_reply": "2022-12-01T08:15:10.361612Z",
     "shell.execute_reply.started": "2022-12-01T07:24:41.484213Z"
    },
    "id": "f9b04541-622a-42ab-8e7e-208c584fb084",
    "outputId": "85f39bb1-ba9b-4f26-cd29-5ae5832296bc",
    "tags": []
   },
   "outputs": [
    {
     "name": "stderr",
     "output_type": "stream",
     "text": [
      "100%|██████████| 128/128 [2:05:31<00:00, 58.84s/it]\n"
     ]
    },
    {
     "name": "stdout",
     "output_type": "stream",
     "text": [
      "Epoch [0], last_lr: 0.00001, train_loss: 1.0595, val_loss: 1.0579, val_acc: 44.7500\n"
     ]
    },
    {
     "name": "stderr",
     "output_type": "stream",
     "text": [
      "100%|██████████| 128/128 [02:03<00:00,  1.04it/s]\n"
     ]
    },
    {
     "name": "stdout",
     "output_type": "stream",
     "text": [
      "Epoch [1], last_lr: 0.00003, train_loss: 0.8213, val_loss: 1.0132, val_acc: 47.0833\n"
     ]
    },
    {
     "name": "stderr",
     "output_type": "stream",
     "text": [
      "100%|██████████| 128/128 [02:04<00:00,  1.03it/s]\n"
     ]
    },
    {
     "name": "stdout",
     "output_type": "stream",
     "text": [
      "Epoch [2], last_lr: 0.00005, train_loss: 0.5538, val_loss: 0.9217, val_acc: 54.0833\n"
     ]
    },
    {
     "name": "stderr",
     "output_type": "stream",
     "text": [
      "100%|██████████| 128/128 [02:05<00:00,  1.02it/s]\n"
     ]
    },
    {
     "name": "stdout",
     "output_type": "stream",
     "text": [
      "Epoch [3], last_lr: 0.00008, train_loss: 0.4050, val_loss: 0.6929, val_acc: 71.4167\n"
     ]
    },
    {
     "name": "stderr",
     "output_type": "stream",
     "text": [
      "100%|██████████| 128/128 [02:05<00:00,  1.02it/s]\n"
     ]
    },
    {
     "name": "stdout",
     "output_type": "stream",
     "text": [
      "Epoch [4], last_lr: 0.00009, train_loss: 0.3024, val_loss: 0.8335, val_acc: 68.8333\n"
     ]
    },
    {
     "name": "stderr",
     "output_type": "stream",
     "text": [
      "100%|██████████| 128/128 [02:05<00:00,  1.02it/s]\n"
     ]
    },
    {
     "name": "stdout",
     "output_type": "stream",
     "text": [
      "Epoch [5], last_lr: 0.00010, train_loss: 0.2351, val_loss: 0.4989, val_acc: 80.5000\n"
     ]
    },
    {
     "name": "stderr",
     "output_type": "stream",
     "text": [
      "100%|██████████| 128/128 [02:05<00:00,  1.02it/s]\n"
     ]
    },
    {
     "name": "stdout",
     "output_type": "stream",
     "text": [
      "Epoch [6], last_lr: 0.00010, train_loss: 0.1750, val_loss: 0.4837, val_acc: 82.8333\n"
     ]
    },
    {
     "name": "stderr",
     "output_type": "stream",
     "text": [
      "100%|██████████| 128/128 [02:05<00:00,  1.02it/s]\n"
     ]
    },
    {
     "name": "stdout",
     "output_type": "stream",
     "text": [
      "Epoch [7], last_lr: 0.00010, train_loss: 0.1366, val_loss: 0.4079, val_acc: 85.0833\n"
     ]
    },
    {
     "name": "stderr",
     "output_type": "stream",
     "text": [
      "100%|██████████| 128/128 [02:05<00:00,  1.02it/s]\n"
     ]
    },
    {
     "name": "stdout",
     "output_type": "stream",
     "text": [
      "Epoch [8], last_lr: 0.00009, train_loss: 0.1137, val_loss: 0.5593, val_acc: 81.0000\n"
     ]
    },
    {
     "name": "stderr",
     "output_type": "stream",
     "text": [
      "100%|██████████| 128/128 [02:05<00:00,  1.02it/s]\n"
     ]
    },
    {
     "name": "stdout",
     "output_type": "stream",
     "text": [
      "Epoch [9], last_lr: 0.00008, train_loss: 0.0959, val_loss: 0.4319, val_acc: 86.5000\n"
     ]
    },
    {
     "name": "stderr",
     "output_type": "stream",
     "text": [
      "100%|██████████| 128/128 [02:05<00:00,  1.02it/s]\n"
     ]
    },
    {
     "name": "stdout",
     "output_type": "stream",
     "text": [
      "Epoch [10], last_lr: 0.00007, train_loss: 0.0810, val_loss: 0.5079, val_acc: 84.3333\n"
     ]
    },
    {
     "name": "stderr",
     "output_type": "stream",
     "text": [
      "100%|██████████| 128/128 [02:05<00:00,  1.02it/s]\n"
     ]
    },
    {
     "name": "stdout",
     "output_type": "stream",
     "text": [
      "Epoch [11], last_lr: 0.00006, train_loss: 0.0622, val_loss: 0.5488, val_acc: 84.9167\n"
     ]
    },
    {
     "name": "stderr",
     "output_type": "stream",
     "text": [
      "100%|██████████| 128/128 [02:05<00:00,  1.02it/s]\n"
     ]
    },
    {
     "name": "stdout",
     "output_type": "stream",
     "text": [
      "Epoch [12], last_lr: 0.00005, train_loss: 0.0615, val_loss: 0.5742, val_acc: 84.1667\n"
     ]
    },
    {
     "name": "stderr",
     "output_type": "stream",
     "text": [
      "100%|██████████| 128/128 [02:05<00:00,  1.02it/s]\n"
     ]
    },
    {
     "name": "stdout",
     "output_type": "stream",
     "text": [
      "Epoch [13], last_lr: 0.00004, train_loss: 0.0405, val_loss: 0.5087, val_acc: 86.3333\n"
     ]
    },
    {
     "name": "stderr",
     "output_type": "stream",
     "text": [
      "100%|██████████| 128/128 [02:05<00:00,  1.02it/s]\n"
     ]
    },
    {
     "name": "stdout",
     "output_type": "stream",
     "text": [
      "Epoch [14], last_lr: 0.00003, train_loss: 0.0404, val_loss: 0.6321, val_acc: 82.9167\n"
     ]
    },
    {
     "name": "stderr",
     "output_type": "stream",
     "text": [
      "100%|██████████| 128/128 [02:05<00:00,  1.02it/s]\n"
     ]
    },
    {
     "name": "stdout",
     "output_type": "stream",
     "text": [
      "Epoch [15], last_lr: 0.00002, train_loss: 0.0353, val_loss: 0.4706, val_acc: 87.7500\n"
     ]
    },
    {
     "name": "stderr",
     "output_type": "stream",
     "text": [
      "100%|██████████| 128/128 [02:05<00:00,  1.02it/s]\n"
     ]
    },
    {
     "name": "stdout",
     "output_type": "stream",
     "text": [
      "Epoch [16], last_lr: 0.00001, train_loss: 0.0315, val_loss: 0.5139, val_acc: 86.9167\n"
     ]
    },
    {
     "name": "stderr",
     "output_type": "stream",
     "text": [
      "100%|██████████| 128/128 [02:05<00:00,  1.02it/s]\n"
     ]
    },
    {
     "name": "stdout",
     "output_type": "stream",
     "text": [
      "Epoch [17], last_lr: 0.00000, train_loss: 0.0264, val_loss: 0.5232, val_acc: 86.5000\n"
     ]
    },
    {
     "name": "stderr",
     "output_type": "stream",
     "text": [
      "100%|██████████| 128/128 [02:05<00:00,  1.02it/s]\n"
     ]
    },
    {
     "name": "stdout",
     "output_type": "stream",
     "text": [
      "Epoch [18], last_lr: 0.00000, train_loss: 0.0253, val_loss: 0.5243, val_acc: 86.9167\n"
     ]
    },
    {
     "name": "stderr",
     "output_type": "stream",
     "text": [
      "100%|██████████| 128/128 [02:05<00:00,  1.02it/s]\n"
     ]
    },
    {
     "name": "stdout",
     "output_type": "stream",
     "text": [
      "Epoch [19], last_lr: 0.00000, train_loss: 0.0249, val_loss: 0.5278, val_acc: 86.5000\n",
      "CPU times: user 25min 54s, sys: 13min 52s, total: 39min 46s\n",
      "Wall time: 2h 47min 18s\n"
     ]
    }
   ],
   "source": [
    "%%time\n",
    "history += fit_one_cycle(epochs, max_lr, model, train_dl, val_dl, \n",
    "                             grad_clip=grad_clip, \n",
    "                             weight_decay=weight_decay, \n",
    "                             opt_func=opt_func)"
   ]
  },
  {
   "cell_type": "code",
   "execution_count": 25,
   "id": "1bd53714-9120-4a42-88ea-623c936cc525",
   "metadata": {
    "execution": {
     "iopub.execute_input": "2022-12-01T08:16:51.565162Z",
     "iopub.status.busy": "2022-12-01T08:16:51.564871Z",
     "iopub.status.idle": "2022-12-01T08:16:51.568948Z",
     "shell.execute_reply": "2022-12-01T08:16:51.568366Z",
     "shell.execute_reply.started": "2022-12-01T08:16:51.565138Z"
    },
    "id": "1bd53714-9120-4a42-88ea-623c936cc525"
   },
   "outputs": [],
   "source": [
    "import pickle\n",
    "\n",
    "with open('history_Imbalanced.pkl', 'wb') as f:\n",
    "       pickle.dump(history, f)"
   ]
  },
  {
   "cell_type": "code",
   "execution_count": 26,
   "id": "a58d18f5-af56-4c56-94d9-80f1dd53ea7d",
   "metadata": {
    "execution": {
     "iopub.execute_input": "2022-12-01T08:17:04.112567Z",
     "iopub.status.busy": "2022-12-01T08:17:04.112274Z",
     "iopub.status.idle": "2022-12-01T08:17:04.258867Z",
     "shell.execute_reply": "2022-12-01T08:17:04.258293Z",
     "shell.execute_reply.started": "2022-12-01T08:17:04.112543Z"
    },
    "id": "a58d18f5-af56-4c56-94d9-80f1dd53ea7d"
   },
   "outputs": [],
   "source": [
    "torch.save(model.state_dict(), 'EfficientNet_Imbalanced.pth')"
   ]
  },
  {
   "cell_type": "code",
   "execution_count": 27,
   "id": "JjTPWNyNdG9B",
   "metadata": {
    "id": "JjTPWNyNdG9B"
   },
   "outputs": [],
   "source": [
    "!cp '/content/EfficientNet_Imbalanced.pth' '/content/gdrive/MyDrive/FYP Training Models'"
   ]
  },
  {
   "cell_type": "code",
   "execution_count": null,
   "id": "CQWw64hKQtNa",
   "metadata": {
    "id": "CQWw64hKQtNa"
   },
   "outputs": [],
   "source": []
  }
 ],
 "metadata": {
  "accelerator": "GPU",
  "colab": {
   "provenance": []
  },
  "gpuClass": "standard",
  "kernelspec": {
   "display_name": "Python 3",
   "language": "python",
   "name": "python3"
  },
  "language_info": {
   "codemirror_mode": {
    "name": "ipython",
    "version": 3
   },
   "file_extension": ".py",
   "mimetype": "text/x-python",
   "name": "python",
   "nbconvert_exporter": "python",
   "pygments_lexer": "ipython3",
   "version": "3.10.2"
  }
 },
 "nbformat": 4,
 "nbformat_minor": 5
}
