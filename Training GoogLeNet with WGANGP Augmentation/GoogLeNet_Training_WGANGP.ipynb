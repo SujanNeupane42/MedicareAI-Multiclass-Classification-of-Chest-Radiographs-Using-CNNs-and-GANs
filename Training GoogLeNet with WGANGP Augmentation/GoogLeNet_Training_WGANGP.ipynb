{
 "cells": [
  {
   "cell_type": "markdown",
   "id": "3Aqu9FzPQyYF",
   "metadata": {
    "id": "3Aqu9FzPQyYF"
   },
   "source": [
    "# Connecting to google drive"
   ]
  },
  {
   "cell_type": "code",
   "execution_count": 1,
   "id": "O2Lr6aYUQ0Lh",
   "metadata": {
    "colab": {
     "base_uri": "https://localhost:8080/"
    },
    "id": "O2Lr6aYUQ0Lh",
    "outputId": "15be658b-0069-4dd6-8542-cb691e6d02f2"
   },
   "outputs": [
    {
     "name": "stdout",
     "output_type": "stream",
     "text": [
      "Mounted at /content/gdrive\n"
     ]
    }
   ],
   "source": [
    "from google.colab import drive\n",
    "drive.mount('/content/gdrive')"
   ]
  },
  {
   "cell_type": "markdown",
   "id": "f3cf6f20",
   "metadata": {
    "id": "f3cf6f20"
   },
   "source": [
    "# Training GoogLeNet model on WGAN-GP augmented data"
   ]
  },
  {
   "cell_type": "markdown",
   "id": "be62ef55",
   "metadata": {
    "id": "be62ef55"
   },
   "source": [
    "<b> Lets check the specs of my GPU on which this model has been trained on."
   ]
  },
  {
   "cell_type": "code",
   "execution_count": 2,
   "id": "4bff7ef8",
   "metadata": {
    "colab": {
     "base_uri": "https://localhost:8080/"
    },
    "id": "4bff7ef8",
    "outputId": "a6aff0db-b498-481d-8548-56109cd8c294"
   },
   "outputs": [
    {
     "name": "stdout",
     "output_type": "stream",
     "text": [
      "Thu Dec  8 14:00:38 2022       \n",
      "+-----------------------------------------------------------------------------+\n",
      "| NVIDIA-SMI 460.32.03    Driver Version: 460.32.03    CUDA Version: 11.2     |\n",
      "|-------------------------------+----------------------+----------------------+\n",
      "| GPU  Name        Persistence-M| Bus-Id        Disp.A | Volatile Uncorr. ECC |\n",
      "| Fan  Temp  Perf  Pwr:Usage/Cap|         Memory-Usage | GPU-Util  Compute M. |\n",
      "|                               |                      |               MIG M. |\n",
      "|===============================+======================+======================|\n",
      "|   0  Tesla T4            Off  | 00000000:00:04.0 Off |                    0 |\n",
      "| N/A   46C    P0    26W /  70W |      0MiB / 15109MiB |      0%      Default |\n",
      "|                               |                      |                  N/A |\n",
      "+-------------------------------+----------------------+----------------------+\n",
      "                                                                               \n",
      "+-----------------------------------------------------------------------------+\n",
      "| Processes:                                                                  |\n",
      "|  GPU   GI   CI        PID   Type   Process name                  GPU Memory |\n",
      "|        ID   ID                                                   Usage      |\n",
      "|=============================================================================|\n",
      "|  No running processes found                                                 |\n",
      "+-----------------------------------------------------------------------------+\n"
     ]
    }
   ],
   "source": [
    "!nvidia-smi"
   ]
  },
  {
   "cell_type": "markdown",
   "id": "b84d4a3c",
   "metadata": {
    "id": "b84d4a3c"
   },
   "source": [
    "# Importing the dependencies"
   ]
  },
  {
   "cell_type": "code",
   "execution_count": 3,
   "id": "6d5befc3",
   "metadata": {
    "id": "6d5befc3"
   },
   "outputs": [],
   "source": [
    "import os\n",
    "import torch\n",
    "import torchvision\n",
    "import tarfile\n",
    "import torch.nn as nn\n",
    "import numpy as np\n",
    "import torch.nn.functional as F\n",
    "from torchvision.datasets import ImageFolder\n",
    "from torch.utils.data import DataLoader, Dataset\n",
    "import torchvision.transforms as tt\n",
    "from torch.utils.data import random_split\n",
    "from torchvision.utils import make_grid\n",
    "import matplotlib\n",
    "import matplotlib.pyplot as plt\n",
    "%matplotlib inline\n",
    "\n",
    "matplotlib.rcParams['figure.facecolor'] = '#ffffff'"
   ]
  },
  {
   "cell_type": "markdown",
   "id": "b5aadd1f",
   "metadata": {
    "id": "b5aadd1f"
   },
   "source": [
    "# Loading training, validation and testing dataset"
   ]
  },
  {
   "cell_type": "code",
   "execution_count": 4,
   "id": "84157396",
   "metadata": {
    "id": "84157396"
   },
   "outputs": [],
   "source": [
    "train_data_dir = r\"/content/gdrive/MyDrive/FYP Training Models/Covid-19 Dataset/Train\"\n",
    "validation_data_dir = r\"/content/gdrive/MyDrive/FYP Training Models/Covid-19 Dataset/Validation\"\n",
    "test_data_dir = r\"/content/gdrive/MyDrive/FYP Training Models/Covid-19 Dataset/Test\""
   ]
  },
  {
   "cell_type": "code",
   "execution_count": 5,
   "id": "bbe53ea0",
   "metadata": {
    "colab": {
     "base_uri": "https://localhost:8080/"
    },
    "id": "bbe53ea0",
    "outputId": "c00979a5-5218-4e82-bc14-7674fdc5b4ae"
   },
   "outputs": [
    {
     "name": "stdout",
     "output_type": "stream",
     "text": [
      "The total number of classes present in the dataset are:  ['Covid', 'Normal', 'Viral Pneumonia']\n"
     ]
    }
   ],
   "source": [
    "n_classes = os.listdir(train_data_dir)\n",
    "print(\"The total number of classes present in the dataset are: \", n_classes)"
   ]
  },
  {
   "cell_type": "markdown",
   "id": "6a979bb6",
   "metadata": {
    "id": "6a979bb6"
   },
   "source": [
    "## Looking at some individual samples from training data"
   ]
  },
  {
   "cell_type": "code",
   "execution_count": 6,
   "id": "7c1f10ec",
   "metadata": {
    "id": "7c1f10ec"
   },
   "outputs": [],
   "source": [
    "from PIL import Image\n",
    "from PIL import Image\n",
    "import glob\n",
    "import random\n",
    "from tqdm import tqdm"
   ]
  },
  {
   "cell_type": "code",
   "execution_count": null,
   "id": "f3e0413f",
   "metadata": {
    "colab": {
     "base_uri": "https://localhost:8080/",
     "height": 334
    },
    "id": "f3e0413f",
    "outputId": "0745d068-dded-4fb3-b04b-56a5bf73782a"
   },
   "outputs": [
    {
     "name": "stdout",
     "output_type": "stream",
     "text": [
      "Covid\n"
     ]
    },
    {
     "data": {
      "image/png": "[encoded data removed]",
      "text/plain": [
       "<PIL.PngImagePlugin.PngImageFile image mode=L size=299x299 at 0x7F64B782EF10>"
      ]
     },
     "execution_count": 8,
     "metadata": {},
     "output_type": "execute_result"
    }
   ],
   "source": [
    "# loading the first sample from Covid class\n",
    "\n",
    "covid_sample1 = os.listdir(train_data_dir+'/Covid')[0]\n",
    "covid_sample1 = os.path.join(train_data_dir+\"/Covid\", covid_sample1)\n",
    "\n",
    "print(\"Covid\")\n",
    "Image.open(covid_sample1)"
   ]
  },
  {
   "cell_type": "code",
   "execution_count": null,
   "id": "9e083bf2",
   "metadata": {
    "colab": {
     "base_uri": "https://localhost:8080/",
     "height": 334
    },
    "id": "9e083bf2",
    "outputId": "d28f9e6d-c480-4564-d897-fd92eb2f1df4"
   },
   "outputs": [
    {
     "name": "stdout",
     "output_type": "stream",
     "text": [
      "Normal\n"
     ]
    },
    {
     "data": {
      "image/png": "[encoded data removed]",
      "text/plain": [
       "<PIL.PngImagePlugin.PngImageFile image mode=L size=299x299 at 0x7F969DA59D30>"
      ]
     },
     "execution_count": 10,
     "metadata": {},
     "output_type": "execute_result"
    }
   ],
   "source": [
    "# loading the first sample from Normal class\n",
    "\n",
    "normal_sample1 = os.listdir(train_data_dir+r'/Normal')[0]\n",
    "normal_sample1 = os.path.join(train_data_dir+r\"/Normal\", normal_sample1)\n",
    "\n",
    "print(\"Normal\")\n",
    "Image.open(normal_sample1)"
   ]
  },
  {
   "cell_type": "code",
   "execution_count": null,
   "id": "7d034877",
   "metadata": {
    "colab": {
     "base_uri": "https://localhost:8080/",
     "height": 334
    },
    "id": "7d034877",
    "outputId": "b7529ca5-3a4b-4bdd-b643-e875efa34ab4"
   },
   "outputs": [
    {
     "name": "stdout",
     "output_type": "stream",
     "text": [
      "Viral Pneumonia\n"
     ]
    },
    {
     "data": {
      "image/png": "[encoded data removed]",
      "text/plain": [
       "<PIL.PngImagePlugin.PngImageFile image mode=L size=299x299 at 0x7F969DAB3A00>"
      ]
     },
     "execution_count": 11,
     "metadata": {},
     "output_type": "execute_result"
    }
   ],
   "source": [
    "# loading the first sample from Viral Pneumonia class\n",
    "\n",
    "pneumonia_sample1 = os.listdir(train_data_dir+r'/Viral Pneumonia')[0]\n",
    "pneumonia_sample1 = os.path.join(train_data_dir+r\"/Viral Pneumonia\", pneumonia_sample1)\n",
    "\n",
    "print(\"Viral Pneumonia\")\n",
    "Image.open(pneumonia_sample1)"
   ]
  },
  {
   "cell_type": "markdown",
   "id": "c807f49b",
   "metadata": {
    "id": "c807f49b"
   },
   "source": [
    "## Performing preprocessing on training, validation and testing images"
   ]
  },
  {
   "cell_type": "markdown",
   "id": "66b438dd",
   "metadata": {
    "id": "66b438dd"
   },
   "source": [
    "Since I will be training 3 GAN architectures, DCGAN, WGAN, and WGAN-GP, on 1 * 64 * 64 images, I will need to resize all my images to same dimension in order to compare the performance of the model accross all datasets. However, the model I have selected, <b> ResNet-50 </b> takes an input image of 3 * 224 * 244. The number of channels can be changed to 1 in the input layer indicating that the model takes in greyscale image. However, we have two options related to the input image dimensions:\n",
    "\n",
    "    1. Delete/Modify original model such that the initial layers take in 64 * 64 images.\n",
    "    2. Or, perform zero-padding on all training images and convert their dimensions from 1 * 64 * 64 to 1 * 224 * 224.\n",
    "    \n",
    "    \n",
    "I must also note that after generating 1 * 64 * 64 images from GANs, I would need to perform same padding on those images to match the dimensions. This way, we can fairly compare the performance of <b> ResNet-50 </b> accross \n",
    "\n",
    "\n",
    "    1. Imbalanced data\n",
    "    2. Data with traditional augmentation\n",
    "    3. Data with DCGAN augmentation\n",
    "    4. Data with WGAN augmentation\n",
    "    5. Data with WGAN-GP augmentation"
   ]
  },
  {
   "cell_type": "markdown",
   "id": "yc54TkuxIsYc",
   "metadata": {
    "id": "yc54TkuxIsYc"
   },
   "source": [
    "### Creating a new dataset such that the minority class has equal number of samples as majority class through WGAN-GP augmentation"
   ]
  },
  {
   "cell_type": "markdown",
   "id": "afGAfbf6J9PY",
   "metadata": {
    "id": "afGAfbf6J9PY"
   },
   "source": [
    "In our training dataset, our classes have following sample counts:\n",
    "\n",
    "  1. Covid (2816 samples)\n",
    "  2. Normal (9392)\n",
    "  3. Viral Pneumonia (545)\n",
    "\n",
    "\n",
    "  <b>This means that for Covid class, we need to add 9392 - 2816 = 6576 number of new samples. </b>\n",
    "\n",
    "\n",
    "\n"
   ]
  },
  {
   "cell_type": "markdown",
   "id": "ipjCfeGrLFzj",
   "metadata": {
    "id": "ipjCfeGrLFzj"
   },
   "source": [
    "<b> For Viral Pneumonia class, we need to add 9392 - 545 = 8847 number of new samples. </b>"
   ]
  },
  {
   "cell_type": "code",
   "execution_count": 7,
   "id": "KnNCuDyBc-lP",
   "metadata": {
    "id": "KnNCuDyBc-lP"
   },
   "outputs": [],
   "source": [
    "# creating the train dataset and dataloader for calculating the mean and standard deviation of our samples\n",
    "image_size = 64\n",
    "batch_size = 100\n",
    "CHANNELS_IMG = 1"
   ]
  },
  {
   "cell_type": "code",
   "execution_count": null,
   "id": "KvzL1mjQIsL0",
   "metadata": {
    "id": "KvzL1mjQIsL0"
   },
   "outputs": [],
   "source": [
    "train_ds_original = ImageFolder(train_data_dir, transform=tt.Compose([\n",
    "                                        tt.Grayscale(num_output_channels=1),\n",
    "                                        tt.Resize(image_size),\n",
    "                                        tt.ToTensor()]))"
   ]
  },
  {
   "cell_type": "code",
   "execution_count": null,
   "id": "BAxCQZ33dIwp",
   "metadata": {
    "colab": {
     "base_uri": "https://localhost:8080/"
    },
    "id": "BAxCQZ33dIwp",
    "outputId": "739c572e-eed2-496e-d350-09b31c88b0e6"
   },
   "outputs": [
    {
     "data": {
      "text/plain": [
       "12753"
      ]
     },
     "execution_count": 11,
     "metadata": {},
     "output_type": "execute_result"
    }
   ],
   "source": [
    "len(train_ds_original)"
   ]
  },
  {
   "cell_type": "markdown",
   "id": "Gs_5XOi3L9yi",
   "metadata": {
    "id": "Gs_5XOi3L9yi"
   },
   "source": [
    "<b> Creating custom PyTorch dataset with augmentation on images of Covid and Viral Pneumonia class using DCGAN"
   ]
  },
  {
   "cell_type": "code",
   "execution_count": 8,
   "id": "ZKuBXQbQK1qB",
   "metadata": {
    "id": "ZKuBXQbQK1qB"
   },
   "outputs": [],
   "source": [
    "device = 'cpu'\n",
    "n_classes = 2\n",
    "latent_size = 100\n",
    "generator_input_dim = 103\n",
    "CHANNELS_IMG = 1\n",
    "stats_gen = [0.5 for _ in range(CHANNELS_IMG)], [0.5 for _ in range(CHANNELS_IMG)]\n",
    "# classes = ['COVID','Viral Pneumonia']\n",
    "\n",
    "def denorm(img_tensors):\n",
    "    return img_tensors * stats_gen[1][0] + stats_gen[0][0]\n",
    "\n",
    "\n",
    "''' FOR 64 * 64 Image Generation '''\n",
    "generator = nn.Sequential(\n",
    "    # in: latent_size x 1 x 1\n",
    "    # generator_input_dim * 1 * 1 -> done\n",
    "    nn.ConvTranspose2d(102, 512, kernel_size=4, stride=1, padding=0, bias=False),\n",
    "    nn.BatchNorm2d(512),\n",
    "    nn.ReLU(True),\n",
    "\n",
    "    # out: 512 x 4 x 4 -> done\n",
    "\n",
    "    nn.ConvTranspose2d(512, 256, kernel_size=4, stride=2, padding=1, bias=False),\n",
    "    nn.BatchNorm2d(256),\n",
    "    nn.ReLU(True),\n",
    "    # out: 256 x 8 x 8\n",
    "\n",
    "    nn.ConvTranspose2d(256, 128, kernel_size=4, stride=2, padding=1, bias=False),\n",
    "    nn.BatchNorm2d(128),\n",
    "    nn.ReLU(True),\n",
    "    # out: 128 x 16 x 16\n",
    "\n",
    "    nn.ConvTranspose2d(128, 64, kernel_size=4, stride=2, padding=1, bias=False),\n",
    "    nn.BatchNorm2d(64),\n",
    "    nn.ReLU(True),\n",
    "    # out: 64 x 32 x 32\n",
    "\n",
    "    nn.ConvTranspose2d(64, 1, kernel_size=4, stride=2, padding=1, bias=False),\n",
    "    nn.Tanh()\n",
    "    # out: 1 x 64 x 64\n",
    ")\n",
    "\n",
    "\n",
    "generator.load_state_dict(torch.load('cWGANGP_generator.pth', map_location ='cpu'))\n",
    "generator.eval()\n",
    "latent_size = 100\n",
    "generator_input_dim = 102"
   ]
  },
  {
   "cell_type": "code",
   "execution_count": 9,
   "id": "8JKbv3NRK5kW",
   "metadata": {
    "id": "8JKbv3NRK5kW"
   },
   "outputs": [],
   "source": [
    "def get_an_image(class_, noise):\n",
    "  label = torch.tensor([class_ for i in range(noise.shape[0])])\n",
    "  one_hot_labels = F.one_hot(label.to(device), n_classes)\n",
    "\n",
    "  # concatenating noise vector with one hot encoded vector containing label information\n",
    "  noise_and_labels = torch.cat([noise, one_hot_labels.float()],dim=1)\n",
    "  noise_and_labels = noise_and_labels.view(len(noise_and_labels), generator_input_dim, 1, 1)\n",
    "  fake_images = denorm(generator(noise_and_labels))\n",
    "  \n",
    "  return fake_images.detach().to('cpu')"
   ]
  },
  {
   "cell_type": "code",
   "execution_count": 10,
   "id": "DHILOk3uLANk",
   "metadata": {
    "colab": {
     "base_uri": "https://localhost:8080/"
    },
    "id": "DHILOk3uLANk",
    "outputId": "50e04694-de30-43df-e0a7-fb6294aa3248"
   },
   "outputs": [
    {
     "name": "stdout",
     "output_type": "stream",
     "text": [
      "CPU times: user 44.4 s, sys: 3.1 s, total: 47.5 s\n",
      "Wall time: 51 s\n"
     ]
    }
   ],
   "source": [
    "%%time\n",
    "\n",
    "torch.manual_seed(42)\n",
    "noise_Covid = torch.randn(6576, 100, device='cpu')\n",
    "covid_generated_by_DCGAN = get_an_image(0, noise_Covid)\n",
    "covid_generated_by_DCGAN = [(i, 0) for i in covid_generated_by_DCGAN]"
   ]
  },
  {
   "cell_type": "code",
   "execution_count": 11,
   "id": "sa52fUWWPWuA",
   "metadata": {
    "colab": {
     "base_uri": "https://localhost:8080/"
    },
    "id": "sa52fUWWPWuA",
    "outputId": "942cbbdc-d37d-4f43-a34c-2d16d94412be"
   },
   "outputs": [
    {
     "name": "stdout",
     "output_type": "stream",
     "text": [
      "CPU times: user 53.7 s, sys: 2.16 s, total: 55.9 s\n",
      "Wall time: 55.8 s\n"
     ]
    }
   ],
   "source": [
    "%%time\n",
    "\n",
    "torch.manual_seed(84)\n",
    "noise_Pneumonia = torch.randn(8847, 100, device='cpu')\n",
    "Pneumonia_generated_by_DCGAN = get_an_image(1, noise_Pneumonia)\n",
    "Pneumonia_generated_by_DCGAN = [(i, 2) for i in Pneumonia_generated_by_DCGAN]"
   ]
  },
  {
   "cell_type": "code",
   "execution_count": null,
   "id": "YDyfdBSrNhhG",
   "metadata": {
    "id": "YDyfdBSrNhhG"
   },
   "outputs": [],
   "source": [
    "class DCGANDataset(Dataset):\n",
    "    def __init__(self, covid_dcgan, pneumonia_dcgan):\n",
    "      self.covid_dcgan = covid_dcgan\n",
    "      self.pneumonia_dcgan = pneumonia_dcgan\n",
    "\n",
    "\n",
    "      self.data = self.covid_dcgan + self.pneumonia_dcgan\n",
    "      print(\"Data shape: \", len(self.data))\n",
    "                        \n",
    "    def __len__(self):\n",
    "        return len(self.data)\n",
    "    \n",
    "    def __getitem__(self, idx):\n",
    "        img, class_id = self.data[idx]\n",
    "        \n",
    "        return img, class_id"
   ]
  },
  {
   "cell_type": "code",
   "execution_count": null,
   "id": "IBUNsj9EL3_w",
   "metadata": {
    "colab": {
     "base_uri": "https://localhost:8080/"
    },
    "id": "IBUNsj9EL3_w",
    "outputId": "cd8830aa-7397-49c8-86ac-f7fc1ab4d411"
   },
   "outputs": [
    {
     "name": "stdout",
     "output_type": "stream",
     "text": [
      "Data shape:  15423\n"
     ]
    }
   ],
   "source": [
    "covid_plus_pneumonia_DCGAN_Dataset = DCGANDataset(covid_generated_by_DCGAN, Pneumonia_generated_by_DCGAN)"
   ]
  },
  {
   "cell_type": "code",
   "execution_count": null,
   "id": "XSzCO63uKLwt",
   "metadata": {
    "id": "XSzCO63uKLwt"
   },
   "outputs": [],
   "source": [
    "concatenated_ds = torch.utils.data.ConcatDataset([train_ds_original, covid_plus_pneumonia_DCGAN_Dataset])\n",
    "concatenated_dl = DataLoader(concatenated_ds, batch_size, shuffle=True, num_workers=2, pin_memory=True)"
   ]
  },
  {
   "cell_type": "code",
   "execution_count": null,
   "id": "-_B2OoPCKXD_",
   "metadata": {
    "colab": {
     "base_uri": "https://localhost:8080/"
    },
    "id": "-_B2OoPCKXD_",
    "outputId": "75b045e0-8855-4d53-af46-6aa6c76eadec"
   },
   "outputs": [
    {
     "data": {
      "text/plain": [
       "28176"
      ]
     },
     "execution_count": 21,
     "metadata": {},
     "output_type": "execute_result"
    }
   ],
   "source": [
    "len(concatenated_ds)"
   ]
  },
  {
   "cell_type": "markdown",
   "id": "57152c97",
   "metadata": {
    "id": "57152c97"
   },
   "source": [
    "### Calculating mean and standard deviation of the channels of our training dataset"
   ]
  },
  {
   "cell_type": "markdown",
   "id": "3f52c793",
   "metadata": {
    "id": "3f52c793"
   },
   "source": [
    "We will normalize the image tensors by subtracting the mean and dividing by the standard deviation across each channel. As a result, the mean of the data across each channel is 0, and standard deviation is 1. Normalizing the data prevents the values from any one channel from disproportionately affecting the losses and gradients while training, simply by having a higher or wider range of values that others."
   ]
  },
  {
   "cell_type": "code",
   "execution_count": null,
   "id": "c5638b5d",
   "metadata": {
    "id": "c5638b5d"
   },
   "outputs": [],
   "source": [
    "def get_mean_and_std(dataloader):\n",
    "    channels_sum, channels_squared_sum, num_batches = 0, 0, 0\n",
    "    for data, _ in tqdm(dataloader):\n",
    "        \n",
    "        # Mean over batch, height and width, but not over the channels\n",
    "        channels_sum += torch.mean(data, dim=[0,2,3])\n",
    "        channels_squared_sum += torch.mean(data**2, dim=[0,2,3])\n",
    "        num_batches += 1\n",
    "    \n",
    "    mean = channels_sum / num_batches\n",
    "\n",
    "    # std = sqrt(E[X^2] - (E[X])^2)\n",
    "    std = (channels_squared_sum / num_batches - mean ** 2) ** 0.5\n",
    "\n",
    "    return mean, std"
   ]
  },
  {
   "cell_type": "code",
   "execution_count": null,
   "id": "17f3b120",
   "metadata": {
    "colab": {
     "base_uri": "https://localhost:8080/"
    },
    "id": "17f3b120",
    "outputId": "b038cee6-812a-4582-8255-da06c73122e7"
   },
   "outputs": [
    {
     "name": "stderr",
     "output_type": "stream",
     "text": [
      "100%|██████████| 282/282 [25:42<00:00,  5.47s/it]\n"
     ]
    }
   ],
   "source": [
    "mean, std = get_mean_and_std(concatenated_dl)"
   ]
  },
  {
   "cell_type": "code",
   "execution_count": null,
   "id": "38ff5581",
   "metadata": {
    "colab": {
     "base_uri": "https://localhost:8080/"
    },
    "id": "38ff5581",
    "outputId": "5c6f7289-3632-4f89-8a9b-217c10c41886"
   },
   "outputs": [
    {
     "name": "stdout",
     "output_type": "stream",
     "text": [
      "The calculated mean is:  tensor([0.5199])\n",
      "The calculated standard deviation is:  tensor([0.2488])\n"
     ]
    }
   ],
   "source": [
    "print(\"The calculated mean is: \", mean)\n",
    "print(\"The calculated standard deviation is: \", std)"
   ]
  },
  {
   "cell_type": "markdown",
   "id": "40e38da6",
   "metadata": {
    "id": "40e38da6"
   },
   "source": [
    "### Creating datasets and dataloaders with normalization and zero-padding"
   ]
  },
  {
   "cell_type": "code",
   "execution_count": 12,
   "id": "f8a97840",
   "metadata": {
    "colab": {
     "base_uri": "https://localhost:8080/"
    },
    "id": "f8a97840",
    "outputId": "34492b25-fe0b-43ae-eb02-5bdbe537ddcb"
   },
   "outputs": [
    {
     "data": {
      "text/plain": [
       "([0.5199], [0.2488])"
      ]
     },
     "execution_count": 12,
     "metadata": {},
     "output_type": "execute_result"
    }
   ],
   "source": [
    "mean = 0.5199\n",
    "std = 0.2488\n",
    "\n",
    "stats = [mean for _ in range(CHANNELS_IMG)], [std for _ in range(CHANNELS_IMG)];stats"
   ]
  },
  {
   "cell_type": "code",
   "execution_count": 13,
   "id": "WQE0Pv5N8EC7",
   "metadata": {
    "id": "WQE0Pv5N8EC7"
   },
   "outputs": [],
   "source": [
    "'''---------------------------------- Original Dataset ------------------------------ '''\n",
    "class OriginalDataset(Dataset):\n",
    "    def __init__(self, data_dir, stats):\n",
    "\n",
    "      self.stats = stats        \n",
    "      self.available_classes = os.listdir(data_dir)\n",
    "      self.data = []\n",
    "      self.transform = tt.Compose([tt.Grayscale(num_output_channels=1), tt.Resize(64), tt.ToTensor(), tt.Normalize(*self.stats)])\n",
    "      self.targets = []\n",
    "  \n",
    "      class_list = os.listdir(data_dir) # ['Covid', 'Normal', 'Viral Pneumonia']\n",
    "      for class_name in class_list:\n",
    "          class_path = os.path.join(data_dir, class_name)\n",
    "          for img_path in glob.glob(class_path + \"/*.png\"):\n",
    "              self.data.append([img_path, class_name])\n",
    "\n",
    "                        \n",
    "    def __len__(self):\n",
    "        return len(self.data)\n",
    "    \n",
    "    def __getitem__(self, idx):\n",
    "        img_path, class_name = self.data[idx]\n",
    "        img = self.transform(Image.open(img_path))        \n",
    "        class_id = self.available_classes.index(class_name)\n",
    "\n",
    "        grey_image = np.zeros([1, 224, 224], dtype = np.float64)\n",
    "        grey_image[:,80:144, 80:144] = img\n",
    "        grey_image = torch.from_numpy(grey_image)\n",
    "        grey_image = grey_image.type(torch.FloatTensor)\n",
    "        \n",
    "        return grey_image, class_id\n",
    "\n",
    "\n",
    "\n",
    "''' ----------------------------------- DCGAN DATASET ------------------------------------- '''\n",
    "\n",
    "class DCGANDataset(Dataset):\n",
    "    def __init__(self, covid_dcgan, pneumonia_dcgan, stats):\n",
    "      \n",
    "      self.stats = stats\n",
    "      self.covid_dcgan = covid_dcgan\n",
    "      self.pneumonia_dcgan = pneumonia_dcgan\n",
    "      self.data = [*self.covid_dcgan, *self.pneumonia_dcgan]\n",
    "                        \n",
    "    def __len__(self):\n",
    "        return len(self.data)\n",
    "    \n",
    "    def __getitem__(self, idx):\n",
    "        img, class_id = self.data[idx]\n",
    "        \n",
    "        # tt.Normalize(*self.stats)]\n",
    "        img = tt.Normalize(*self.stats)(img)        \n",
    "        grey_image = np.zeros([1, 224, 224], dtype = np.float64)\n",
    "        grey_image[:,80:144, 80:144] = img\n",
    "        grey_image = torch.from_numpy(grey_image)\n",
    "        grey_image = grey_image.type(torch.FloatTensor)\n",
    "        \n",
    "        return grey_image, class_id\n",
    "        \n",
    "\n",
    "\n",
    "\n",
    "'''---------------------------------- CREATING TRAINING DATASET AND DATALOADER ----------------------------'''\n",
    "\n",
    "Original_Dataset = OriginalDataset(train_data_dir, stats)\n",
    "DCGAN_Dataset = DCGANDataset(covid_generated_by_DCGAN, Pneumonia_generated_by_DCGAN, stats)\n",
    "\n",
    "train_ds = torch.utils.data.ConcatDataset([Original_Dataset, DCGAN_Dataset])\n",
    "train_dl = DataLoader(train_ds, batch_size, shuffle=True, num_workers=2, pin_memory=True)"
   ]
  },
  {
   "cell_type": "code",
   "execution_count": 14,
   "id": "2f91400d",
   "metadata": {
    "id": "2f91400d"
   },
   "outputs": [],
   "source": [
    "class Test_And_Val_Datasets(Dataset):\n",
    "    def __init__(self, data_dir, transforms):\n",
    "        self.data = []\n",
    "        self.transform = transforms\n",
    "        self.targets = []\n",
    "    \n",
    "        class_list = os.listdir(data_dir) # ['Covid', 'Normal', 'Viral Pneumonia']\n",
    "        for class_name in class_list:\n",
    "            class_path = os.path.join(data_dir, class_name)\n",
    "            for img_path in glob.glob(class_path + \"/*.png\"):\n",
    "                self.data.append([img_path, class_name])\n",
    "                \n",
    "        self.available_classes = os.listdir(data_dir)\n",
    "                        \n",
    "    def __len__(self):\n",
    "        return len(self.data)\n",
    "    \n",
    "    def __getitem__(self, idx):\n",
    "        img_path, class_name = self.data[idx]\n",
    "        img = self.transform(Image.open(img_path))\n",
    "        grey_image = np.zeros([1, 224, 224], dtype = np.float64)\n",
    "        grey_image[:,80:144, 80:144] = img\n",
    "        grey_image = torch.from_numpy(grey_image)\n",
    "        grey_image = grey_image.type(torch.FloatTensor)\n",
    "\n",
    "        \n",
    "        class_id = self.available_classes.index(class_name)       \n",
    "        return grey_image, class_id"
   ]
  },
  {
   "cell_type": "code",
   "execution_count": 15,
   "id": "2bb678aa",
   "metadata": {
    "id": "2bb678aa"
   },
   "outputs": [],
   "source": [
    "# following transformations will be performed on each image\n",
    "transformations_to_perform =  tt.Compose([\n",
    "                                tt.Grayscale(num_output_channels=1),\n",
    "                                tt.Resize(image_size),\n",
    "                                tt.ToTensor(),\n",
    "                                tt.Normalize(*stats)])\n",
    "\n",
    "# Validation dataset\n",
    "val_ds = Test_And_Val_Datasets(validation_data_dir, transformations_to_perform)\n",
    "val_dl = DataLoader(val_ds, batch_size, shuffle=True, num_workers=2, pin_memory=True)\n",
    "\n",
    "\n",
    "# # Test dataset\n",
    "test_ds = Test_And_Val_Datasets(test_data_dir, transformations_to_perform)\n",
    "test_dl = DataLoader(test_ds, batch_size, shuffle=True, num_workers=2, pin_memory=True)"
   ]
  },
  {
   "cell_type": "code",
   "execution_count": 16,
   "id": "406bd6e5",
   "metadata": {
    "id": "406bd6e5"
   },
   "outputs": [],
   "source": [
    "# custom function for denormalizing normalized images \n",
    "\n",
    "def denorm(img_tensors):\n",
    "    img = img_tensors[:,80:144, 80:144] \n",
    "    img = img * stats[1][0] + stats[0][0]\n",
    "    img_tensors[:,80:144, 80:144]  = img\n",
    "    return img_tensors"
   ]
  },
  {
   "cell_type": "code",
   "execution_count": null,
   "id": "4dab8fc2",
   "metadata": {
    "colab": {
     "base_uri": "https://localhost:8080/",
     "height": 287
    },
    "id": "4dab8fc2",
    "outputId": "635ef544-2658-40b3-ce8b-b81c04fd1687"
   },
   "outputs": [
    {
     "data": {
      "text/plain": [
       "<matplotlib.image.AxesImage at 0x7f9690b4a7f0>"
      ]
     },
     "execution_count": 182,
     "metadata": {},
     "output_type": "execute_result"
    },
    {
     "data": {
      "image/png": "[encoded data removed]",
      "text/plain": [
       "<Figure size 432x288 with 1 Axes>"
      ]
     },
     "metadata": {},
     "output_type": "display_data"
    }
   ],
   "source": [
    "# Padded image 1\n",
    "# print(train_ds[1000][0])\n",
    "plt.imshow(denorm(train_ds[15000][0])[0], cmap ='gray')"
   ]
  },
  {
   "cell_type": "markdown",
   "id": "0136869d",
   "metadata": {
    "id": "0136869d"
   },
   "source": [
    "# Using a GPU"
   ]
  },
  {
   "cell_type": "code",
   "execution_count": 17,
   "id": "20386943",
   "metadata": {
    "id": "20386943"
   },
   "outputs": [],
   "source": [
    "def get_default_device():\n",
    "    \"\"\"Pick GPU if available, else CPU\"\"\"\n",
    "    if torch.cuda.is_available():\n",
    "        return torch.device('cuda')\n",
    "    else:\n",
    "        return torch.device('cpu')\n",
    "    \n",
    "def to_device(data, device):\n",
    "    \"\"\"Move tensor(s) to chosen device\"\"\"\n",
    "    if isinstance(data, (list,tuple)):\n",
    "        return [to_device(x, device) for x in data]\n",
    "    return data.to(device, non_blocking=True)\n",
    "\n",
    "class DeviceDataLoader():\n",
    "    \"\"\"Wrap a dataloader to move data to a device\"\"\"\n",
    "    def __init__(self, dl, device):\n",
    "        self.dl = dl\n",
    "        self.device = device\n",
    "        \n",
    "    def __iter__(self):\n",
    "        \"\"\"Yield a batch of data after moving it to device\"\"\"\n",
    "        for b in self.dl: \n",
    "            yield to_device(b, self.device)\n",
    "\n",
    "    def __len__(self):\n",
    "        \"\"\"Number of batches\"\"\"\n",
    "        return len(self.dl)"
   ]
  },
  {
   "cell_type": "code",
   "execution_count": 18,
   "id": "0fa11656",
   "metadata": {
    "colab": {
     "base_uri": "https://localhost:8080/"
    },
    "id": "0fa11656",
    "outputId": "e42aebbf-3a70-4882-be17-39e84b00eab1"
   },
   "outputs": [
    {
     "data": {
      "text/plain": [
       "device(type='cuda')"
      ]
     },
     "execution_count": 18,
     "metadata": {},
     "output_type": "execute_result"
    }
   ],
   "source": [
    "device = get_default_device()\n",
    "device"
   ]
  },
  {
   "cell_type": "code",
   "execution_count": 19,
   "id": "18255279",
   "metadata": {
    "id": "18255279"
   },
   "outputs": [],
   "source": [
    "# transporting training, validation and testing dataloaders to GPU\n",
    "\n",
    "train_dl = DeviceDataLoader(train_dl, device)\n",
    "val_dl = DeviceDataLoader(val_dl, device)\n",
    "test_dl = DeviceDataLoader(test_dl, device)"
   ]
  },
  {
   "cell_type": "markdown",
   "id": "2292705d",
   "metadata": {
    "id": "2292705d"
   },
   "source": [
    "# Importing GoogLeNet Model"
   ]
  },
  {
   "cell_type": "code",
   "execution_count": 20,
   "id": "96f07fd0",
   "metadata": {
    "id": "96f07fd0"
   },
   "outputs": [],
   "source": [
    "from GoogLeNet import InceptionNet, Inception_block, InceptionAux, conv_block"
   ]
  },
  {
   "cell_type": "code",
   "execution_count": 21,
   "id": "eb4ce162",
   "metadata": {
    "id": "eb4ce162"
   },
   "outputs": [],
   "source": [
    "model = InceptionNet()\n",
    "model = to_device(model, device)"
   ]
  },
  {
   "cell_type": "markdown",
   "id": "9cb0aec1",
   "metadata": {
    "id": "9cb0aec1"
   },
   "source": [
    "# Training our model"
   ]
  },
  {
   "cell_type": "code",
   "execution_count": 24,
   "id": "duxiUizlVWPb",
   "metadata": {
    "id": "duxiUizlVWPb"
   },
   "outputs": [],
   "source": [
    "from tqdm import tqdm"
   ]
  },
  {
   "cell_type": "code",
   "execution_count": 26,
   "id": "fd21c1af",
   "metadata": {
    "id": "fd21c1af"
   },
   "outputs": [],
   "source": [
    "@torch.no_grad()\n",
    "def evaluate(model, val_loader):\n",
    "    model.eval()\n",
    "    outputs = [model.validation_step(batch) for batch in val_loader]\n",
    "    return model.validation_epoch_end(outputs)\n",
    "\n",
    "def get_lr(optimizer):\n",
    "    for param_group in optimizer.param_groups:\n",
    "        return param_group['lr']\n",
    "\n",
    "def fit_one_cycle(epochs, max_lr, model, train_loader, val_loader, \n",
    "                  weight_decay=0, grad_clip=None, opt_func=torch.optim.SGD):\n",
    "    torch.cuda.empty_cache()\n",
    "    history = []\n",
    "    \n",
    "    # Set up cutom optimizer with weight decay\n",
    "    optimizer = opt_func(model.parameters(), max_lr, weight_decay=weight_decay)\n",
    "    # Set up one-cycle learning rate scheduler\n",
    "    sched = torch.optim.lr_scheduler.OneCycleLR(optimizer, max_lr, epochs=epochs, \n",
    "                                                steps_per_epoch=len(train_loader))\n",
    "    \n",
    "    for epoch in range(epochs):\n",
    "        # Training Phase \n",
    "        model.train()\n",
    "        train_losses = []\n",
    "        lrs = []\n",
    "        for batch in tqdm(train_loader):\n",
    "            loss = model.training_step(batch)\n",
    "            train_losses.append(loss)\n",
    "            loss.backward()\n",
    "            \n",
    "            # Gradient clipping\n",
    "            if grad_clip: \n",
    "                nn.utils.clip_grad_value_(model.parameters(), grad_clip)\n",
    "            \n",
    "            optimizer.step()\n",
    "            optimizer.zero_grad()\n",
    "            \n",
    "            # Record & update learning rate\n",
    "            lrs.append(get_lr(optimizer))\n",
    "            sched.step()\n",
    "        \n",
    "        # Validation phase\n",
    "        result = evaluate(model, val_loader)\n",
    "        result['train_loss'] = torch.stack(train_losses).mean().item()\n",
    "        result['lrs'] = lrs\n",
    "        model.epoch_end(epoch, result)\n",
    "        history.append(result)\n",
    "    return history"
   ]
  },
  {
   "cell_type": "code",
   "execution_count": 27,
   "id": "cb0843e2",
   "metadata": {
    "colab": {
     "base_uri": "https://localhost:8080/"
    },
    "id": "cb0843e2",
    "outputId": "9387f606-0001-4ffc-9147-a26bfec9d8c7",
    "scrolled": false
   },
   "outputs": [
    {
     "name": "stdout",
     "output_type": "stream",
     "text": [
      "CPU times: user 3.29 s, sys: 1.55 s, total: 4.84 s\n",
      "Wall time: 1min 28s\n"
     ]
    },
    {
     "data": {
      "text/plain": [
       "[{'val_loss': 1.0986218452453613, 'val_acc': 33.33333206176758}]"
      ]
     },
     "execution_count": 27,
     "metadata": {},
     "output_type": "execute_result"
    }
   ],
   "source": [
    "%%time\n",
    "\n",
    "history = [evaluate(model, val_dl)]\n",
    "history"
   ]
  },
  {
   "cell_type": "code",
   "execution_count": 28,
   "id": "cc14cfd0",
   "metadata": {
    "id": "cc14cfd0"
   },
   "outputs": [],
   "source": [
    "epochs = 20\n",
    "max_lr = 0.0001\n",
    "grad_clip = 0.1 \n",
    "weight_decay = 1e-4\n",
    "opt_func = torch.optim.Adam"
   ]
  },
  {
   "cell_type": "code",
   "execution_count": 29,
   "id": "SXrBf92sTbM5",
   "metadata": {
    "colab": {
     "base_uri": "https://localhost:8080/"
    },
    "id": "SXrBf92sTbM5",
    "outputId": "99d4ce0d-10eb-4f12-fd01-0936a8d0bf39"
   },
   "outputs": [
    {
     "name": "stderr",
     "output_type": "stream",
     "text": [
      "100%|██████████| 282/282 [22:53<00:00,  4.87s/it]\n"
     ]
    },
    {
     "name": "stdout",
     "output_type": "stream",
     "text": [
      "Epoch [0], last_lr: 0.00001, train_loss: 0.6125, val_loss: 0.5551, val_acc: 76.1667\n"
     ]
    },
    {
     "name": "stderr",
     "output_type": "stream",
     "text": [
      "100%|██████████| 282/282 [01:51<00:00,  2.53it/s]\n"
     ]
    },
    {
     "name": "stdout",
     "output_type": "stream",
     "text": [
      "Epoch [1], last_lr: 0.00003, train_loss: 0.1775, val_loss: 0.5787, val_acc: 77.0000\n"
     ]
    },
    {
     "name": "stderr",
     "output_type": "stream",
     "text": [
      "100%|██████████| 282/282 [01:51<00:00,  2.52it/s]\n"
     ]
    },
    {
     "name": "stdout",
     "output_type": "stream",
     "text": [
      "Epoch [2], last_lr: 0.00005, train_loss: 0.1118, val_loss: 0.7667, val_acc: 73.6667\n"
     ]
    },
    {
     "name": "stderr",
     "output_type": "stream",
     "text": [
      "100%|██████████| 282/282 [01:51<00:00,  2.54it/s]\n"
     ]
    },
    {
     "name": "stdout",
     "output_type": "stream",
     "text": [
      "Epoch [3], last_lr: 0.00008, train_loss: 0.0887, val_loss: 0.2420, val_acc: 91.0833\n"
     ]
    },
    {
     "name": "stderr",
     "output_type": "stream",
     "text": [
      "100%|██████████| 282/282 [01:50<00:00,  2.54it/s]\n"
     ]
    },
    {
     "name": "stdout",
     "output_type": "stream",
     "text": [
      "Epoch [4], last_lr: 0.00009, train_loss: 0.0787, val_loss: 0.9255, val_acc: 71.0833\n"
     ]
    },
    {
     "name": "stderr",
     "output_type": "stream",
     "text": [
      "100%|██████████| 282/282 [01:51<00:00,  2.53it/s]\n"
     ]
    },
    {
     "name": "stdout",
     "output_type": "stream",
     "text": [
      "Epoch [5], last_lr: 0.00010, train_loss: 0.0649, val_loss: 0.3692, val_acc: 86.3333\n"
     ]
    },
    {
     "name": "stderr",
     "output_type": "stream",
     "text": [
      "100%|██████████| 282/282 [01:50<00:00,  2.54it/s]\n"
     ]
    },
    {
     "name": "stdout",
     "output_type": "stream",
     "text": [
      "Epoch [6], last_lr: 0.00010, train_loss: 0.0494, val_loss: 0.6577, val_acc: 79.3333\n"
     ]
    },
    {
     "name": "stderr",
     "output_type": "stream",
     "text": [
      "100%|██████████| 282/282 [01:51<00:00,  2.54it/s]\n"
     ]
    },
    {
     "name": "stdout",
     "output_type": "stream",
     "text": [
      "Epoch [7], last_lr: 0.00010, train_loss: 0.0399, val_loss: 0.2350, val_acc: 92.0000\n"
     ]
    },
    {
     "name": "stderr",
     "output_type": "stream",
     "text": [
      "100%|██████████| 282/282 [01:51<00:00,  2.54it/s]\n"
     ]
    },
    {
     "name": "stdout",
     "output_type": "stream",
     "text": [
      "Epoch [8], last_lr: 0.00009, train_loss: 0.0325, val_loss: 0.2908, val_acc: 92.2500\n"
     ]
    },
    {
     "name": "stderr",
     "output_type": "stream",
     "text": [
      "100%|██████████| 282/282 [01:51<00:00,  2.53it/s]\n"
     ]
    },
    {
     "name": "stdout",
     "output_type": "stream",
     "text": [
      "Epoch [9], last_lr: 0.00008, train_loss: 0.0269, val_loss: 0.4090, val_acc: 87.6667\n"
     ]
    },
    {
     "name": "stderr",
     "output_type": "stream",
     "text": [
      "100%|██████████| 282/282 [01:50<00:00,  2.54it/s]\n"
     ]
    },
    {
     "name": "stdout",
     "output_type": "stream",
     "text": [
      "Epoch [10], last_lr: 0.00007, train_loss: 0.0174, val_loss: 0.4932, val_acc: 87.6667\n"
     ]
    },
    {
     "name": "stderr",
     "output_type": "stream",
     "text": [
      "100%|██████████| 282/282 [01:51<00:00,  2.54it/s]\n"
     ]
    },
    {
     "name": "stdout",
     "output_type": "stream",
     "text": [
      "Epoch [11], last_lr: 0.00006, train_loss: 0.0145, val_loss: 0.2163, val_acc: 94.2500\n"
     ]
    },
    {
     "name": "stderr",
     "output_type": "stream",
     "text": [
      "100%|██████████| 282/282 [01:51<00:00,  2.53it/s]\n"
     ]
    },
    {
     "name": "stdout",
     "output_type": "stream",
     "text": [
      "Epoch [12], last_lr: 0.00005, train_loss: 0.0077, val_loss: 0.3354, val_acc: 91.6667\n"
     ]
    },
    {
     "name": "stderr",
     "output_type": "stream",
     "text": [
      "100%|██████████| 282/282 [01:51<00:00,  2.52it/s]\n"
     ]
    },
    {
     "name": "stdout",
     "output_type": "stream",
     "text": [
      "Epoch [13], last_lr: 0.00004, train_loss: 0.0050, val_loss: 0.2973, val_acc: 92.8333\n"
     ]
    },
    {
     "name": "stderr",
     "output_type": "stream",
     "text": [
      "100%|██████████| 282/282 [01:51<00:00,  2.53it/s]\n"
     ]
    },
    {
     "name": "stdout",
     "output_type": "stream",
     "text": [
      "Epoch [14], last_lr: 0.00003, train_loss: 0.0036, val_loss: 0.2360, val_acc: 94.0000\n"
     ]
    },
    {
     "name": "stderr",
     "output_type": "stream",
     "text": [
      "100%|██████████| 282/282 [01:51<00:00,  2.54it/s]\n"
     ]
    },
    {
     "name": "stdout",
     "output_type": "stream",
     "text": [
      "Epoch [15], last_lr: 0.00002, train_loss: 0.0012, val_loss: 0.2780, val_acc: 94.0000\n"
     ]
    },
    {
     "name": "stderr",
     "output_type": "stream",
     "text": [
      "100%|██████████| 282/282 [01:51<00:00,  2.54it/s]\n"
     ]
    },
    {
     "name": "stdout",
     "output_type": "stream",
     "text": [
      "Epoch [16], last_lr: 0.00001, train_loss: 0.0010, val_loss: 0.2629, val_acc: 95.0833\n"
     ]
    },
    {
     "name": "stderr",
     "output_type": "stream",
     "text": [
      "100%|██████████| 282/282 [01:51<00:00,  2.52it/s]\n"
     ]
    },
    {
     "name": "stdout",
     "output_type": "stream",
     "text": [
      "Epoch [17], last_lr: 0.00000, train_loss: 0.0006, val_loss: 0.3048, val_acc: 93.8333\n"
     ]
    },
    {
     "name": "stderr",
     "output_type": "stream",
     "text": [
      "100%|██████████| 282/282 [01:51<00:00,  2.53it/s]\n"
     ]
    },
    {
     "name": "stdout",
     "output_type": "stream",
     "text": [
      "Epoch [18], last_lr: 0.00000, train_loss: 0.0004, val_loss: 0.2968, val_acc: 94.1667\n"
     ]
    },
    {
     "name": "stderr",
     "output_type": "stream",
     "text": [
      "100%|██████████| 282/282 [01:51<00:00,  2.52it/s]\n"
     ]
    },
    {
     "name": "stdout",
     "output_type": "stream",
     "text": [
      "Epoch [19], last_lr: 0.00000, train_loss: 0.0004, val_loss: 0.2822, val_acc: 94.0833\n",
      "CPU times: user 21min 6s, sys: 14min 41s, total: 35min 47s\n",
      "Wall time: 59min 37s\n"
     ]
    }
   ],
   "source": [
    "%%time\n",
    "\n",
    "history += fit_one_cycle(epochs, max_lr, model, train_dl, val_dl, \n",
    "                             grad_clip = grad_clip, \n",
    "                             weight_decay = weight_decay, \n",
    "                             opt_func = opt_func)"
   ]
  },
  {
   "cell_type": "code",
   "execution_count": 30,
   "id": "i7By3EfmbGtm",
   "metadata": {
    "id": "i7By3EfmbGtm"
   },
   "outputs": [],
   "source": [
    "import pandas as pd"
   ]
  },
  {
   "cell_type": "code",
   "execution_count": 34,
   "id": "aNZCk9VGbOV-",
   "metadata": {
    "id": "aNZCk9VGbOV-"
   },
   "outputs": [],
   "source": [
    "import pickle\n",
    "\n",
    "with open('GoogLeNet_history_WGANGP.pkl', 'wb') as f:\n",
    "   pickle.dump(history, f)"
   ]
  },
  {
   "cell_type": "code",
   "execution_count": 31,
   "id": "n_KpFVNJb22t",
   "metadata": {
    "id": "n_KpFVNJb22t"
   },
   "outputs": [],
   "source": [
    "torch.save(model.state_dict(), 'GoogLeNet_WGANGP.pth')"
   ]
  },
  {
   "cell_type": "code",
   "execution_count": 32,
   "id": "3R1Jup2rcYvz",
   "metadata": {
    "id": "3R1Jup2rcYvz"
   },
   "outputs": [],
   "source": [
    "!cp '/content/GoogLeNet_WGANGP.pth' '/content/gdrive/MyDrive/FYP Training Models'"
   ]
  },
  {
   "cell_type": "code",
   "execution_count": 33,
   "id": "WRptqSgBdvGb",
   "metadata": {
    "colab": {
     "base_uri": "https://localhost:8080/"
    },
    "id": "WRptqSgBdvGb",
    "outputId": "7e9b793b-fca8-4853-d1a0-f2b4338de373"
   },
   "outputs": [
    {
     "name": "stdout",
     "output_type": "stream",
     "text": [
      "cp: cannot stat '/content/GoogLeNet_history_WGANGP.pkl': No such file or directory\n"
     ]
    }
   ],
   "source": [
    "!cp '/content/GoogLeNet_history_WGANGP.pkl' '/content/gdrive/MyDrive/FYP Training Models'"
   ]
  },
  {
   "cell_type": "code",
   "execution_count": null,
   "id": "Jza61EYedyLZ",
   "metadata": {
    "id": "Jza61EYedyLZ"
   },
   "outputs": [],
   "source": []
  }
 ],
 "metadata": {
  "accelerator": "GPU",
  "colab": {
   "provenance": []
  },
  "gpuClass": "standard",
  "kernelspec": {
   "display_name": "Python 3",
   "language": "python",
   "name": "python3"
  },
  "language_info": {
   "codemirror_mode": {
    "name": "ipython",
    "version": 3
   },
   "file_extension": ".py",
   "mimetype": "text/x-python",
   "name": "python",
   "nbconvert_exporter": "python",
   "pygments_lexer": "ipython3",
   "version": "3.10.8"
  }
 },
 "nbformat": 4,
 "nbformat_minor": 5
}
